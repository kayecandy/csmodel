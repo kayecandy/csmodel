{
  "nbformat": 4,
  "nbformat_minor": 0,
  "metadata": {
    "kernelspec": {
      "display_name": "Python 3",
      "language": "python",
      "name": "python3"
    },
    "language_info": {
      "codemirror_mode": {
        "name": "ipython",
        "version": 3
      },
      "file_extension": ".py",
      "mimetype": "text/x-python",
      "name": "python",
      "nbconvert_exporter": "python",
      "pygments_lexer": "ipython3",
      "version": "3.7.6"
    },
    "colab": {
      "name": "3.2 - Clustering Iris Dataset.ipynb",
      "provenance": [],
      "collapsed_sections": [
        "OVQy1AVyxxLZ"
      ],
      "toc_visible": true,
      "include_colab_link": true
    }
  },
  "cells": [
    {
      "cell_type": "markdown",
      "metadata": {
        "id": "view-in-github",
        "colab_type": "text"
      },
      "source": [
        "<a href=\"https://colab.research.google.com/github/kayecandy/csmodel/blob/master/3.2-Clustering_Iris_Dataset.ipynb/3.2-Clustering_Iris_Dataset.ipynb\" target=\"_parent\"><img src=\"https://colab.research.google.com/assets/colab-badge.svg\" alt=\"Open In Colab\"/></a>"
      ]
    },
    {
      "cell_type": "markdown",
      "metadata": {
        "id": "6u0epBacxxKl",
        "colab_type": "text"
      },
      "source": [
        "## Clustering Iris Dataset\n",
        "\n",
        "In this Notebook, we will be implementing the k-means algorithm to group our datasets into clusters. We will test our algorithm with a small synthetic (artificial) dataset, before we use the algorithm to find association rules from a larger dataset - the [iris dataset](https://www.kaggle.com/uciml/iris).\n",
        "\n",
        "Our Notebooks in CSMODEL are designed to be guided learning activities. To use them, simply through the cells from top to bottom, following the directions along the way. If you find any unclear parts or mistakes in the Notebooks, email me at thomas.tiam-lee@dlsu.edu.ph."
      ]
    },
    {
      "cell_type": "markdown",
      "metadata": {
        "id": "UUfhVw9BxxKm",
        "colab_type": "text"
      },
      "source": [
        "## Import\n",
        "Import **pandas** and **matplotlib**."
      ]
    },
    {
      "cell_type": "code",
      "metadata": {
        "id": "U-8FD9V4xxKn",
        "colab_type": "code",
        "colab": {}
      },
      "source": [
        "import numpy as np\n",
        "import pandas as pd\n",
        "import matplotlib.pyplot as plt"
      ],
      "execution_count": null,
      "outputs": []
    },
    {
      "cell_type": "markdown",
      "metadata": {
        "id": "eu5r7iWwxxKq",
        "colab_type": "text"
      },
      "source": [
        "## Synthetic Dataset\n",
        "Before we use a more complicated dataset, we will first demonstrate the k-means clustering using a synthetic (artificial) data drawn from a normal distribution. The synthetic dataset is composed of 2 variables - `x` and `y`, for easy visualization in a plot. The dataset contains 3 clusters of data points. Each cluster contains 100 observations."
      ]
    },
    {
      "cell_type": "code",
      "metadata": {
        "id": "Trp-r77VxxKq",
        "colab_type": "code",
        "colab": {}
      },
      "source": [
        "cluster1 = (50, 60)\n",
        "cluster2 = (80, 20)\n",
        "cluster3 = (100, 70)\n",
        "distance = 10\n",
        "\n",
        "np.random.seed(1)\n",
        "\n",
        "x1 = np.random.normal(cluster1[0], distance, size=(100,))\n",
        "y1 = np.random.normal(cluster1[1], distance, size=(100,)) \n",
        "\n",
        "x2 = np.random.normal(cluster2[0], distance, size=(100,))\n",
        "y2 = np.random.normal(cluster2[1], distance, size=(100,)) \n",
        "\n",
        "x3 = np.random.normal(cluster3[0], distance, size=(100,))\n",
        "y3 = np.random.normal(cluster3[1], distance, size=(100,)) "
      ],
      "execution_count": null,
      "outputs": []
    },
    {
      "cell_type": "markdown",
      "metadata": {
        "id": "WFQJwyOyxxKt",
        "colab_type": "text"
      },
      "source": [
        "Let's visualize the synthetic dataset in a graph. Each cluster is represented in different colors."
      ]
    },
    {
      "cell_type": "code",
      "metadata": {
        "id": "4Iwri0zlxxKt",
        "colab_type": "code",
        "colab": {
          "base_uri": "https://localhost:8080/",
          "height": 265
        },
        "outputId": "86f5a604-e197-484d-b499-6223016f6024"
      },
      "source": [
        "plt.plot(x1, y1, 'r+')\n",
        "plt.plot(x2, y2, 'g+')\n",
        "plt.plot(x3, y3, 'b+')\n",
        "plt.grid()\n",
        "plt.show()"
      ],
      "execution_count": null,
      "outputs": [
        {
          "output_type": "display_data",
          "data": {
            "image/png": "[encoded data removed]",
            "text/plain": [
              "<Figure size 432x288 with 1 Axes>"
            ]
          },
          "metadata": {
            "tags": [],
            "needs_background": "light"
          }
        }
      ]
    },
    {
      "cell_type": "markdown",
      "metadata": {
        "id": "7-izyqVgxxKv",
        "colab_type": "text"
      },
      "source": [
        "Convert the data type of the dataset from `numpy` arrays to `pandas` `DataFrame`."
      ]
    },
    {
      "cell_type": "code",
      "metadata": {
        "id": "n5r7KqmUxxKw",
        "colab_type": "code",
        "colab": {}
      },
      "source": [
        "class1 = np.full((100,), 0, dtype=int)\n",
        "class2 = np.full((100,), 1, dtype=int)\n",
        "class3 = np.full((100,), 2, dtype=int)\n",
        "\n",
        "x = pd.Series(np.hstack((x1, x2, x3)))\n",
        "y = pd.Series(np.hstack((y1, y2, y3)))\n",
        "c = pd.Series(np.hstack((class1, class2, class3)))\n",
        "\n",
        "syn_df = pd.DataFrame({'x': x, 'y': y, 'class': c})"
      ],
      "execution_count": null,
      "outputs": []
    },
    {
      "cell_type": "markdown",
      "metadata": {
        "id": "IysLmxyBxxKy",
        "colab_type": "text"
      },
      "source": [
        "Show the contents of the `DataFrame` which contains the set of 300 randomly generated points."
      ]
    },
    {
      "cell_type": "code",
      "metadata": {
        "id": "4dbtM2YjxxKy",
        "colab_type": "code",
        "colab": {
          "base_uri": "https://localhost:8080/",
          "height": 263
        },
        "outputId": "a318eb60-0cda-45fc-ba4b-3488387fc2fd"
      },
      "source": [
        "print(syn_df)"
      ],
      "execution_count": null,
      "outputs": [
        {
          "output_type": "stream",
          "text": [
            "              x          y  class\n",
            "0     66.243454  55.528714      0\n",
            "1     43.882436  72.245077      0\n",
            "2     44.718282  64.034916      0\n",
            "3     39.270314  65.935785      0\n",
            "4     58.654076  49.050882      0\n",
            "..          ...        ...    ...\n",
            "295   91.713720  84.539176      2\n",
            "296  105.288797  76.616811      2\n",
            "297   77.629135  79.863522      2\n",
            "298   88.922875  65.338451      2\n",
            "299   99.822817  83.849913      2\n",
            "\n",
            "[300 rows x 3 columns]\n"
          ],
          "name": "stdout"
        }
      ]
    },
    {
      "cell_type": "markdown",
      "metadata": {
        "id": "bcIPYNJExxK0",
        "colab_type": "text"
      },
      "source": [
        "Display dataset info using the `info` function."
      ]
    },
    {
      "cell_type": "code",
      "metadata": {
        "id": "c1qub9fNxxK0",
        "colab_type": "code",
        "colab": {
          "base_uri": "https://localhost:8080/",
          "height": 193
        },
        "outputId": "4fa9cc97-840d-4bf7-8395-6df964abb5e5"
      },
      "source": [
        "syn_df.info()"
      ],
      "execution_count": null,
      "outputs": [
        {
          "output_type": "stream",
          "text": [
            "<class 'pandas.core.frame.DataFrame'>\n",
            "RangeIndex: 300 entries, 0 to 299\n",
            "Data columns (total 3 columns):\n",
            " #   Column  Non-Null Count  Dtype  \n",
            "---  ------  --------------  -----  \n",
            " 0   x       300 non-null    float64\n",
            " 1   y       300 non-null    float64\n",
            " 2   class   300 non-null    int64  \n",
            "dtypes: float64(2), int64(1)\n",
            "memory usage: 7.2 KB\n"
          ],
          "name": "stdout"
        }
      ]
    },
    {
      "cell_type": "markdown",
      "metadata": {
        "id": "qErSUOpaxxK3",
        "colab_type": "text"
      },
      "source": [
        "## Creating Clusters in the Synthetic Dataset using k-Means Algorithm\n",
        "Open `kmeans.py` file. Some of the functions in the `KMeans` class are not yet implemented. We will implement the missing parts of this class."
      ]
    },
    {
      "cell_type": "markdown",
      "metadata": {
        "id": "GNBbuDv3xxK3",
        "colab_type": "text"
      },
      "source": [
        "Import the `KMeans` class."
      ]
    },
    {
      "cell_type": "code",
      "metadata": {
        "id": "CB_FEjPs-vqI",
        "colab_type": "code",
        "colab": {
          "base_uri": "https://localhost:8080/",
          "height": 34
        },
        "outputId": "9408b71d-5f6c-43eb-ffac-13290a7a3e5a"
      },
      "source": [
        "# Mount Google Drive\n",
        "from google.colab import drive\n",
        "drive.mount('/content/drive')"
      ],
      "execution_count": null,
      "outputs": [
        {
          "output_type": "stream",
          "text": [
            "Drive already mounted at /content/drive; to attempt to forcibly remount, call drive.mount(\"/content/drive\", force_remount=True).\n"
          ],
          "name": "stdout"
        }
      ]
    },
    {
      "cell_type": "code",
      "metadata": {
        "id": "6f7gof9z_xgH",
        "colab_type": "code",
        "colab": {}
      },
      "source": [
        "# Add Google Drive path\n",
        "import sys\n",
        "sys.path.append('/content/drive/My Drive/Colab Notebooks/CSMODEL/3.2 Clustering Iris Dataset')"
      ],
      "execution_count": null,
      "outputs": []
    },
    {
      "cell_type": "code",
      "metadata": {
        "id": "B6zYvVF2xxK4",
        "colab_type": "code",
        "colab": {
          "base_uri": "https://localhost:8080/",
          "height": 308
        },
        "outputId": "b166cfad-e474-4f6e-a3a5-9c2304f46650"
      },
      "source": [
        "from kmeans import KMeans"
      ],
      "execution_count": 2,
      "outputs": [
        {
          "output_type": "error",
          "ename": "ModuleNotFoundError",
          "evalue": "ignored",
          "traceback": [
            "\u001b[0;31m---------------------------------------------------------------------------\u001b[0m",
            "\u001b[0;31mModuleNotFoundError\u001b[0m                       Traceback (most recent call last)",
            "\u001b[0;32m<ipython-input-2-fe33faf1a244>\u001b[0m in \u001b[0;36m<module>\u001b[0;34m()\u001b[0m\n\u001b[0;32m----> 1\u001b[0;31m \u001b[0;32mfrom\u001b[0m \u001b[0mkmeans\u001b[0m \u001b[0;32mimport\u001b[0m \u001b[0mKMeans\u001b[0m\u001b[0;34m\u001b[0m\u001b[0;34m\u001b[0m\u001b[0m\n\u001b[0m",
            "\u001b[0;31mModuleNotFoundError\u001b[0m: No module named 'kmeans'",
            "",
            "\u001b[0;31m---------------------------------------------------------------------------\u001b[0;32m\nNOTE: If your import is failing due to a missing package, you can\nmanually install dependencies using either !pip or !apt.\n\nTo view examples of installing some common dependencies, click the\n\"Open Examples\" button below.\n\u001b[0;31m---------------------------------------------------------------------------\u001b[0m\n"
          ]
        }
      ]
    },
    {
      "cell_type": "markdown",
      "metadata": {
        "id": "n2VR0DjmxxK5",
        "colab_type": "text"
      },
      "source": [
        "Instantiate a `KMeans` object with `k` equal to `3`, `start_var` equal to `0`, `end_var` equal to `2`, `num_observations` equal to `300`, and `data` equal to the `DataFrame` object which represents our synthetic dataset. The parameter `k` indicates the number of clusters that we want to create from the data. The parameters `start_var` and the `end_var` indicate the starting index and the ending index, respectively, of variables (columns) that we need to use as we create clusters from the dataset. This is useful if you want to exclude some columns of the `DataFrame` from the calculation when creating clusters. The parameter `num_observations` represents the total number of observations (rows) in the dataset. The parameter `data` is the `DataFrame` representation of the dataset that we want to cluster."
      ]
    },
    {
      "cell_type": "code",
      "metadata": {
        "id": "dEOt6pMTxxK6",
        "colab_type": "code",
        "colab": {
          "base_uri": "https://localhost:8080/",
          "height": 167
        },
        "outputId": "48319c55-05d8-4436-c95f-606287d9f6d4"
      },
      "source": [
        "kmeans = KMeans(3, 0, 2, 300, syn_df)"
      ],
      "execution_count": 1,
      "outputs": [
        {
          "output_type": "error",
          "ename": "NameError",
          "evalue": "ignored",
          "traceback": [
            "\u001b[0;31m---------------------------------------------------------------------------\u001b[0m",
            "\u001b[0;31mNameError\u001b[0m                                 Traceback (most recent call last)",
            "\u001b[0;32m<ipython-input-1-a96ad3ddd0a2>\u001b[0m in \u001b[0;36m<module>\u001b[0;34m()\u001b[0m\n\u001b[0;32m----> 1\u001b[0;31m \u001b[0mkmeans\u001b[0m \u001b[0;34m=\u001b[0m \u001b[0mKMeans\u001b[0m\u001b[0;34m(\u001b[0m\u001b[0;36m3\u001b[0m\u001b[0;34m,\u001b[0m \u001b[0;36m0\u001b[0m\u001b[0;34m,\u001b[0m \u001b[0;36m2\u001b[0m\u001b[0;34m,\u001b[0m \u001b[0;36m300\u001b[0m\u001b[0;34m,\u001b[0m \u001b[0msyn_df\u001b[0m\u001b[0;34m)\u001b[0m\u001b[0;34m\u001b[0m\u001b[0;34m\u001b[0m\u001b[0m\n\u001b[0m",
            "\u001b[0;31mNameError\u001b[0m: name 'KMeans' is not defined"
          ]
        }
      ]
    },
    {
      "cell_type": "markdown",
      "metadata": {
        "id": "097_OHKGxxK8",
        "colab_type": "text"
      },
      "source": [
        "Open `kmeans.py` file and complete the `get_euclidean_distance()` function. This function returns the Euclidean distance between 2 data points `p` and `q`. \n",
        "\n",
        "$$D(p, q)=\\sqrt{\\sum_{i=0}^{n} (q_i - p_i)^2}$$\n",
        "\n",
        "This function has 2 parameters - `point1` and `point2`. You may pass these combinations of data types in this function:\n",
        "- a `Series` and a `Series` - the function returns a single distance based on these two datapoints. The data type of the result is `np.float64`.\n",
        "- a `DataFrame` and a `Series` - the returns a `Series` of distances of a single data point (represented as a `Series`) and a set of data points (represented as a `DataFrame`). If the shape of the `DataFrame` is (3, 2), the shape of the `Series` should be (2,) to enable broadcasting. This operation will result to a `Series` of shape (3,)."
      ]
    },
    {
      "cell_type": "markdown",
      "metadata": {
        "id": "-OjywwVMxxK8",
        "colab_type": "text"
      },
      "source": [
        "Implement the `get_euclidean_distance()` function. Inline comments should help you in completing the contents of the function. Upon implementing the function, execute the code below then answer the questions."
      ]
    },
    {
      "cell_type": "markdown",
      "metadata": {
        "id": "VFYo9qhoxxK8",
        "colab_type": "text"
      },
      "source": [
        "Suppose we create two data points with 2 variables generated from random values. Let's call the `get_euclidean_distance()` function and compute its Euclidean distance."
      ]
    },
    {
      "cell_type": "code",
      "metadata": {
        "id": "ewZCsTIQIMLP",
        "colab_type": "code",
        "colab": {}
      },
      "source": [
        "def get_euclidean_distance(point1, point2):\n",
        "        \"\"\"Returns the Euclidean distance between two data points. These\n",
        "        data points can be represented as 2 Series objects. This function can\n",
        "        also compute the Euclidean distance between a list of data points\n",
        "        (represented as a DataFrame) and a single data point (represented as\n",
        "        a Series), using broadcasting.\n",
        "\n",
        "        The Euclidean distance can be computed by getting the square root of\n",
        "        the sum of the squared difference between each variable of each data\n",
        "        point.\n",
        "\n",
        "        For the arguments point1 and point2, you can only pass these\n",
        "        combinations of data types:\n",
        "        - Series and Series -- returns np.float64\n",
        "        - DataFrame and Series -- returns pd.Series\n",
        "\n",
        "        For a DataFrame and a Series, if the shape of the DataFrame is\n",
        "        (3, 2), the shape of the Series should be (2,) to enable broadcasting.\n",
        "        This operation will result to a Series of shape (3,)\n",
        "\n",
        "        Arguments:\n",
        "            point1 {Series or DataFrame} - data point\n",
        "            point2 {Series or DataFrame} - data point\n",
        "        Returns:\n",
        "            np.float64 or pd.Series -- contains the Euclidean distance\n",
        "            between the data points.\n",
        "        \"\"\"\n",
        "\n",
        "        # TODO: Implement this function based on the documentation.\n",
        "        # Hint: Use the pandas.Series.sum() and the numpy.sqrt() functions.\n",
        "\n",
        "        return np.sqrt(np.square(point2 - point1).sum(axis=1 if isinstance(point1, pd.DataFrame) else 0));\n"
      ],
      "execution_count": 177,
      "outputs": []
    },
    {
      "cell_type": "code",
      "metadata": {
        "id": "kl3xGmVcxxK9",
        "colab_type": "code",
        "colab": {
          "base_uri": "https://localhost:8080/",
          "height": 238
        },
        "outputId": "8ec8019d-8066-47ba-ec2d-e86ead200871"
      },
      "source": [
        "np.random.seed(1)\n",
        "point1 = np.random.randint(1, 10, size=(2,))\n",
        "point2 = np.random.randint(1, 10, size=(2,))\n",
        "\n",
        "s_point1 = pd.Series(point1)\n",
        "s_point2 = pd.Series(point2)\n",
        "\n",
        "\n",
        "# get_euclidean_distance(s_point1, s_point2)\n",
        "distance = kmeans.get_euclidean_distance(s_point1, s_point2)\n",
        "\n",
        "print(KMeans.test);\n",
        "\n",
        "print(kmeans.get_euclidean_distance)\n",
        "\n",
        "print('Point1:\\n' + str(point1))\n",
        "print('Point2:\\n' + str(point2))\n",
        "print('Distance:\\n' + str(distance))"
      ],
      "execution_count": 183,
      "outputs": [
        {
          "output_type": "error",
          "ename": "AttributeError",
          "evalue": "ignored",
          "traceback": [
            "\u001b[0;31m---------------------------------------------------------------------------\u001b[0m",
            "\u001b[0;31mAttributeError\u001b[0m                            Traceback (most recent call last)",
            "\u001b[0;32m<ipython-input-183-a326312e5411>\u001b[0m in \u001b[0;36m<module>\u001b[0;34m()\u001b[0m\n\u001b[1;32m     10\u001b[0m \u001b[0mdistance\u001b[0m \u001b[0;34m=\u001b[0m \u001b[0mkmeans\u001b[0m\u001b[0;34m.\u001b[0m\u001b[0mget_euclidean_distance\u001b[0m\u001b[0;34m(\u001b[0m\u001b[0ms_point1\u001b[0m\u001b[0;34m,\u001b[0m \u001b[0ms_point2\u001b[0m\u001b[0;34m)\u001b[0m\u001b[0;34m\u001b[0m\u001b[0;34m\u001b[0m\u001b[0m\n\u001b[1;32m     11\u001b[0m \u001b[0;34m\u001b[0m\u001b[0m\n\u001b[0;32m---> 12\u001b[0;31m \u001b[0mprint\u001b[0m\u001b[0;34m(\u001b[0m\u001b[0mKMeans\u001b[0m\u001b[0;34m.\u001b[0m\u001b[0mtest\u001b[0m\u001b[0;34m)\u001b[0m\u001b[0;34m;\u001b[0m\u001b[0;34m\u001b[0m\u001b[0;34m\u001b[0m\u001b[0m\n\u001b[0m\u001b[1;32m     13\u001b[0m \u001b[0;34m\u001b[0m\u001b[0m\n\u001b[1;32m     14\u001b[0m \u001b[0mprint\u001b[0m\u001b[0;34m(\u001b[0m\u001b[0mkmeans\u001b[0m\u001b[0;34m.\u001b[0m\u001b[0mget_euclidean_distance\u001b[0m\u001b[0;34m)\u001b[0m\u001b[0;34m\u001b[0m\u001b[0;34m\u001b[0m\u001b[0m\n",
            "\u001b[0;31mAttributeError\u001b[0m: type object 'KMeans' has no attribute 'test'"
          ]
        }
      ]
    },
    {
      "cell_type": "markdown",
      "metadata": {
        "id": "pyY1qiOJxxK_",
        "colab_type": "text"
      },
      "source": [
        "**Question:** What is the distance between the two data points [6, 9] and [6, 1]? \n",
        "- *Write your answer here.*"
      ]
    },
    {
      "cell_type": "markdown",
      "metadata": {
        "id": "WtuuLwqnxxK_",
        "colab_type": "text"
      },
      "source": [
        "Suppose we create a set of data points and a single data point. Let's call the `get_euclidean_distance()` function and compute their Euclidean distance."
      ]
    },
    {
      "cell_type": "code",
      "metadata": {
        "id": "h2QSoguwxxLA",
        "colab_type": "code",
        "colab": {
          "base_uri": "https://localhost:8080/",
          "height": 87
        },
        "outputId": "1bed782e-f159-4cec-e795-4a21b4534a43"
      },
      "source": [
        "np.random.seed(1)\n",
        "point1 = np.random.randint(1, 10, size=(3,2))\n",
        "point2 = np.random.randint(1, 10, size=(2,))\n",
        "\n",
        "df_point1 = pd.DataFrame(point1)\n",
        "s_point2 = pd.Series(point2)\n",
        "\n",
        "\n",
        "\n",
        "# df_point1.apply()\n",
        "test = get_euclidean_distance(df_point1, s_point2);\n",
        "print(test)\n",
        "# print(np.sqrt(np.square(df_point1 - s_point2).sum()));\n",
        "\n",
        "# distance = kmeans.get_euclidean_distance(df_point1, s_point2)\n",
        "\n",
        "# print('Point1:\\n' + str(point1))\n",
        "# print('Point2:\\n' + str(point2))\n",
        "# print('Distances:\\n' + str(distance))"
      ],
      "execution_count": null,
      "outputs": [
        {
          "output_type": "stream",
          "text": [
            "0    2.828427\n",
            "1    6.324555\n",
            "2    8.602325\n",
            "dtype: float64\n"
          ],
          "name": "stdout"
        }
      ]
    },
    {
      "cell_type": "markdown",
      "metadata": {
        "id": "jW839-TuxxLC",
        "colab_type": "text"
      },
      "source": [
        "**Question:** What is the distance between the two data points [6, 9] and [8, 7]? \n",
        "- *Write your answer here.*"
      ]
    },
    {
      "cell_type": "markdown",
      "metadata": {
        "id": "gcfuuD6PxxLC",
        "colab_type": "text"
      },
      "source": [
        "**Question:** What is the distance between the two data points [6, 1] and [8, 7]? \n",
        "- *Write your answer here.*"
      ]
    },
    {
      "cell_type": "markdown",
      "metadata": {
        "id": "hBOr2g46xxLC",
        "colab_type": "text"
      },
      "source": [
        "**Question:** What is the distance between the two data points [1, 2] and [8, 7]? \n",
        "- *Write your answer here.*"
      ]
    },
    {
      "cell_type": "markdown",
      "metadata": {
        "id": "S_4LbzTLxxLD",
        "colab_type": "text"
      },
      "source": [
        "Open `kmeans.py` file and complete the `initialize_centroids`() function. This function initializes `k` centroids. This function picks a random point from the dataset as the first centroid, then iteratively picks points that are farthest from the current set of centroids."
      ]
    },
    {
      "cell_type": "markdown",
      "metadata": {
        "id": "Us6BgrBLxxLD",
        "colab_type": "text"
      },
      "source": [
        "Implement the `initialize_centroids()` function. Inline comments should help you in completing the contents of the function. Upon implementing the function, execute the code below then answer the questions."
      ]
    },
    {
      "cell_type": "code",
      "metadata": {
        "id": "AcvfV6sJxxLD",
        "colab_type": "code",
        "colab": {}
      },
      "source": [
        "centroids = kmeans.initialize_centroids(syn_df)\n",
        "print(centroids)"
      ],
      "execution_count": null,
      "outputs": []
    },
    {
      "cell_type": "markdown",
      "metadata": {
        "id": "EwMIRynoxxLF",
        "colab_type": "text"
      },
      "source": [
        "**Question:** What are the coordinates of the the first centroid? \n",
        "- *Write your answer here.*"
      ]
    },
    {
      "cell_type": "markdown",
      "metadata": {
        "id": "4BIMooLWxxLG",
        "colab_type": "text"
      },
      "source": [
        "**Question:** What are the coordinates of the the second centroid? \n",
        "- *Write your answer here.*"
      ]
    },
    {
      "cell_type": "markdown",
      "metadata": {
        "id": "eeyTpmScxxLG",
        "colab_type": "text"
      },
      "source": [
        "**Question:** What are the coordinates of the the third centroid? \n",
        "- *Write your answer here.*"
      ]
    },
    {
      "cell_type": "markdown",
      "metadata": {
        "id": "MBTSI8LAxxLG",
        "colab_type": "text"
      },
      "source": [
        "Let's visualize the initial location of our centroids."
      ]
    },
    {
      "cell_type": "code",
      "metadata": {
        "id": "Z9BBry8XxxLH",
        "colab_type": "code",
        "colab": {}
      },
      "source": [
        "plt.plot(syn_df.loc[syn_df['class'] == 0, 'x'], syn_df.loc[syn_df['class'] == 0, 'y'], 'r+')\n",
        "plt.plot(syn_df.loc[syn_df['class'] == 1, 'x'], syn_df.loc[syn_df['class'] == 1, 'y'], 'g+')\n",
        "plt.plot(syn_df.loc[syn_df['class'] == 2, 'x'], syn_df.loc[syn_df['class'] == 2, 'y'], 'b+')\n",
        "\n",
        "for i in range(len(kmeans.centroids)):\n",
        "    plt.plot(kmeans.centroids.iloc[i]['x'], kmeans.centroids.iloc[i]['y'], 'k*', ms=12)\n",
        "\n",
        "plt.grid()"
      ],
      "execution_count": null,
      "outputs": []
    },
    {
      "cell_type": "markdown",
      "metadata": {
        "id": "G2ooXhx6xxLI",
        "colab_type": "text"
      },
      "source": [
        "**Sanity Check:** The initial location of your centroids should look like this:\n",
        "<img src=\"img/initial_centroids.PNG\" alt=\"Initial Centroid Locations\" style=\"width: 350px;\"/>"
      ]
    },
    {
      "cell_type": "markdown",
      "metadata": {
        "id": "fi704E_ExxLJ",
        "colab_type": "text"
      },
      "source": [
        "Open `kmeans.py` file and complete the `group_observations()` function. This function returns the clusters of each data point in the dataset given the current set of centroids."
      ]
    },
    {
      "cell_type": "markdown",
      "metadata": {
        "id": "vWKhpFM1xxLJ",
        "colab_type": "text"
      },
      "source": [
        "Implement the `group_observations()` function. Inline comments should help you in completing the contents of the function. Upon implementing the function, execute the code below then answer the questions."
      ]
    },
    {
      "cell_type": "code",
      "metadata": {
        "id": "Eqz2SCtpxxLK",
        "colab_type": "code",
        "colab": {}
      },
      "source": [
        "clusters = kmeans.group_observations(syn_df)\n",
        "print('Number of data points in each cluster:')\n",
        "print('Cluster 0: ', clusters.loc[clusters == 0].shape[0])\n",
        "print('Cluster 1: ', clusters.loc[clusters == 1].shape[0])\n",
        "print('Cluster 2: ', clusters.loc[clusters == 2].shape[0])"
      ],
      "execution_count": null,
      "outputs": []
    },
    {
      "cell_type": "markdown",
      "metadata": {
        "id": "WUhyR_zaxxLM",
        "colab_type": "text"
      },
      "source": [
        "**Question:** After clustering the data points using the initial values of the centroids, how many data points are included in cluster 0?\n",
        "- *Write your answer here.*"
      ]
    },
    {
      "cell_type": "markdown",
      "metadata": {
        "id": "jXZFUgphxxLM",
        "colab_type": "text"
      },
      "source": [
        "**Question:** After clustering the data points using the initial values of the centroids, how many data points are included in cluster 1?\n",
        "- *Write your answer here.*"
      ]
    },
    {
      "cell_type": "markdown",
      "metadata": {
        "id": "dRxDGoCYxxLM",
        "colab_type": "text"
      },
      "source": [
        "**Question:** After clustering the data points using the initial values of the centroids, how many data points are included in cluster 2?\n",
        "- *Write your answer here.*"
      ]
    },
    {
      "cell_type": "markdown",
      "metadata": {
        "id": "hTLLJy5ExxLN",
        "colab_type": "text"
      },
      "source": [
        "Open `kmeans.py` file and complete the `adjust_centroids()` function. This function adjusts the location of centroids based on the average of the values of the data points in their corresponding clusters."
      ]
    },
    {
      "cell_type": "markdown",
      "metadata": {
        "id": "dL_MvV1ZxxLN",
        "colab_type": "text"
      },
      "source": [
        "Implement the `adjust_centroids()` function. Inline comments should help you in completing the contents of the function. Upon implementing the function, execute the code below then answer the questions."
      ]
    },
    {
      "cell_type": "code",
      "metadata": {
        "id": "Woy-nLRZxxLN",
        "colab_type": "code",
        "colab": {}
      },
      "source": [
        "new_centroids = kmeans.adjust_centroids(syn_df, clusters)\n",
        "print(new_centroids)"
      ],
      "execution_count": null,
      "outputs": []
    },
    {
      "cell_type": "markdown",
      "metadata": {
        "id": "OtqHurF8xxLP",
        "colab_type": "text"
      },
      "source": [
        "**Question:** After clustering the dataset in one iteration, what are the updated coordinates of the the first centroid? \n",
        "- *Write your answer here.*"
      ]
    },
    {
      "cell_type": "markdown",
      "metadata": {
        "id": "pnvDzYdLxxLP",
        "colab_type": "text"
      },
      "source": [
        "**Question:** After clustering the dataset in one iteration, what are the updated coordinates of the the second centroid? \n",
        "- *Write your answer here.*"
      ]
    },
    {
      "cell_type": "markdown",
      "metadata": {
        "id": "-SIs6lMUxxLQ",
        "colab_type": "text"
      },
      "source": [
        "**Question:** After clustering the dataset in one iteration, what are the updated coordinates of the the third centroid? \n",
        "- *Write your answer here.*"
      ]
    },
    {
      "cell_type": "markdown",
      "metadata": {
        "id": "GgRCJMB4xxLQ",
        "colab_type": "text"
      },
      "source": [
        "After the first iteration of the k-means algorithm, let's visualize the updated location of our centroids."
      ]
    },
    {
      "cell_type": "code",
      "metadata": {
        "id": "MnGD83vCxxLQ",
        "colab_type": "code",
        "colab": {}
      },
      "source": [
        "plt.plot(syn_df.loc[clusters == 0, 'x'], syn_df.loc[clusters == 0, 'y'], 'r+')\n",
        "plt.plot(syn_df.loc[clusters == 1, 'x'], syn_df.loc[clusters == 1, 'y'], 'g+')\n",
        "plt.plot(syn_df.loc[clusters == 2, 'x'], syn_df.loc[clusters == 2, 'y'], 'b+')\n",
        "\n",
        "for i in range(len(kmeans.centroids)):\n",
        "    plt.plot(new_centroids.iloc[i]['x'], new_centroids.iloc[i]['y'], 'k*', ms=12)\n",
        "\n",
        "plt.grid()"
      ],
      "execution_count": null,
      "outputs": []
    },
    {
      "cell_type": "markdown",
      "metadata": {
        "id": "Nt6QVSgOxxLS",
        "colab_type": "text"
      },
      "source": [
        "**Sanity Check:** After the first iteration of the k-means algorithm, the updated location of your centroids should look like this:\n",
        "<img src=\"img/centroids_iter1.PNG\" alt=\"Centroid Location after Iteration 1\" style=\"width: 350px;\"/>"
      ]
    },
    {
      "cell_type": "markdown",
      "metadata": {
        "id": "QteugYa4xxLS",
        "colab_type": "text"
      },
      "source": [
        "Open `kmeans.py` file and complete the `train()` function. This function returns a `Series` which represents the final clusters of each data point in the dataset. This function stops clustering if one of the following is met:\n",
        "- The values of the centroids do not change.\n",
        "- The clusters of each data point do not change.\n",
        "- The maximum number of iterations is met."
      ]
    },
    {
      "cell_type": "markdown",
      "metadata": {
        "id": "2co199rZxxLS",
        "colab_type": "text"
      },
      "source": [
        "Implement the `train()` function. Inline comments should help you in completing the contents of the function. Upon implementing the function, execute the code below then answer the questions."
      ]
    },
    {
      "cell_type": "code",
      "metadata": {
        "id": "yyJjX-7qxxLT",
        "colab_type": "code",
        "colab": {}
      },
      "source": [
        "groups = kmeans.train(syn_df, 300)"
      ],
      "execution_count": null,
      "outputs": []
    },
    {
      "cell_type": "code",
      "metadata": {
        "id": "-qe6FSWmxxLU",
        "colab_type": "code",
        "colab": {}
      },
      "source": [
        "print('Number of data points in each cluster:')\n",
        "print('Cluster 0: ', groups.loc[groups == 0].shape[0])\n",
        "print('Cluster 1: ', groups.loc[groups == 1].shape[0])\n",
        "print('Cluster 2: ', groups.loc[groups == 2].shape[0])"
      ],
      "execution_count": null,
      "outputs": []
    },
    {
      "cell_type": "markdown",
      "metadata": {
        "id": "eMJVcHKcxxLW",
        "colab_type": "text"
      },
      "source": [
        "**Question:** After clustering, how many data points are included in cluster 0?\n",
        "- *Write your answer here.*"
      ]
    },
    {
      "cell_type": "markdown",
      "metadata": {
        "id": "IkhE0yrkxxLX",
        "colab_type": "text"
      },
      "source": [
        "**Question:** After clustering, how many data points are included in cluster 1?\n",
        "- *Write your answer here.*"
      ]
    },
    {
      "cell_type": "markdown",
      "metadata": {
        "id": "agCqN_rgxxLX",
        "colab_type": "text"
      },
      "source": [
        "**Question:** After clustering, how many data points are included in cluster 2?\n",
        "- *Write your answer here.*"
      ]
    },
    {
      "cell_type": "markdown",
      "metadata": {
        "id": "a735vrJXxxLX",
        "colab_type": "text"
      },
      "source": [
        "After executing the k-means algorithm, let's visualize our final clusters compared to our data."
      ]
    },
    {
      "cell_type": "code",
      "metadata": {
        "id": "fR_O6ApKxxLY",
        "colab_type": "code",
        "colab": {}
      },
      "source": [
        "syn_new_df = pd.concat([syn_df.iloc[:, 0:2], groups.rename('group')], axis=1)\n",
        "\n",
        "fig, axs = plt.subplots(1, 2, figsize=(10,5))\n",
        "\n",
        "axs[0].plot(syn_df.loc[syn_df['class'] == 0, 'x'], syn_df.loc[syn_df['class'] == 0, 'y'], 'r+')\n",
        "axs[0].plot(syn_df.loc[syn_df['class'] == 1, 'x'], syn_df.loc[syn_df['class'] == 1, 'y'], 'g+')\n",
        "axs[0].plot(syn_df.loc[syn_df['class'] == 2, 'x'], syn_df.loc[syn_df['class'] == 2, 'y'], 'b+')\n",
        "\n",
        "axs[1].plot(syn_new_df.loc[syn_new_df['group'] == 0, 'x'], syn_new_df.loc[syn_new_df['group'] == 0, 'y'], 'b+')\n",
        "axs[1].plot(syn_new_df.loc[syn_new_df['group'] == 1, 'x'], syn_new_df.loc[syn_new_df['group'] == 1, 'y'], 'g+')\n",
        "axs[1].plot(syn_new_df.loc[syn_new_df['group'] == 2, 'x'], syn_new_df.loc[syn_new_df['group'] == 2, 'y'], 'r+')\n",
        "\n",
        "for i in range(len(kmeans.centroids)):\n",
        "    axs[1].plot(kmeans.centroids.iloc[i]['x'], kmeans.centroids.iloc[i]['y'], 'k*', ms=12)\n",
        "\n",
        "axs[0].grid()\n",
        "axs[1].grid()"
      ],
      "execution_count": null,
      "outputs": []
    },
    {
      "cell_type": "markdown",
      "metadata": {
        "id": "OVQy1AVyxxLZ",
        "colab_type": "text"
      },
      "source": [
        "## Iris Dataset\n",
        "For this notebook, we will work on a dataset called `iris dataset`. This dataset includes three iris species with 50 samples each as well as some properties about each plant. One plant species is linearly separable from the other two, but the other two are not linearly separable from each other.\n",
        "\n",
        "The dataset is provided to you as a `.csv` file. `.csv` means comma-separated values. You can open the file in Notepad to see how it is exactly formatted."
      ]
    },
    {
      "cell_type": "markdown",
      "metadata": {
        "id": "NJEDRIYaxxLZ",
        "colab_type": "text"
      },
      "source": [
        "If you view the `.csv` file in Excel, you can see that our dataset contains 150 **observations** (rows) across 6 **variables** (columns). The following are the descriptions of each variable in the dataset.\n",
        "\n",
        "- **`Id`**: Identifier.\n",
        "- **`SepalLengthCm`**: Sepal length in centimeters\n",
        "- **`SepalWidthCm`**: Sepal width in centimeters\n",
        "- **`PetalLengthCm`**: Petal length in centimeters\n",
        "- **`PetalWidthCm`**: Petal width in centimeters\n",
        "- **`Species`**: Species of iris - `Iris-setosa`; `Iris-versicolor`; `Iris-virginica`"
      ]
    },
    {
      "cell_type": "markdown",
      "metadata": {
        "id": "4hoGAYTmxxLa",
        "colab_type": "text"
      },
      "source": [
        "Let's read the dataset."
      ]
    },
    {
      "cell_type": "code",
      "metadata": {
        "id": "QiG0mxT5xxLa",
        "colab_type": "code",
        "colab": {}
      },
      "source": [
        "iris_df = pd.read_csv('iris.csv')"
      ],
      "execution_count": null,
      "outputs": []
    },
    {
      "cell_type": "markdown",
      "metadata": {
        "id": "cnb5LvMMxxLe",
        "colab_type": "text"
      },
      "source": [
        "Whenever we load a new dataset, it is generally a good idea to call the [`info`](https://pandas.pydata.org/pandas-docs/stable/reference/api/pandas.DataFrame.info.html) function, which displays general information about the dataset."
      ]
    },
    {
      "cell_type": "code",
      "metadata": {
        "id": "4iGegKlExxLe",
        "colab_type": "code",
        "colab": {}
      },
      "source": [
        "iris_df.info()"
      ],
      "execution_count": null,
      "outputs": []
    },
    {
      "cell_type": "markdown",
      "metadata": {
        "id": "CTkDbAIDxxLg",
        "colab_type": "text"
      },
      "source": [
        "Instantiate a `KMeans` object with `k` equal to `3`, `start_var` equal to `1`, `end_var` equal to `5`, `num_observations` equal to `150`, and `data` equal to the `DataFrame` object which represents the iris dataset. "
      ]
    },
    {
      "cell_type": "code",
      "metadata": {
        "id": "VVjWYokMxxLg",
        "colab_type": "code",
        "colab": {}
      },
      "source": [
        "kmeans = KMeans(3, 1, 5, 150, iris_df)"
      ],
      "execution_count": null,
      "outputs": []
    },
    {
      "cell_type": "markdown",
      "metadata": {
        "id": "xPESKZ8ixxLi",
        "colab_type": "text"
      },
      "source": [
        "Initialize the centroids."
      ]
    },
    {
      "cell_type": "code",
      "metadata": {
        "id": "_1uIxMFZxxLj",
        "colab_type": "code",
        "colab": {}
      },
      "source": [
        "kmeans.initialize_centroids(iris_df)"
      ],
      "execution_count": null,
      "outputs": []
    },
    {
      "cell_type": "markdown",
      "metadata": {
        "id": "Baw-STMpxxLl",
        "colab_type": "text"
      },
      "source": [
        "Cluster the dataset."
      ]
    },
    {
      "cell_type": "code",
      "metadata": {
        "id": "adQlzu4QxxLl",
        "colab_type": "code",
        "colab": {}
      },
      "source": [
        "groups = kmeans.train(iris_df, 300)"
      ],
      "execution_count": null,
      "outputs": []
    },
    {
      "cell_type": "markdown",
      "metadata": {
        "id": "zu5wHzjixxLn",
        "colab_type": "text"
      },
      "source": [
        "Check the number of  per class in each cluster. Answer the questions below."
      ]
    },
    {
      "cell_type": "code",
      "metadata": {
        "id": "CK5lMN4FxxLn",
        "colab_type": "code",
        "colab": {}
      },
      "source": [
        "cluster_0 = iris_df.loc[groups == 0]\n",
        "cluster_1 = iris_df.loc[groups == 1]\n",
        "cluster_2 = iris_df.loc[groups == 2]\n",
        "\n",
        "print('Number of data points in each cluster:')\n",
        "print('Cluster 0:')\n",
        "print('Class Iris-setosa:\\t', cluster_0.loc[cluster_0['Species'] == 'Iris-setosa'].shape[0])\n",
        "print('Class Iris-versicolor:\\t', cluster_0.loc[cluster_0['Species'] == 'Iris-versicolor'].shape[0])\n",
        "print('Class Iris-virginica:\\t', cluster_0.loc[cluster_0['Species'] == 'Iris-virginica'].shape[0])\n",
        "print('Cluster 1:')\n",
        "print('Class Iris-setosa:\\t', cluster_1.loc[cluster_1['Species'] == 'Iris-setosa'].shape[0])\n",
        "print('Class Iris-versicolor:\\t', cluster_1.loc[cluster_1['Species'] == 'Iris-versicolor'].shape[0])\n",
        "print('Class Iris-virginica:\\t', cluster_1.loc[cluster_1['Species'] == 'Iris-virginica'].shape[0])\n",
        "print('Cluster 2:')\n",
        "print('Class Iris-setosa:\\t', cluster_2.loc[cluster_2['Species'] == 'Iris-setosa'].shape[0])\n",
        "print('Class Iris-versicolor:\\t', cluster_2.loc[cluster_2['Species'] == 'Iris-versicolor'].shape[0])\n",
        "print('Class Iris-virginica:\\t', cluster_2.loc[cluster_2['Species'] == 'Iris-virginica'].shape[0])"
      ],
      "execution_count": null,
      "outputs": []
    },
    {
      "cell_type": "markdown",
      "metadata": {
        "id": "2dQtMgDkxxLo",
        "colab_type": "text"
      },
      "source": [
        "**Question:** After clustering, what class of plant is prominent in cluster 0?\n",
        "- *Write your answer here.*"
      ]
    },
    {
      "cell_type": "markdown",
      "metadata": {
        "id": "D2kEzJVIxxLp",
        "colab_type": "text"
      },
      "source": [
        "**Question:** After clustering, what class of plant is prominent in cluster 1?\n",
        "- *Write your answer here.*"
      ]
    },
    {
      "cell_type": "markdown",
      "metadata": {
        "id": "-FYyVe_PxxLp",
        "colab_type": "text"
      },
      "source": [
        "**Question:** After clustering, what class of plant is prominent in cluster 2?\n",
        "- *Write your answer here.*"
      ]
    },
    {
      "cell_type": "code",
      "metadata": {
        "id": "CmBd3l49xxLp",
        "colab_type": "code",
        "colab": {}
      },
      "source": [
        ""
      ],
      "execution_count": null,
      "outputs": []
    }
  ]
}