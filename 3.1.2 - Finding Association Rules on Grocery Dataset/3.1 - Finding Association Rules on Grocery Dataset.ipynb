{
 "cells": [
  {
   "cell_type": "markdown",
   "metadata": {},
   "source": [
    "## Finding Association Rules on Grocery Dataset\n",
    "In this Notebook, we will be implementing an algorithm for mining association rules from a dataset. We will test our algorithm with a small synthetic (artificial) dataset, before we use the algorithm to find association rules from a larger dataset - the [grocery dataset](https://www.kaggle.com/irfanasrullah/groceries).\n",
    "\n",
    "Our Notebooks in CSMODEL are designed to be guided learning activities. To use them, simply through the cells from top to bottom, following the directions along the way. If you find any unclear parts or mistakes in the Notebooks, email me at arren.antioquia@dlsu.edu.ph"
   ]
  },
  {
   "cell_type": "markdown",
   "metadata": {},
   "source": [
    "## Import\n",
    "Import **pandas** and **matplotlib**."
   ]
  },
  {
   "cell_type": "code",
   "execution_count": 1,
   "metadata": {},
   "outputs": [],
   "source": [
    "import numpy as np\n",
    "import pandas as pd\n",
    "import matplotlib.pyplot as plt\n",
    "\n",
    "%load_ext autoreload\n",
    "%autoreload 2"
   ]
  },
  {
   "cell_type": "markdown",
   "metadata": {},
   "source": [
    "## Synthetic Dataset\n",
    "Before we use a more complicated dataset, we will first test our algorithm using a synthetic (artificial) dataset created using random numbers. The dataset contains 20 distinct items. There are 300 observations representing the baskets in the market-basket model. Each observation (basket) contains at most 8 items."
   ]
  },
  {
   "cell_type": "markdown",
   "metadata": {},
   "source": [
    "Let's first create the synthetic dataset using the [`choice`](https://docs.scipy.org/doc//numpy-1.10.4/reference/generated/numpy.random.choice.html) function of `numpy`. You may check the documentation of the function for further information. We have set the same seed to have the same values in the synthetic dataset."
   ]
  },
  {
   "cell_type": "code",
   "execution_count": 3,
   "metadata": {},
   "outputs": [],
   "source": [
    "np.random.seed(1)\n",
    "baskets = [np.sort(np.random.choice(20, size=(np.random.randint(1, 9)), replace=False)) for i in range(300)]"
   ]
  },
  {
   "cell_type": "markdown",
   "metadata": {},
   "source": [
    "Let's display the contents of the synthetic dataset. It should list 300 baskets with its contents."
   ]
  },
  {
   "cell_type": "code",
   "execution_count": 4,
   "metadata": {},
   "outputs": [
    {
     "output_type": "stream",
     "name": "stdout",
     "text": [
      "Basket 0 [ 3 10 14 15 17 18]\nBasket 1 [ 2  3  5  8 17]\nBasket 2 [ 2 11 12 16 17 18]\nBasket 3 [16]\nBasket 4 [ 4  5 12 16]\nBasket 5 [ 0  1  3  9 17 18]\nBasket 6 [11]\nBasket 7 [ 3  8 13]\nBasket 8 [ 2  5 12 13 19]\nBasket 9 [ 1  9 12 14 19]\nBasket 10 [6 7]\nBasket 11 [ 1  6  8  9 13 15 17 18]\nBasket 12 [ 3  6  9 11 12 14 18 19]\nBasket 13 [ 1  3  4  5  7  8 11]\nBasket 14 [ 1  2  9 11 15 16 18 19]\nBasket 15 [ 3  4  8  9 10 14]\nBasket 16 [ 8  9 12 13 18]\nBasket 17 [1 5 8]\nBasket 18 [6 7]\nBasket 19 [ 3 19]\nBasket 20 [ 5  8 13 15]\nBasket 21 [ 1  3  4 15 19]\nBasket 22 [ 0  3 12]\nBasket 23 [ 1  5  7  9 14 17]\nBasket 24 [10 14 17]\nBasket 25 [0 3 4]\nBasket 26 [ 4  7 10 18]\nBasket 27 [ 2  5 11 17 18]\nBasket 28 [ 1  3  7  8 11 17 18]\nBasket 29 [0 2 4 9]\nBasket 30 [ 3 15 17 19]\nBasket 31 [8]\nBasket 32 [ 3  9 11]\nBasket 33 [ 4  5  7  8  9 16 17]\nBasket 34 [ 2  6  7 19]\nBasket 35 [5]\nBasket 36 [ 1  3  7 10 12 15 16]\nBasket 37 [ 1 14]\nBasket 38 [ 2  3  6 13 18 19]\nBasket 39 [ 2  6 11 14 16]\nBasket 40 [3]\nBasket 41 [ 8  9 10 11 12 13 14 16]\nBasket 42 [10 14]\nBasket 43 [ 0  2  3  5  6 18 19]\nBasket 44 [ 2  3  5  7 11 14]\nBasket 45 [ 4  6  8 14 18 19]\nBasket 46 [ 0  2 15 18]\nBasket 47 [ 3  6  7 13]\nBasket 48 [ 5  8 11 12 13 16]\nBasket 49 [ 1  3  7  8 10 12 15 16]\nBasket 50 [12 13 14 15 16 17 19]\nBasket 51 [ 1  6  7 19]\nBasket 52 [ 1  5  7 11 15 18]\nBasket 53 [10 17 18 19]\nBasket 54 [16]\nBasket 55 [ 7 12 14 17]\nBasket 56 [ 0  9 10]\nBasket 57 [ 1  3 11 12 16 18]\nBasket 58 [ 0  1  7  8 14 17]\nBasket 59 [ 1  2  8 10 12 16 19]\nBasket 60 [ 0  2  4 14]\nBasket 61 [ 1  2  7 11 12 16 18 19]\nBasket 62 [ 1  4  5  9 12 16]\nBasket 63 [ 5  6 11 12 19]\nBasket 64 [ 4  5  9 14 15]\nBasket 65 [ 7  8 16]\nBasket 66 [ 0  1  3 10 19]\nBasket 67 [ 5 16]\nBasket 68 [ 0  3  6  9 12 13 16]\nBasket 69 [ 5  6  9 10 16 17 18]\nBasket 70 [ 5  8 11 16 19]\nBasket 71 [ 6  7 10 11 13]\nBasket 72 [9]\nBasket 73 [ 2  5 17]\nBasket 74 [ 4  5  6  8 11 16 17]\nBasket 75 [1]\nBasket 76 [ 2  6  7  8 11 15 17]\nBasket 77 [ 1  3  7 11 16 18]\nBasket 78 [ 0  5  8 12]\nBasket 79 [ 1  6  7 11 12 13 16 19]\nBasket 80 [4]\nBasket 81 [ 2  4  8  9 13 14 17]\nBasket 82 [ 0  1  6  8 11 16 19]\nBasket 83 [18]\nBasket 84 [ 7 10 19]\nBasket 85 [ 1  3 15 18]\nBasket 86 [ 9 16 19]\nBasket 87 [ 0  6  8 15 18]\nBasket 88 [2 6 9]\nBasket 89 [ 0  1  2 11]\nBasket 90 [ 1  2 10 15 19]\nBasket 91 [ 4  5  7 16 17]\nBasket 92 [ 2  8 15 17]\nBasket 93 [ 4  6  9 16]\nBasket 94 [ 0  7  8 13 17 19]\nBasket 95 [ 0  2  3  5  6 10 13 16]\nBasket 96 [ 5  9 10 11 12 15]\nBasket 97 [ 4  7  8 13 16]\nBasket 98 [ 1  2  3 10 11]\nBasket 99 [ 2  4  7  8  9 13]\nBasket 100 [16 17]\nBasket 101 [12 13 16 18]\nBasket 102 [ 1  3  6 11 13 14 16 17]\nBasket 103 [ 5  6 12 14 19]\nBasket 104 [ 2 13 15 17 18 19]\nBasket 105 [ 5 11 12]\nBasket 106 [ 2  4  7  8 17 19]\nBasket 107 [ 1  3  6  8 16 17 18]\nBasket 108 [ 1  7 17]\nBasket 109 [ 1  4  6 11 12 13 19]\nBasket 110 [ 0  9 10 11 14]\nBasket 111 [ 1  2  3  8 19]\nBasket 112 [ 8 10 17 19]\nBasket 113 [ 9 11 13 17]\nBasket 114 [ 1  4  9 11 13 15 16]\nBasket 115 [ 1  3  7  8 10 12 13 14]\nBasket 116 [0]\nBasket 117 [ 1  7 11 19]\nBasket 118 [ 0  3  8  9 14 15 16 17]\nBasket 119 [ 0  3  6  8 10 15 17 18]\nBasket 120 [ 5 10 13 15 16 18]\nBasket 121 [ 3  5 11 15]\nBasket 122 [ 0 14]\nBasket 123 [14 15]\nBasket 124 [ 0  3  6 12 15 17 18]\nBasket 125 [ 1  5  6 10 12 15 18]\nBasket 126 [ 0  3  5 11 13]\nBasket 127 [ 0  3  4  6 10 11 18]\nBasket 128 [ 2  8  9 12 14 16 19]\nBasket 129 [ 6  8  9 11 13 15 17 19]\nBasket 130 [ 0  2  3  4 10 13 16 18]\nBasket 131 [ 5 14]\nBasket 132 [ 0  4 10 11 14 15 16 19]\nBasket 133 [ 2  3  4  8 14 17]\nBasket 134 [ 5  6  7  9 10 15 17 18]\nBasket 135 [10 16 17]\nBasket 136 [ 0  2  6  7 10 12 13 18]\nBasket 137 [ 4  6  7 10 11 15 18 19]\nBasket 138 [ 0  1  4  7  8 12 14 15]\nBasket 139 [ 0  8  9 10 11 13 14 16]\nBasket 140 [ 2  4  6 11 14 16 17 18]\nBasket 141 [ 3  5 10 16 17 18]\nBasket 142 [ 2  3 17]\nBasket 143 [ 2 12 13 14]\nBasket 144 [9]\nBasket 145 [ 0  1  5  7  8 14]\nBasket 146 [ 2  6  7  8 11 13]\nBasket 147 [ 2  3  9 10 18]\nBasket 148 [ 1  2  5 12 13 14 18]\nBasket 149 [ 4 11 14 18]\nBasket 150 [ 2  4  5  7  8 12]\nBasket 151 [18]\nBasket 152 [4 9]\nBasket 153 [ 3  4  5 14 17]\nBasket 154 [ 1 13 15]\nBasket 155 [ 2  7 16]\nBasket 156 [ 1 10]\nBasket 157 [ 0 13 17]\nBasket 158 [ 3  6 17]\nBasket 159 [ 1  4  6  8 10 12 13 18]\nBasket 160 [ 4 12 13 17]\nBasket 161 [6]\nBasket 162 [ 4 12]\nBasket 163 [ 9 12 14 16]\nBasket 164 [2 5 8]\nBasket 165 [ 0  7 19]\nBasket 166 [ 1  3 12 13 19]\nBasket 167 [17 18]\nBasket 168 [9]\nBasket 169 [ 0  1  6  8 12 18]\nBasket 170 [ 3  4  7 10 19]\nBasket 171 [ 0  1  3  6  8  9 12 15]\nBasket 172 [ 5 11]\nBasket 173 [ 3  5  6 13 16]\nBasket 174 [ 4  5  8 10 12 19]\nBasket 175 [6]\nBasket 176 [ 0  4  5  9 11 15]\nBasket 177 [ 0  1  4  5  9 15]\nBasket 178 [ 1  7  9 12 14 15 18 19]\nBasket 179 [ 7  9 16]\nBasket 180 [17]\nBasket 181 [ 0  4  5  8  9 11 12 17]\nBasket 182 [ 4 12]\nBasket 183 [12 17]\nBasket 184 [12 15]\nBasket 185 [2]\nBasket 186 [17]\nBasket 187 [ 0 19]\nBasket 188 [ 3  7  8 10 13 14 15 16]\nBasket 189 [7]\nBasket 190 [ 1  6  7  8 14 17]\nBasket 191 [ 1  9 11 18]\nBasket 192 [ 6  7 10 14 16 19]\nBasket 193 [ 0  2  6 12 14 15]\nBasket 194 [12 14 15]\nBasket 195 [ 0  1  2  8  9 10 17 18]\nBasket 196 [ 1  9 14 18]\nBasket 197 [ 8 15]\nBasket 198 [ 6 10 11 13 16 17]\nBasket 199 [ 0  6  7  8 15]\nBasket 200 [ 2  4 19]\nBasket 201 [ 6  8 10 11 14]\nBasket 202 [ 7 17]\nBasket 203 [ 0  3  7 15 18]\nBasket 204 [1]\nBasket 205 [ 0 13 17 18]\nBasket 206 [ 8 10 12 13]\nBasket 207 [ 4 13 15 17 19]\nBasket 208 [2]\nBasket 209 [ 3  5  9 10 11 13 15 17]\nBasket 210 [ 3  4  7  8 10 16 17 19]\nBasket 211 [ 0  4 10 12 15 16]\nBasket 212 [ 0  1 13]\nBasket 213 [ 0  2  3  8 10 14 17]\nBasket 214 [18]\nBasket 215 [ 1  5 12 13 16 19]\nBasket 216 [ 0  2  4  6  7 10 14 19]\nBasket 217 [ 1  9 12 15 17]\nBasket 218 [13 15]\nBasket 219 [ 5  7 16 18]\nBasket 220 [ 1  5  7 12 14 16 19]\nBasket 221 [ 0  1  2  8 12]\nBasket 222 [ 8 11 12 17]\nBasket 223 [ 0 12 13 14 16 17 18]\nBasket 224 [ 3  9 16 18]\nBasket 225 [ 1  2  4  6  8 12 17]\nBasket 226 [ 2  7 14 16]\nBasket 227 [ 4  7 10 17 19]\nBasket 228 [5]\nBasket 229 [2 5 8]\nBasket 230 [ 2  4 16]\nBasket 231 [7]\nBasket 232 [ 0  9 10 14 15]\nBasket 233 [ 5  8  9 16]\nBasket 234 [ 1  3  7 10 12 13 16 19]\nBasket 235 [ 8 11 12 13 17 19]\nBasket 236 [ 3  4 10 11 15 17]\nBasket 237 [ 4  5 15 16 18 19]\nBasket 238 [ 3 10 12]\nBasket 239 [ 7  8 13 17]\nBasket 240 [ 3 11 12 15]\nBasket 241 [11 13 19]\nBasket 242 [ 5  7  9 10 11 16 17]\nBasket 243 [ 3  8 13 15 16 19]\nBasket 244 [ 0  4  8 11 13 17 19]\nBasket 245 [8]\nBasket 246 [ 0  1  8 10 16 18]\nBasket 247 [ 1  3  9 10 12 13 17]\nBasket 248 [4 6]\nBasket 249 [ 3  5 19]\nBasket 250 [ 0  3  4  6  7 11 12 15]\nBasket 251 [ 1  4  6  7 10 12 15]\nBasket 252 [ 4 11 14 16]\nBasket 253 [ 1  3  4  9 16]\nBasket 254 [17]\nBasket 255 [ 0  2  5  8 10 15 16 18]\nBasket 256 [ 2 12 14 16 18]\nBasket 257 [ 7 17 18]\nBasket 258 [7]\nBasket 259 [4]\nBasket 260 [11]\nBasket 261 [ 1 10 16]\nBasket 262 [ 0  1  2  5 11]\nBasket 263 [ 1  2  8 17]\nBasket 264 [6]\nBasket 265 [ 0  5  9 11 14]\nBasket 266 [ 1  2  3  5  9 14 17 19]\nBasket 267 [2 5 9]\nBasket 268 [ 2  3  4 10 16 19]\nBasket 269 [ 2  4  6  7  9 10 16 18]\nBasket 270 [ 3 19]\nBasket 271 [ 3 13 14 19]\nBasket 272 [2 7]\nBasket 273 [10 16 18]\nBasket 274 [ 2  3  8 11 13]\nBasket 275 [ 1  3  5 12 16 18]\nBasket 276 [2 3]\nBasket 277 [ 0  2  4  5  7  8 18]\nBasket 278 [19]\nBasket 279 [ 1  4  6 11 14]\nBasket 280 [ 3  5  9 12 14 17 18]\nBasket 281 [10 12 14]\nBasket 282 [10 13 17]\nBasket 283 [ 4  7  9 11 16]\nBasket 284 [ 4  6  8  9 11 18 19]\nBasket 285 [ 0 13 14]\nBasket 286 [15 18]\nBasket 287 [ 3  8  9 13 17]\nBasket 288 [ 4 13 14 19]\nBasket 289 [ 0  1  3  9 10 17]\nBasket 290 [ 1  8 11 13 17]\nBasket 291 [13 15 16 17 19]\nBasket 292 [ 0  5  8 11 15 16]\nBasket 293 [ 0  2  4  6 12 14]\nBasket 294 [ 0  4 18]\nBasket 295 [15]\nBasket 296 [ 1  5 10 11 13 17]\nBasket 297 [ 1 14]\nBasket 298 [ 0  3 11 17]\nBasket 299 [18]\n"
     ]
    }
   ],
   "source": [
    "for i, basket in enumerate(baskets):\n",
    "    print('Basket', i, basket)"
   ]
  },
  {
   "cell_type": "markdown",
   "metadata": {},
   "source": [
    "As of now, our dataset is represented as a list of list. Instead of using this representation, we will convert our dataset to a matrix represented as a `pandas` `DataFrame`. The `DataFrame` will contain 300 rows - equivalent to the number of observations in the dataset, and 20 columns - equivalent to the number of distinct items in the dataset. The value in the cell in row `x` and column `y` is 1 if item `y` is in observation (basket) `x`, otherwise, the value in the cell in row `x` and column `y` is 0."
   ]
  },
  {
   "cell_type": "code",
   "execution_count": 5,
   "metadata": {},
   "outputs": [],
   "source": [
    "syn_df = pd.DataFrame([[0 for _ in range(20)] for _ in range(300)], columns=[i for i in range(20)])\n",
    "\n",
    "for i, basket in enumerate(baskets):\n",
    "    syn_df.iloc[i, basket] = 1"
   ]
  },
  {
   "cell_type": "markdown",
   "metadata": {},
   "source": [
    "Let's check the `DataFrame` representing the synthetic dataset here. In row `0`, the `DataFrame` should contain the value `1` in columns `3`, `10`, `14`, `15`, `17`, and `18`. All other columns in row `0` should contain the value 0. You may check the other values based on the list-of-list representation that we have displayed earlier."
   ]
  },
  {
   "cell_type": "code",
   "execution_count": 6,
   "metadata": {},
   "outputs": [
    {
     "output_type": "stream",
     "name": "stdout",
     "text": [
      "     0   1   2   3   4   5   6   7   8   9   10  11  12  13  14  15  16  17  \\\n0     0   0   0   1   0   0   0   0   0   0   1   0   0   0   1   1   0   1   \n1     0   0   1   1   0   1   0   0   1   0   0   0   0   0   0   0   0   1   \n2     0   0   1   0   0   0   0   0   0   0   0   1   1   0   0   0   1   1   \n3     0   0   0   0   0   0   0   0   0   0   0   0   0   0   0   0   1   0   \n4     0   0   0   0   1   1   0   0   0   0   0   0   1   0   0   0   1   0   \n..   ..  ..  ..  ..  ..  ..  ..  ..  ..  ..  ..  ..  ..  ..  ..  ..  ..  ..   \n295   0   0   0   0   0   0   0   0   0   0   0   0   0   0   0   1   0   0   \n296   0   1   0   0   0   1   0   0   0   0   1   1   0   1   0   0   0   1   \n297   0   1   0   0   0   0   0   0   0   0   0   0   0   0   1   0   0   0   \n298   1   0   0   1   0   0   0   0   0   0   0   1   0   0   0   0   0   1   \n299   0   0   0   0   0   0   0   0   0   0   0   0   0   0   0   0   0   0   \n\n     18  19  \n0     1   0  \n1     0   0  \n2     1   0  \n3     0   0  \n4     0   0  \n..   ..  ..  \n295   0   0  \n296   0   0  \n297   0   0  \n298   0   0  \n299   1   0  \n\n[300 rows x 20 columns]\n"
     ]
    }
   ],
   "source": [
    "print(syn_df)"
   ]
  },
  {
   "cell_type": "markdown",
   "metadata": {},
   "source": [
    "## Rule Miner\n",
    "Open `rule_miner.py` file. Some of the functions in the `RuleMiner` class are not yet implemented. We will implement the missing parts of this class."
   ]
  },
  {
   "cell_type": "markdown",
   "metadata": {},
   "source": [
    "Import the `RuleMiner` class"
   ]
  },
  {
   "cell_type": "code",
   "execution_count": 7,
   "metadata": {},
   "outputs": [],
   "source": [
    "from rule_miner import RuleMiner"
   ]
  },
  {
   "cell_type": "markdown",
   "metadata": {},
   "source": [
    "Instantiate a `RuleMiner` object with `support_t` equal to `10` and `confidence_t` equal to `0.6`. The field `support_t` represents the support threshold, while the field `confidence_t` represents the confidence threshold."
   ]
  },
  {
   "cell_type": "code",
   "execution_count": 8,
   "metadata": {},
   "outputs": [],
   "source": [
    "rule_miner = RuleMiner(10, 0.6)"
   ]
  },
  {
   "cell_type": "markdown",
   "metadata": {},
   "source": [
    "Open `rule_miner.py` file and complete the `get_support()` function. This function returns the support for an itemset. The support of an itemset refers to the number of baskets wherein the itemset is present."
   ]
  },
  {
   "cell_type": "markdown",
   "metadata": {},
   "source": [
    "Implement the `get_support()` function. Inline comments should help you in completing the contents of the function. Upon implementing the function, execute the code below then answer the questions."
   ]
  },
  {
   "cell_type": "code",
   "execution_count": 9,
   "metadata": {},
   "outputs": [
    {
     "output_type": "stream",
     "name": "stdout",
     "text": [
      "64\n16\n4\n"
     ]
    }
   ],
   "source": [
    "print(rule_miner.get_support(syn_df, [0]))\n",
    "print(rule_miner.get_support(syn_df, [0, 1]))\n",
    "print(rule_miner.get_support(syn_df, [0, 1, 2]))"
   ]
  },
  {
   "cell_type": "markdown",
   "metadata": {},
   "source": [
    "**Question #1:** What is the support of the itemset `{0}`? \n",
    "- 64"
   ]
  },
  {
   "cell_type": "markdown",
   "metadata": {},
   "source": [
    "**Question #2:** What is the support of the itemset `{0, 1}`? \n",
    "- 16"
   ]
  },
  {
   "cell_type": "markdown",
   "metadata": {},
   "source": [
    "**Question #3:** What is the support of the itemset `{0, 1, 2}`? \n",
    "- 4"
   ]
  },
  {
   "cell_type": "markdown",
   "metadata": {},
   "source": [
    "Open `rule_miner.py` file again and complete the `get_frequent_itemsets()` function. This function returns a list frequent itemsets in the dataset. The support of each frequent itemset should be greater than or equal to the support threshold."
   ]
  },
  {
   "cell_type": "markdown",
   "metadata": {},
   "source": [
    "Implement the `get_frequent_itemsets()` function. Inline comments should help you in completing the contents of the function. Upon implementing the function, execute the code below then answer the questions."
   ]
  },
  {
   "cell_type": "code",
   "execution_count": 10,
   "metadata": {},
   "outputs": [
    {
     "output_type": "stream",
     "name": "stdout",
     "text": [
      "[[1, 12, 7], [16, 1, 12], [1, 19, 12], [8, 17, 2]]\n"
     ]
    }
   ],
   "source": [
    "frequent_itemsets = rule_miner.get_frequent_itemsets(syn_df)\n",
    "print(frequent_itemsets)"
   ]
  },
  {
   "cell_type": "markdown",
   "metadata": {},
   "source": [
    "**Question #4:** List all the frequent itemsets in the dataset, given the support threshold `10`.\n",
    "- \\[1, 12, 7\\]\n",
    "- \\[16, 1, 12\\]\n",
    "- \\[1, 19, 12\\]\n",
    "- \\[8, 17, 2\\]"
   ]
  },
  {
   "cell_type": "markdown",
   "metadata": {},
   "source": [
    "Using the `get_rules()` function in `rule_miner.py`, let us list all the possible rules for all frequent itemsets in our dataset. The `get_rules()` function returns a list of rules produced from an itemset."
   ]
  },
  {
   "cell_type": "code",
   "execution_count": 11,
   "metadata": {},
   "outputs": [
    {
     "output_type": "stream",
     "name": "stdout",
     "text": [
      "[[[1, 12], [7]], [[7], [1, 12]], [[1, 7], [12]], [[12], [1, 7]], [[12, 7], [1]], [[1], [12, 7]]]\n[[[16, 1], [12]], [[12], [16, 1]], [[16, 12], [1]], [[1], [16, 12]], [[1, 12], [16]], [[16], [1, 12]]]\n[[[1, 19], [12]], [[12], [1, 19]], [[1, 12], [19]], [[19], [1, 12]], [[19, 12], [1]], [[1], [19, 12]]]\n[[[8, 17], [2]], [[2], [8, 17]], [[8, 2], [17]], [[17], [8, 2]], [[17, 2], [8]], [[8], [17, 2]]]\n"
     ]
    }
   ],
   "source": [
    "for itemset in frequent_itemsets:\n",
    "    print(rule_miner.get_rules(itemset))"
   ]
  },
  {
   "cell_type": "markdown",
   "metadata": {},
   "source": [
    "Upon getting all the possible rules based on our most frequent itemsets, we should check if the confidence of each rule is greater than or equal to the confidence threshold that we set.\n",
    "\n",
    "To do this, open `rule_miner.py` file again and complete the `get_confidence()` function. This function returns the confidence for a rule. Suppose that we want to find the rule is `{1, 2} -> {3}`, then the confidence for the rule is the support of `{1, 2, 3}` divided by the support of `{1, 2}`. In this code, we represent a rule using a list which contains 2 lists -  the first list contains the left-hand side of the rule (which in our example is `{1, 2}`), and the second list contains the right-hand side of the rule (which in our example is `{3}`)."
   ]
  },
  {
   "cell_type": "markdown",
   "metadata": {},
   "source": [
    "Implement the `get_confidence()` function. Inline comments should help you in completing the contents of the function. Upon implementing the function, execute the code below then answer the questions."
   ]
  },
  {
   "cell_type": "code",
   "execution_count": 12,
   "metadata": {},
   "outputs": [
    {
     "output_type": "stream",
     "name": "stdout",
     "text": [
      "0.21\n0.07\n0.09\n0.13\n"
     ]
    }
   ],
   "source": [
    "print('{:.2f}'.format(rule_miner.get_confidence(syn_df, [[1, 2], [3]])))\n",
    "print('{:.2f}'.format(rule_miner.get_confidence(syn_df, [[4, 5], [6]])))\n",
    "print('{:.2f}'.format(rule_miner.get_confidence(syn_df, [[7, 8], [9]])))\n",
    "print('{:.2f}'.format(rule_miner.get_confidence(syn_df, [[10, 11], [12]])))"
   ]
  },
  {
   "cell_type": "markdown",
   "metadata": {},
   "source": [
    "**Question #5:** What is the confidence of the rule `{1, 2} -> {3}`? Limit to 2 decimal places.\n",
    "- 0.21"
   ]
  },
  {
   "cell_type": "markdown",
   "metadata": {},
   "source": [
    "**Question #6:** What is the confidence of the rule `{4, 5} -> {6}`? Limit to 2 decimal places.\n",
    "- 0.07"
   ]
  },
  {
   "cell_type": "markdown",
   "metadata": {},
   "source": [
    "**Question #7:** What is the confidence of the rule `{7, 8} -> {9}`? Limit to 2 decimal places.\n",
    "- 0.09"
   ]
  },
  {
   "cell_type": "markdown",
   "metadata": {},
   "source": [
    "**Question #8:** What is the confidence of the rule `{10, 11} -> {12}`? Limit to 2 decimal places.\n",
    "- 0.13"
   ]
  },
  {
   "cell_type": "markdown",
   "metadata": {},
   "source": [
    "We have now completed all functions necessary for our rule miner. The only function left to implement is the `get_association_rules()` function, which integrates all of these functions together.\n",
    "\n",
    "Open `rule_miner.py` file again and complete the `get_association_rules()` function. This function returns a list of association rules with support greater than or equal to the support threshold `support_t` and confidence greater than or equal to the confidence threshold `confidence_t`."
   ]
  },
  {
   "cell_type": "markdown",
   "metadata": {},
   "source": [
    "Implement the `get_association_rules()` function. Inline comments should help you in completing the contents of the function. Upon implementing the function, execute the code below then answer the questions."
   ]
  },
  {
   "cell_type": "markdown",
   "metadata": {},
   "source": [
    "With `support_t` equal to `10`, and `confidence_t` equal to `0.6`, let's get the association rules from this dataset."
   ]
  },
  {
   "cell_type": "code",
   "execution_count": 14,
   "metadata": {},
   "outputs": [
    {
     "output_type": "stream",
     "name": "stdout",
     "text": [
      "[[[12, 7], [1]]]\n"
     ]
    }
   ],
   "source": [
    "rules = rule_miner.get_association_rules(syn_df)\n",
    "print(rules)"
   ]
  },
  {
   "cell_type": "markdown",
   "metadata": {},
   "source": [
    "**Question #9:** What is/are the association rules that we derived from the dataset?\n",
    "- {12, 7} -> {1}"
   ]
  },
  {
   "cell_type": "markdown",
   "metadata": {},
   "source": [
    "## Grocery Dataset\n",
    "For this notebook, we will work on a dataset called `grocery dataset`. This dataset contains 9835 rows which represents transactions by customers shopping for groceries. The dataset contains 169 unique items.\n",
    "\n",
    "The dataset is provided to you as a `.csv` file. `.csv` means comma-separated values. You can open the file in Notepad to see how it is exactly formatted."
   ]
  },
  {
   "cell_type": "markdown",
   "metadata": {},
   "source": [
    "If you view the `.csv` file in Excel, you can see that our dataset contains a list of items bought by a customer for each single transaction, represented in rows."
   ]
  },
  {
   "cell_type": "code",
   "execution_count": 15,
   "metadata": {},
   "outputs": [],
   "source": [
    "temp_df = pd.read_csv(\"groceries.csv\", header=None)"
   ]
  },
  {
   "cell_type": "markdown",
   "metadata": {},
   "source": [
    "Let's convert the items, represented as strings, to integers. To do this, let's create a dictionary that will contain the mapping for each item string to its corresponding integer. The dictionary should contain 169 unique strings, with integer mapping from 0 to 168."
   ]
  },
  {
   "cell_type": "code",
   "execution_count": 16,
   "metadata": {},
   "outputs": [
    {
     "output_type": "stream",
     "name": "stdout",
     "text": [
      "{'citrus fruit': 0, 'semi-finished bread': 1, 'margarine': 2, 'ready soups': 3, 'tropical fruit': 4, 'yogurt': 5, 'coffee': 6, 'whole milk': 7, 'pip fruit': 8, 'cream cheese': 9, 'meat spreads': 10, 'other vegetables': 11, 'condensed milk': 12, 'long life bakery product': 13, 'butter': 14, 'rice': 15, 'abrasive cleaner': 16, 'rolls/buns': 17, 'UHT-milk': 18, 'bottled beer': 19, 'liquor (appetizer)': 20, 'potted plants': 21, 'cereals': 22, 'white bread': 23, 'bottled water': 24, 'chocolate': 25, 'curd': 26, 'flour': 27, 'dishes': 28, 'beef': 29, 'frankfurter': 30, 'soda': 31, 'chicken': 32, 'sugar': 33, 'fruit/vegetable juice': 34, 'newspapers': 35, 'packaged fruit/vegetables': 36, 'specialty bar': 37, 'butter milk': 38, 'pastry': 39, 'processed cheese': 40, 'detergent': 41, 'root vegetables': 42, 'frozen dessert': 43, 'sweet spreads': 44, 'salty snack': 45, 'waffles': 46, 'candy': 47, 'bathroom cleaner': 48, 'canned beer': 49, 'sausage': 50, 'brown bread': 51, 'shopping bags': 52, 'beverages': 53, 'hamburger meat': 54, 'spices': 55, 'hygiene articles': 56, 'napkins': 57, 'pork': 58, 'berries': 59, 'whipped/sour cream': 60, 'artif. sweetener': 61, 'grapes': 62, 'dessert': 63, 'zwieback': 64, 'domestic eggs': 65, 'spread cheese': 66, 'misc. beverages': 67, 'hard cheese': 68, 'cat food': 69, 'ham': 70, 'turkey': 71, 'baking powder': 72, 'pickled vegetables': 73, 'oil': 74, 'chewing gum': 75, 'chocolate marshmallow': 76, 'ice cream': 77, 'frozen vegetables': 78, 'canned fish': 79, 'seasonal products': 80, 'curd cheese': 81, 'red/blush wine': 82, 'frozen potato products': 83, 'specialty fat': 84, 'specialty chocolate': 85, 'candles': 86, 'flower (seeds)': 87, 'sparkling wine': 88, 'salt': 89, 'frozen meals': 90, 'canned vegetables': 91, 'onions': 92, 'herbs': 93, 'white wine': 94, 'brandy': 95, 'photo/film': 96, 'sliced cheese': 97, 'pasta': 98, 'softener': 99, 'cling film/bags': 100, 'fish': 101, 'male cosmetics': 102, 'canned fruit': 103, 'Instant food products': 104, 'soft cheese': 105, 'honey': 106, 'dental care': 107, 'popcorn': 108, 'cake bar': 109, 'snack products': 110, 'flower soil/fertilizer': 111, 'specialty cheese': 112, 'finished products': 113, 'cocoa drinks': 114, 'dog food': 115, 'prosecco': 116, 'frozen fish': 117, 'make up remover': 118, 'cleaner': 119, 'female sanitary products': 120, 'dish cleaner': 121, 'cookware': 122, 'meat': 123, 'tea': 124, 'mustard': 125, 'house keeping products': 126, 'skin care': 127, 'potato products': 128, 'liquor': 129, 'pet care': 130, 'soups': 131, 'rum': 132, 'salad dressing': 133, 'sauces': 134, 'vinegar': 135, 'soap': 136, 'hair spray': 137, 'instant coffee': 138, 'roll products': 139, 'mayonnaise': 140, 'rubbing alcohol': 141, 'syrup': 142, 'liver loaf': 143, 'baby cosmetics': 144, 'organic products': 145, 'nut snack': 146, 'kitchen towels': 147, 'frozen chicken': 148, 'light bulbs': 149, 'ketchup': 150, 'jam': 151, 'decalcifier': 152, 'nuts/prunes': 153, 'liqueur': 154, 'organic sausage': 155, 'cream': 156, 'toilet cleaner': 157, 'specialty vegetables': 158, 'baby food': 159, 'pudding powder': 160, 'tidbits': 161, 'whisky': 162, 'frozen fruits': 163, 'bags': 164, 'cooking chocolate': 165, 'sound storage medium': 166, 'kitchen utensil': 167, 'preservation products': 168}\n"
     ]
    }
   ],
   "source": [
    "values = temp_df.values.ravel()\n",
    "values = [value for value in pd.unique(values) if not pd.isnull(value)]\n",
    "\n",
    "value_dict = {}\n",
    "for i, value in enumerate(values):\n",
    "    value_dict[value] = i\n",
    "    \n",
    "print(value_dict)"
   ]
  },
  {
   "cell_type": "markdown",
   "metadata": {},
   "source": [
    "As of now, the `DataFrame` representation of the transaction contains 9835 rows, wherein each row contains a list of string representing the items bought for each transaction. We want to convert this representation to a list of list, with the corresponding integers as value instead of the strings."
   ]
  },
  {
   "cell_type": "code",
   "execution_count": 17,
   "metadata": {},
   "outputs": [],
   "source": [
    "temp_df = temp_df.stack().map(value_dict).unstack()\n",
    "\n",
    "baskets = []\n",
    "for i in range(temp_df.shape[0]):\n",
    "    basket = np.sort([int(x) for x in temp_df.iloc[i].values.tolist() if str(x) != 'nan'])\n",
    "    baskets.append(basket)"
   ]
  },
  {
   "cell_type": "markdown",
   "metadata": {},
   "source": [
    "Let's display the contents of the dataset. It should list 9835 baskets with its contents."
   ]
  },
  {
   "cell_type": "code",
   "execution_count": 18,
   "metadata": {
    "tags": [
     "outputPrepend"
    ]
   },
   "outputs": [
    {
     "output_type": "stream",
     "name": "stdout",
     "text": [
      " [  0   4   5  11  38  39  46  47 107]\n",
      "Basket 9139 [ 5 29 42 60]\n",
      "Basket 9140 [ 11  17  31  50  72 100 126]\n",
      "Basket 9141 [19 31]\n",
      "Basket 9142 [ 52 126 129]\n",
      "Basket 9143 [17 35 39 57 58]\n",
      "Basket 9144 [ 13  17  31  32  54  60 121]\n",
      "Basket 9145 [ 7  8 11 25 27 33 53 78]\n",
      "Basket 9146 [ 7 11 19 29]\n",
      "Basket 9147 [  4   7  30  41  45  77 123]\n",
      "Basket 9148 [24 57]\n",
      "Basket 9149 [49]\n",
      "Basket 9150 [8]\n",
      "Basket 9151 [8]\n",
      "Basket 9152 [35 50 54 57 60 62 65 74 80 83]\n",
      "Basket 9153 [  7  24  54  78  92 132]\n",
      "Basket 9154 [ 13  50  62  72  94 158]\n",
      "Basket 9155 [19 29 33 63]\n",
      "Basket 9156 [ 7 11 31 52]\n",
      "Basket 9157 [39]\n",
      "Basket 9158 [32]\n",
      "Basket 9159 [ 19  24  78  85  93 115]\n",
      "Basket 9160 [  0   2   9  29 135]\n",
      "Basket 9161 [  5  14  17  31  35  46  97 160 161]\n",
      "Basket 9162 [42 60 65 93]\n",
      "Basket 9163 [ 11  29  35  40  60  74  89 115]\n",
      "Basket 9164 [ 34  52  60 115 127]\n",
      "Basket 9165 [ 14  24  41 136]\n",
      "Basket 9166 [17 23 33 42 92]\n",
      "Basket 9167 [ 4  5 11 19 34 35]\n",
      "Basket 9168 [ 7 11 21 46 54 57 65 92]\n",
      "Basket 9169 [  5  14  19  23  24  29  42  51  56  58  59  67  93 129]\n",
      "Basket 9170 [ 0 11 17 29 33 34 42]\n",
      "Basket 9171 [31 39 45 49 52 62 75 77 80 87]\n",
      "Basket 9172 [  0   7  17  29  30  36  42  52  59  60  78  87 103 123 126]\n",
      "Basket 9173 [ 0  7  8 11 14 24 29 35 42 46 52 58 77 92]\n",
      "Basket 9174 [  7   9  25  35  51 123]\n",
      "Basket 9175 [ 0  5  7  8 11 23 31 32 42 50 52 60 65]\n",
      "Basket 9176 [ 7 13 42]\n",
      "Basket 9177 [43 45 50 70]\n",
      "Basket 9178 [49]\n",
      "Basket 9179 [ 0  4  7 11 18 24 34 59 62]\n",
      "Basket 9180 [ 2  5 11 17 25 30 33 39 46 76]\n",
      "Basket 9181 [11 40 50 51 60]\n",
      "Basket 9182 [ 6  7  9 11 19 24 42 58]\n",
      "Basket 9183 [ 7 11 17 38 42 50 78 81 92 97]\n",
      "Basket 9184 [ 0 39 60]\n",
      "Basket 9185 [ 5  6  7 14 60 65]\n",
      "Basket 9186 [ 4  5  7  8 11 18 42 46 63 72 91]\n",
      "Basket 9187 [11 19 49]\n",
      "Basket 9188 [17]\n",
      "Basket 9189 [11 18 19 26 33 57 60]\n",
      "Basket 9190 [45 49 50]\n",
      "Basket 9191 [ 11  17  35  42  78 108 115 117]\n",
      "Basket 9192 [39]\n",
      "Basket 9193 [24]\n",
      "Basket 9194 [ 2  3  7  9 11 24 31 33 35 39 45 52 63 68 97]\n",
      "Basket 9195 [ 4  5  8 67 91]\n",
      "Basket 9196 [  2   5  13  19  30  31  37  39  45  47  77  79  83 117 146]\n",
      "Basket 9197 [ 2 39 74]\n",
      "Basket 9198 [ 0 65]\n",
      "Basket 9199 [  6   7   8  11  15  17  32  33  38  58  78  96 123]\n",
      "Basket 9200 [ 6 24 31 33 34 52 77]\n",
      "Basket 9201 [ 2  5  7 35 63]\n",
      "Basket 9202 [31 85]\n",
      "Basket 9203 [49]\n",
      "Basket 9204 [ 35 139]\n",
      "Basket 9205 [  4   5   7  11  14  65 100 105]\n",
      "Basket 9206 [ 5  7 11 22 24 97]\n",
      "Basket 9207 [11 31 64 75]\n",
      "Basket 9208 [ 24  31  33  34  45 108]\n",
      "Basket 9209 [13 32 42]\n",
      "Basket 9210 [ 6 32]\n",
      "Basket 9211 [  2   5   7   9  11  32  41  42  52  61  74  97 123 139]\n",
      "Basket 9212 [17 19]\n",
      "Basket 9213 [  2   7  11  14  17  23  42  60  87 105 114]\n",
      "Basket 9214 [35]\n",
      "Basket 9215 [ 11  13  17  26  60  70 105]\n",
      "Basket 9216 [11 17 19 50 74 82]\n",
      "Basket 9217 [ 25  46  72 112]\n",
      "Basket 9218 [52 80]\n",
      "Basket 9219 [35]\n",
      "Basket 9220 [ 11  14  50  60  74  87  94 139 156]\n",
      "Basket 9221 [17 35]\n",
      "Basket 9222 [ 7 31]\n",
      "Basket 9223 [ 17  31  34  50  52 102 123]\n",
      "Basket 9224 [24 31 77]\n",
      "Basket 9225 [ 2 11 17 31 32 47 67]\n",
      "Basket 9226 [52]\n",
      "Basket 9227 [19 24]\n",
      "Basket 9228 [42 88]\n",
      "Basket 9229 [ 11  32  35  50  51  52  58  97 123]\n",
      "Basket 9230 [32 35]\n",
      "Basket 9231 [  0   4   5  11  13  34  42  58  70 117 120]\n",
      "Basket 9232 [  4   6  12  18  19  24  31  33  34  38  51  52 126 142]\n",
      "Basket 9233 [17]\n",
      "Basket 9234 [11]\n",
      "Basket 9235 [  1   4   5   8  11  24  25  26  29  46  50  54  58  59  63  66  67  70\n",
      "  80  91  97 142]\n",
      "Basket 9236 [46 59 85]\n",
      "Basket 9237 [17 30 49]\n",
      "Basket 9238 [ 5 60]\n",
      "Basket 9239 [19 24 25 28 31 46]\n",
      "Basket 9240 [24]\n",
      "Basket 9241 [59]\n",
      "Basket 9242 [25 37 39 47 80]\n",
      "Basket 9243 [ 0  4  8 17 42]\n",
      "Basket 9244 [  5   7  11  14  15  32  39  41  42  65  67  79 112 126]\n",
      "Basket 9245 [ 5  7 11 17 31 32 50 52 56 57]\n",
      "Basket 9246 [34]\n",
      "Basket 9247 [53]\n",
      "Basket 9248 [ 2 18 39]\n",
      "Basket 9249 [  4   5   7  11  21  26  40  62  71 115]\n",
      "Basket 9250 [57 82 94]\n",
      "Basket 9251 [ 7  9 11 17 24 35 51 90]\n",
      "Basket 9252 [ 5 11]\n",
      "Basket 9253 [ 50  85 145]\n",
      "Basket 9254 [ 17 143]\n",
      "Basket 9255 [ 38  68 138]\n",
      "Basket 9256 [8]\n",
      "Basket 9257 [ 17  37  73 107]\n",
      "Basket 9258 [  7  30  39 128]\n",
      "Basket 9259 [11 30 42 68]\n",
      "Basket 9260 [ 7 31 64]\n",
      "Basket 9261 [ 7 30]\n",
      "Basket 9262 [17 31 63]\n",
      "Basket 9263 [ 7 11]\n",
      "Basket 9264 [56 74]\n",
      "Basket 9265 [82]\n",
      "Basket 9266 [17]\n",
      "Basket 9267 [ 4 26]\n",
      "Basket 9268 [42]\n",
      "Basket 9269 [5]\n",
      "Basket 9270 [17 50]\n",
      "Basket 9271 [ 6  7  9 22 26 46 69]\n",
      "Basket 9272 [ 5  8 11 17 42 70 72]\n",
      "Basket 9273 [ 2 17 65]\n",
      "Basket 9274 [ 4 11 31]\n",
      "Basket 9275 [ 9 38 42 66]\n",
      "Basket 9276 [  4   8  11  17  24  27  32  35  36  65  98 115]\n",
      "Basket 9277 [ 7 11 13 29 58 73 85]\n",
      "Basket 9278 [ 6 31 34 46 80]\n",
      "Basket 9279 [46]\n",
      "Basket 9280 [14]\n",
      "Basket 9281 [ 6 50 52]\n",
      "Basket 9282 [11 33 63]\n",
      "Basket 9283 [126]\n",
      "Basket 9284 [ 42  45  85 109 143]\n",
      "Basket 9285 [  0   7  34  38  40  42  57  78 125]\n",
      "Basket 9286 [ 7 39 42 44 54]\n",
      "Basket 9287 [50]\n",
      "Basket 9288 [ 11  17  34 165]\n",
      "Basket 9289 [ 0  8 24 77]\n",
      "Basket 9290 [25 45 50 51]\n",
      "Basket 9291 [ 11  17  31  35  94 134]\n",
      "Basket 9292 [12 14 70]\n",
      "Basket 9293 [ 4 17 24]\n",
      "Basket 9294 [57 86]\n",
      "Basket 9295 [ 5  7 25]\n",
      "Basket 9296 [51]\n",
      "Basket 9297 [34 35 50 64 65]\n",
      "Basket 9298 [39 54]\n",
      "Basket 9299 [ 0  7 27]\n",
      "Basket 9300 [53]\n",
      "Basket 9301 [90]\n",
      "Basket 9302 [11 29 39]\n",
      "Basket 9303 [34 50]\n",
      "Basket 9304 [ 0  5  8 12 13 17 32 35 39 46 50 65 78]\n",
      "Basket 9305 [ 8 11 42 54]\n",
      "Basket 9306 [62]\n",
      "Basket 9307 [ 31 123]\n",
      "Basket 9308 [ 7 11 23 31]\n",
      "Basket 9309 [ 7  9 11 25 42 57 58 74]\n",
      "Basket 9310 [ 4  5 17 47 52]\n",
      "Basket 9311 [ 8 24 78]\n",
      "Basket 9312 [28 51 74]\n",
      "Basket 9313 [46]\n",
      "Basket 9314 [7]\n",
      "Basket 9315 [7]\n",
      "Basket 9316 [42]\n",
      "Basket 9317 [11 17 60]\n",
      "Basket 9318 [ 4  5 11 29 58 78]\n",
      "Basket 9319 [130]\n",
      "Basket 9320 [24]\n",
      "Basket 9321 [ 5 18 95]\n",
      "Basket 9322 [18 31]\n",
      "Basket 9323 [49]\n",
      "Basket 9324 [19 24 31 67]\n",
      "Basket 9325 [ 0  7 39]\n",
      "Basket 9326 [18 24]\n",
      "Basket 9327 [ 7 65 85]\n",
      "Basket 9328 [  4   6   7   8  11  29  31  32  39  42  49  65  73  91 122]\n",
      "Basket 9329 [ 0 19 94]\n",
      "Basket 9330 [  7  58 109]\n",
      "Basket 9331 [ 7 11 39 45 50 51 52 68 77 90]\n",
      "Basket 9332 [ 0  4  8 17 31 49]\n",
      "Basket 9333 [ 11  29  98 104]\n",
      "Basket 9334 [ 5 11 59 60]\n",
      "Basket 9335 [53]\n",
      "Basket 9336 [52]\n",
      "Basket 9337 [ 7 23 32]\n",
      "Basket 9338 [28 57]\n",
      "Basket 9339 [  6 121]\n",
      "Basket 9340 [ 5 17 18 19 31 42 60 65 73]\n",
      "Basket 9341 [ 2  5  7 11 17 31 35 39 61 72 86]\n",
      "Basket 9342 [49]\n",
      "Basket 9343 [ 19  85  95 127]\n",
      "Basket 9344 [19 85 95]\n",
      "Basket 9345 [  2   5  31  54  91 134]\n",
      "Basket 9346 [ 7  8 11 13 14 30 31 39]\n",
      "Basket 9347 [  2  11  14  42  68  73 125]\n",
      "Basket 9348 [31]\n",
      "Basket 9349 [ 28 136]\n",
      "Basket 9350 [ 5 31]\n",
      "Basket 9351 [31]\n",
      "Basket 9352 [35]\n",
      "Basket 9353 [ 7 31 37 39]\n",
      "Basket 9354 [ 0  4  5  7 11 29 30 34 60 92]\n",
      "Basket 9355 [  5  30  45  97 140]\n",
      "Basket 9356 [49]\n",
      "Basket 9357 [88]\n",
      "Basket 9358 [17 19 31 45 50 57 63 65 82]\n",
      "Basket 9359 [41 87]\n",
      "Basket 9360 [ 14  24  28  37  52 129]\n",
      "Basket 9361 [ 19  75 129]\n",
      "Basket 9362 [ 7 26 57 70]\n",
      "Basket 9363 [56]\n",
      "Basket 9364 [ 4 26 35]\n",
      "Basket 9365 [ 4 11 14 65 68]\n",
      "Basket 9366 [ 11 123]\n",
      "Basket 9367 [ 8 32 55 94]\n",
      "Basket 9368 [130]\n",
      "Basket 9369 [25 53]\n",
      "Basket 9370 [  7  11  17  50  52 109 131]\n",
      "Basket 9371 [5]\n",
      "Basket 9372 [ 7 35]\n",
      "Basket 9373 [74]\n",
      "Basket 9374 [ 0  5  7  9 14 50 51 54 58 60 68 70 90 97]\n",
      "Basket 9375 [ 6 19]\n",
      "Basket 9376 [  7  26  90 143]\n",
      "Basket 9377 [  1  45  50  57 108 117]\n",
      "Basket 9378 [  7  17  30  50  74 114 147]\n",
      "Basket 9379 [60]\n",
      "Basket 9380 [78]\n",
      "Basket 9381 [60]\n",
      "Basket 9382 [ 30 149]\n",
      "Basket 9383 [ 7 14 24 45 65]\n",
      "Basket 9384 [ 5 78]\n",
      "Basket 9385 [57]\n",
      "Basket 9386 [ 2  5 31 42 63 93]\n",
      "Basket 9387 [24]\n",
      "Basket 9388 [11 18]\n",
      "Basket 9389 [24]\n",
      "Basket 9390 [ 7  8 27 36 42 65 89]\n",
      "Basket 9391 [57]\n",
      "Basket 9392 [ 4 17 42]\n",
      "Basket 9393 [ 5 13 31 57 77 85]\n",
      "Basket 9394 [18 31 50 63 94]\n",
      "Basket 9395 [  5  18  31  39  52  78 128]\n",
      "Basket 9396 [9]\n",
      "Basket 9397 [8]\n",
      "Basket 9398 [ 7  8 12 34 47 67 79]\n",
      "Basket 9399 [ 1 51 54]\n",
      "Basket 9400 [33]\n",
      "Basket 9401 [ 9 11 31 49 50 85 94]\n",
      "Basket 9402 [ 4  7  8 11 12 23 26 34 50 63 70]\n",
      "Basket 9403 [24 49 50 52 56]\n",
      "Basket 9404 [6]\n",
      "Basket 9405 [ 8 14 17 24 53 77 97]\n",
      "Basket 9406 [ 7 31]\n",
      "Basket 9407 [ 6  7 92]\n",
      "Basket 9408 [ 1  7 70]\n",
      "Basket 9409 [31]\n",
      "Basket 9410 [42]\n",
      "Basket 9411 [ 5  6  7 11 31 52 63 70 74 79 98]\n",
      "Basket 9412 [11 50 70]\n",
      "Basket 9413 [1]\n",
      "Basket 9414 [ 7 11 31 37]\n",
      "Basket 9415 [  9  23  34 104]\n",
      "Basket 9416 [  5  13  31  35  46  57  63  67  78  94 107 116 119 157]\n",
      "Basket 9417 [7]\n",
      "Basket 9418 [12 30 45 47 60 78]\n",
      "Basket 9419 [20]\n",
      "Basket 9420 [26 85]\n",
      "Basket 9421 [ 5 26]\n",
      "Basket 9422 [ 5 11 34 38]\n",
      "Basket 9423 [11 45 58 87 92]\n",
      "Basket 9424 [90]\n",
      "Basket 9425 [31 34 75]\n",
      "Basket 9426 [ 7 50 67 68]\n",
      "Basket 9427 [11 31 37]\n",
      "Basket 9428 [ 5  7  8 11 17 42]\n",
      "Basket 9429 [ 4  7  9 14 34 65 76]\n",
      "Basket 9430 [49]\n",
      "Basket 9431 [ 7 42 93]\n",
      "Basket 9432 [13 50 94]\n",
      "Basket 9433 [24 31 34]\n",
      "Basket 9434 [  0   4   6   8  11  35  51  52  59  60  64 105 131 158]\n",
      "Basket 9435 [7]\n",
      "Basket 9436 [ 2 37 39 47]\n",
      "Basket 9437 [ 2  5  7  8  9 60]\n",
      "Basket 9438 [58]\n",
      "Basket 9439 [  0   7  31  39  42  56  69 109]\n",
      "Basket 9440 [26 31]\n",
      "Basket 9441 [18 31 49]\n",
      "Basket 9442 [ 17  24 129]\n",
      "Basket 9443 [ 7 51]\n",
      "Basket 9444 [ 37  38  42 112]\n",
      "Basket 9445 [ 13  23  31  34  39  46  52 139]\n",
      "Basket 9446 [  7  35  40  68 153]\n",
      "Basket 9447 [ 7  9 35]\n",
      "Basket 9448 [ 31  52 129]\n",
      "Basket 9449 [52 56]\n",
      "Basket 9450 [ 11  24  25 112]\n",
      "Basket 9451 [ 0  5  7 31 35 39 51 52 62 63]\n",
      "Basket 9452 [11 14 17 42 50 65]\n",
      "Basket 9453 [19]\n",
      "Basket 9454 [11 26 58]\n",
      "Basket 9455 [11 85 90]\n",
      "Basket 9456 [19 24 31 42 57 59 66 68]\n",
      "Basket 9457 [  0   7  25  37  39  52  56  57  62  79 103]\n",
      "Basket 9458 [  0   4  11  50  52 161]\n",
      "Basket 9459 [ 0  9 11 25 37 45 46 57]\n",
      "Basket 9460 [ 6 11 42 78 91]\n",
      "Basket 9461 [19]\n",
      "Basket 9462 [6]\n",
      "Basket 9463 [  0   7  11  14 107]\n",
      "Basket 9464 [ 4 67]\n",
      "Basket 9465 [  1  30  49  52  75  88 140]\n",
      "Basket 9466 [94]\n",
      "Basket 9467 [ 7 11 51 57]\n",
      "Basket 9468 [88]\n",
      "Basket 9469 [ 8 24 30 50 68 80]\n",
      "Basket 9470 [60 79]\n",
      "Basket 9471 [45]\n",
      "Basket 9472 [  7  39  41  52  74 108 110]\n",
      "Basket 9473 [11 50 51 52 79 89]\n",
      "Basket 9474 [  5  31  63 105]\n",
      "Basket 9475 [ 0  4  8 11 25 42 47 52]\n",
      "Basket 9476 [  8  24  31  34  52  53 100]\n",
      "Basket 9477 [ 5 34 52 61]\n",
      "Basket 9478 [14 19 31 34]\n",
      "Basket 9479 [ 4 24 26 57]\n",
      "Basket 9480 [  7  11  24  42  56  57  67  78  90  92 127 138 151]\n",
      "Basket 9481 [  7  17 123]\n",
      "Basket 9482 [45]\n",
      "Basket 9483 [29]\n",
      "Basket 9484 [  7 101]\n",
      "Basket 9485 [ 7 23 31 37 42 46 56]\n",
      "Basket 9486 [7]\n",
      "Basket 9487 [ 6 24 76]\n",
      "Basket 9488 [ 1 33 39]\n",
      "Basket 9489 [46]\n",
      "Basket 9490 [  0  23  39  50 153]\n",
      "Basket 9491 [ 7 50]\n",
      "Basket 9492 [31]\n",
      "Basket 9493 [ 0 50]\n",
      "Basket 9494 [ 8 46 49]\n",
      "Basket 9495 [ 0 39]\n",
      "Basket 9496 [51]\n",
      "Basket 9497 [19 31]\n",
      "Basket 9498 [ 2 17]\n",
      "Basket 9499 [ 0  4  8 11 40 53 92]\n",
      "Basket 9500 [ 2 14 33 89]\n",
      "Basket 9501 [7 9]\n",
      "Basket 9502 [19 34]\n",
      "Basket 9503 [87]\n",
      "Basket 9504 [25]\n",
      "Basket 9505 [163]\n",
      "Basket 9506 [29]\n",
      "Basket 9507 [42 77]\n",
      "Basket 9508 [ 7 17]\n",
      "Basket 9509 [  5  11  14  19  23  24  25  31  32  34  36  46  47  49  50  53  65  68\n",
      "  78  88  92 107 119]\n",
      "Basket 9510 [  7  17  19  57 161]\n",
      "Basket 9511 [14 38 65]\n",
      "Basket 9512 [ 0 11 51]\n",
      "Basket 9513 [  0   4  13  23  24  26  47  59  60  76 121 123]\n",
      "Basket 9514 [28 49 50 54]\n",
      "Basket 9515 [18 34 51 52 90]\n",
      "Basket 9516 [ 1  4 17 19 46 78]\n",
      "Basket 9517 [24]\n",
      "Basket 9518 [45]\n",
      "Basket 9519 [ 2  4  8 11 30 31 64 65 70 78]\n",
      "Basket 9520 [ 4  5 51 56 59]\n",
      "Basket 9521 [ 4  8 11 67]\n",
      "Basket 9522 [ 7 31 39 50 63]\n",
      "Basket 9523 [ 1  8 11 30 31 33 37 39 43 45 47 58 68 80 85 90]\n",
      "Basket 9524 [ 4  5 13 49 50]\n",
      "Basket 9525 [17 19]\n",
      "Basket 9526 [  4   7  11  26  35  52  54  77  93 104]\n",
      "Basket 9527 [123]\n",
      "Basket 9528 [ 7  9 34 39 54 67 94]\n",
      "Basket 9529 [17 70]\n",
      "Basket 9530 [ 2  5 29]\n",
      "Basket 9531 [123]\n",
      "Basket 9532 [ 4 17 19 34 57 89]\n",
      "Basket 9533 [  6   7  12  52  57  77 147]\n",
      "Basket 9534 [ 17  25  30  90 153]\n",
      "Basket 9535 [24 31 57]\n",
      "Basket 9536 [  0   8  59 126]\n",
      "Basket 9537 [11 74]\n",
      "Basket 9538 [ 31  52  63 109]\n",
      "Basket 9539 [  6  74 150]\n",
      "Basket 9540 [24]\n",
      "Basket 9541 [11 14 25 42]\n",
      "Basket 9542 [32]\n",
      "Basket 9543 [ 7 44 46 60 75]\n",
      "Basket 9544 [78]\n",
      "Basket 9545 [ 4  5  6 17 24 35 39]\n",
      "Basket 9546 [ 7 23 42 65 90 94]\n",
      "Basket 9547 [58]\n",
      "Basket 9548 [ 9 17 34]\n",
      "Basket 9549 [64]\n",
      "Basket 9550 [32]\n",
      "Basket 9551 [24]\n",
      "Basket 9552 [24 26 27 58 60 63]\n",
      "Basket 9553 [ 4  5 50 51 77 90]\n",
      "Basket 9554 [6 7]\n",
      "Basket 9555 [  5  34  85 153]\n",
      "Basket 9556 [19 24 50 65 78]\n",
      "Basket 9557 [95]\n",
      "Basket 9558 [ 2 31 32 90]\n",
      "Basket 9559 [ 17  23  34  35  66 130]\n",
      "Basket 9560 [ 4 78]\n",
      "Basket 9561 [49]\n",
      "Basket 9562 [ 7 15 32 42 74]\n",
      "Basket 9563 [  5 135]\n",
      "Basket 9564 [ 0  5  7 13 19 51 66 87 94]\n",
      "Basket 9565 [46 47]\n",
      "Basket 9566 [ 9 15 32]\n",
      "Basket 9567 [75]\n",
      "Basket 9568 [ 7 19 24]\n",
      "Basket 9569 [19]\n",
      "Basket 9570 [17 51]\n",
      "Basket 9571 [11]\n",
      "Basket 9572 [  1   4   7   9  11  29  30  60  62  92 135]\n",
      "Basket 9573 [  7  32  34  38  42  51 113]\n",
      "Basket 9574 [  2   8   9  23  24  31  42  46  50  51  52  79  89 112]\n",
      "Basket 9575 [ 11  17  50  52  54  98 104]\n",
      "Basket 9576 [17]\n",
      "Basket 9577 [ 6  7 17 35 42 66]\n",
      "Basket 9578 [ 7 33 51]\n",
      "Basket 9579 [ 7 17]\n",
      "Basket 9580 [ 2 50 52]\n",
      "Basket 9581 [5 7]\n",
      "Basket 9582 [8]\n",
      "Basket 9583 [31 37 75]\n",
      "Basket 9584 [ 18  29  31  42  50  70 130]\n",
      "Basket 9585 [30 35 57 79]\n",
      "Basket 9586 [24 56 69]\n",
      "Basket 9587 [  4   7  11  23  30  34  40  52  70 128 152]\n",
      "Basket 9588 [42 58]\n",
      "Basket 9589 [ 2 40 42 58 81]\n",
      "Basket 9590 [49 52]\n",
      "Basket 9591 [ 24  62 105]\n",
      "Basket 9592 [58]\n",
      "Basket 9593 [  0   4   7  11  26  27  29  42  54  60  92 160]\n",
      "Basket 9594 [  6   7  11  26  29  34  60  62  74  75  77  78  85  93 119 147]\n",
      "Basket 9595 [  7   9  31  50  80 109 123]\n",
      "Basket 9596 [12 18 30 58]\n",
      "Basket 9597 [ 4 92 94]\n",
      "Basket 9598 [30 93]\n",
      "Basket 9599 [39]\n",
      "Basket 9600 [7]\n",
      "Basket 9601 [23 52 67 70 91 97]\n",
      "Basket 9602 [17]\n",
      "Basket 9603 [113]\n",
      "Basket 9604 [ 8 11 23 31 34 38 39 58]\n",
      "Basket 9605 [31 35 74]\n",
      "Basket 9606 [ 45  92 113]\n",
      "Basket 9607 [  0   7  17  19  24  30  33  58  60  74 131]\n",
      "Basket 9608 [  0   5  11  21  32  92 130]\n",
      "Basket 9609 [47 49 90]\n",
      "Basket 9610 [26 69]\n",
      "Basket 9611 [ 7 17 26 39 42 57 98]\n",
      "Basket 9612 [53]\n",
      "Basket 9613 [  7  78 112]\n",
      "Basket 9614 [ 3  7 17 25 39 46 52 58 90]\n",
      "Basket 9615 [52 90]\n",
      "Basket 9616 [  5   7  11  29  35  51 129]\n",
      "Basket 9617 [6]\n",
      "Basket 9618 [  5   7  17  58  73 161 164]\n",
      "Basket 9619 [ 56 151]\n",
      "Basket 9620 [25]\n",
      "Basket 9621 [31]\n",
      "Basket 9622 [ 7 17 25 31 32 33 42 46 57 58 60 70 76 85]\n",
      "Basket 9623 [25 75]\n",
      "Basket 9624 [  9  11  13  14  17  39  40  47  65 113]\n",
      "Basket 9625 [31]\n",
      "Basket 9626 [ 5 17 30]\n",
      "Basket 9627 [ 7 11 26]\n",
      "Basket 9628 [  2  14  39  50 135]\n",
      "Basket 9629 [31 39]\n",
      "Basket 9630 [37 56]\n",
      "Basket 9631 [31 38 43 52]\n",
      "Basket 9632 [4 5 8]\n",
      "Basket 9633 [ 19 130]\n",
      "Basket 9634 [ 8 31 32]\n",
      "Basket 9635 [  5  11  15  25  31  60  78  87 100]\n",
      "Basket 9636 [ 5 11 36 53 60]\n",
      "Basket 9637 [  7  34  52  67  75 138]\n",
      "Basket 9638 [7]\n",
      "Basket 9639 [ 4  7 26 34 46 63 69 98]\n",
      "Basket 9640 [50]\n",
      "Basket 9641 [ 8 17 32 33 50 66]\n",
      "Basket 9642 [17 49 56]\n",
      "Basket 9643 [ 6 18]\n",
      "Basket 9644 [7]\n",
      "Basket 9645 [ 0  7 25 34 94]\n",
      "Basket 9646 [52 94]\n",
      "Basket 9647 [26]\n",
      "Basket 9648 [ 19 129 132]\n",
      "Basket 9649 [42 52 92]\n",
      "Basket 9650 [ 5  6 24 52 90]\n",
      "Basket 9651 [64]\n",
      "Basket 9652 [11 70]\n",
      "Basket 9653 [  0   5   7  11  18  23  24  35  89 104 146]\n",
      "Basket 9654 [ 7 39]\n",
      "Basket 9655 [154]\n",
      "Basket 9656 [  4   7   9  11  17  24  28  29  82 125]\n",
      "Basket 9657 [ 1 80]\n",
      "Basket 9658 [  4   7  10  30  34  51  52  72 125]\n",
      "Basket 9659 [17 19]\n",
      "Basket 9660 [  6   7  11  14  17  24  30  50  54 123]\n",
      "Basket 9661 [ 11  17  35  42  54 130 139]\n",
      "Basket 9662 [ 11  31  51  52  65 129]\n",
      "Basket 9663 [12 43]\n",
      "Basket 9664 [7]\n",
      "Basket 9665 [11]\n",
      "Basket 9666 [38 96]\n",
      "Basket 9667 [19]\n",
      "Basket 9668 [ 5  7 29 39]\n",
      "Basket 9669 [ 26  51  52 103]\n",
      "Basket 9670 [19]\n",
      "Basket 9671 [39]\n",
      "Basket 9672 [94]\n",
      "Basket 9673 [ 7 11 26 37 41 46 57]\n",
      "Basket 9674 [ 7 13 14 17 26 40 51 67]\n",
      "Basket 9675 [  4   7  25  38  39  51  63  70  74 109]\n",
      "Basket 9676 [  4  39  46  63 119 161]\n",
      "Basket 9677 [ 5  7  8 26 38 50 70 97]\n",
      "Basket 9678 [11 65]\n",
      "Basket 9679 [ 50  68  70 134]\n",
      "Basket 9680 [  6  27  31  47  51  56  65  69  74 147]\n",
      "Basket 9681 [11]\n",
      "Basket 9682 [ 27  31  33  39  42  50  63 109]\n",
      "Basket 9683 [ 4  5  6 14 31 34 37 59 92]\n",
      "Basket 9684 [46 52]\n",
      "Basket 9685 [ 39 126]\n",
      "Basket 9686 [19 40 58]\n",
      "Basket 9687 [41 46]\n",
      "Basket 9688 [ 6  8 11]\n",
      "Basket 9689 [17]\n",
      "Basket 9690 [ 5 39 65]\n",
      "Basket 9691 [  5   6  18  24  30  39  61  69 128 135]\n",
      "Basket 9692 [109 156]\n",
      "Basket 9693 [ 5 17 75]\n",
      "Basket 9694 [138]\n",
      "Basket 9695 [59]\n",
      "Basket 9696 [ 9 46 63]\n",
      "Basket 9697 [ 7 52 77]\n",
      "Basket 9698 [7]\n",
      "Basket 9699 [ 51 135]\n",
      "Basket 9700 [ 0  7 50]\n",
      "Basket 9701 [  7  10  35  36  51  65  87  92  97 150]\n",
      "Basket 9702 [56]\n",
      "Basket 9703 [7]\n",
      "Basket 9704 [11 17]\n",
      "Basket 9705 [ 4 19 85 91]\n",
      "Basket 9706 [45]\n",
      "Basket 9707 [2 7]\n",
      "Basket 9708 [ 5  6 51]\n",
      "Basket 9709 [ 5  6 58]\n",
      "Basket 9710 [19 24]\n",
      "Basket 9711 [7]\n",
      "Basket 9712 [45]\n",
      "Basket 9713 [19 80]\n",
      "Basket 9714 [  5   7  14  25  26  34  38  39  51  52  63  70 105]\n",
      "Basket 9715 [31 39 45 77]\n",
      "Basket 9716 [47 76]\n",
      "Basket 9717 [ 5  8 11 37 39 46 90]\n",
      "Basket 9718 [  7  24  75 132]\n",
      "Basket 9719 [5]\n",
      "Basket 9720 [5]\n",
      "Basket 9721 [56 57]\n",
      "Basket 9722 [ 6 18 47 49 85]\n",
      "Basket 9723 [11 42 57 87 93]\n",
      "Basket 9724 [25]\n",
      "Basket 9725 [ 5  7 11 34 42 50 51 53]\n",
      "Basket 9726 [ 4  7 14 24 56 57]\n",
      "Basket 9727 [  5  98 113]\n",
      "Basket 9728 [ 4 13 25]\n",
      "Basket 9729 [ 7 11 32 70 78 85]\n",
      "Basket 9730 [ 17  23  39  42  57  74 104]\n",
      "Basket 9731 [35]\n",
      "Basket 9732 [ 2  4  7 52 54 58 91]\n",
      "Basket 9733 [ 6 96]\n",
      "Basket 9734 [  0   7   8  14  24  25  42  60  89 124]\n",
      "Basket 9735 [ 19  20  35 107]\n",
      "Basket 9736 [17 30 34]\n",
      "Basket 9737 [17]\n",
      "Basket 9738 [30 31]\n",
      "Basket 9739 [32]\n",
      "Basket 9740 [  2   5   7   8   9  24  34  97 100 105 132]\n",
      "Basket 9741 [ 0  4 74]\n",
      "Basket 9742 [11 39 42 73]\n",
      "Basket 9743 [11 17 25 31]\n",
      "Basket 9744 [ 0  6  7 11 12 17 19 23 30 34 95]\n",
      "Basket 9745 [ 85 123]\n",
      "Basket 9746 [ 7 51 87]\n",
      "Basket 9747 [17 31 39]\n",
      "Basket 9748 [31 46]\n",
      "Basket 9749 [97]\n",
      "Basket 9750 [25 42 50]\n",
      "Basket 9751 [ 5 13 18 42 60 78 93]\n",
      "Basket 9752 [ 7 17 54 92 98]\n",
      "Basket 9753 [ 2  4  7 17 24 34 60 65 97]\n",
      "Basket 9754 [19]\n",
      "Basket 9755 [17 50 51 65]\n",
      "Basket 9756 [ 6 12 17 35]\n",
      "Basket 9757 [ 7 35 39 53]\n",
      "Basket 9758 [32]\n",
      "Basket 9759 [7]\n",
      "Basket 9760 [ 7 17 25 29 34 35 46 91]\n",
      "Basket 9761 [42]\n",
      "Basket 9762 [ 0 32 99]\n",
      "Basket 9763 [58]\n",
      "Basket 9764 [52 78 90]\n",
      "Basket 9765 [ 7 17 37]\n",
      "Basket 9766 [ 5 11 16 28 39 51 54 69]\n",
      "Basket 9767 [  4   7  11  30  52  56  69  81 105]\n",
      "Basket 9768 [  4   5   8   9  24  35  42  60 107]\n",
      "Basket 9769 [31]\n",
      "Basket 9770 [ 5 39]\n",
      "Basket 9771 [ 9 18 31 46]\n",
      "Basket 9772 [ 6 20 39 52 82]\n",
      "Basket 9773 [ 0  8 11 18 45]\n",
      "Basket 9774 [23]\n",
      "Basket 9775 [41 74]\n",
      "Basket 9776 [11 17 38 42 89]\n",
      "Basket 9777 [ 5  7 29 58 74 97]\n",
      "Basket 9778 [ 4  5  7 17 39 46]\n",
      "Basket 9779 [  4   5  14  17  24  31  35  39  50 138]\n",
      "Basket 9780 [  7  14  17  68 123]\n",
      "Basket 9781 [ 6  7 50 60 97]\n",
      "Basket 9782 [13 26 39 46 57 90]\n",
      "Basket 9783 [ 7 19]\n",
      "Basket 9784 [ 6  7 31 50 70 82]\n",
      "Basket 9785 [24 49 50 66 92]\n",
      "Basket 9786 [52]\n",
      "Basket 9787 [ 6  9 18 24]\n",
      "Basket 9788 [ 7 17 29 30 93]\n",
      "Basket 9789 [31 49]\n",
      "Basket 9790 [  0  16  81 126]\n",
      "Basket 9791 [ 7 11 12 13 14 17 23 26 32 42 45 51 59 72 74]\n",
      "Basket 9792 [  7   8  11  34  42  54  58  60  63  65  68  69  89  92  98 105 147]\n",
      "Basket 9793 [ 2 17 30 38 50]\n",
      "Basket 9794 [ 7  8 39 56 57]\n",
      "Basket 9795 [ 6 32 49 58]\n",
      "Basket 9796 [ 1  5  8 14 17 38 44 46 52 54 70 90 98 99]\n",
      "Basket 9797 [35 39 53]\n",
      "Basket 9798 [ 2 24 33 34 35]\n",
      "Basket 9799 [11 28 57 58 75]\n",
      "Basket 9800 [ 7 11 33 51 56 60 70 74]\n",
      "Basket 9801 [  5  17  26  31  59  60 120]\n",
      "Basket 9802 [  4   5   7  26  31  39  90  97 140]\n",
      "Basket 9803 [  4   7  11  19  31  57  63  97 153]\n",
      "Basket 9804 [35 39]\n",
      "Basket 9805 [ 2 23 25 33 63]\n",
      "Basket 9806 [ 7 24 26]\n",
      "Basket 9807 [77]\n",
      "Basket 9808 [ 2 82 90 97]\n",
      "Basket 9809 [11 29 42 43 65 78]\n",
      "Basket 9810 [ 31  54 104 123]\n",
      "Basket 9811 [ 0  7 11 35 59 90]\n",
      "Basket 9812 [ 4  8 17 24 34 35 39]\n",
      "Basket 9813 [ 7 39 50 97]\n",
      "Basket 9814 [ 5  7 24 90]\n",
      "Basket 9815 [90]\n",
      "Basket 9816 [ 0 42 50]\n",
      "Basket 9817 [  5   7  11  13  24  31  38  50  51  60  63 109]\n",
      "Basket 9818 [35]\n",
      "Basket 9819 [ 5  6  7 17 24 26 35 46 60]\n",
      "Basket 9820 [  0   2   9  27  29  33  45  72  75 117]\n",
      "Basket 9821 [ 7  8 11 17 18 24 31 37 59 62 64 82]\n",
      "Basket 9822 [ 5 13]\n",
      "Basket 9823 [39 58 78]\n",
      "Basket 9824 [13 37 77 85]\n",
      "Basket 9825 [ 0  9 11 13 32 42 54 65 69 81]\n",
      "Basket 9826 [ 0 11 33 52 63 93]\n",
      "Basket 9827 [ 4  7 11 17 30 35 41 57 90]\n",
      "Basket 9828 [14 17 31 34 46 50 73]\n",
      "Basket 9829 [  4  11  28  31  64  65 150]\n",
      "Basket 9830 [ 0  6  7 14 25 27 29 32 42 45 50 54 56 57 60 62 82]\n",
      "Basket 9831 [165]\n",
      "Basket 9832 [  0   5  11  14  17  32  43  65 100 132]\n",
      "Basket 9833 [ 1 19 24 31]\n",
      "Basket 9834 [  4  11  32  52 135]\n"
     ]
    }
   ],
   "source": [
    "for i, basket in enumerate(baskets):\n",
    "    print('Basket', i, basket)"
   ]
  },
  {
   "cell_type": "markdown",
   "metadata": {},
   "source": [
    "As of now, our dataset is represented as a list of list. Instead of using this representation, we will convert our dataset to a matrix represented as a `pandas` `DataFrame`. The `DataFrame` will contain 9835 rows - equivalent to the number of observations in the dataset, and 169 columns - equivalent to the number of distinct items in the dataset. The value in the cell in row `x` and column `y` is 1 if item `y` is in observation (basket) `x`, otherwise, the value in the cell in row `x` and column `y` is 0."
   ]
  },
  {
   "cell_type": "code",
   "execution_count": 19,
   "metadata": {},
   "outputs": [],
   "source": [
    "grocery_df = pd.DataFrame([[0 for _ in range(169)] for _ in range(9835)], columns=values)\n",
    "\n",
    "for i, basket in enumerate(baskets):\n",
    "    grocery_df.iloc[i, basket] = 1"
   ]
  },
  {
   "cell_type": "markdown",
   "metadata": {},
   "source": [
    "Let's check the `DataFrame` representing the dataset here. In row `0`, the `DataFrame` should contain the value `1` in columns `citrus fruit`, `semi-finished bread`, `margarine`, and `ready soups`. All other columns in row `0` should contain the value 0. You may check the other values based on the list-of-list representation that we have displayed earlier."
   ]
  },
  {
   "cell_type": "code",
   "execution_count": 20,
   "metadata": {},
   "outputs": [
    {
     "output_type": "stream",
     "name": "stdout",
     "text": [
      "      citrus fruit  semi-finished bread  margarine  ready soups  \\\n0                1                    1          1            1   \n1                0                    0          0            0   \n2                0                    0          0            0   \n3                0                    0          0            0   \n4                0                    0          0            0   \n...            ...                  ...        ...          ...   \n9830             1                    0          0            0   \n9831             0                    0          0            0   \n9832             1                    0          0            0   \n9833             0                    1          0            0   \n9834             0                    0          0            0   \n\n      tropical fruit  yogurt  coffee  whole milk  pip fruit  cream cheese  \\\n0                  0       0       0           0          0             0   \n1                  1       1       1           0          0             0   \n2                  0       0       0           1          0             0   \n3                  0       1       0           0          1             1   \n4                  0       0       0           1          0             0   \n...              ...     ...     ...         ...        ...           ...   \n9830               0       0       1           1          0             0   \n9831               0       0       0           0          0             0   \n9832               0       1       0           0          0             0   \n9833               0       0       0           0          0             0   \n9834               1       0       0           0          0             0   \n\n      ...  baby food  pudding powder  tidbits  whisky  frozen fruits  bags  \\\n0     ...          0               0        0       0              0     0   \n1     ...          0               0        0       0              0     0   \n2     ...          0               0        0       0              0     0   \n3     ...          0               0        0       0              0     0   \n4     ...          0               0        0       0              0     0   \n...   ...        ...             ...      ...     ...            ...   ...   \n9830  ...          0               0        0       0              0     0   \n9831  ...          0               0        0       0              0     0   \n9832  ...          0               0        0       0              0     0   \n9833  ...          0               0        0       0              0     0   \n9834  ...          0               0        0       0              0     0   \n\n      cooking chocolate  sound storage medium  kitchen utensil  \\\n0                     0                     0                0   \n1                     0                     0                0   \n2                     0                     0                0   \n3                     0                     0                0   \n4                     0                     0                0   \n...                 ...                   ...              ...   \n9830                  0                     0                0   \n9831                  1                     0                0   \n9832                  0                     0                0   \n9833                  0                     0                0   \n9834                  0                     0                0   \n\n      preservation products  \n0                         0  \n1                         0  \n2                         0  \n3                         0  \n4                         0  \n...                     ...  \n9830                      0  \n9831                      0  \n9832                      0  \n9833                      0  \n9834                      0  \n\n[9835 rows x 169 columns]\n"
     ]
    }
   ],
   "source": [
    "print(grocery_df)"
   ]
  },
  {
   "cell_type": "markdown",
   "metadata": {},
   "source": [
    "Instantiate a `RuleMiner` object with `support_t` equal to `85` and `confidence_t` equal to `0.6`. The field `support_t` represents the support threshold, while the field `confidence_t` represents the confidence threshold."
   ]
  },
  {
   "cell_type": "code",
   "execution_count": 21,
   "metadata": {},
   "outputs": [],
   "source": [
    "rule_miner = RuleMiner(85, 0.6)"
   ]
  },
  {
   "cell_type": "markdown",
   "metadata": {},
   "source": [
    "With `support_t` equal to `85`, and `confidence_t` equal to `0.6`, let's get the association rules from this dataset."
   ]
  },
  {
   "cell_type": "code",
   "execution_count": 22,
   "metadata": {},
   "outputs": [
    {
     "output_type": "stream",
     "name": "stdout",
     "text": [
      "[[['yogurt', 'butter'], ['whole milk']]]\n"
     ]
    }
   ],
   "source": [
    "rules = rule_miner.get_association_rules(grocery_df)\n",
    "print(rules)"
   ]
  },
  {
   "cell_type": "markdown",
   "metadata": {},
   "source": [
    "**Question #10:** What is/are the association rules that we derived from the dataset?\n",
    "- {yogurt, butter} -> {whole milk}"
   ]
  },
  {
   "cell_type": "code",
   "execution_count": null,
   "metadata": {},
   "outputs": [],
   "source": []
  }
 ],
 "metadata": {
  "kernelspec": {
   "display_name": "Python 3",
   "language": "python",
   "name": "python3"
  },
  "language_info": {
   "codemirror_mode": {
    "name": "ipython",
    "version": 3
   },
   "file_extension": ".py",
   "mimetype": "text/x-python",
   "name": "python",
   "nbconvert_exporter": "python",
   "pygments_lexer": "ipython3",
   "version": "3.8.5-final"
  }
 },
 "nbformat": 4,
 "nbformat_minor": 4
}