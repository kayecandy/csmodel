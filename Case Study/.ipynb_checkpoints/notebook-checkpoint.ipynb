{
 "cells": [
  {
   "cell_type": "markdown",
   "metadata": {
    "colab_type": "text",
    "id": "view-in-github"
   },
   "source": [
    "<a href=\"https://colab.research.google.com/github/kayecandy/csmodel/blob/master/Case%20Study/notebook.ipynb\" target=\"_parent\"><img src=\"https://colab.research.google.com/assets/colab-badge.svg\" alt=\"Open In Colab\"/></a>"
   ]
  },
  {
   "cell_type": "code",
   "execution_count": 174,
   "metadata": {
    "colab": {},
    "colab_type": "code",
    "id": "z5PMkx9ABhOo",
    "tags": []
   },
   "outputs": [
    {
     "name": "stdout",
     "output_type": "stream",
     "text": [
      "The autoreload extension is already loaded. To reload it, use:\n",
      "  %reload_ext autoreload\n"
     ]
    }
   ],
   "source": [
    "# IMPORTING LIBRARIES\n",
    "import numpy as np\n",
    "import pandas as pd\n",
    "import matplotlib.pyplot as plt\n",
    "\n",
    "%load_ext autoreload\n",
    "%autoreload 2"
   ]
  },
  {
   "cell_type": "markdown",
   "metadata": {
    "colab_type": "text",
    "id": "SS619YAK5bB7"
   },
   "source": [
    "# The Datasets"
   ]
  },
  {
   "cell_type": "markdown",
   "metadata": {
    "colab_type": "text",
    "id": "znAkd-EDhEFs"
   },
   "source": [
    "## World Happiness Report\n",
    "\n",
    "This case study is heavily based on data from this report. The World Happiness Report initiative started at 2012 - the first to rank countries by how their populations feel; inspired by the fact that traditional metrics such as GDP, household income and unemployment rate does not seem to be a sufficient measure for people's happines, and *life ratings* which is apparent in uprising Arab countries where the economy was flourishing with a rise in their GDP's, however the rating for the population's lives trended downward.\n",
    "\n",
    "\n",
    "It now has a total of 8 reports - one for each year until 2020 - and has since then been a primary source of global data on life satisfaction rankings.\n",
    "\n",
    "\n",
    "**Our Sources:**\n",
    "* The primary dataset used in this case study is from this [kaggle post](https://www.kaggle.com/mathurinache/world-happiness-report).\n",
    "\n",
    "* The pdf versions (8 reports from 2012-2020) of the reports and other downloadables can be found [here](https://worldhappiness.report/archive/?utm_source=workplace-newsletter&utm_medium=email&utm_campaign=WorkplaceNewsletter_Test-A_March_031919&utm_content=downloadexitpp-CTA-6)\n",
    "\n",
    "* Useful FAQ's regarding the World Happiness Report is available [here](https://worldhappiness.report/faq/)\n",
    "\n",
    "* An overview of this report can also be found in this [article from Gallup](https://www.gallup.com/analytics/247355/gallup-world-happiness-report.aspx)\n",
    "\n"
   ]
  },
  {
   "cell_type": "markdown",
   "metadata": {
    "colab_type": "text",
    "id": "Nl-c8185HBSm"
   },
   "source": [
    "### In Detail...\n",
    "----\n",
    "\n",
    "The dataset contains 153 **observations** (rows) across 20 **variables** (columns). Each observation represents the summarized ratings/scores per country included in the study; thus, there are 153 total countries.\n",
    "\n",
    "> **_Note:_** _This dataset is derived from several other sources, the Gallup World Poll being it's major source of data, and contains only the already summarized / derived / pre-calculated data per country. Description on data collection method will be elaborated per variable if applicable._\n",
    "\n",
    "For this case study, the 2020 dataset would be used. The following are the variables available in the dataset:\n",
    "\n"
   ]
  },
  {
   "cell_type": "markdown",
   "metadata": {},
   "source": [
    "\n",
    "\n",
    "**Basic information:**\n",
    "\n",
    "\n",
    "\n",
    "* **`Country name`**: \n",
    "\n",
    "    Name of the country\n",
    "\n",
    "* **`Regional indicator`**:\n",
    "\n",
    "    Region where the country belongs to.\n",
    "\n",
    "    _Possible values are:_ `Western Europe`, `North America and ANZ`, `Middle East and North Africa`, `Latin America and Caribbean`, `Central and Eastern Europe`, `East Asia`, `Southeast Asia`, `Commonwealth of Independent States`, `Sub-Saharan Africa`, `South Asia`\n",
    "   \n",
    "\n",
    "* **`Ladder score`**: \n",
    "\n",
    "    Overall happiness score of a country. This is represented by a [Cantril Scale/Ladder](https://news.gallup.com/poll/122453/understanding-gallup-uses-cantril-scale.aspx) which measures the quality of life from `0-10`. A score of `0-3` would categorize a country as _'suffering'_, `4-6` as _'struggling'_, and `7-`10` as _'thriving'_.\n",
    "\n",
    "    Data for this is derived from the national average of the Gallup World Poll question _\"Please imagine a ladder, with steps numbered from 0 at the bottom to 10 at the top. The top of the ladder represents the best possible life for you and the bottom of the ladder represents the worst possible life for you. On which step of the ladder would you say you personally feel you stand at this time?\"_\n",
    "\n",
    "\n",
    "\n",
    "* **`Standard error of ladder score`** \n",
    "\n",
    "    A buffer for standard error with 95% confidence interval\n",
    "\n",
    "\n",
    "* **`upperwhisker`** _(Not used for this case study.)_ \n",
    "\n",
    "    This is for creating a boxplot on the raw data of `ladder score`\n",
    "\n",
    "\n",
    "* **`lowerwhisker`** _(Not used for this case study.)_ \n",
    "\n",
    "    This is for creating a boxplot on the raw data of `ladder score`\n",
    "\n",
    "\n",
    "\n",
    "\n",
    "----"
   ]
  },
  {
   "cell_type": "markdown",
   "metadata": {},
   "source": [
    "\n",
    "**Variables that may affect the happiness score (ladder score):**\n",
    "\n",
    "\n",
    "* **`Logged GDP per capita`**: \n",
    "\n",
    "    This data was derived from the _World Development Indicators (WDI)_ released by the _World Bank_ on November 28, 2019\n",
    "\n",
    "* **`Social support`**: \n",
    "\n",
    "    The national average of binary responses to the following `Gallup World Poll` question _\"If you were in trouble, do you have relatives or friends you can count on to help you whenever you need them, or not?\"_\n",
    "\n",
    "\n",
    "* **`Healthy life expectancy`**: \n",
    "\n",
    "    This is the estimated number of years that the country's population has in a state of 'good health'.\n",
    "    \n",
    "    This data is constructed from the _World Health Organization (WHO) Global Health Observatory_ data repository\n",
    "    \n",
    "* **`Freedom to make life choices`**: \n",
    "\n",
    "    The national average of binary responses to the following `Gallup World Poll` question: _“Are you satisfied or dissatisfied with your freedom to choose what you do with your life?”_\n",
    "\n",
    "\n",
    "* **`Generosity`**\n",
    "\n",
    "    The residual of regressing national average of response to the GWP question “Have you donated money to a charity in the past month?” on GDP per capita\n",
    "\n",
    "\n",
    "\n",
    "* **`Perceptions of corruption`**: \n",
    "\n",
    "    The national average of binary responses to the following `Gallup World Poll` questions:\n",
    "    \n",
    "    * _“Is corruption widespread throughout the government or not?”_\n",
    "\n",
    "    * _“Is corruption widespread within businesses or not?”_\n",
    "\n",
    "\n",
    "\n",
    "> _**Note:**_\n",
    ">\n",
    "> Binary responses consists of either a `yes=1` or a `no=0`_\n",
    "\n",
    "\n",
    "----\n"
   ]
  },
  {
   "cell_type": "markdown",
   "metadata": {},
   "source": [
    "**Dystopia:** \n",
    "\n",
    "_Dystopia_ is a hypothetical country which has all the lowest score for each of the 6 variables that may affect happiness as presented above. This is for the purpose of benchmarking a country's ladder score so that no country would perform worse than this made-up country. \n",
    "\n",
    "\n",
    "\n",
    "* **`Ladder score in Dystopia`**\n",
    "\n",
    "    This is a constant value of 1.97 - the ladder score of the made-up country _Dystopia_\n",
    "\n",
    "\n",
    "* **`Dystopia + Residual`**\n",
    "\n",
    "    This is the sum of the **`Ladder score in Dystopia`** and a variable _'residuals'_ which represents unexplained components that affects ladder score\n",
    "    \n",
    "\n",
    "\n",
    "\n",
    "----"
   ]
  },
  {
   "cell_type": "markdown",
   "metadata": {},
   "source": [
    "**Explained by variables:**\n",
    "\n",
    "These are pre-calculated values to represent the estimated effect of the 6 variables that may affect happiness to a country's ladder score (ie. an estimate of how much of the ladder score is affected by a variable)\n",
    "\n",
    "These are calculated based on how much a country performed better than dystopia per variable multiplied by a normalizing coefficient. The report uses the concept of dystopia for this purpose: that since all countries would perform better than it in all 6 variables, the difference between a country's performance in a variable and the dystopian performance on the same variable would always be a positive number, ensuring that a variable would always contribute a portion to the overall happiness score.\n",
    "\n",
    "\n",
    "\n",
    "\n",
    "\n"
   ]
  },
  {
   "cell_type": "markdown",
   "metadata": {},
   "source": [
    "### Gallup World Poll: The raw data\n",
    "\n",
    "_Gallup World Poll_ is the primary source in which the data in this report was derived from. The latest version (2020) uses data from 2017-2019. It's sample size is typically at least 1000 annually per country\n",
    "\n",
    "\n",
    "\n",
    "Read more on Gallup World Poll Methodology [here](https://news.gallup.com/poll/105226/world-poll-methodology.aspx)"
   ]
  },
  {
   "cell_type": "markdown",
   "metadata": {
    "colab_type": "text",
    "id": "fIi3-uXD1ZTS"
   },
   "source": [
    "**Reading the dataset:**"
   ]
  },
  {
   "cell_type": "code",
   "execution_count": 175,
   "metadata": {
    "colab": {
     "base_uri": "https://localhost:8080/",
     "height": 456
    },
    "colab_type": "code",
    "id": "uAlBmoN4HKmn",
    "outputId": "742ecb78-a59e-4b7f-e5af-be0cecda987f",
    "tags": []
   },
   "outputs": [
    {
     "name": "stdout",
     "output_type": "stream",
     "text": [
      "<class 'pandas.core.frame.DataFrame'>\n",
      "RangeIndex: 153 entries, 0 to 152\n",
      "Data columns (total 20 columns):\n",
      " #   Column                                      Non-Null Count  Dtype  \n",
      "---  ------                                      --------------  -----  \n",
      " 0   Country name                                153 non-null    object \n",
      " 1   Regional indicator                          153 non-null    object \n",
      " 2   Ladder score                                153 non-null    float64\n",
      " 3   Standard error of ladder score              153 non-null    float64\n",
      " 4   upperwhisker                                153 non-null    float64\n",
      " 5   lowerwhisker                                153 non-null    float64\n",
      " 6   Logged GDP per capita                       153 non-null    float64\n",
      " 7   Social support                              153 non-null    float64\n",
      " 8   Healthy life expectancy                     153 non-null    float64\n",
      " 9   Freedom to make life choices                153 non-null    float64\n",
      " 10  Generosity                                  153 non-null    float64\n",
      " 11  Perceptions of corruption                   153 non-null    float64\n",
      " 12  Ladder score in Dystopia                    153 non-null    float64\n",
      " 13  Explained by: Log GDP per capita            153 non-null    float64\n",
      " 14  Explained by: Social support                153 non-null    float64\n",
      " 15  Explained by: Healthy life expectancy       153 non-null    float64\n",
      " 16  Explained by: Freedom to make life choices  153 non-null    float64\n",
      " 17  Explained by: Generosity                    153 non-null    float64\n",
      " 18  Explained by: Perceptions of corruption     153 non-null    float64\n",
      " 19  Dystopia + residual                         153 non-null    float64\n",
      "dtypes: float64(18), object(2)\n",
      "memory usage: 22.8+ KB\n"
     ]
    }
   ],
   "source": [
    "happiness_df = pd.read_csv('./dataset/World Happiness Report/2020.csv')\n",
    "happiness_df.info()"
   ]
  },
  {
   "cell_type": "markdown",
   "metadata": {
    "colab_type": "text",
    "id": "1sYFEfynhQZM"
   },
   "source": [
    "## WHO Suicide Statistics Dataset\n",
    "\n",
    "The case study will also be using data from WHO Suicide Statistics. This dataset has numbers for suicide cases from 1979 to 2016, by country, year, age groups and sex. All of this is contained in one file with a few columns. This dataset will mainly serve to add to suicide numbers to each observation in the World Happiness Report's dataset.\n"
   ]
  },
  {
   "cell_type": "markdown",
   "metadata": {
    "colab_type": "text",
    "id": "yxsGlK8Uxhms"
   },
   "source": [
    "### In Detail\n",
    "\n",
    "The dataset contains 43776 observations (rows) across 6 variables (columns). Each observation represents a number of suicides for one demographic in a country over a year. There are observations for 141 different countries.\n",
    "\n",
    "* **`Country`**: Name of the country\n",
    "* **`Year`**: Year the observation was recorded\n",
    "* **`Sex`**: Sex of the victims\n",
    "* **`Age`**: Age group of victims\n",
    "* **`Number of suicides`**: Number of suicides recorded\n",
    "* **`Population`**: Number of all living people in group"
   ]
  },
  {
   "cell_type": "markdown",
   "metadata": {
    "colab_type": "text",
    "id": "3a7V2T-P1dOS"
   },
   "source": [
    "Reading the dataset:"
   ]
  },
  {
   "cell_type": "code",
   "execution_count": 176,
   "metadata": {
    "colab": {
     "base_uri": "https://localhost:8080/",
     "height": 228
    },
    "colab_type": "code",
    "id": "q5hh0vGV1jiJ",
    "outputId": "b505a640-1de5-4262-d9d3-9a352bfe6830",
    "tags": []
   },
   "outputs": [
    {
     "name": "stdout",
     "output_type": "stream",
     "text": [
      "<class 'pandas.core.frame.DataFrame'>\n",
      "RangeIndex: 43776 entries, 0 to 43775\n",
      "Data columns (total 6 columns):\n",
      " #   Column       Non-Null Count  Dtype  \n",
      "---  ------       --------------  -----  \n",
      " 0   country      43776 non-null  object \n",
      " 1   year         43776 non-null  int64  \n",
      " 2   sex          43776 non-null  object \n",
      " 3   age          43776 non-null  object \n",
      " 4   suicides_no  41520 non-null  float64\n",
      " 5   population   38316 non-null  float64\n",
      "dtypes: float64(2), int64(1), object(3)\n",
      "memory usage: 1.5+ MB\n"
     ]
    }
   ],
   "source": [
    "suicide_df = pd.read_csv('./dataset/WHO Suicide Statistics/who_suicide_statistics.csv')\n",
    "suicide_df.info()"
   ]
  },
  {
   "cell_type": "markdown",
   "metadata": {},
   "source": [
    "# Data Cleaning"
   ]
  },
  {
   "cell_type": "markdown",
   "metadata": {},
   "source": [
    "## World Happiness Report\n",
    "\n",
    "Since this dataset alone contains only the summary from various sources, this has already been pre-cleaned. However, it is still good practice to check the dataset again for any dirty data that the dataset creators may have missed. This reduces the chances of any dirty data getting through to the EDA and analysis parts. "
   ]
  },
  {
   "cell_type": "markdown",
   "metadata": {},
   "source": [
    "### `Nan` values"
   ]
  },
  {
   "cell_type": "markdown",
   "metadata": {},
   "source": [
    "One of the very first things we want to check whenever we clean data is whether or not there are any `Nan` values present in the dataset. Depending on the attribute and the nature of the dataset, we might want to either clean all of the `Nan` values present or leave all of them as is. For this dataset, we will try to clean all of the `Nan` values that may be present since there are no attributes that can have reasonable `Nan` values (no attributes that maybe affected by faulty data gathering tools, uncategorizable attributes, etc.). "
   ]
  },
  {
   "cell_type": "code",
   "execution_count": 177,
   "metadata": {},
   "outputs": [
    {
     "data": {
      "text/plain": [
       "Country name                                  False\n",
       "Regional indicator                            False\n",
       "Ladder score                                  False\n",
       "Standard error of ladder score                False\n",
       "upperwhisker                                  False\n",
       "lowerwhisker                                  False\n",
       "Logged GDP per capita                         False\n",
       "Social support                                False\n",
       "Healthy life expectancy                       False\n",
       "Freedom to make life choices                  False\n",
       "Generosity                                    False\n",
       "Perceptions of corruption                     False\n",
       "Ladder score in Dystopia                      False\n",
       "Explained by: Log GDP per capita              False\n",
       "Explained by: Social support                  False\n",
       "Explained by: Healthy life expectancy         False\n",
       "Explained by: Freedom to make life choices    False\n",
       "Explained by: Generosity                      False\n",
       "Explained by: Perceptions of corruption       False\n",
       "Dystopia + residual                           False\n",
       "dtype: bool"
      ]
     },
     "execution_count": 177,
     "metadata": {},
     "output_type": "execute_result"
    }
   ],
   "source": [
    "happiness_df.isnull().any()"
   ]
  },
  {
   "cell_type": "markdown",
   "metadata": {},
   "source": [
    "### Checking multiple representations of the same data"
   ]
  },
  {
   "cell_type": "markdown",
   "metadata": {},
   "source": [
    "Now that we've confirmed that there are no `Nan` values, we now need to check if there are multiple representations of the same data. The attributes `Country Name` and `Regional Indicator` are the only attributes to have this problem since they are represented as strings."
   ]
  },
  {
   "cell_type": "code",
   "execution_count": 178,
   "metadata": {},
   "outputs": [
    {
     "data": {
      "text/plain": [
       "array(['Finland', 'Denmark', 'Switzerland', 'Iceland', 'Norway',\n",
       "       'Netherlands', 'Sweden', 'New Zealand', 'Austria', 'Luxembourg',\n",
       "       'Canada', 'Australia', 'United Kingdom', 'Israel', 'Costa Rica',\n",
       "       'Ireland', 'Germany', 'United States', 'Czech Republic', 'Belgium',\n",
       "       'United Arab Emirates', 'Malta', 'France', 'Mexico',\n",
       "       'Taiwan Province of China', 'Uruguay', 'Saudi Arabia', 'Spain',\n",
       "       'Guatemala', 'Italy', 'Singapore', 'Brazil', 'Slovenia',\n",
       "       'El Salvador', 'Kosovo', 'Panama', 'Slovakia', 'Uzbekistan',\n",
       "       'Chile', 'Bahrain', 'Lithuania', 'Trinidad and Tobago', 'Poland',\n",
       "       'Colombia', 'Cyprus', 'Nicaragua', 'Romania', 'Kuwait',\n",
       "       'Mauritius', 'Kazakhstan', 'Estonia', 'Philippines', 'Hungary',\n",
       "       'Thailand', 'Argentina', 'Honduras', 'Latvia', 'Ecuador',\n",
       "       'Portugal', 'Jamaica', 'South Korea', 'Japan', 'Peru', 'Serbia',\n",
       "       'Bolivia', 'Pakistan', 'Paraguay', 'Dominican Republic',\n",
       "       'Bosnia and Herzegovina', 'Moldova', 'Tajikistan', 'Montenegro',\n",
       "       'Russia', 'Kyrgyzstan', 'Belarus', 'North Cyprus', 'Greece',\n",
       "       'Hong Kong S.A.R. of China', 'Croatia', 'Libya', 'Mongolia',\n",
       "       'Malaysia', 'Vietnam', 'Indonesia', 'Ivory Coast', 'Benin',\n",
       "       'Maldives', 'Congo (Brazzaville)', 'Azerbaijan', 'Macedonia',\n",
       "       'Ghana', 'Nepal', 'Turkey', 'China', 'Turkmenistan', 'Bulgaria',\n",
       "       'Morocco', 'Cameroon', 'Venezuela', 'Algeria', 'Senegal', 'Guinea',\n",
       "       'Niger', 'Laos', 'Albania', 'Cambodia', 'Bangladesh', 'Gabon',\n",
       "       'South Africa', 'Iraq', 'Lebanon', 'Burkina Faso', 'Gambia',\n",
       "       'Mali', 'Nigeria', 'Armenia', 'Georgia', 'Iran', 'Jordan',\n",
       "       'Mozambique', 'Kenya', 'Namibia', 'Ukraine', 'Liberia',\n",
       "       'Palestinian Territories', 'Uganda', 'Chad', 'Tunisia',\n",
       "       'Mauritania', 'Sri Lanka', 'Congo (Kinshasa)', 'Swaziland',\n",
       "       'Myanmar', 'Comoros', 'Togo', 'Ethiopia', 'Madagascar', 'Egypt',\n",
       "       'Sierra Leone', 'Burundi', 'Zambia', 'Haiti', 'Lesotho', 'India',\n",
       "       'Malawi', 'Yemen', 'Botswana', 'Tanzania',\n",
       "       'Central African Republic', 'Rwanda', 'Zimbabwe', 'South Sudan',\n",
       "       'Afghanistan'], dtype=object)"
      ]
     },
     "execution_count": 178,
     "metadata": {},
     "output_type": "execute_result"
    }
   ],
   "source": [
    "happiness_df['Country name'].unique()"
   ]
  },
  {
   "cell_type": "code",
   "execution_count": 179,
   "metadata": {},
   "outputs": [
    {
     "data": {
      "text/plain": [
       "array(['Western Europe', 'North America and ANZ',\n",
       "       'Middle East and North Africa', 'Latin America and Caribbean',\n",
       "       'Central and Eastern Europe', 'East Asia', 'Southeast Asia',\n",
       "       'Commonwealth of Independent States', 'Sub-Saharan Africa',\n",
       "       'South Asia'], dtype=object)"
      ]
     },
     "execution_count": 179,
     "metadata": {},
     "output_type": "execute_result"
    }
   ],
   "source": [
    "happiness_df['Regional indicator'].unique()"
   ]
  },
  {
   "cell_type": "markdown",
   "metadata": {},
   "source": [
    "There are no instances of duplicity in both attributes. We can now consider this dataset as cleaned and move on to the next dataset that we will be using for this case study."
   ]
  },
  {
   "cell_type": "markdown",
   "metadata": {},
   "source": [
    "## WHO Suicide Statistics"
   ]
  },
  {
   "cell_type": "markdown",
   "metadata": {},
   "source": [
    "### `Nan` values\n",
    "Once again we first check the dataset for the presence of `Nan` values in the dataset."
   ]
  },
  {
   "cell_type": "code",
   "execution_count": 180,
   "metadata": {},
   "outputs": [
    {
     "data": {
      "text/plain": [
       "country        False\n",
       "year           False\n",
       "sex            False\n",
       "age            False\n",
       "suicides_no     True\n",
       "population      True\n",
       "dtype: bool"
      ]
     },
     "execution_count": 180,
     "metadata": {},
     "output_type": "execute_result"
    }
   ],
   "source": [
    "suicide_df.isnull().any()"
   ]
  },
  {
   "cell_type": "markdown",
   "metadata": {},
   "source": [
    "In this case, we will be substituting any `Nan` values with 0."
   ]
  },
  {
   "cell_type": "code",
   "execution_count": 181,
   "metadata": {},
   "outputs": [],
   "source": [
    "suicide_df = suicide_df.fillna(0)"
   ]
  },
  {
   "cell_type": "markdown",
   "metadata": {},
   "source": [
    "### Drop countries with `0` population\n",
    "We will be dropping the countries that we have assigned 0 to in the last section. This way we can drop countries that have `Nan` as their population as well as other countries with actual 0 population.  "
   ]
  },
  {
   "cell_type": "code",
   "execution_count": 182,
   "metadata": {},
   "outputs": [],
   "source": [
    "suicide_df = suicide_df[suicide_df['population'] > 0]"
   ]
  },
  {
   "cell_type": "markdown",
   "metadata": {},
   "source": [
    "### Checking multiple representations of the same data\n",
    "After we've removed all instances of countries with `Nan` or 0 population, we will be checking whether there are any duplicate representations of data present in the dataset. In particular, we will be looking at `country` and `sex` since these are represented as strings in the dataset."
   ]
  },
  {
   "cell_type": "code",
   "execution_count": 183,
   "metadata": {},
   "outputs": [
    {
     "data": {
      "text/plain": [
       "array(['Albania', 'Antigua and Barbuda', 'Argentina', 'Armenia', 'Aruba',\n",
       "       'Australia', 'Austria', 'Azerbaijan', 'Bahamas', 'Bahrain',\n",
       "       'Barbados', 'Belarus', 'Belgium', 'Belize', 'Bermuda',\n",
       "       'Bosnia and Herzegovina', 'Brazil', 'Brunei Darussalam',\n",
       "       'Bulgaria', 'Cabo Verde', 'Canada', 'Cayman Islands', 'Chile',\n",
       "       'Colombia', 'Costa Rica', 'Croatia', 'Cuba', 'Cyprus',\n",
       "       'Czech Republic', 'Denmark', 'Dominica', 'Ecuador', 'Egypt',\n",
       "       'El Salvador', 'Estonia', 'Fiji', 'Finland', 'France',\n",
       "       'French Guiana', 'Georgia', 'Germany', 'Greece', 'Grenada',\n",
       "       'Guadeloupe', 'Guatemala', 'Guyana', 'Hong Kong SAR', 'Hungary',\n",
       "       'Iceland', 'Iran (Islamic Rep of)', 'Ireland', 'Israel', 'Italy',\n",
       "       'Jamaica', 'Japan', 'Kazakhstan', 'Kiribati', 'Kuwait',\n",
       "       'Kyrgyzstan', 'Latvia', 'Lithuania', 'Luxembourg', 'Macau',\n",
       "       'Maldives', 'Malta', 'Martinique', 'Mauritius', 'Mayotte',\n",
       "       'Mexico', 'Mongolia', 'Montenegro', 'Netherlands', 'New Zealand',\n",
       "       'Nicaragua', 'Norway', 'Oman', 'Panama', 'Paraguay', 'Philippines',\n",
       "       'Poland', 'Portugal', 'Puerto Rico', 'Qatar', 'Republic of Korea',\n",
       "       'Republic of Moldova', 'Reunion', 'Rodrigues', 'Romania',\n",
       "       'Russian Federation', 'Saint Kitts and Nevis', 'Saint Lucia',\n",
       "       'Saint Vincent and Grenadines', 'San Marino',\n",
       "       'Sao Tome and Principe', 'Serbia', 'Seychelles', 'Singapore',\n",
       "       'Slovakia', 'Slovenia', 'South Africa', 'Spain', 'Sri Lanka',\n",
       "       'Suriname', 'Sweden', 'Switzerland', 'TFYR Macedonia', 'Thailand',\n",
       "       'Trinidad and Tobago', 'Turkey', 'Turkmenistan', 'Ukraine',\n",
       "       'United Arab Emirates', 'United Kingdom',\n",
       "       'United States of America', 'Uruguay', 'Uzbekistan',\n",
       "       'Venezuela (Bolivarian Republic of)', 'Virgin Islands (USA)'],\n",
       "      dtype=object)"
      ]
     },
     "execution_count": 183,
     "metadata": {},
     "output_type": "execute_result"
    }
   ],
   "source": [
    "suicide_df['country'].unique()"
   ]
  },
  {
   "cell_type": "code",
   "execution_count": 184,
   "metadata": {},
   "outputs": [
    {
     "data": {
      "text/plain": [
       "array(['female', 'male'], dtype=object)"
      ]
     },
     "execution_count": 184,
     "metadata": {},
     "output_type": "execute_result"
    }
   ],
   "source": [
    "suicide_df['sex'].unique()"
   ]
  },
  {
   "cell_type": "markdown",
   "metadata": {},
   "source": [
    "There don't seem to be any duplicity in the dataset. We can now consider this dataset cleaned."
   ]
  },
  {
   "cell_type": "markdown",
   "metadata": {},
   "source": [
    "### Add a `suicide_rate` column for a normalized representation of suicide number per country"
   ]
  },
  {
   "cell_type": "code",
   "execution_count": 185,
   "metadata": {},
   "outputs": [
    {
     "data": {
      "text/html": [
       "<div>\n",
       "<style scoped>\n",
       "    .dataframe tbody tr th:only-of-type {\n",
       "        vertical-align: middle;\n",
       "    }\n",
       "\n",
       "    .dataframe tbody tr th {\n",
       "        vertical-align: top;\n",
       "    }\n",
       "\n",
       "    .dataframe thead th {\n",
       "        text-align: right;\n",
       "    }\n",
       "</style>\n",
       "<table border=\"1\" class=\"dataframe\">\n",
       "  <thead>\n",
       "    <tr style=\"text-align: right;\">\n",
       "      <th></th>\n",
       "      <th>year</th>\n",
       "      <th>suicides_no</th>\n",
       "      <th>population</th>\n",
       "      <th>suicide_rate</th>\n",
       "    </tr>\n",
       "    <tr>\n",
       "      <th>country</th>\n",
       "      <th></th>\n",
       "      <th></th>\n",
       "      <th></th>\n",
       "      <th></th>\n",
       "    </tr>\n",
       "  </thead>\n",
       "  <tbody>\n",
       "    <tr>\n",
       "      <th>Lithuania</th>\n",
       "      <td>839544</td>\n",
       "      <td>42166.0</td>\n",
       "      <td>1.116514e+08</td>\n",
       "      <td>0.000378</td>\n",
       "    </tr>\n",
       "    <tr>\n",
       "      <th>Hungary</th>\n",
       "      <td>910860</td>\n",
       "      <td>130018.0</td>\n",
       "      <td>3.687719e+08</td>\n",
       "      <td>0.000353</td>\n",
       "    </tr>\n",
       "    <tr>\n",
       "      <th>Sri Lanka</th>\n",
       "      <td>382596</td>\n",
       "      <td>80747.0</td>\n",
       "      <td>2.488106e+08</td>\n",
       "      <td>0.000325</td>\n",
       "    </tr>\n",
       "    <tr>\n",
       "      <th>Russian Federation</th>\n",
       "      <td>862920</td>\n",
       "      <td>1500992.0</td>\n",
       "      <td>4.868343e+09</td>\n",
       "      <td>0.000308</td>\n",
       "    </tr>\n",
       "    <tr>\n",
       "      <th>Latvia</th>\n",
       "      <td>862920</td>\n",
       "      <td>24861.0</td>\n",
       "      <td>8.093534e+07</td>\n",
       "      <td>0.000307</td>\n",
       "    </tr>\n",
       "  </tbody>\n",
       "</table>\n",
       "</div>"
      ],
      "text/plain": [
       "                      year  suicides_no    population  suicide_rate\n",
       "country                                                            \n",
       "Lithuania           839544      42166.0  1.116514e+08      0.000378\n",
       "Hungary             910860     130018.0  3.687719e+08      0.000353\n",
       "Sri Lanka           382596      80747.0  2.488106e+08      0.000325\n",
       "Russian Federation  862920    1500992.0  4.868343e+09      0.000308\n",
       "Latvia              862920      24861.0  8.093534e+07      0.000307"
      ]
     },
     "execution_count": 185,
     "metadata": {},
     "output_type": "execute_result"
    }
   ],
   "source": [
    "suicide_df['suicide_rate'] = suicide_df['suicides_no'] / suicide_df['population']\n",
    "\n",
    "suicide_df_agg = suicide_df.groupby(['country']).sum()\n",
    "suicide_df_agg['suicide_rate'] = suicide_df_agg['suicides_no'] / suicide_df_agg['population']\n",
    "\n",
    "suicide_df_agg.sort_values('suicide_rate', ascending=False).head(5)"
   ]
  },
  {
   "cell_type": "markdown",
   "metadata": {
    "colab_type": "text",
    "id": "kv3Viqrj-QE7"
   },
   "source": [
    "# Exploratory Questions\n",
    "\n",
    "_FOCUS: Prove/show in graph economically successful countries but have lower happines score_\n",
    "1. What possible factors are there for the downtrend of happiness score in economically succesful countries\n",
    "\n",
    "  - sample are middle eastern countries\n",
    "  - Assume economical success similar to gdp\n",
    "\n",
    "_FOCUS: Countries per region_\n",
    "2. How similar is each country per region, based on each variable from the first question? \n",
    "\n",
    "  - group countries per region, rank score for each variable\n",
    "  - groop countries per region, rank the countries and speculate why they're higher up\n",
    "\n",
    "    *Second question is quite interesting; please select the appropriate methods to be able to answer it. Also, the question needs to be more defined. What do you mean by \"conditions\"? I would recommend that you don't limit yourself with this dataset and try to find additional sources of information regarding the different countries from other dataset. Then, you might be able to find more interesting relationships and patterns between the happiness score and certain properties of each country.*\n",
    "\n",
    "_FOCUS: Relation to suicide rate_\n",
    "3. How do the amount of suicides in each country relate to the happiness scores? Does being in a happy country necessarily mean there are less suicides?\n",
    "    "
   ]
  },
  {
   "cell_type": "markdown",
   "metadata": {
    "colab_type": "text",
    "id": "79a3D1c6ibwH"
   },
   "source": [
    "Note on Exploratory Data Analysis\n",
    "\n",
    "1. Filter out country - dataset same countries\n",
    "\n",
    "2. Summarize per year\n",
    "\n",
    "3. Suicide - rank by country and age\n",
    "\n",
    "4. compare rankings per year\n",
    "\n",
    "5. scatterplot ladder score/suicide number; color group by region\n",
    "\n",
    "---\n",
    "\n"
   ]
  },
  {
   "cell_type": "markdown",
   "metadata": {
    "colab_type": "text",
    "id": "jpqXT8A06_Dd"
   },
   "source": [
    "# Exploratory Data Analysis\n",
    "\n",
    "*Perform  data  cleaning  (if  needed)  and  perform exploratory  data  analysis. This  part  of  the  project  should  include  numerical summaries and visualizations whenever appropriate. Each visualization should be  accompanied  by  a  brief  explanation.Theexploratory  data  analysis  should guide you in formulating the research questions in the next step.You  should  perform  exploratory  data  analysis  comprehensively  to  gain  a  good understanding ofyour dataset. However, for the Notebook, please choose only 3 of the most interesting exploratory questions that you did for your dataset. For these   exploratory   questions,   please   include   numerical   summaries   and visualizations  that  address  these  questions along  with  textual  descriptions  of your processes and findings.*"
   ]
  },
  {
   "cell_type": "code",
   "execution_count": 186,
   "metadata": {
    "colab": {
     "base_uri": "https://localhost:8080/",
     "height": 745
    },
    "colab_type": "code",
    "id": "U4ErZuhIv3CR",
    "outputId": "fc36cc1e-5c59-4257-8467-b5ebf20235da"
   },
   "outputs": [
    {
     "data": {
      "text/html": [
       "<div>\n",
       "<style scoped>\n",
       "    .dataframe tbody tr th:only-of-type {\n",
       "        vertical-align: middle;\n",
       "    }\n",
       "\n",
       "    .dataframe tbody tr th {\n",
       "        vertical-align: top;\n",
       "    }\n",
       "\n",
       "    .dataframe thead th {\n",
       "        text-align: right;\n",
       "    }\n",
       "</style>\n",
       "<table border=\"1\" class=\"dataframe\">\n",
       "  <thead>\n",
       "    <tr style=\"text-align: right;\">\n",
       "      <th></th>\n",
       "      <th>Country name</th>\n",
       "      <th>Regional indicator</th>\n",
       "      <th>Ladder score</th>\n",
       "      <th>Standard error of ladder score</th>\n",
       "      <th>upperwhisker</th>\n",
       "      <th>lowerwhisker</th>\n",
       "      <th>Logged GDP per capita</th>\n",
       "      <th>Social support</th>\n",
       "      <th>Healthy life expectancy</th>\n",
       "      <th>Freedom to make life choices</th>\n",
       "      <th>Generosity</th>\n",
       "      <th>Perceptions of corruption</th>\n",
       "      <th>Ladder score in Dystopia</th>\n",
       "      <th>Explained by: Log GDP per capita</th>\n",
       "      <th>Explained by: Social support</th>\n",
       "      <th>Explained by: Healthy life expectancy</th>\n",
       "      <th>Explained by: Freedom to make life choices</th>\n",
       "      <th>Explained by: Generosity</th>\n",
       "      <th>Explained by: Perceptions of corruption</th>\n",
       "      <th>Dystopia + residual</th>\n",
       "    </tr>\n",
       "  </thead>\n",
       "  <tbody>\n",
       "    <tr>\n",
       "      <th>0</th>\n",
       "      <td>Finland</td>\n",
       "      <td>Western Europe</td>\n",
       "      <td>7.8087</td>\n",
       "      <td>0.031156</td>\n",
       "      <td>7.869766</td>\n",
       "      <td>7.747634</td>\n",
       "      <td>10.639267</td>\n",
       "      <td>0.954330</td>\n",
       "      <td>71.900825</td>\n",
       "      <td>0.949172</td>\n",
       "      <td>-0.059482</td>\n",
       "      <td>0.195445</td>\n",
       "      <td>1.972317</td>\n",
       "      <td>1.285190</td>\n",
       "      <td>1.499526</td>\n",
       "      <td>0.961271</td>\n",
       "      <td>0.662317</td>\n",
       "      <td>0.159670</td>\n",
       "      <td>0.477857</td>\n",
       "      <td>2.762835</td>\n",
       "    </tr>\n",
       "    <tr>\n",
       "      <th>1</th>\n",
       "      <td>Denmark</td>\n",
       "      <td>Western Europe</td>\n",
       "      <td>7.6456</td>\n",
       "      <td>0.033492</td>\n",
       "      <td>7.711245</td>\n",
       "      <td>7.579955</td>\n",
       "      <td>10.774001</td>\n",
       "      <td>0.955991</td>\n",
       "      <td>72.402504</td>\n",
       "      <td>0.951444</td>\n",
       "      <td>0.066202</td>\n",
       "      <td>0.168489</td>\n",
       "      <td>1.972317</td>\n",
       "      <td>1.326949</td>\n",
       "      <td>1.503449</td>\n",
       "      <td>0.979333</td>\n",
       "      <td>0.665040</td>\n",
       "      <td>0.242793</td>\n",
       "      <td>0.495260</td>\n",
       "      <td>2.432741</td>\n",
       "    </tr>\n",
       "    <tr>\n",
       "      <th>2</th>\n",
       "      <td>Switzerland</td>\n",
       "      <td>Western Europe</td>\n",
       "      <td>7.5599</td>\n",
       "      <td>0.035014</td>\n",
       "      <td>7.628528</td>\n",
       "      <td>7.491272</td>\n",
       "      <td>10.979933</td>\n",
       "      <td>0.942847</td>\n",
       "      <td>74.102448</td>\n",
       "      <td>0.921337</td>\n",
       "      <td>0.105911</td>\n",
       "      <td>0.303728</td>\n",
       "      <td>1.972317</td>\n",
       "      <td>1.390774</td>\n",
       "      <td>1.472403</td>\n",
       "      <td>1.040533</td>\n",
       "      <td>0.628954</td>\n",
       "      <td>0.269056</td>\n",
       "      <td>0.407946</td>\n",
       "      <td>2.350267</td>\n",
       "    </tr>\n",
       "    <tr>\n",
       "      <th>3</th>\n",
       "      <td>Iceland</td>\n",
       "      <td>Western Europe</td>\n",
       "      <td>7.5045</td>\n",
       "      <td>0.059616</td>\n",
       "      <td>7.621347</td>\n",
       "      <td>7.387653</td>\n",
       "      <td>10.772559</td>\n",
       "      <td>0.974670</td>\n",
       "      <td>73.000000</td>\n",
       "      <td>0.948892</td>\n",
       "      <td>0.246944</td>\n",
       "      <td>0.711710</td>\n",
       "      <td>1.972317</td>\n",
       "      <td>1.326502</td>\n",
       "      <td>1.547567</td>\n",
       "      <td>1.000843</td>\n",
       "      <td>0.661981</td>\n",
       "      <td>0.362330</td>\n",
       "      <td>0.144541</td>\n",
       "      <td>2.460688</td>\n",
       "    </tr>\n",
       "    <tr>\n",
       "      <th>4</th>\n",
       "      <td>Norway</td>\n",
       "      <td>Western Europe</td>\n",
       "      <td>7.4880</td>\n",
       "      <td>0.034837</td>\n",
       "      <td>7.556281</td>\n",
       "      <td>7.419719</td>\n",
       "      <td>11.087804</td>\n",
       "      <td>0.952487</td>\n",
       "      <td>73.200783</td>\n",
       "      <td>0.955750</td>\n",
       "      <td>0.134533</td>\n",
       "      <td>0.263218</td>\n",
       "      <td>1.972317</td>\n",
       "      <td>1.424207</td>\n",
       "      <td>1.495173</td>\n",
       "      <td>1.008072</td>\n",
       "      <td>0.670201</td>\n",
       "      <td>0.287985</td>\n",
       "      <td>0.434101</td>\n",
       "      <td>2.168266</td>\n",
       "    </tr>\n",
       "  </tbody>\n",
       "</table>\n",
       "</div>"
      ],
      "text/plain": [
       "  Country name Regional indicator  Ladder score  \\\n",
       "0      Finland     Western Europe        7.8087   \n",
       "1      Denmark     Western Europe        7.6456   \n",
       "2  Switzerland     Western Europe        7.5599   \n",
       "3      Iceland     Western Europe        7.5045   \n",
       "4       Norway     Western Europe        7.4880   \n",
       "\n",
       "   Standard error of ladder score  upperwhisker  lowerwhisker  \\\n",
       "0                        0.031156      7.869766      7.747634   \n",
       "1                        0.033492      7.711245      7.579955   \n",
       "2                        0.035014      7.628528      7.491272   \n",
       "3                        0.059616      7.621347      7.387653   \n",
       "4                        0.034837      7.556281      7.419719   \n",
       "\n",
       "   Logged GDP per capita  Social support  Healthy life expectancy  \\\n",
       "0              10.639267        0.954330                71.900825   \n",
       "1              10.774001        0.955991                72.402504   \n",
       "2              10.979933        0.942847                74.102448   \n",
       "3              10.772559        0.974670                73.000000   \n",
       "4              11.087804        0.952487                73.200783   \n",
       "\n",
       "   Freedom to make life choices  Generosity  Perceptions of corruption  \\\n",
       "0                      0.949172   -0.059482                   0.195445   \n",
       "1                      0.951444    0.066202                   0.168489   \n",
       "2                      0.921337    0.105911                   0.303728   \n",
       "3                      0.948892    0.246944                   0.711710   \n",
       "4                      0.955750    0.134533                   0.263218   \n",
       "\n",
       "   Ladder score in Dystopia  Explained by: Log GDP per capita  \\\n",
       "0                  1.972317                          1.285190   \n",
       "1                  1.972317                          1.326949   \n",
       "2                  1.972317                          1.390774   \n",
       "3                  1.972317                          1.326502   \n",
       "4                  1.972317                          1.424207   \n",
       "\n",
       "   Explained by: Social support  Explained by: Healthy life expectancy  \\\n",
       "0                      1.499526                               0.961271   \n",
       "1                      1.503449                               0.979333   \n",
       "2                      1.472403                               1.040533   \n",
       "3                      1.547567                               1.000843   \n",
       "4                      1.495173                               1.008072   \n",
       "\n",
       "   Explained by: Freedom to make life choices  Explained by: Generosity  \\\n",
       "0                                    0.662317                  0.159670   \n",
       "1                                    0.665040                  0.242793   \n",
       "2                                    0.628954                  0.269056   \n",
       "3                                    0.661981                  0.362330   \n",
       "4                                    0.670201                  0.287985   \n",
       "\n",
       "   Explained by: Perceptions of corruption  Dystopia + residual  \n",
       "0                                 0.477857             2.762835  \n",
       "1                                 0.495260             2.432741  \n",
       "2                                 0.407946             2.350267  \n",
       "3                                 0.144541             2.460688  \n",
       "4                                 0.434101             2.168266  "
      ]
     },
     "execution_count": 186,
     "metadata": {},
     "output_type": "execute_result"
    }
   ],
   "source": [
    "happiness_df.head()"
   ]
  },
  {
   "cell_type": "markdown",
   "metadata": {},
   "source": [
    "## Which factors are the most correlated with happiness score in each country?"
   ]
  },
  {
   "cell_type": "code",
   "execution_count": 187,
   "metadata": {},
   "outputs": [
    {
     "data": {
      "text/html": [
       "<div>\n",
       "<style scoped>\n",
       "    .dataframe tbody tr th:only-of-type {\n",
       "        vertical-align: middle;\n",
       "    }\n",
       "\n",
       "    .dataframe tbody tr th {\n",
       "        vertical-align: top;\n",
       "    }\n",
       "\n",
       "    .dataframe thead th {\n",
       "        text-align: right;\n",
       "    }\n",
       "</style>\n",
       "<table border=\"1\" class=\"dataframe\">\n",
       "  <thead>\n",
       "    <tr style=\"text-align: right;\">\n",
       "      <th></th>\n",
       "      <th>Country name</th>\n",
       "      <th>Regional indicator</th>\n",
       "      <th>Ladder score</th>\n",
       "      <th>Logged GDP per capita</th>\n",
       "    </tr>\n",
       "  </thead>\n",
       "  <tbody>\n",
       "    <tr>\n",
       "      <th>0</th>\n",
       "      <td>Finland</td>\n",
       "      <td>Western Europe</td>\n",
       "      <td>7.8087</td>\n",
       "      <td>10.639267</td>\n",
       "    </tr>\n",
       "    <tr>\n",
       "      <th>1</th>\n",
       "      <td>Denmark</td>\n",
       "      <td>Western Europe</td>\n",
       "      <td>7.6456</td>\n",
       "      <td>10.774001</td>\n",
       "    </tr>\n",
       "    <tr>\n",
       "      <th>2</th>\n",
       "      <td>Switzerland</td>\n",
       "      <td>Western Europe</td>\n",
       "      <td>7.5599</td>\n",
       "      <td>10.979933</td>\n",
       "    </tr>\n",
       "    <tr>\n",
       "      <th>3</th>\n",
       "      <td>Iceland</td>\n",
       "      <td>Western Europe</td>\n",
       "      <td>7.5045</td>\n",
       "      <td>10.772559</td>\n",
       "    </tr>\n",
       "    <tr>\n",
       "      <th>4</th>\n",
       "      <td>Norway</td>\n",
       "      <td>Western Europe</td>\n",
       "      <td>7.4880</td>\n",
       "      <td>11.087804</td>\n",
       "    </tr>\n",
       "  </tbody>\n",
       "</table>\n",
       "</div>"
      ],
      "text/plain": [
       "  Country name Regional indicator  Ladder score  Logged GDP per capita\n",
       "0      Finland     Western Europe        7.8087              10.639267\n",
       "1      Denmark     Western Europe        7.6456              10.774001\n",
       "2  Switzerland     Western Europe        7.5599              10.979933\n",
       "3      Iceland     Western Europe        7.5045              10.772559\n",
       "4       Norway     Western Europe        7.4880              11.087804"
      ]
     },
     "execution_count": 187,
     "metadata": {},
     "output_type": "execute_result"
    }
   ],
   "source": [
    "happiness_gdp_df = happiness_df[['Country name', 'Regional indicator', 'Ladder score', 'Logged GDP per capita']]\n",
    "happiness_gdp_df.head()"
   ]
  },
  {
   "cell_type": "markdown",
   "metadata": {},
   "source": [
    "Based from the 5 highest ladder score entries, we can gather that a generally higher GDP per capita leads to a higher ladder score. However, gathering conclusions from these 5 entries alone would be insufficient. So we will be plotting the ladder scores of each country and their logged GDP per capita to see whether our initial observations still stand."
   ]
  },
  {
   "cell_type": "code",
   "execution_count": 189,
   "metadata": {},
   "outputs": [
    {
     "data": {
      "image/png": "[encoded data removed]",
      "text/plain": [
       "<Figure size 432x288 with 1 Axes>"
      ]
     },
     "metadata": {
      "needs_background": "light"
     },
     "output_type": "display_data"
    }
   ],
   "source": [
    "labels, index = np.unique(happiness_df['Regional indicator'], return_inverse=True)\n",
    "\n",
    "fig, ax = plt.subplots()\n",
    "sc = ax.scatter(happiness_df['Ladder score'], happiness_df['Logged GDP per capita'], marker = 'o', c = index, alpha = 0.8)\n",
    "ax.legend(sc.legend_elements()[0], labels)\n",
    "ax.set_xlabel('Ladder score')\n",
    "ax.set_ylabel('Logged GDP per capita')\n",
    "\n",
    "plt.show()"
   ]
  },
  {
   "cell_type": "code",
   "execution_count": 190,
   "metadata": {},
   "outputs": [
    {
     "data": {
      "image/png": "[encoded data removed]",
      "text/plain": [
       "<Figure size 432x288 with 1 Axes>"
      ]
     },
     "metadata": {
      "needs_background": "light"
     },
     "output_type": "display_data"
    }
   ],
   "source": [
    "labels, index = np.unique(happiness_df['Regional indicator'], return_inverse=True)\n",
    "\n",
    "fig, ax = plt.subplots()\n",
    "ax.set_xlabel('Ladder score')\n",
    "ax.set_ylabel('Logged GDP per capita')\n",
    "sc = ax.scatter(happiness_df['Ladder score'], happiness_df['Logged GDP per capita'], marker = 'o', c = index, alpha = 0.8)\n",
    "\n",
    "plt.show()"
   ]
  },
  {
   "cell_type": "markdown",
   "metadata": {},
   "source": [
    "We can see from the scatterplot that, generally, higher GDP per capitas lead to higher ladder scores."
   ]
  },
  {
   "cell_type": "code",
   "execution_count": 194,
   "metadata": {},
   "outputs": [
    {
     "data": {
      "image/png": "[encoded data removed]",
      "text/plain": [
       "<Figure size 432x288 with 1 Axes>"
      ]
     },
     "metadata": {
      "needs_background": "light"
     },
     "output_type": "display_data"
    }
   ],
   "source": [
    "labels, index = np.unique(happiness_df['Regional indicator'], return_inverse=True)\n",
    "\n",
    "fig, ax = plt.subplots()\n",
    "ax.set_xlabel('Ladder score')\n",
    "ax.set_ylabel('Social support')\n",
    "sc = ax.scatter(happiness_df['Ladder score'], happiness_df['Social support'], marker = 'o', c = index, alpha = 0.8)\n",
    "\n",
    "plt.show()"
   ]
  },
  {
   "cell_type": "markdown",
   "metadata": {},
   "source": [
    "We can also see the positive correlation of a country's perceived social support system to a country's ladder score in this graph. We can then consider this attribute as one of the contributing factors to a higher ladder score."
   ]
  },
  {
   "cell_type": "code",
   "execution_count": 195,
   "metadata": {},
   "outputs": [
    {
     "data": {
      "image/png": "[encoded data removed]",
      "text/plain": [
       "<Figure size 432x288 with 1 Axes>"
      ]
     },
     "metadata": {
      "needs_background": "light"
     },
     "output_type": "display_data"
    }
   ],
   "source": [
    "labels, index = np.unique(happiness_df['Regional indicator'], return_inverse=True)\n",
    "\n",
    "fig, ax = plt.subplots()\n",
    "ax.set_xlabel('Ladder score')\n",
    "ax.set_ylabel('Healthy life expectancy')\n",
    "sc = ax.scatter(happiness_df['Ladder score'], happiness_df['Healthy life expectancy'], marker = 'o', c = index, alpha = 0.8)\n",
    "\n",
    "plt.show()"
   ]
  },
  {
   "cell_type": "markdown",
   "metadata": {},
   "source": [
    "We can see that in this graph that there is a positive correlation between 'Healthy life expectancy' and a country's ladder score. However, the positive correlation is not as pronounced in the ladder score range of ~3-5. However, we can still consider this attribute a possible contributor to a higher ladder score."
   ]
  },
  {
   "cell_type": "code",
   "execution_count": 196,
   "metadata": {},
   "outputs": [
    {
     "data": {
      "image/png": "[encoded data removed]",
      "text/plain": [
       "<Figure size 432x288 with 1 Axes>"
      ]
     },
     "metadata": {
      "needs_background": "light"
     },
     "output_type": "display_data"
    }
   ],
   "source": [
    "labels, index = np.unique(happiness_df['Regional indicator'], return_inverse=True)\n",
    "\n",
    "fig, ax = plt.subplots()\n",
    "ax.set_xlabel('Ladder score')\n",
    "ax.set_ylabel('Freedom to make life choices')\n",
    "sc = ax.scatter(happiness_df['Ladder score'], happiness_df['Freedom to make life choices'], marker = 'o', c = index, alpha = 0.8)\n",
    "\n",
    "plt.show()"
   ]
  },
  {
   "cell_type": "markdown",
   "metadata": {},
   "source": [
    "This graph shows the correlation between 'Freedom to make life choices' and a country's ladder score. This graph is a bit more difficult to interpret as there are many instances of a high score in the 'freedom to make life choices' attribute while having either a low or high ladder score. Although notably the density of countries with high scores in the 'freedom to make life choices' is higher as the ladder score increases."
   ]
  },
  {
   "cell_type": "code",
   "execution_count": 197,
   "metadata": {},
   "outputs": [
    {
     "data": {
      "image/png": "[encoded data removed]",
      "text/plain": [
       "<Figure size 432x288 with 1 Axes>"
      ]
     },
     "metadata": {
      "needs_background": "light"
     },
     "output_type": "display_data"
    }
   ],
   "source": [
    "labels, index = np.unique(happiness_df['Regional indicator'], return_inverse=True)\n",
    "\n",
    "fig, ax = plt.subplots()\n",
    "ax.set_xlabel('Ladder score')\n",
    "ax.set_ylabel('Generosity')\n",
    "sc = ax.scatter(happiness_df['Ladder score'], happiness_df['Generosity'], marker = 'o', c = index, alpha = 0.8)\n",
    "\n",
    "plt.show()"
   ]
  },
  {
   "cell_type": "markdown",
   "metadata": {},
   "source": [
    "Based on this graph, there is no visible correlation between the generosity score of a country and a country's ladder score. A country's generosity score seems to be in the same range regardless of the country's ladder score."
   ]
  },
  {
   "cell_type": "code",
   "execution_count": 198,
   "metadata": {},
   "outputs": [
    {
     "data": {
      "image/png": "[encoded data removed]",
      "text/plain": [
       "<Figure size 432x288 with 1 Axes>"
      ]
     },
     "metadata": {
      "needs_background": "light"
     },
     "output_type": "display_data"
    }
   ],
   "source": [
    "labels, index = np.unique(happiness_df['Regional indicator'], return_inverse=True)\n",
    "\n",
    "fig, ax = plt.subplots()\n",
    "ax.set_xlabel('Ladder score')\n",
    "ax.set_ylabel('Perceptions of corruption')\n",
    "sc = ax.scatter(happiness_df['Ladder score'], happiness_df['Perceptions of corruption'], marker = 'o', c = index, alpha = 0.8)\n",
    "\n",
    "plt.show()"
   ]
  },
  {
   "cell_type": "markdown",
   "metadata": {},
   "source": [
    "The only graph that shows a negative correlation between the two attributes. It seems that as countries approach the ~7 ladder score, their perception of corruption decreases. Ladder scores of countries in the 3-6 range seem to all have a high perception of corruption in their country. "
   ]
  },
  {
   "cell_type": "markdown",
   "metadata": {},
   "source": [
    "## How similar is each country per region, based on each variable from the first question?"
   ]
  },
  {
   "cell_type": "markdown",
   "metadata": {},
   "source": []
  },
  {
   "cell_type": "markdown",
   "metadata": {},
   "source": [
    "## How do the amount of suicides in each country relate to the happiness scores? Does being in a happy country necessarily mean there are less suicides?"
   ]
  },
  {
   "cell_type": "markdown",
   "metadata": {
    "colab_type": "text",
    "id": "kefGjdDWwY6F"
   },
   "source": [
    "The dataset for the WHO Suicide Statistics will be stored under suicide_df. For the purpose of this study, the suicide counts don't need to be separated by sex and age group, therefore the dataset needs cleaning. "
   ]
  },
  {
   "cell_type": "code",
   "execution_count": 135,
   "metadata": {
    "colab": {
     "base_uri": "https://localhost:8080/",
     "height": 391
    },
    "colab_type": "code",
    "id": "JSVL4Q896XhP",
    "outputId": "4c4de080-882b-4464-ba41-74f7dbf5b555"
   },
   "outputs": [
    {
     "data": {
      "text/html": [
       "<div>\n",
       "<style scoped>\n",
       "    .dataframe tbody tr th:only-of-type {\n",
       "        vertical-align: middle;\n",
       "    }\n",
       "\n",
       "    .dataframe tbody tr th {\n",
       "        vertical-align: top;\n",
       "    }\n",
       "\n",
       "    .dataframe thead th {\n",
       "        text-align: right;\n",
       "    }\n",
       "</style>\n",
       "<table border=\"1\" class=\"dataframe\">\n",
       "  <thead>\n",
       "    <tr style=\"text-align: right;\">\n",
       "      <th></th>\n",
       "      <th>country</th>\n",
       "      <th>year</th>\n",
       "      <th>sex</th>\n",
       "      <th>age</th>\n",
       "      <th>suicides_no</th>\n",
       "      <th>population</th>\n",
       "      <th>suicide_rate</th>\n",
       "    </tr>\n",
       "  </thead>\n",
       "  <tbody>\n",
       "    <tr>\n",
       "      <th>0</th>\n",
       "      <td>Albania</td>\n",
       "      <td>1985</td>\n",
       "      <td>female</td>\n",
       "      <td>15-24 years</td>\n",
       "      <td>0.0</td>\n",
       "      <td>277900.0</td>\n",
       "      <td>0.0</td>\n",
       "    </tr>\n",
       "    <tr>\n",
       "      <th>1</th>\n",
       "      <td>Albania</td>\n",
       "      <td>1985</td>\n",
       "      <td>female</td>\n",
       "      <td>25-34 years</td>\n",
       "      <td>0.0</td>\n",
       "      <td>246800.0</td>\n",
       "      <td>0.0</td>\n",
       "    </tr>\n",
       "    <tr>\n",
       "      <th>2</th>\n",
       "      <td>Albania</td>\n",
       "      <td>1985</td>\n",
       "      <td>female</td>\n",
       "      <td>35-54 years</td>\n",
       "      <td>0.0</td>\n",
       "      <td>267500.0</td>\n",
       "      <td>0.0</td>\n",
       "    </tr>\n",
       "    <tr>\n",
       "      <th>3</th>\n",
       "      <td>Albania</td>\n",
       "      <td>1985</td>\n",
       "      <td>female</td>\n",
       "      <td>5-14 years</td>\n",
       "      <td>0.0</td>\n",
       "      <td>298300.0</td>\n",
       "      <td>0.0</td>\n",
       "    </tr>\n",
       "    <tr>\n",
       "      <th>4</th>\n",
       "      <td>Albania</td>\n",
       "      <td>1985</td>\n",
       "      <td>female</td>\n",
       "      <td>55-74 years</td>\n",
       "      <td>0.0</td>\n",
       "      <td>138700.0</td>\n",
       "      <td>0.0</td>\n",
       "    </tr>\n",
       "  </tbody>\n",
       "</table>\n",
       "</div>"
      ],
      "text/plain": [
       "   country  year     sex          age  suicides_no  population  suicide_rate\n",
       "0  Albania  1985  female  15-24 years          0.0    277900.0           0.0\n",
       "1  Albania  1985  female  25-34 years          0.0    246800.0           0.0\n",
       "2  Albania  1985  female  35-54 years          0.0    267500.0           0.0\n",
       "3  Albania  1985  female   5-14 years          0.0    298300.0           0.0\n",
       "4  Albania  1985  female  55-74 years          0.0    138700.0           0.0"
      ]
     },
     "execution_count": 135,
     "metadata": {},
     "output_type": "execute_result"
    }
   ],
   "source": [
    "suicide_df.head()"
   ]
  },
  {
   "cell_type": "code",
   "execution_count": 136,
   "metadata": {
    "colab": {
     "base_uri": "https://localhost:8080/",
     "height": 683
    },
    "colab_type": "code",
    "id": "d0-OWYysvjk5",
    "outputId": "2727409d-c698-4bb8-ba6b-ceb88260cd0c"
   },
   "outputs": [
    {
     "data": {
      "text/html": [
       "<div>\n",
       "<style scoped>\n",
       "    .dataframe tbody tr th:only-of-type {\n",
       "        vertical-align: middle;\n",
       "    }\n",
       "\n",
       "    .dataframe tbody tr th {\n",
       "        vertical-align: top;\n",
       "    }\n",
       "\n",
       "    .dataframe thead th {\n",
       "        text-align: right;\n",
       "    }\n",
       "</style>\n",
       "<table border=\"1\" class=\"dataframe\">\n",
       "  <thead>\n",
       "    <tr style=\"text-align: right;\">\n",
       "      <th></th>\n",
       "      <th>Country name</th>\n",
       "      <th>Regional indicator</th>\n",
       "      <th>Ladder score</th>\n",
       "      <th>suicide_rate</th>\n",
       "    </tr>\n",
       "  </thead>\n",
       "  <tbody>\n",
       "    <tr>\n",
       "      <th>36</th>\n",
       "      <td>Lithuania</td>\n",
       "      <td>Central and Eastern Europe</td>\n",
       "      <td>6.2155</td>\n",
       "      <td>0.000378</td>\n",
       "    </tr>\n",
       "    <tr>\n",
       "      <th>48</th>\n",
       "      <td>Hungary</td>\n",
       "      <td>Central and Eastern Europe</td>\n",
       "      <td>6.0004</td>\n",
       "      <td>0.000353</td>\n",
       "    </tr>\n",
       "    <tr>\n",
       "      <th>75</th>\n",
       "      <td>Sri Lanka</td>\n",
       "      <td>South Asia</td>\n",
       "      <td>4.3270</td>\n",
       "      <td>0.000325</td>\n",
       "    </tr>\n",
       "    <tr>\n",
       "      <th>51</th>\n",
       "      <td>Latvia</td>\n",
       "      <td>Central and Eastern Europe</td>\n",
       "      <td>5.9500</td>\n",
       "      <td>0.000307</td>\n",
       "    </tr>\n",
       "    <tr>\n",
       "      <th>29</th>\n",
       "      <td>Slovenia</td>\n",
       "      <td>Central and Eastern Europe</td>\n",
       "      <td>6.3634</td>\n",
       "      <td>0.000285</td>\n",
       "    </tr>\n",
       "    <tr>\n",
       "      <th>46</th>\n",
       "      <td>Estonia</td>\n",
       "      <td>Central and Eastern Europe</td>\n",
       "      <td>6.0218</td>\n",
       "      <td>0.000279</td>\n",
       "    </tr>\n",
       "    <tr>\n",
       "      <th>45</th>\n",
       "      <td>Kazakhstan</td>\n",
       "      <td>Commonwealth of Independent States</td>\n",
       "      <td>6.0579</td>\n",
       "      <td>0.000252</td>\n",
       "    </tr>\n",
       "    <tr>\n",
       "      <th>74</th>\n",
       "      <td>Ukraine</td>\n",
       "      <td>Commonwealth of Independent States</td>\n",
       "      <td>4.5607</td>\n",
       "      <td>0.000240</td>\n",
       "    </tr>\n",
       "    <tr>\n",
       "      <th>61</th>\n",
       "      <td>Belarus</td>\n",
       "      <td>Commonwealth of Independent States</td>\n",
       "      <td>5.5399</td>\n",
       "      <td>0.000237</td>\n",
       "    </tr>\n",
       "    <tr>\n",
       "      <th>55</th>\n",
       "      <td>Japan</td>\n",
       "      <td>East Asia</td>\n",
       "      <td>5.8708</td>\n",
       "      <td>0.000216</td>\n",
       "    </tr>\n",
       "  </tbody>\n",
       "</table>\n",
       "</div>"
      ],
      "text/plain": [
       "   Country name                  Regional indicator  Ladder score  \\\n",
       "36    Lithuania          Central and Eastern Europe        6.2155   \n",
       "48      Hungary          Central and Eastern Europe        6.0004   \n",
       "75    Sri Lanka                          South Asia        4.3270   \n",
       "51       Latvia          Central and Eastern Europe        5.9500   \n",
       "29     Slovenia          Central and Eastern Europe        6.3634   \n",
       "46      Estonia          Central and Eastern Europe        6.0218   \n",
       "45   Kazakhstan  Commonwealth of Independent States        6.0579   \n",
       "74      Ukraine  Commonwealth of Independent States        4.5607   \n",
       "61      Belarus  Commonwealth of Independent States        5.5399   \n",
       "55        Japan                           East Asia        5.8708   \n",
       "\n",
       "    suicide_rate  \n",
       "36      0.000378  \n",
       "48      0.000353  \n",
       "75      0.000325  \n",
       "51      0.000307  \n",
       "29      0.000285  \n",
       "46      0.000279  \n",
       "45      0.000252  \n",
       "74      0.000240  \n",
       "61      0.000237  \n",
       "55      0.000216  "
      ]
     },
     "execution_count": 136,
     "metadata": {},
     "output_type": "execute_result"
    }
   ],
   "source": [
    "suicides_score_df = happiness_df.merge(suicide_df_agg, left_on='Country name', right_on='country', how='inner')\n",
    "\n",
    "suicides_score_df.sort_values(by=['suicide_rate'], ascending=False)\n",
    "suicides_score_df[['Country name', 'Regional indicator', 'Ladder score', 'suicide_rate']].sort_values(by=['suicide_rate'], ascending=False).head(n=10)"
   ]
  },
  {
   "cell_type": "code",
   "execution_count": 137,
   "metadata": {},
   "outputs": [
    {
     "data": {
      "text/html": [
       "<div>\n",
       "<style scoped>\n",
       "    .dataframe tbody tr th:only-of-type {\n",
       "        vertical-align: middle;\n",
       "    }\n",
       "\n",
       "    .dataframe tbody tr th {\n",
       "        vertical-align: top;\n",
       "    }\n",
       "\n",
       "    .dataframe thead th {\n",
       "        text-align: right;\n",
       "    }\n",
       "</style>\n",
       "<table border=\"1\" class=\"dataframe\">\n",
       "  <thead>\n",
       "    <tr style=\"text-align: right;\">\n",
       "      <th></th>\n",
       "      <th>Country name</th>\n",
       "      <th>Regional indicator</th>\n",
       "      <th>Ladder score</th>\n",
       "      <th>normalized_rate</th>\n",
       "    </tr>\n",
       "  </thead>\n",
       "  <tbody>\n",
       "    <tr>\n",
       "      <th>36</th>\n",
       "      <td>Lithuania</td>\n",
       "      <td>Central and Eastern Europe</td>\n",
       "      <td>6.2155</td>\n",
       "      <td>1.000000</td>\n",
       "    </tr>\n",
       "    <tr>\n",
       "      <th>48</th>\n",
       "      <td>Hungary</td>\n",
       "      <td>Central and Eastern Europe</td>\n",
       "      <td>6.0004</td>\n",
       "      <td>0.933407</td>\n",
       "    </tr>\n",
       "    <tr>\n",
       "      <th>75</th>\n",
       "      <td>Sri Lanka</td>\n",
       "      <td>South Asia</td>\n",
       "      <td>4.3270</td>\n",
       "      <td>0.858980</td>\n",
       "    </tr>\n",
       "    <tr>\n",
       "      <th>51</th>\n",
       "      <td>Latvia</td>\n",
       "      <td>Central and Eastern Europe</td>\n",
       "      <td>5.9500</td>\n",
       "      <td>0.812896</td>\n",
       "    </tr>\n",
       "    <tr>\n",
       "      <th>29</th>\n",
       "      <td>Slovenia</td>\n",
       "      <td>Central and Eastern Europe</td>\n",
       "      <td>6.3634</td>\n",
       "      <td>0.753885</td>\n",
       "    </tr>\n",
       "    <tr>\n",
       "      <th>46</th>\n",
       "      <td>Estonia</td>\n",
       "      <td>Central and Eastern Europe</td>\n",
       "      <td>6.0218</td>\n",
       "      <td>0.737734</td>\n",
       "    </tr>\n",
       "    <tr>\n",
       "      <th>45</th>\n",
       "      <td>Kazakhstan</td>\n",
       "      <td>Commonwealth of Independent States</td>\n",
       "      <td>6.0579</td>\n",
       "      <td>0.665322</td>\n",
       "    </tr>\n",
       "    <tr>\n",
       "      <th>74</th>\n",
       "      <td>Ukraine</td>\n",
       "      <td>Commonwealth of Independent States</td>\n",
       "      <td>4.5607</td>\n",
       "      <td>0.634800</td>\n",
       "    </tr>\n",
       "    <tr>\n",
       "      <th>61</th>\n",
       "      <td>Belarus</td>\n",
       "      <td>Commonwealth of Independent States</td>\n",
       "      <td>5.5399</td>\n",
       "      <td>0.626405</td>\n",
       "    </tr>\n",
       "    <tr>\n",
       "      <th>55</th>\n",
       "      <td>Japan</td>\n",
       "      <td>East Asia</td>\n",
       "      <td>5.8708</td>\n",
       "      <td>0.570967</td>\n",
       "    </tr>\n",
       "  </tbody>\n",
       "</table>\n",
       "</div>"
      ],
      "text/plain": [
       "   Country name                  Regional indicator  Ladder score  \\\n",
       "36    Lithuania          Central and Eastern Europe        6.2155   \n",
       "48      Hungary          Central and Eastern Europe        6.0004   \n",
       "75    Sri Lanka                          South Asia        4.3270   \n",
       "51       Latvia          Central and Eastern Europe        5.9500   \n",
       "29     Slovenia          Central and Eastern Europe        6.3634   \n",
       "46      Estonia          Central and Eastern Europe        6.0218   \n",
       "45   Kazakhstan  Commonwealth of Independent States        6.0579   \n",
       "74      Ukraine  Commonwealth of Independent States        4.5607   \n",
       "61      Belarus  Commonwealth of Independent States        5.5399   \n",
       "55        Japan                           East Asia        5.8708   \n",
       "\n",
       "    normalized_rate  \n",
       "36         1.000000  \n",
       "48         0.933407  \n",
       "75         0.858980  \n",
       "51         0.812896  \n",
       "29         0.753885  \n",
       "46         0.737734  \n",
       "45         0.665322  \n",
       "74         0.634800  \n",
       "61         0.626405  \n",
       "55         0.570967  "
      ]
     },
     "execution_count": 137,
     "metadata": {},
     "output_type": "execute_result"
    }
   ],
   "source": [
    "suicides_score_df['normalized_rate'] = (suicides_score_df['suicide_rate']-suicides_score_df['suicide_rate'].min())/(suicides_score_df['suicide_rate'].max()-suicides_score_df['suicide_rate'].min())\n",
    "suicides_score_df[['Country name', 'Regional indicator', 'Ladder score', 'normalized_rate']].sort_values(by=['normalized_rate'], ascending=False).head(n=10)"
   ]
  },
  {
   "cell_type": "code",
   "execution_count": 138,
   "metadata": {
    "colab": {
     "base_uri": "https://localhost:8080/",
     "height": 278
    },
    "colab_type": "code",
    "id": "7lB4AzW14HiP",
    "outputId": "7997bf45-f46f-46da-9126-878e8603ff08"
   },
   "outputs": [
    {
     "data": {
      "image/png": "[encoded data removed]",
      "text/plain": [
       "<Figure size 432x288 with 1 Axes>"
      ]
     },
     "metadata": {
      "needs_background": "light"
     },
     "output_type": "display_data"
    }
   ],
   "source": [
    "ax1 = suicides_score_df.plot.scatter(x='Ladder score', y='normalized_rate')"
   ]
  },
  {
   "cell_type": "markdown",
   "metadata": {},
   "source": [
    "Based on the results displayed on the graph, it would seem that despite being \"happier,\" some countries have higher rates of suicide. It seems that higher happiness scores do not mean lower occurences of suicide in a country."
   ]
  },
  {
   "cell_type": "markdown",
   "metadata": {},
   "source": [
    "# Research Questions"
   ]
  },
  {
   "cell_type": "markdown",
   "metadata": {},
   "source": [
    "*Come up with at least 2 research questions that you want\n",
    "to answer using the dataset. The 2 research questions should be answerable\n",
    "using different methods (i.e., do not choose 2 questions that could be answered\n",
    "using the exact same approach but just changing some of the parameters). You\n",
    "should select research questions that are within the scope of the dataset you are\n",
    "working on. For each research question, you must indicate why this question is\n",
    "of interest to you and the community.*"
   ]
  },
  {
   "cell_type": "markdown",
   "metadata": {},
   "source": [
    "## Are there any associations found in the cantril ladder and social variables described on the World Happiness Report?"
   ]
  },
  {
   "cell_type": "code",
   "execution_count": 139,
   "metadata": {},
   "outputs": [
    {
     "data": {
      "text/html": [
       "<div>\n",
       "<style scoped>\n",
       "    .dataframe tbody tr th:only-of-type {\n",
       "        vertical-align: middle;\n",
       "    }\n",
       "\n",
       "    .dataframe tbody tr th {\n",
       "        vertical-align: top;\n",
       "    }\n",
       "\n",
       "    .dataframe thead th {\n",
       "        text-align: right;\n",
       "    }\n",
       "</style>\n",
       "<table border=\"1\" class=\"dataframe\">\n",
       "  <thead>\n",
       "    <tr style=\"text-align: right;\">\n",
       "      <th></th>\n",
       "      <th>hopeless</th>\n",
       "      <th>depressed</th>\n",
       "      <th>suffering</th>\n",
       "      <th>struggling</th>\n",
       "      <th>coping</th>\n",
       "      <th>just ok</th>\n",
       "      <th>doing well</th>\n",
       "      <th>blooming</th>\n",
       "      <th>moving</th>\n",
       "      <th>prospering</th>\n",
       "      <th>suffering area</th>\n",
       "      <th>struggling area</th>\n",
       "      <th>thriving area</th>\n",
       "    </tr>\n",
       "  </thead>\n",
       "  <tbody>\n",
       "    <tr>\n",
       "      <th>0</th>\n",
       "      <td>0</td>\n",
       "      <td>0</td>\n",
       "      <td>0</td>\n",
       "      <td>0</td>\n",
       "      <td>0</td>\n",
       "      <td>0</td>\n",
       "      <td>0</td>\n",
       "      <td>1</td>\n",
       "      <td>0</td>\n",
       "      <td>0</td>\n",
       "      <td>0</td>\n",
       "      <td>0</td>\n",
       "      <td>1</td>\n",
       "    </tr>\n",
       "    <tr>\n",
       "      <th>1</th>\n",
       "      <td>0</td>\n",
       "      <td>0</td>\n",
       "      <td>0</td>\n",
       "      <td>0</td>\n",
       "      <td>0</td>\n",
       "      <td>0</td>\n",
       "      <td>0</td>\n",
       "      <td>1</td>\n",
       "      <td>0</td>\n",
       "      <td>0</td>\n",
       "      <td>0</td>\n",
       "      <td>0</td>\n",
       "      <td>1</td>\n",
       "    </tr>\n",
       "    <tr>\n",
       "      <th>2</th>\n",
       "      <td>0</td>\n",
       "      <td>0</td>\n",
       "      <td>0</td>\n",
       "      <td>0</td>\n",
       "      <td>0</td>\n",
       "      <td>0</td>\n",
       "      <td>0</td>\n",
       "      <td>1</td>\n",
       "      <td>0</td>\n",
       "      <td>0</td>\n",
       "      <td>0</td>\n",
       "      <td>0</td>\n",
       "      <td>1</td>\n",
       "    </tr>\n",
       "    <tr>\n",
       "      <th>3</th>\n",
       "      <td>0</td>\n",
       "      <td>0</td>\n",
       "      <td>0</td>\n",
       "      <td>0</td>\n",
       "      <td>0</td>\n",
       "      <td>0</td>\n",
       "      <td>0</td>\n",
       "      <td>1</td>\n",
       "      <td>0</td>\n",
       "      <td>0</td>\n",
       "      <td>0</td>\n",
       "      <td>0</td>\n",
       "      <td>1</td>\n",
       "    </tr>\n",
       "    <tr>\n",
       "      <th>4</th>\n",
       "      <td>0</td>\n",
       "      <td>0</td>\n",
       "      <td>0</td>\n",
       "      <td>0</td>\n",
       "      <td>0</td>\n",
       "      <td>0</td>\n",
       "      <td>0</td>\n",
       "      <td>1</td>\n",
       "      <td>0</td>\n",
       "      <td>0</td>\n",
       "      <td>0</td>\n",
       "      <td>0</td>\n",
       "      <td>1</td>\n",
       "    </tr>\n",
       "  </tbody>\n",
       "</table>\n",
       "</div>"
      ],
      "text/plain": [
       "   hopeless  depressed  suffering  struggling  coping  just ok  doing well  \\\n",
       "0         0          0          0           0       0        0           0   \n",
       "1         0          0          0           0       0        0           0   \n",
       "2         0          0          0           0       0        0           0   \n",
       "3         0          0          0           0       0        0           0   \n",
       "4         0          0          0           0       0        0           0   \n",
       "\n",
       "   blooming  moving  prospering  suffering area  struggling area  \\\n",
       "0         1       0           0               0                0   \n",
       "1         1       0           0               0                0   \n",
       "2         1       0           0               0                0   \n",
       "3         1       0           0               0                0   \n",
       "4         1       0           0               0                0   \n",
       "\n",
       "   thriving area  \n",
       "0              1  \n",
       "1              1  \n",
       "2              1  \n",
       "3              1  \n",
       "4              1  "
      ]
     },
     "execution_count": 139,
     "metadata": {},
     "output_type": "execute_result"
    }
   ],
   "source": [
    "happiness_df['hopeless'] = 0\n",
    "happiness_df['depressed'] = 0\n",
    "happiness_df['suffering'] = 0\n",
    "happiness_df['struggling'] = 0\n",
    "happiness_df['coping'] = 0\n",
    "happiness_df['just ok'] = 0\n",
    "happiness_df['doing well'] = 0\n",
    "happiness_df['blooming'] = 0\n",
    "happiness_df['moving'] = 0\n",
    "happiness_df['prospering'] = 0\n",
    "\n",
    "happiness_df['suffering area'] = 0\n",
    "happiness_df['struggling area'] = 0\n",
    "happiness_df['thriving area'] = 0\n",
    "\n",
    "happiness_df.loc[happiness_df['Ladder score'] <= 1.0, 'hopeless'] = 1\n",
    "happiness_df.loc[(happiness_df['Ladder score'] > 1.0) & (happiness_df['Ladder score'] <= 2.0), 'depressed'] = 1\n",
    "happiness_df.loc[(happiness_df['Ladder score'] > 2.0) & (happiness_df['Ladder score'] <= 3.0), 'suffering'] = 1\n",
    "happiness_df.loc[(happiness_df['Ladder score'] > 3.0) & (happiness_df['Ladder score'] <= 4.0), 'struggling'] = 1\n",
    "happiness_df.loc[(happiness_df['Ladder score'] > 4.0) & (happiness_df['Ladder score'] <= 5.0), 'coping'] = 1\n",
    "happiness_df.loc[(happiness_df['Ladder score'] > 5.0) & (happiness_df['Ladder score'] <= 6.0), 'just ok'] = 1\n",
    "happiness_df.loc[(happiness_df['Ladder score'] > 6.0) & (happiness_df['Ladder score'] <= 7.0), 'doing well'] = 1\n",
    "happiness_df.loc[(happiness_df['Ladder score'] > 7.0) & (happiness_df['Ladder score'] <= 8.0), 'blooming'] = 1\n",
    "happiness_df.loc[(happiness_df['Ladder score'] > 8.0) & (happiness_df['Ladder score'] <= 9.0), 'moving'] = 1\n",
    "happiness_df.loc[(happiness_df['Ladder score'] > 9.0) & (happiness_df['Ladder score'] <= 10.0), 'prospering'] = 1\n",
    "\n",
    "happiness_df.loc[happiness_df['Ladder score'] <= 3.0, 'suffering area'] = 1\n",
    "happiness_df.loc[(happiness_df['Ladder score'] > 3.0) & (happiness_df['Ladder score'] <= 6.0), 'struggling area'] = 1\n",
    "happiness_df.loc[happiness_df['Ladder score'] > 6.0, 'thriving area'] = 1\n",
    "\n",
    "association_df = happiness_df[['hopeless', 'depressed', 'suffering', 'struggling', 'coping', 'just ok', 'doing well', 'blooming', 'moving', 'prospering', 'suffering area', 'struggling area', 'thriving area']]\n",
    "\n",
    "association_df.head()\n",
    "#association_df"
   ]
  },
  {
   "cell_type": "code",
   "execution_count": 141,
   "metadata": {},
   "outputs": [
    {
     "name": "stderr",
     "output_type": "stream",
     "text": [
      "c:\\users\\rafael\\appdata\\local\\programs\\python\\python37-32\\lib\\site-packages\\ipykernel_launcher.py:1: SettingWithCopyWarning: \n",
      "A value is trying to be set on a copy of a slice from a DataFrame.\n",
      "Try using .loc[row_indexer,col_indexer] = value instead\n",
      "\n",
      "See the caveats in the documentation: https://pandas.pydata.org/pandas-docs/stable/user_guide/indexing.html#returning-a-view-versus-a-copy\n",
      "  \"\"\"Entry point for launching an IPython kernel.\n",
      "c:\\users\\rafael\\appdata\\local\\programs\\python\\python37-32\\lib\\site-packages\\ipykernel_launcher.py:2: SettingWithCopyWarning: \n",
      "A value is trying to be set on a copy of a slice from a DataFrame.\n",
      "Try using .loc[row_indexer,col_indexer] = value instead\n",
      "\n",
      "See the caveats in the documentation: https://pandas.pydata.org/pandas-docs/stable/user_guide/indexing.html#returning-a-view-versus-a-copy\n",
      "  \n",
      "c:\\users\\rafael\\appdata\\local\\programs\\python\\python37-32\\lib\\site-packages\\ipykernel_launcher.py:3: SettingWithCopyWarning: \n",
      "A value is trying to be set on a copy of a slice from a DataFrame.\n",
      "Try using .loc[row_indexer,col_indexer] = value instead\n",
      "\n",
      "See the caveats in the documentation: https://pandas.pydata.org/pandas-docs/stable/user_guide/indexing.html#returning-a-view-versus-a-copy\n",
      "  This is separate from the ipykernel package so we can avoid doing imports until\n",
      "c:\\users\\rafael\\appdata\\local\\programs\\python\\python37-32\\lib\\site-packages\\pandas\\core\\indexing.py:670: SettingWithCopyWarning: \n",
      "A value is trying to be set on a copy of a slice from a DataFrame\n",
      "\n",
      "See the caveats in the documentation: https://pandas.pydata.org/pandas-docs/stable/user_guide/indexing.html#returning-a-view-versus-a-copy\n",
      "  iloc._setitem_with_indexer(indexer, value)\n",
      "c:\\users\\rafael\\appdata\\local\\programs\\python\\python37-32\\lib\\site-packages\\ipykernel_launcher.py:7: SettingWithCopyWarning: \n",
      "A value is trying to be set on a copy of a slice from a DataFrame\n",
      "\n",
      "See the caveats in the documentation: https://pandas.pydata.org/pandas-docs/stable/user_guide/indexing.html#returning-a-view-versus-a-copy\n",
      "  import sys\n",
      "c:\\users\\rafael\\appdata\\local\\programs\\python\\python37-32\\lib\\site-packages\\pandas\\core\\indexing.py:670: SettingWithCopyWarning: \n",
      "A value is trying to be set on a copy of a slice from a DataFrame\n",
      "\n",
      "See the caveats in the documentation: https://pandas.pydata.org/pandas-docs/stable/user_guide/indexing.html#returning-a-view-versus-a-copy\n",
      "  iloc._setitem_with_indexer(indexer, value)\n",
      "c:\\users\\rafael\\appdata\\local\\programs\\python\\python37-32\\lib\\site-packages\\ipykernel_launcher.py:8: SettingWithCopyWarning: \n",
      "A value is trying to be set on a copy of a slice from a DataFrame\n",
      "\n",
      "See the caveats in the documentation: https://pandas.pydata.org/pandas-docs/stable/user_guide/indexing.html#returning-a-view-versus-a-copy\n",
      "  \n",
      "c:\\users\\rafael\\appdata\\local\\programs\\python\\python37-32\\lib\\site-packages\\pandas\\core\\indexing.py:670: SettingWithCopyWarning: \n",
      "A value is trying to be set on a copy of a slice from a DataFrame\n",
      "\n",
      "See the caveats in the documentation: https://pandas.pydata.org/pandas-docs/stable/user_guide/indexing.html#returning-a-view-versus-a-copy\n",
      "  iloc._setitem_with_indexer(indexer, value)\n",
      "c:\\users\\rafael\\appdata\\local\\programs\\python\\python37-32\\lib\\site-packages\\ipykernel_launcher.py:10: SettingWithCopyWarning: \n",
      "A value is trying to be set on a copy of a slice from a DataFrame\n",
      "\n",
      "See the caveats in the documentation: https://pandas.pydata.org/pandas-docs/stable/user_guide/indexing.html#returning-a-view-versus-a-copy\n",
      "  # Remove the CWD from sys.path while we load stuff.\n"
     ]
    },
    {
     "data": {
      "text/html": [
       "<div>\n",
       "<style scoped>\n",
       "    .dataframe tbody tr th:only-of-type {\n",
       "        vertical-align: middle;\n",
       "    }\n",
       "\n",
       "    .dataframe tbody tr th {\n",
       "        vertical-align: top;\n",
       "    }\n",
       "\n",
       "    .dataframe thead th {\n",
       "        text-align: right;\n",
       "    }\n",
       "</style>\n",
       "<table border=\"1\" class=\"dataframe\">\n",
       "  <thead>\n",
       "    <tr style=\"text-align: right;\">\n",
       "      <th></th>\n",
       "      <th>freedom_bin</th>\n",
       "      <th>social_support_bin</th>\n",
       "      <th>corruption_bin</th>\n",
       "    </tr>\n",
       "  </thead>\n",
       "  <tbody>\n",
       "    <tr>\n",
       "      <th>0</th>\n",
       "      <td>1</td>\n",
       "      <td>1</td>\n",
       "      <td>0</td>\n",
       "    </tr>\n",
       "    <tr>\n",
       "      <th>1</th>\n",
       "      <td>1</td>\n",
       "      <td>1</td>\n",
       "      <td>0</td>\n",
       "    </tr>\n",
       "    <tr>\n",
       "      <th>2</th>\n",
       "      <td>1</td>\n",
       "      <td>1</td>\n",
       "      <td>0</td>\n",
       "    </tr>\n",
       "    <tr>\n",
       "      <th>3</th>\n",
       "      <td>1</td>\n",
       "      <td>1</td>\n",
       "      <td>1</td>\n",
       "    </tr>\n",
       "    <tr>\n",
       "      <th>4</th>\n",
       "      <td>1</td>\n",
       "      <td>1</td>\n",
       "      <td>0</td>\n",
       "    </tr>\n",
       "  </tbody>\n",
       "</table>\n",
       "</div>"
      ],
      "text/plain": [
       "   freedom_bin  social_support_bin  corruption_bin\n",
       "0            1                   1               0\n",
       "1            1                   1               0\n",
       "2            1                   1               0\n",
       "3            1                   1               1\n",
       "4            1                   1               0"
      ]
     },
     "execution_count": 141,
     "metadata": {},
     "output_type": "execute_result"
    }
   ],
   "source": [
    "association_df['freedom_bin'] = 0\n",
    "association_df['social_support_bin'] = 0\n",
    "association_df['corruption_bin'] = 0\n",
    "#print(association_df)\n",
    "#freedom_df = happiness_df['Freedom to make life choices']>0.5\n",
    "#association_df.loc[freedom_df, 'freedom_bin'] = 1\n",
    "association_df.loc[happiness_df['Freedom to make life choices'] > 0.5, 'freedom_bin'] = 1\n",
    "association_df.loc[happiness_df['Social support'] > 0.5, 'social_support_bin'] = 1\n",
    "\n",
    "association_df.loc[happiness_df['Perceptions of corruption'] > 0.5, 'corruption_bin'] = 1\n",
    "\n",
    "association_df[['freedom_bin', 'social_support_bin', 'corruption_bin']].head()"
   ]
  },
  {
   "cell_type": "markdown",
   "metadata": {},
   "source": [
    "### Using Association Rules"
   ]
  },
  {
   "cell_type": "markdown",
   "metadata": {},
   "source": [
    "Association Rules is an \"if-then\" correlation technique that helps in showing us the probability of correlations within the data. Having a high confidence value means that there is a high chance of encountering other data points given the presence of a certain data point."
   ]
  },
  {
   "cell_type": "code",
   "execution_count": 142,
   "metadata": {
    "tags": []
   },
   "outputs": [
    {
     "name": "stdout",
     "output_type": "stream",
     "text": [
      "[['struggling area', 'social_support_bin', 'corruption_bin', 'freedom_bin'], ['struggling area', 'corruption_bin', 'social_support_bin', 'freedom_bin']]\n"
     ]
    }
   ],
   "source": [
    "from rule_miner import RuleMiner\n",
    "rule_miner = RuleMiner(85, 0.6)\n",
    "\n",
    "frequent_itemsets = rule_miner.get_frequent_itemsets(association_df)\n",
    "print(frequent_itemsets)"
   ]
  },
  {
   "cell_type": "code",
   "execution_count": 143,
   "metadata": {
    "tags": []
   },
   "outputs": [
    {
     "data": {
      "text/html": [
       "<div>\n",
       "<style scoped>\n",
       "    .dataframe tbody tr th:only-of-type {\n",
       "        vertical-align: middle;\n",
       "    }\n",
       "\n",
       "    .dataframe tbody tr th {\n",
       "        vertical-align: top;\n",
       "    }\n",
       "\n",
       "    .dataframe thead th {\n",
       "        text-align: right;\n",
       "    }\n",
       "</style>\n",
       "<table border=\"1\" class=\"dataframe\">\n",
       "  <thead>\n",
       "    <tr style=\"text-align: right;\">\n",
       "      <th></th>\n",
       "      <th>rule</th>\n",
       "      <th>confidence</th>\n",
       "    </tr>\n",
       "  </thead>\n",
       "  <tbody>\n",
       "    <tr>\n",
       "      <th>0</th>\n",
       "      <td>[[struggling area, social_support_bin, corrupt...</td>\n",
       "      <td>0.989247</td>\n",
       "    </tr>\n",
       "    <tr>\n",
       "      <th>1</th>\n",
       "      <td>[[freedom_bin], [struggling area, social_suppo...</td>\n",
       "      <td>0.613333</td>\n",
       "    </tr>\n",
       "    <tr>\n",
       "      <th>2</th>\n",
       "      <td>[[struggling area, social_support_bin, freedom...</td>\n",
       "      <td>0.978723</td>\n",
       "    </tr>\n",
       "    <tr>\n",
       "      <th>3</th>\n",
       "      <td>[[corruption_bin], [struggling area, social_su...</td>\n",
       "      <td>0.676471</td>\n",
       "    </tr>\n",
       "    <tr>\n",
       "      <th>4</th>\n",
       "      <td>[[struggling area, corruption_bin, freedom_bin...</td>\n",
       "      <td>0.968421</td>\n",
       "    </tr>\n",
       "    <tr>\n",
       "      <th>5</th>\n",
       "      <td>[[social_support_bin], [struggling area, corru...</td>\n",
       "      <td>0.617450</td>\n",
       "    </tr>\n",
       "    <tr>\n",
       "      <th>6</th>\n",
       "      <td>[[social_support_bin, corruption_bin, freedom_...</td>\n",
       "      <td>0.707692</td>\n",
       "    </tr>\n",
       "    <tr>\n",
       "      <th>7</th>\n",
       "      <td>[[struggling area], [social_support_bin, corru...</td>\n",
       "      <td>0.938776</td>\n",
       "    </tr>\n",
       "    <tr>\n",
       "      <th>8</th>\n",
       "      <td>[[struggling area, corruption_bin, social_supp...</td>\n",
       "      <td>0.989247</td>\n",
       "    </tr>\n",
       "    <tr>\n",
       "      <th>9</th>\n",
       "      <td>[[freedom_bin], [struggling area, corruption_b...</td>\n",
       "      <td>0.613333</td>\n",
       "    </tr>\n",
       "    <tr>\n",
       "      <th>10</th>\n",
       "      <td>[[struggling area, corruption_bin, freedom_bin...</td>\n",
       "      <td>0.968421</td>\n",
       "    </tr>\n",
       "    <tr>\n",
       "      <th>11</th>\n",
       "      <td>[[social_support_bin], [struggling area, corru...</td>\n",
       "      <td>0.617450</td>\n",
       "    </tr>\n",
       "    <tr>\n",
       "      <th>12</th>\n",
       "      <td>[[struggling area, social_support_bin, freedom...</td>\n",
       "      <td>0.978723</td>\n",
       "    </tr>\n",
       "    <tr>\n",
       "      <th>13</th>\n",
       "      <td>[[corruption_bin], [struggling area, social_su...</td>\n",
       "      <td>0.676471</td>\n",
       "    </tr>\n",
       "    <tr>\n",
       "      <th>14</th>\n",
       "      <td>[[corruption_bin, social_support_bin, freedom_...</td>\n",
       "      <td>0.707692</td>\n",
       "    </tr>\n",
       "    <tr>\n",
       "      <th>15</th>\n",
       "      <td>[[struggling area], [corruption_bin, social_su...</td>\n",
       "      <td>0.938776</td>\n",
       "    </tr>\n",
       "  </tbody>\n",
       "</table>\n",
       "</div>"
      ],
      "text/plain": [
       "                                                 rule  confidence\n",
       "0   [[struggling area, social_support_bin, corrupt...    0.989247\n",
       "1   [[freedom_bin], [struggling area, social_suppo...    0.613333\n",
       "2   [[struggling area, social_support_bin, freedom...    0.978723\n",
       "3   [[corruption_bin], [struggling area, social_su...    0.676471\n",
       "4   [[struggling area, corruption_bin, freedom_bin...    0.968421\n",
       "5   [[social_support_bin], [struggling area, corru...    0.617450\n",
       "6   [[social_support_bin, corruption_bin, freedom_...    0.707692\n",
       "7   [[struggling area], [social_support_bin, corru...    0.938776\n",
       "8   [[struggling area, corruption_bin, social_supp...    0.989247\n",
       "9   [[freedom_bin], [struggling area, corruption_b...    0.613333\n",
       "10  [[struggling area, corruption_bin, freedom_bin...    0.968421\n",
       "11  [[social_support_bin], [struggling area, corru...    0.617450\n",
       "12  [[struggling area, social_support_bin, freedom...    0.978723\n",
       "13  [[corruption_bin], [struggling area, social_su...    0.676471\n",
       "14  [[corruption_bin, social_support_bin, freedom_...    0.707692\n",
       "15  [[struggling area], [corruption_bin, social_su...    0.938776"
      ]
     },
     "execution_count": 143,
     "metadata": {},
     "output_type": "execute_result"
    }
   ],
   "source": [
    "rules = pd.DataFrame(list(map(lambda i: {'rule': i, 'confidence': rule_miner.get_confidence(association_df, i)} ,rule_miner.get_association_rules(association_df))))\n",
    "\n",
    "rules\n",
    "\n"
   ]
  },
  {
   "cell_type": "markdown",
   "metadata": {},
   "source": [
    "The points of interest from this results are the association rules that have a confidence of more than 90%. These association rules are the most prevalent in this dataset. In this case, this means that, with the presence of a certain data point, we can confidently assume that the other data points present in the association rule will also be present. "
   ]
  },
  {
   "cell_type": "markdown",
   "metadata": {},
   "source": [
    "## Could region or culture be a reason for higher suicide rates in a country?"
   ]
  },
  {
   "cell_type": "markdown",
   "metadata": {},
   "source": [
    "The results of the exploratory analysis involving suicide incidents showed that having better living conditions or other factors counted towards happiness score doesn't necessarily mean a country would be preventing suicides. Other reasons that don't count towards the happiness score may be a factor in higher suicide rates that should be considered when dealing with mental health."
   ]
  },
  {
   "cell_type": "code",
   "execution_count": 144,
   "metadata": {},
   "outputs": [
    {
     "data": {
      "image/png": "[encoded data removed]",
      "text/plain": [
       "<Figure size 432x288 with 1 Axes>"
      ]
     },
     "metadata": {
      "needs_background": "light"
     },
     "output_type": "display_data"
    }
   ],
   "source": [
    "labels, index = np.unique(suicides_score_df['Regional indicator'], return_inverse=True)\n",
    "\n",
    "fig, ax = plt.subplots()\n",
    "sc = ax.scatter(suicides_score_df['Ladder score'], suicides_score_df['normalized_rate'], marker = 'o', c = index, alpha = 0.8)\n",
    "ax.legend(sc.legend_elements()[0], labels)\n",
    "plt.show()"
   ]
  },
  {
   "cell_type": "code",
   "execution_count": 145,
   "metadata": {},
   "outputs": [
    {
     "data": {
      "image/png": "[encoded data removed]",
      "text/plain": [
       "<Figure size 432x288 with 1 Axes>"
      ]
     },
     "metadata": {
      "needs_background": "light"
     },
     "output_type": "display_data"
    }
   ],
   "source": [
    "labels, index = np.unique(suicides_score_df['Regional indicator'], return_inverse=True)\n",
    "\n",
    "fig, ax = plt.subplots()\n",
    "sc = ax.scatter(suicides_score_df['Ladder score'], suicides_score_df['normalized_rate'], marker = 'o', c = index, alpha = 0.8)\n",
    "\n",
    "plt.show()"
   ]
  },
  {
   "cell_type": "markdown",
   "metadata": {},
   "source": [
    "The graph seems to show to some degree that countries within the same regions occupy the same areas on the scatterplot. Countries from Western Europe have high happiness scores but tend towards medium suicide rates. In contrast, some asian countries occupy areas with lower happiness scores but also much lower suicide rates, with a few exceptions like Japan and Korea."
   ]
  },
  {
   "cell_type": "markdown",
   "metadata": {
    "colab_type": "text",
    "id": "XgNi7sdVFj5X"
   },
   "source": [
    "# Insights and Conclusions\n",
    "\n",
    "*Clearly state your insights and conclusions from the\n",
    "data to answer each research question you have defined. Make sure that all\n",
    "conclusions are backed up with statistical evidence when necessary.*"
   ]
  },
  {
   "cell_type": "markdown",
   "metadata": {},
   "source": [
    "There's some interesting association between the `Social Support`, `Freedom to make life choices` and `Perception to corruption` variables with being in the struggling area of the cantril ladder (3 > ladder score >= 6).\n",
    "\n",
    "The following rules have surprisingly high confidence of greater than `90%`:\n",
    "\n",
    "* `Struggling area` `->` `Social Support`, `Freedom to make life choices`, `Perception to corruption`\n",
    "* `Social Support`, `Freedom to make life choices`, `Struggling area` `->` `Perception to corruption`\n",
    "* `Social Support`, `Perception to corruption`, `Struggling area` `->` `Freedom to make life choices` \n",
    "* `Freedom to make life choices` , `Perception to corruption`, `Struggling area` `->` `Social Support`\n"
   ]
  },
  {
   "cell_type": "markdown",
   "metadata": {},
   "source": [
    "The second question provides insight into how culture might have more of an impact on how people would react to their level of happiness. In the exploratory analysis, no significant relationship between suicide and happiness could be found despite suicide commonly being associated with depression. In the attempt to answer the second research question, it can be seen that certain regions have higher tendencies towards suicide than others. For this case study we conclude that culture may be more involved with higher or lower suicide rates. "
   ]
  }
 ],
 "metadata": {
  "colab": {
   "collapsed_sections": [],
   "include_colab_link": true,
   "name": "Case Study: World Happiness Report",
   "provenance": [],
   "toc_visible": true
  },
  "kernelspec": {
   "display_name": "Python 3",
   "language": "python",
   "name": "python3"
  },
  "language_info": {
   "codemirror_mode": {
    "name": "ipython",
    "version": 3
   },
   "file_extension": ".py",
   "mimetype": "text/x-python",
   "name": "python",
   "nbconvert_exporter": "python",
   "pygments_lexer": "ipython3",
   "version": "3.7.3"
  }
 },
 "nbformat": 4,
 "nbformat_minor": 1
}
