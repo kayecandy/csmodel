{
 "cells": [
  {
   "cell_type": "markdown",
   "metadata": {
    "colab_type": "text",
    "id": "view-in-github"
   },
   "source": [
    "<a href=\"https://colab.research.google.com/github/kayecandy/csmodel/blob/master/Case%20Study/notebook.ipynb\" target=\"_parent\"><img src=\"https://colab.research.google.com/assets/colab-badge.svg\" alt=\"Open In Colab\"/></a>"
   ]
  },
  {
   "cell_type": "markdown",
   "metadata": {
    "colab_type": "text",
    "id": "06M3TKEH6Qr6"
   },
   "source": [
    "# Introduction\n",
    "\n",
    "_**TODO**_\n",
    "\n",
    "\n",
    "\n",
    "\n",
    "\n",
    ">***NOTE:*** *Describe how the dataset was collected and the implications of  the  data  collection  method  on the  generated  conclusions  and  insights.  Note that you may need to look at the relevant sources related to the dataset you are*\n",
    "\n"
   ]
  },
  {
   "cell_type": "code",
   "execution_count": null,
   "metadata": {
    "colab_type": "text",
    "id": "tUQpqJ0yAsFc"
   },
   "outputs": [],
   "source": [
    "## Initialization"
   ]
  },
  {
   "cell_type": "code",
   "execution_count": null,
   "metadata": {
    "colab": {},
    "colab_type": "code",
    "id": "z5PMkx9ABhOo",
    "tags": []
   },
   "outputs": [],
   "source": [
    "# IMPORTING LIBRARIES\n",
    "import numpy as np\n",
    "import pandas as pd\n",
    "import matplotlib.pyplot as plt\n",
    "\n",
    "%load_ext autoreload\n",
    "%autoreload 2"
   ]
  },
  {
   "cell_type": "markdown",
   "metadata": {
    "colab_type": "text",
    "id": "SS619YAK5bB7"
   },
   "source": [
    "# The Datasets"
   ]
  },
  {
   "cell_type": "markdown",
   "metadata": {
    "colab_type": "text",
    "id": "znAkd-EDhEFs"
   },
   "source": [
    "## World Happiness Report\n",
    "\n",
    "This case study is heavily based on data from this report. The World Happiness Report initiative started at 2012 - the first to rank countries by how their populations feel; inspired by the fact that traditional metrics such as GDP, household income and unemployment rate does not seem to be a sufficient measure for people's happines, and *life ratings* which is apparent in uprising Arab countries where the economy was flourishing with a rise in their GDP's, however the rating for the population's lives trended downward.\n",
    "\n",
    "\n",
    "It now has a total of 8 reports - one for each year until 2020 - and has since then been a primary source of global data on life satisfaction rankings.\n",
    "\n",
    "\n",
    "**Our Sources:**\n",
    "* The primary dataset used in this case study is from this [kaggle post](https://www.kaggle.com/mathurinache/world-happiness-report).\n",
    "\n",
    "* The pdf versions (8 reports from 2012-2020) of the reports and other downloadables can be found [here](https://worldhappiness.report/archive/?utm_source=workplace-newsletter&utm_medium=email&utm_campaign=WorkplaceNewsletter_Test-A_March_031919&utm_content=downloadexitpp-CTA-6)\n",
    "\n",
    "* Useful FAQ's regarding the World Happiness Report is available [here](https://worldhappiness.report/faq/)\n",
    "\n",
    "* An overview of this report can also be found in this [article from Gallup](https://www.gallup.com/analytics/247355/gallup-world-happiness-report.aspx)\n",
    "\n"
   ]
  },
  {
   "cell_type": "markdown",
   "metadata": {
    "colab_type": "text",
    "id": "Nl-c8185HBSm"
   },
   "source": [
    "### In Detail...\n",
    "----\n",
    "\n",
    "The dataset contains 153 **observations** (rows) across 20 **variables** (columns). Each observation represents the summarized ratings/scores per country included in the study; thus, there are 153 total countries.\n",
    "\n",
    "> **_Note:_** _This dataset is derived from several other sources, the Gallup World Poll being it's major source of data, and contains only the already summarized / derived / pre-calculated data per country. Description on data collection method will be elaborated per variable if applicable._\n",
    "\n",
    "For this case study, the 2015-2020 dataset would be used. The following a17 the v dataset:\n",
    "\n",
    "\n",
    "\n",
    "**Basic information:**\n",
    "\n",
    "* **`Country name`**: Name of the country\n",
    "* **`Regional indicator`**:\n",
    "\n",
    "    Region where the country belongs to.\n",
    "\n",
    "    _Possible values are:_ `Western Europe`, `North America and ANZ`, `Middle East and North Africa`, `Latin America and Caribbean`, `Central and Eastern Europe`, `East Asia`, `Southeast Asia`, `Commonwealth of Independent States`, `Sub-Saharan Africa`, `South Asia`\n",
    "   \n",
    "\n",
    "* **`Ladder score`**: Overall happiness score of a country\n",
    "* **`Standard error of ladder score`**\n",
    "* **`upperwhisker`**\n",
    "* **`lowerwhisker`**\n",
    "\n",
    "\n",
    "**Variables that may affect ladder score:**\n",
    "\n",
    "\n",
    "* **`Logged GDP per capita`**: This data was derived from the _World Development Indicators (WDI)_ released by the _World Bank_ on November 28, 2019\n",
    "* **`Social support`**: The national average of binary responses to the following `Gallup World Poll` question:\n",
    "  > _\"If you were in trouble, do you have relatives or friends you can count on to help you whenever you need them, or not?\"_\n",
    "* **`Healthy life expectancy`**: constructed based on data from the _World Health Organization (WHO) Global Health Observatory_ data repository\n",
    "* **`Freedom to make life choices`**: The national average of binary responses to the following `Gallup World Poll` question:\n",
    "  > _“Are you satisfied or dissatisfied with your freedom to choose what you do with your life?”_\n",
    "* **`Generosity`**\n",
    "* **`Perceptions of corruption`**: The national average of binary responses to the following `Gallup World Poll` questions:\n",
    "  > _“Is corruption widespread throughout the government or not?”_\n",
    "\n",
    "  > _“Is corruption widespread within businesses or not?”_\n",
    "* **`Ladder score in Dystopia`**\n",
    "\n",
    "\n",
    "**Normalized data for**\n",
    "\n",
    "* **`Explained by:`**\n",
    "  * **`Log GDP per capita`**: \n",
    "  * **`Social support`**: \n",
    "  * **`Healthy life expectancy`**: \n",
    "  * **`Freedom to make life choices`**: \n",
    "  * **`Generosity`**: \n",
    "  * **`Perceptions of corruption`**:\n",
    "\n",
    "\n",
    "**Dystopia** \n",
    "* **`Dystopia + residual`**: \n",
    "\n",
    "\n",
    "----\n",
    "\n",
    "> _**Note:**_\n",
    ">\n",
    "> Binary responses consists of either a `yes=1` or a `no=0`_\n",
    "\n",
    "\n",
    "\n"
   ]
  },
  {
   "cell_type": "markdown",
   "metadata": {},
   "source": [
    "\n",
    "\n",
    "**Basic information:**\n",
    "\n",
    "\n",
    "\n",
    "* **`Country name`**: \n",
    "\n",
    "    Name of the country\n",
    "\n",
    "* **`Regional indicator`**:\n",
    "\n",
    "    Region where the country belongs to.\n",
    "\n",
    "    _Possible values are:_ `Western Europe`, `North America and ANZ`, `Middle East and North Africa`, `Latin America and Caribbean`, `Central and Eastern Europe`, `East Asia`, `Southeast Asia`, `Commonwealth of Independent States`, `Sub-Saharan Africa`, `South Asia`\n",
    "   \n",
    "\n",
    "* **`Ladder score`**: \n",
    "\n",
    "    Overall happiness score of a country. This is represented by a [Cantril Scale/Ladder](https://news.gallup.com/poll/122453/understanding-gallup-uses-cantril-scale.aspx) which measures the quality of life from `0-10`. A score of `0-3` would categorize a country as _'suffering'_, `4-6` as _'struggling'_, and `7-`10` as _'thriving'_.\n",
    "\n",
    "    Data for this is derived from the national average of the Gallup World Poll question _\"Please imagine a ladder, with steps numbered from 0 at the bottom to 10 at the top. The top of the ladder represents the best possible life for you and the bottom of the ladder represents the worst possible life for you. On which step of the ladder would you say you personally feel you stand at this time?\"_\n",
    "\n",
    "\n",
    "\n",
    "* **`Standard error of ladder score`** \n",
    "\n",
    "    A buffer for standard error with 95% confidence interval\n",
    "\n",
    "\n",
    "* **`upperwhisker`** _(Not used for this case study.)_ \n",
    "\n",
    "    This is for creating a boxplot on the raw data of `ladder score`\n",
    "\n",
    "\n",
    "* **`lowerwhisker`** _(Not used for this case study.)_ \n",
    "\n",
    "    This is for creating a boxplot on the raw data of `ladder score`\n",
    "\n",
    "\n",
    "\n",
    "\n",
    "----"
   ]
  },
  {
   "cell_type": "markdown",
   "metadata": {},
   "source": [
    "\n",
    "**Variables that may affect the happiness score (ladder score):**\n",
    "\n",
    "\n",
    "* **`Logged GDP per capita`**: \n",
    "\n",
    "    This data was derived from the _World Development Indicators (WDI)_ released by the _World Bank_ on November 28, 2019\n",
    "\n",
    "* **`Social support`**: \n",
    "\n",
    "    The national average of binary responses to the following `Gallup World Poll` question _\"If you were in trouble, do you have relatives or friends you can count on to help you whenever you need them, or not?\"_\n",
    "\n",
    "\n",
    "* **`Healthy life expectancy`**: \n",
    "\n",
    "    This is the estimated number of years that the country's population has in a state of 'good health'.\n",
    "    \n",
    "    This data is constructed from the _World Health Organization (WHO) Global Health Observatory_ data repository\n",
    "    \n",
    "* **`Freedom to make life choices`**: \n",
    "\n",
    "    The national average of binary responses to the following `Gallup World Poll` question: _“Are you satisfied or dissatisfied with your freedom to choose what you do with your life?”_\n",
    "\n",
    "\n",
    "* **`Generosity`**\n",
    "\n",
    "    The residual of regressing national average of response to the GWP question “Have you donated money to a charity in the past month?” on GDP per capita\n",
    "\n",
    "\n",
    "\n",
    "* **`Perceptions of corruption`**: \n",
    "\n",
    "    The national average of binary responses to the following `Gallup World Poll` questions:\n",
    "    \n",
    "    * _“Is corruption widespread throughout the government or not?”_\n",
    "\n",
    "    * _“Is corruption widespread within businesses or not?”_\n",
    "\n",
    "\n",
    "\n",
    "----\n"
   ]
  },
  {
   "cell_type": "markdown",
   "metadata": {},
   "source": [
    "**Dystopia:** \n",
    "\n",
    "_Dystopia_ is a hypothetical country which has all the lowest score for each of the 6 variables that may affect happiness as presented above. This is for the purpose of benchmarking a country's ladder score so that no country would perform worse than this made-up country. \n",
    "\n",
    "\n",
    "\n",
    "* **`Ladder score in Dystopia`**\n",
    "\n",
    "    This is a constant value of 1.97 - the ladder score of the made-up country _Dystopia_\n",
    "\n",
    "\n",
    "* **`Dystopia + Residual`**\n",
    "\n",
    "    This is the sum of the **`Ladder score in Dystopia`** and a variable _'residuals'_ which represents unexplained components that affects ladder score\n",
    "    \n",
    "\n",
    "\n",
    "\n",
    "----"
   ]
  },
  {
   "cell_type": "markdown",
   "metadata": {},
   "source": [
    "**Explained by variables:**\n",
    "\n",
    "These are pre-calculated values to represent the estimated effect of the 6 variables that may affect happiness to a country's ladder score (ie. an estimate of how much of the ladder score is affected by a variable)\n",
    "\n",
    "These are calculated based on how much a country performed better than dystopia per variable multiplied by a normalizing coefficient. The report uses the concept of dystopia for this purpose: that since all countries would perform better than it in all 6 variables, the difference between a country's performance in a variable and the dystopian performance on the same variable would always be a positive number, ensuring that a variable would always contribute a portion to the overall happiness score.\n",
    "\n",
    "\n",
    "\n",
    "\n",
    "\n"
   ]
  },
  {
   "cell_type": "markdown",
   "metadata": {},
   "source": [
    "### Gallup World Poll: The raw data\n",
    "\n",
    "_Gallup World Poll_ is the primary source in which the data in this report was derived from. The latest version (2020) uses data from 2017-2019. It's sample size is typically at least 1000 annually per country\n",
    "\n",
    "\n",
    "\n",
    "Read more on Gallup World Poll Methodology [here](https://news.gallup.com/poll/105226/world-poll-methodology.aspx)"
   ]
  },
  {
   "cell_type": "markdown",
   "metadata": {
    "colab_type": "text",
    "id": "fIi3-uXD1ZTS"
   },
   "source": [
    "**Reading the dataset:**"
   ]
  },
  {
   "cell_type": "code",
   "execution_count": null,
   "metadata": {
    "colab": {
     "base_uri": "https://localhost:8080/",
     "height": 456
    },
    "colab_type": "code",
    "id": "uAlBmoN4HKmn",
    "outputId": "742ecb78-a59e-4b7f-e5af-be0cecda987f",
    "tags": []
   },
   "outputs": [],
   "source": [
    "happiness_df = pd.read_csv('./dataset/World Happiness Report/2020.csv')\n",
    "happiness_df.info()"
   ]
  },
  {
   "cell_type": "markdown",
   "metadata": {
    "colab_type": "text",
    "id": "1sYFEfynhQZM"
   },
   "source": [
    "## WHO Suicide Statistics Dataset\n",
    "\n",
    "The case study will also be using data from WHO Suicide Statistics. This dataset has numbers for suicide cases from 1979 to 2016, by country, year, age groups and sex. All of this is contained in one file with a few columns. This dataset will mainly serve to add to suicide numbers to each observation in the World Happiness Report's dataset.\n"
   ]
  },
  {
   "cell_type": "markdown",
   "metadata": {
    "colab_type": "text",
    "id": "yxsGlK8Uxhms"
   },
   "source": [
    "### In Detail\n",
    "\n",
    "The dataset contains 43776 observations (rows) across 6 variables (columns). Each observation represents a number of suicides for one demographic in a country over a year. There are observations for 141 different countries.\n",
    "\n",
    "* **`Country`**: Name of the country\n",
    "* **`Year`**: Year the observation was recorded\n",
    "* **`Sex`**: Sex of the victims\n",
    "* **`Age`**: Age group of victims\n",
    "* **`Number of suicides`**: Number of suicides recorded\n",
    "* **`Population`**: Number of all living people in group"
   ]
  },
  {
   "cell_type": "markdown",
   "metadata": {
    "colab_type": "text",
    "id": "3a7V2T-P1dOS"
   },
   "source": [
    "Reading the dataset:"
   ]
  },
  {
   "cell_type": "code",
   "execution_count": null,
   "metadata": {
    "colab": {
     "base_uri": "https://localhost:8080/",
     "height": 228
    },
    "colab_type": "code",
    "id": "q5hh0vGV1jiJ",
    "outputId": "b505a640-1de5-4262-d9d3-9a352bfe6830"
   },
   "outputs": [],
   "source": [
    "suicide_df = pd.read_csv('./dataset/WHO Suicide Statistics/who_suicide_statistics.csv')\n",
    "suicide_df.info()"
   ]
  },
  {
   "cell_type": "markdown",
   "metadata": {
    "colab_type": "text",
    "id": "kv3Viqrj-QE7"
   },
   "source": [
    "# Exploratory Questions\n",
    "\n",
    "_FOCUS: Prove/show in graph economically successful countries but have lower happines score_\n",
    "1. What possible factors are there for the downtrend of happiness score in economically succesful countries\n",
    "\n",
    "  - sample are middle eastern countries\n",
    "  - Assume economical success similar to gdp\n",
    "\n",
    "_FOCUS: Countries per region_\n",
    "2. How similar is each country per region, based on each variable from the first question? \n",
    "\n",
    "  - group countries per region, rank score for each variable\n",
    "  - groop countries per region, rank the countries and speculate why they're higher up\n",
    "\n",
    "    *Second question is quite interesting; please select the appropriate methods to be able to answer it. Also, the question needs to be more defined. What do you mean by \"conditions\"? I would recommend that you don't limit yourself with this dataset and try to find additional sources of information regarding the different countries from other dataset. Then, you might be able to find more interesting relationships and patterns between the happiness score and certain properties of each country.*\n",
    "\n",
    "_FOCUS: Relation to suicide rate_\n",
    "3. How do the amount of suicides in each country relate to the happiness scores? Does being in a happy country necessarily mean there are less suicides?\n",
    "    "
   ]
  },
  {
   "cell_type": "markdown",
   "metadata": {
    "colab_type": "text",
    "id": "79a3D1c6ibwH"
   },
   "source": [
    "Note on Exploratory Data Analysis\n",
    "\n",
    "1. Filter out country - dataset same countries\n",
    "\n",
    "2. Summarize per year\n",
    "\n",
    "3. Suicide - rank by country and age\n",
    "\n",
    "4. compare rankings per year\n",
    "\n",
    "5. scatterplot ladder score/suicide number; color group by region\n",
    "\n",
    "---\n",
    "\n"
   ]
  },
  {
   "cell_type": "markdown",
   "metadata": {
    "colab_type": "text",
    "id": "jpqXT8A06_Dd"
   },
   "source": [
    "# Exploratory Data Analysis\n",
    "\n",
    "*Perform  data  cleaning  (if  needed)  and  perform exploratory  data  analysis. This  part  of  the  project  should  include  numerical summaries and visualizations whenever appropriate. Each visualization should be  accompanied  by  a  brief  explanation.Theexploratory  data  analysis  should guide you in formulating the research questions in the next step.You  should  perform  exploratory  data  analysis  comprehensively  to  gain  a  good understanding ofyour dataset. However, for the Notebook, please choose only 3 of the most interesting exploratory questions that you did for your dataset. For these   exploratory   questions,   please   include   numerical   summaries   and visualizations  that  address  these  questions along  with  textual  descriptions  of your processes and findings.*"
   ]
  },
  {
   "cell_type": "code",
   "execution_count": null,
   "metadata": {
    "colab": {
     "base_uri": "https://localhost:8080/",
     "height": 745
    },
    "colab_type": "code",
    "id": "U4ErZuhIv3CR",
    "outputId": "fc36cc1e-5c59-4257-8467-b5ebf20235da"
   },
   "outputs": [],
   "source": [
    "happiness_df.head()"
   ]
  },
  {
   "cell_type": "code",
   "execution_count": null,
   "metadata": {},
   "outputs": [],
   "source": [
    "happiness_df['hopeless'] = 0\n",
    "happiness_df['depressed'] = 0\n",
    "happiness_df['suffering'] = 0\n",
    "happiness_df['struggling'] = 0\n",
    "happiness_df['coping'] = 0\n",
    "happiness_df['just ok'] = 0\n",
    "happiness_df['doing well'] = 0\n",
    "happiness_df['blooming'] = 0\n",
    "happiness_df['moving'] = 0\n",
    "happiness_df['prospering'] = 0\n",
    "\n",
    "happiness_df['suffering area'] = 0\n",
    "happiness_df['struggling area'] = 0\n",
    "happiness_df['thriving area'] = 0\n",
    "\n",
    "happiness_df.loc[happiness_df['Ladder score'] <= 1.0, 'hopeless'] = 1\n",
    "happiness_df.loc[(happiness_df['Ladder score'] > 1.0) & (happiness_df['Ladder score'] <= 2.0), 'depressed'] = 1\n",
    "happiness_df.loc[(happiness_df['Ladder score'] > 2.0) & (happiness_df['Ladder score'] <= 3.0), 'suffering'] = 1\n",
    "happiness_df.loc[(happiness_df['Ladder score'] > 3.0) & (happiness_df['Ladder score'] <= 4.0), 'struggling'] = 1\n",
    "happiness_df.loc[(happiness_df['Ladder score'] > 4.0) & (happiness_df['Ladder score'] <= 5.0), 'coping'] = 1\n",
    "happiness_df.loc[(happiness_df['Ladder score'] > 5.0) & (happiness_df['Ladder score'] <= 6.0), 'just ok'] = 1\n",
    "happiness_df.loc[(happiness_df['Ladder score'] > 6.0) & (happiness_df['Ladder score'] <= 7.0), 'doing well'] = 1\n",
    "happiness_df.loc[(happiness_df['Ladder score'] > 7.0) & (happiness_df['Ladder score'] <= 8.0), 'blooming'] = 1\n",
    "happiness_df.loc[(happiness_df['Ladder score'] > 8.0) & (happiness_df['Ladder score'] <= 9.0), 'moving'] = 1\n",
    "happiness_df.loc[(happiness_df['Ladder score'] > 9.0) & (happiness_df['Ladder score'] <= 10.0), 'prospering'] = 1\n",
    "\n",
    "happiness_df.loc[happiness_df['Ladder score'] <= 3.0, 'suffering area'] = 1\n",
    "happiness_df.loc[(happiness_df['Ladder score'] > 3.0) & (happiness_df['Ladder score'] <= 6.0), 'struggling area'] = 1\n",
    "happiness_df.loc[happiness_df['Ladder score'] > 6.0, 'thriving area'] = 1\n",
    "\n",
    "happiness_df[['Ladder score', 'hopeless', 'depressed', 'suffering', 'struggling', 'coping', 'just ok', 'doing well', 'blooming', 'moving', 'prospering']].head()"
   ]
  },
  {
   "cell_type": "code",
   "execution_count": null,
   "metadata": {},
   "outputs": [],
   "source": [
    "happiness_df[['Ladder score', 'suffering area', 'struggling area', 'thriving area']].head()"
   ]
  },
  {
   "cell_type": "markdown",
   "metadata": {},
   "source": [
    "## Does economic success mean happier people?"
   ]
  },
  {
   "cell_type": "code",
   "execution_count": null,
   "metadata": {},
   "outputs": [],
   "source": [
    "happiness_gdp_df = happiness_df[['Country name', 'Regional indicator', 'Ladder score', 'Logged GDP per capita']]\n",
    "happiness_gdp_df.head()"
   ]
  },
  {
   "cell_type": "code",
   "execution_count": null,
   "metadata": {},
   "outputs": [],
   "source": []
  },
  {
   "cell_type": "markdown",
   "metadata": {},
   "source": [
    "## How similar is each country per region, based on each variable from the first question? "
   ]
  },
  {
   "cell_type": "code",
   "execution_count": null,
   "metadata": {},
   "outputs": [],
   "source": [
    "labels, index = np.unique(happiness_df['Regional indicator'], return_inverse=True)\n",
    "\n",
    "fig, ax = plt.subplots()\n",
    "sc = ax.scatter(happiness_df['Ladder score'], happiness_df['Logged GDP per capita'], marker = 'o', c = index, alpha = 0.8)\n",
    "ax.legend(sc.legend_elements()[0], labels)\n",
    "\n",
    "plt.show()"
   ]
  },
  {
   "cell_type": "code",
   "execution_count": null,
   "metadata": {},
   "outputs": [],
   "source": [
    "labels, index = np.unique(happiness_df['Regional indicator'], return_inverse=True)\n",
    "\n",
    "fig, ax = plt.subplots()\n",
    "sc = ax.scatter(happiness_df['Ladder score'], happiness_df['Logged GDP per capita'], marker = 'o', c = index, alpha = 0.8)\n",
    "\n",
    "plt.show()"
   ]
  },
  {
   "cell_type": "code",
   "execution_count": null,
   "metadata": {},
   "outputs": [],
   "source": [
    "labels, index = np.unique(happiness_df['Regional indicator'], return_inverse=True)\n",
    "\n",
    "fig, ax = plt.subplots()\n",
    "sc = ax.scatter(happiness_df['Ladder score'], happiness_df['Social support'], marker = 'o', c = index, alpha = 0.8)\n",
    "\n",
    "plt.show()"
   ]
  },
  {
   "cell_type": "code",
   "execution_count": null,
   "metadata": {},
   "outputs": [],
   "source": [
    "labels, index = np.unique(happiness_df['Regional indicator'], return_inverse=True)\n",
    "\n",
    "fig, ax = plt.subplots()\n",
    "sc = ax.scatter(happiness_df['Ladder score'], happiness_df['Healthy life expectancy'], marker = 'o', c = index, alpha = 0.8)\n",
    "\n",
    "plt.show()"
   ]
  },
  {
   "cell_type": "code",
   "execution_count": null,
   "metadata": {},
   "outputs": [],
   "source": [
    "labels, index = np.unique(happiness_df['Regional indicator'], return_inverse=True)\n",
    "\n",
    "fig, ax = plt.subplots()\n",
    "sc = ax.scatter(happiness_df['Ladder score'], happiness_df['Freedom to make life choices'], marker = 'o', c = index, alpha = 0.8)\n",
    "\n",
    "plt.show()"
   ]
  },
  {
   "cell_type": "code",
   "execution_count": null,
   "metadata": {},
   "outputs": [],
   "source": [
    "labels, index = np.unique(happiness_df['Regional indicator'], return_inverse=True)\n",
    "\n",
    "fig, ax = plt.subplots()\n",
    "sc = ax.scatter(happiness_df['Ladder score'], happiness_df['Generosity'], marker = 'o', c = index, alpha = 0.8)\n",
    "\n",
    "plt.show()"
   ]
  },
  {
   "cell_type": "code",
   "execution_count": null,
   "metadata": {},
   "outputs": [],
   "source": [
    "labels, index = np.unique(happiness_df['Regional indicator'], return_inverse=True)\n",
    "\n",
    "fig, ax = plt.subplots()\n",
    "sc = ax.scatter(happiness_df['Ladder score'], happiness_df['Perceptions of corruption'], marker = 'o', c = index, alpha = 0.8)\n",
    "\n",
    "plt.show()"
   ]
  },
  {
   "cell_type": "markdown",
   "metadata": {},
   "source": [
    "## How do the amount of suicides in each country relate to the happiness scores? Does being in a happy country necessarily mean there are less suicides?"
   ]
  },
  {
   "cell_type": "markdown",
   "metadata": {
    "colab_type": "text",
    "id": "kefGjdDWwY6F"
   },
   "source": [
    "The dataset for the WHO Suicide Statistics will be stored under suicide_df. For the purpose of this study, the suicide counts don't need to be separated by sex and age group, therefore the dataset needs cleaning. "
   ]
  },
  {
   "cell_type": "code",
   "execution_count": null,
   "metadata": {
    "colab": {
     "base_uri": "https://localhost:8080/",
     "height": 391
    },
    "colab_type": "code",
    "id": "JSVL4Q896XhP",
    "outputId": "4c4de080-882b-4464-ba41-74f7dbf5b555"
   },
   "outputs": [],
   "source": [
    "suicide_df.head()"
   ]
  },
  {
   "cell_type": "markdown",
   "metadata": {
    "colab_type": "text",
    "id": "-KaivbsGw5W5"
   },
   "source": [
    "The World Happiness Report only includes data for 2015 onwards, so only observations for those years will be used."
   ]
  },
  {
   "cell_type": "code",
   "execution_count": null,
   "metadata": {
    "colab": {
     "base_uri": "https://localhost:8080/",
     "height": 420
    },
    "colab_type": "code",
    "id": "IYPNV6rD_oTy",
    "outputId": "4f284116-5cfa-4c85-c569-b11ff356459d"
   },
   "outputs": [],
   "source": [
    "yearly_suicides_df = suicide_df.loc[suicide_df['year'] > 2004].groupby(['country', 'year']).sum()\n",
    "yearly_suicides_df['suicide_rate'] = yearly_suicides_df['suicides_no'] / yearly_suicides_df['population']\n",
    "yearly_suicides_df = yearly_suicides_df.replace([np.inf, -np.inf], np.nan).dropna()\n",
    "yearly_suicides_df.head(n=10)"
   ]
  },
  {
   "cell_type": "code",
   "execution_count": null,
   "metadata": {
    "colab": {
     "base_uri": "https://localhost:8080/",
     "height": 420
    },
    "colab_type": "code",
    "id": "8h8_S2oR140I",
    "outputId": "62adafe6-555e-4e79-fa2b-c3599dd3ad23"
   },
   "outputs": [],
   "source": [
    "suicide_rates_df = yearly_suicides_df.groupby(['country']).mean()\n",
    "suicide_rates_df.drop(['suicides_no', 'population'], axis=1, inplace=True)\n",
    "\n",
    "suicide_rates_df.sort_values(by=['suicide_rate'], ascending=False).head(n=10)\n"
   ]
  },
  {
   "cell_type": "code",
   "execution_count": null,
   "metadata": {
    "colab": {
     "base_uri": "https://localhost:8080/",
     "height": 683
    },
    "colab_type": "code",
    "id": "d0-OWYysvjk5",
    "outputId": "2727409d-c698-4bb8-ba6b-ceb88260cd0c"
   },
   "outputs": [],
   "source": [
    "suicides_score_df = happiness_df.merge(suicide_rates_df, left_on='Country name', right_on='country', how='inner')\n",
    "\n",
    "suicides_score_df.sort_values(by=['suicide_rate'], ascending=False)\n",
    "suicides_score_df[['Country name', 'Regional indicator', 'Ladder score', 'suicide_rate']].sort_values(by=['suicide_rate'], ascending=False).head(n=10)"
   ]
  },
  {
   "cell_type": "code",
   "execution_count": null,
   "metadata": {},
   "outputs": [],
   "source": [
    "suicides_score_df['normalized_rate'] = (suicides_score_df['suicide_rate']-suicides_score_df['suicide_rate'].min())/(suicides_score_df['suicide_rate'].max()-suicides_score_df['suicide_rate'].min())\n",
    "suicides_score_df[['Country name', 'Regional indicator', 'Ladder score', 'normalized_rate']].sort_values(by=['normalized_rate'], ascending=False).head(n=10)"
   ]
  },
  {
   "cell_type": "markdown",
   "metadata": {},
   "source": [
    "Note: Get percentage of population that committed suicide.\n",
    "clustering for this question\n",
    "color for region"
   ]
  },
  {
   "cell_type": "code",
   "execution_count": null,
   "metadata": {
    "colab": {
     "base_uri": "https://localhost:8080/",
     "height": 278
    },
    "colab_type": "code",
    "id": "7lB4AzW14HiP",
    "outputId": "7997bf45-f46f-46da-9126-878e8603ff08"
   },
   "outputs": [],
   "source": [
    "ax1 = suicides_score_df.plot.scatter(x='Ladder score', y='normalized_rate')"
   ]
  },
  {
   "cell_type": "markdown",
   "metadata": {},
   "source": [
    "Based on the results displayed on the graph, it would seem that despite being \"happier,\" some countries have higher rates of suicide. It seems that higher happiness scores do not mean lower occurences of suicide in a country."
   ]
  },
  {
   "cell_type": "markdown",
   "metadata": {},
   "source": [
    "# Research Questions"
   ]
  },
  {
   "cell_type": "markdown",
   "metadata": {},
   "source": [
    "*Come up with at least 2 research questions that you want\n",
    "to answer using the dataset. The 2 research questions should be answerable\n",
    "using different methods (i.e., do not choose 2 questions that could be answered\n",
    "using the exact same approach but just changing some of the parameters). You\n",
    "should select research questions that are within the scope of the dataset you are\n",
    "working on. For each research question, you must indicate why this question is\n",
    "of interest to you and the community.*"
   ]
  },
  {
   "cell_type": "markdown",
   "metadata": {},
   "source": [
    "## What possible factors are there for the downtrend of happiness score in economically succesful countries"
   ]
  },
  {
   "cell_type": "markdown",
   "metadata": {},
   "source": [
    "## Is there a different reason for higher suicide rates in a country?"
   ]
  },
  {
   "cell_type": "markdown",
   "metadata": {},
   "source": [
    "The results of the exploratory analysis involving suicide incidents showed that having better living conditions or other factors counted towards happiness score doesn't necessarily mean a country would be preventing suicides. Other reasons that don't count towards the happiness score may be a factor in higher suicide rates that should be considered when dealing with mental health."
   ]
  },
  {
   "cell_type": "code",
   "execution_count": null,
   "metadata": {},
   "outputs": [],
   "source": []
  },
  {
   "cell_type": "code",
   "execution_count": null,
   "metadata": {},
   "outputs": [],
   "source": [
    "labels, index = np.unique(suicides_score_df['Regional indicator'], return_inverse=True)\n",
    "\n",
    "fig, ax = plt.subplots()\n",
    "sc = ax.scatter(suicides_score_df['Ladder score'], suicides_score_df['normalized_rate'], marker = 'o', c = index, alpha = 0.8)\n",
    "\n",
    "plt.show()"
   ]
  },
  {
   "cell_type": "code",
   "execution_count": null,
   "metadata": {},
   "outputs": [],
   "source": [
    "labels, index = np.unique(suicides_score_df['Regional indicator'], return_inverse=True)\n",
    "\n",
    "fig, ax = plt.subplots()\n",
    "sc = ax.scatter(suicides_score_df['Ladder score'], suicides_score_df['normalized_rate'], marker = 'o', c = index, alpha = 0.8)\n",
    "ax.legend(sc.legend_elements()[0], labels)\n",
    "plt.show()"
   ]
  },
  {
   "cell_type": "markdown",
   "metadata": {
    "colab_type": "text",
    "id": "kan9tmSKFTdP"
   },
   "source": [
    "# Data Modelling\n",
    "\n",
    "*Perform the necessary steps in answering each of the research\n",
    "questions you have identified. This includes cleaning and validating the data,\n",
    "performing exploratory data analysis, and applying the appropriate data\n",
    "modelling technique for the dataset and each of the research questions that you\n",
    "aim to address.*"
   ]
  },
  {
   "cell_type": "code",
   "execution_count": null,
   "metadata": {
    "colab": {},
    "colab_type": "code",
    "id": "4C3FcH8swTe9"
   },
   "outputs": [],
   "source": []
  },
  {
   "cell_type": "markdown",
   "metadata": {
    "colab_type": "text",
    "id": "XgNi7sdVFj5X"
   },
   "source": [
    "# Insights and Conclusions\n",
    "\n",
    "*Clearly state your insights and conclusions from the\n",
    "data to answer each research question you have defined. Make sure that all\n",
    "conclusions are backed up with statistical evidence when necessary.*"
   ]
  }
 ],
 "metadata": {
  "colab": {
   "collapsed_sections": [],
   "include_colab_link": true,
   "name": "Case Study: World Happiness Report",
   "provenance": [],
   "toc_visible": true
  },
  "kernelspec": {
   "display_name": "Python 3",
   "language": "python",
   "name": "python3"
  },
  "language_info": {
   "codemirror_mode": {
    "name": "ipython",
    "version": 3
   },
   "file_extension": ".py",
   "mimetype": "text/x-python",
   "name": "python",
   "nbconvert_exporter": "python",
   "pygments_lexer": "ipython3",
   "version": "3.7.3"
  }
 },
 "nbformat": 4,
 "nbformat_minor": 1
}
