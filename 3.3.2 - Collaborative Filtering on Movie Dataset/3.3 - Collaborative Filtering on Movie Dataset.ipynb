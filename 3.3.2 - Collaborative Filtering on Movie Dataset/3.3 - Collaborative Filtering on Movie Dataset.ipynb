{
 "cells": [
  {
   "cell_type": "markdown",
   "metadata": {},
   "source": [
    "## Collaborative Filtering on Movie Dataset\n",
    "In this Notebook, we will be implementing an algorithm to perform collaborative filtering to a dataset. We will test our algorithm with a small synthetic (artificial) dataset, before we use the algorithm to recommend items from a larger dataset - the [MovieLens dataset](https://grouplens.org/datasets/movielens/100k/)\n",
    "\n",
    "Our Notebooks in CSMODEL are designed to be guided learning activities. To use them, simply through the cells from top to bottom, following the directions along the way. If you find any unclear parts or mistakes in the Notebooks, email me at arren.antioquia@dlsu.edu.ph"
   ]
  },
  {
   "cell_type": "markdown",
   "metadata": {},
   "source": [
    "## Import\n",
    "Import **pandas** and **matplotlib**."
   ]
  },
  {
   "cell_type": "code",
   "execution_count": 1,
   "metadata": {},
   "outputs": [],
   "source": [
    "import numpy as np\n",
    "import pandas as pd\n",
    "import matplotlib.pyplot as plt\n",
    "\n",
    "%load_ext autoreload\n",
    "%autoreload 2"
   ]
  },
  {
   "cell_type": "markdown",
   "metadata": {},
   "source": [
    "## Synthetic Dataset\n",
    "Before we use a more complicated dataset, we will first demonstrate collaborative filtering using a synthetic (artificial) data drawn from a random sample. Suppose that the values in the synthetic dataset represents the ratings, on a scale of 1 to 5, of people to different movies. Each row represents a movie, while each column represents a person. The synthetic dataset contains 6 different movies rated by 8 different people. A value of `0` means that the person has not rated that movie yet."
   ]
  },
  {
   "cell_type": "code",
   "execution_count": 2,
   "metadata": {},
   "outputs": [
    {
     "output_type": "stream",
     "name": "stdout",
     "text": [
      "[[5 3 4 0 1 3 5 0]\n [0 1 4 5 4 1 2 4]\n [5 2 4 3 4 2 4 5]\n [2 4 1 1 0 5 1 1]\n [5 1 1 0 4 1 0 0]\n [5 3 2 1 0 3 5 1]]\n"
     ]
    }
   ],
   "source": [
    "np.random.seed(1)\n",
    "data = np.random.choice(6, (6, 8))\n",
    "print(data)"
   ]
  },
  {
   "cell_type": "markdown",
   "metadata": {},
   "source": [
    "Convert the data type of the dataset from `numpy` arrays to `pandas` `DataFrame`."
   ]
  },
  {
   "cell_type": "code",
   "execution_count": 3,
   "metadata": {},
   "outputs": [
    {
     "output_type": "stream",
     "name": "stdout",
     "text": [
      "         User 0  User 1  User 2  User 3  User 4  User 5  User 6  User 7\nMovie 0       5       3       4       0       1       3       5       0\nMovie 1       0       1       4       5       4       1       2       4\nMovie 2       5       2       4       3       4       2       4       5\nMovie 3       2       4       1       1       0       5       1       1\nMovie 4       5       1       1       0       4       1       0       0\nMovie 5       5       3       2       1       0       3       5       1\n"
     ]
    }
   ],
   "source": [
    "rows = ['Movie ' + str(x) for x in range(data.shape[0])]\n",
    "columns = ['User ' + str(x) for x in range(data.shape[1])]\n",
    "syn_df = pd.DataFrame(data, index=rows, columns=columns)\n",
    "print(syn_df)"
   ]
  },
  {
   "cell_type": "markdown",
   "metadata": {},
   "source": [
    "Since a value of `0` means that the person has not rated that movie yet, let us replace `0` with the value `NaN`. This is useful if we want to exclude that cells with value `NaN` from the computation."
   ]
  },
  {
   "cell_type": "code",
   "execution_count": 4,
   "metadata": {},
   "outputs": [
    {
     "output_type": "stream",
     "name": "stdout",
     "text": [
      "         User 0  User 1  User 2  User 3  User 4  User 5  User 6  User 7\nMovie 0     5.0       3       4     NaN     1.0       3     5.0     NaN\nMovie 1     NaN       1       4     5.0     4.0       1     2.0     4.0\nMovie 2     5.0       2       4     3.0     4.0       2     4.0     5.0\nMovie 3     2.0       4       1     1.0     NaN       5     1.0     1.0\nMovie 4     5.0       1       1     NaN     4.0       1     NaN     NaN\nMovie 5     5.0       3       2     1.0     NaN       3     5.0     1.0\n"
     ]
    }
   ],
   "source": [
    "syn_df = syn_df.replace(0, np.nan)\n",
    "print(syn_df)"
   ]
  },
  {
   "cell_type": "markdown",
   "metadata": {},
   "source": [
    "## Filtering the Synthetic Dataset\n",
    "Open `collaborative_filtering.py` file. Some of the functions in the `CollaborativeFiltering` class are not yet implemented. We will implement the missing parts of this class."
   ]
  },
  {
   "cell_type": "markdown",
   "metadata": {},
   "source": [
    "Import the `CollaborativeFiltering` class."
   ]
  },
  {
   "cell_type": "code",
   "execution_count": 5,
   "metadata": {},
   "outputs": [],
   "source": [
    "from collaborative_filtering import CollaborativeFiltering"
   ]
  },
  {
   "cell_type": "markdown",
   "metadata": {},
   "source": [
    "Instantiate a `CollaborativeFiltering` object with `k` equal to `2`. The parameter `k` indicates the number of similar items that we need to consider in giving similar recommendations."
   ]
  },
  {
   "cell_type": "code",
   "execution_count": 6,
   "metadata": {},
   "outputs": [],
   "source": [
    "cfilter = CollaborativeFiltering(2)"
   ]
  },
  {
   "cell_type": "markdown",
   "metadata": {},
   "source": [
    "Open `collaborative_filtering.py` file and complete the `get_row_mean()` function. If the parameter `data` is a `DataFrame`, the function will return a `Series` containing the mean of each row in the `DataFrame`. If the parameter `data` is a `Series`, the function will return an `np.float64` which is the mean of the `Series`. This function should not consider blank ratings represented as `NaN`."
   ]
  },
  {
   "cell_type": "markdown",
   "metadata": {},
   "source": [
    "Implement the `get_row_mean()` function. Inline comments should help you in completing the contents of the function. Upon implementing the function, execute the code below then answer the questions."
   ]
  },
  {
   "cell_type": "code",
   "execution_count": 7,
   "metadata": {},
   "outputs": [
    {
     "output_type": "stream",
     "name": "stdout",
     "text": [
      "3.50\n"
     ]
    }
   ],
   "source": [
    "mean = cfilter.get_row_mean(syn_df.iloc[0])\n",
    "print('{:.2f}'.format(mean))"
   ]
  },
  {
   "cell_type": "markdown",
   "metadata": {},
   "source": [
    "**Question #1:** What is the average rating of the movie `0`? Limit to 2 decimal places.\n",
    "- 3.5"
   ]
  },
  {
   "cell_type": "code",
   "execution_count": 8,
   "metadata": {},
   "outputs": [
    {
     "output_type": "stream",
     "name": "stdout",
     "text": [
      "Movie 0    3.50\nMovie 1    3.00\nMovie 2    3.62\nMovie 3    2.14\nMovie 4    2.40\nMovie 5    2.86\ndtype: float64\n"
     ]
    }
   ],
   "source": [
    "mean = cfilter.get_row_mean(syn_df)\n",
    "print(mean.round(2))"
   ]
  },
  {
   "cell_type": "markdown",
   "metadata": {},
   "source": [
    "**Question #2:** What is the average rating of the movie `2`? Limit to 2 decimal places.\n",
    "- 3.62"
   ]
  },
  {
   "cell_type": "markdown",
   "metadata": {},
   "source": [
    "**Question #3:** What is the average rating of the movie `4`? Limit to 2 decimal places.\n",
    "- 2.4"
   ]
  },
  {
   "cell_type": "markdown",
   "metadata": {},
   "source": [
    "Open `collaborative_filtering.py` file and complete the `normalize_data()` function. This function normalizes the dataset by subtracting the row mean for each user rating for a specific movie."
   ]
  },
  {
   "cell_type": "markdown",
   "metadata": {},
   "source": [
    "Implement the `normalize_data()` function. Inline comments should help you in completing the contents of the function. Upon implementing the function, execute the code below then answer the questions."
   ]
  },
  {
   "cell_type": "code",
   "execution_count": 9,
   "metadata": {},
   "outputs": [
    {
     "output_type": "stream",
     "name": "stdout",
     "text": [
      "         User 0  User 1  User 2  User 3  User 4  User 5  User 6  User 7\nMovie 0    1.50   -0.50    0.50     NaN   -2.50   -0.50    1.50     NaN\nMovie 1     NaN   -2.00    1.00    2.00    1.00   -2.00   -1.00    1.00\nMovie 2    1.38   -1.62    0.38   -0.62    0.38   -1.62    0.38    1.38\nMovie 3   -0.14    1.86   -1.14   -1.14     NaN    2.86   -1.14   -1.14\nMovie 4    2.60   -1.40   -1.40     NaN    1.60   -1.40     NaN     NaN\nMovie 5    2.14    0.14   -0.86   -1.86     NaN    0.14    2.14   -1.86\n"
     ]
    }
   ],
   "source": [
    "normalized_df = cfilter.normalize_data(syn_df, mean)\n",
    "print(normalized_df.round(2))"
   ]
  },
  {
   "cell_type": "markdown",
   "metadata": {},
   "source": [
    "**Question #4:** What is the normalized rating of user `0` to movie `0`? Limit to 2 decimal places.\n",
    "- 1.5"
   ]
  },
  {
   "cell_type": "markdown",
   "metadata": {},
   "source": [
    "**Question #5:** What is the normalized rating of user `2` to movie `4`? Limit to 2 decimal places.\n",
    "- -1.4"
   ]
  },
  {
   "cell_type": "markdown",
   "metadata": {},
   "source": [
    "**Question #6:** What is the normalized rating of user `4` to movie `1`? Limit to 2 decimal places.\n",
    "- 1"
   ]
  },
  {
   "cell_type": "markdown",
   "metadata": {},
   "source": [
    "**Question #7:** What is the normalized rating of user `6` to movie `1`? Limit to 2 decimal places.\n",
    "- -1"
   ]
  },
  {
   "cell_type": "markdown",
   "metadata": {},
   "source": [
    "Open `collaborative_filtering.py` file and complete the `get_cosine_similarity()` function. This function computes and returns the cosine similarity between two vectors of the same shape. The cosine similarity, $S_c$, between two vectors $A$ and $B$ is computed as:\n",
    "$$S_c(A, B)=\\dfrac{\\sum_{i=1}^{n} A_i B_i}{\\sqrt{\\sum_{i=1}^{n} A_i^2} \\sqrt{\\sum_{i=1}^{n} B_i^2}}$$\n",
    "\n",
    "This function has 2 parameters - `vector1` and `vector2`. You may pass these combinations of data types in this function:\n",
    "- a `Series` and a `Series` - the function returns a single similarity based on these two vectors. The data type of the result is `np.float64`.\n",
    "- a `DataFrame` and a `Series` - the returns a `Series` of similarities of a single vector (represented as a `Series`) and a set of vectors (represented as a `DataFrame`). If the shape of the `DataFrame` is (3, 2), the shape of the `Series` should be (2,) to enable broadcasting. This operation will result to a `Series` of shape (3,)."
   ]
  },
  {
   "cell_type": "markdown",
   "metadata": {},
   "source": [
    "Implement the `get_cosine_similarity()` function. Inline comments should help you in completing the contents of the function. Upon implementing the function, execute the code below then answer the questions."
   ]
  },
  {
   "cell_type": "markdown",
   "metadata": {},
   "source": [
    "Suppose we want to get the cosine similarity between two vectors. Let's call the `get_cosine_similarity()` function and compute their cosine similarity."
   ]
  },
  {
   "cell_type": "code",
   "execution_count": 10,
   "metadata": {},
   "outputs": [
    {
     "output_type": "stream",
     "name": "stdout",
     "text": [
      "Movie 1: [nan, -2.0, 1.0, 2.0, 1.0, -2.0, -1.0, 1.0]\nMovie 1: [nan, -2.0, 1.0, 2.0, 1.0, -2.0, -1.0, 1.0]\nCosine similarity: 1.00 \n\nMovie 1: [nan, -2.0, 1.0, 2.0, 1.0, -2.0, -1.0, 1.0]\nMovie 2: [1.38, -1.62, 0.38, -0.62, 0.38, -1.62, 0.38, 1.38]\nCosine similarity: 0.56 \n\n"
     ]
    }
   ],
   "source": [
    "sim_1_1 = cfilter.get_cosine_similarity(normalized_df.iloc[1, :], normalized_df.iloc[1, :])\n",
    "print('Movie 1:', [round(x, 2) for x in normalized_df.iloc[1, :]])\n",
    "print('Movie 1:', [round(x, 2) for x in normalized_df.iloc[1, :]])\n",
    "print('Cosine similarity:', '{:.2f}'.format(sim_1_1), '\\n')\n",
    "\n",
    "sim_1_2 = cfilter.get_cosine_similarity(normalized_df.iloc[1, :], normalized_df.iloc[2, :])\n",
    "print('Movie 1:', [round(x, 2) for x in normalized_df.iloc[1, :]])\n",
    "print('Movie 2:', [round(x, 2) for x in normalized_df.iloc[2, :]])\n",
    "print('Cosine similarity:', '{:.2f}'.format(sim_1_2), '\\n')"
   ]
  },
  {
   "cell_type": "markdown",
   "metadata": {},
   "source": [
    "**Question #8:** What is the cosine similarity between movie `1` and movie `1`? Limit to 2 decimal places.\n",
    "- 1"
   ]
  },
  {
   "cell_type": "markdown",
   "metadata": {},
   "source": [
    "**Question #9:** What is the cosine similarity between movie `1` and movie `2`? Limit to 2 decimal places.\n",
    "- 0.56"
   ]
  },
  {
   "cell_type": "markdown",
   "metadata": {},
   "source": [
    "Suppose we want to get the cosine similarity between a set of vectors and another vector. Let's call the `get_cosine_similarity()` function and compute their cosine similarity."
   ]
  },
  {
   "cell_type": "code",
   "execution_count": 11,
   "metadata": {},
   "outputs": [
    {
     "output_type": "stream",
     "name": "stdout",
     "text": [
      "Movie 0: [1.5, -0.5, 0.5, nan, -2.5, -0.5, 1.5, nan]\nMovie 1: [nan, -2.0, 1.0, 2.0, 1.0, -2.0, -1.0, 1.0]\nMovie 2: [1.38, -1.62, 0.38, -0.62, 0.38, -1.62, 0.38, 1.38]\nMovie 3: [-0.14, 1.86, -1.14, -1.14, nan, 2.86, -1.14, -1.14]\nMovie 4: [2.6, -1.4, -1.4, nan, 1.6, -1.4, nan, nan]\nMovie 5: [2.14, 0.14, -0.86, -1.86, nan, 0.14, 2.14, -1.86]\n\nCosine similarities:\nMovie 1   -0.11\nMovie 2    0.33\nMovie 3   -0.35\nMovie 4    0.05\nMovie 5    0.42\ndtype: float64\n"
     ]
    }
   ],
   "source": [
    "sim_0 = cfilter.get_cosine_similarity(normalized_df.iloc[0, :], normalized_df.iloc[1:, :])\n",
    "print('Movie 0:', [round(x, 2) for x in normalized_df.iloc[0, :]])\n",
    "print('Movie 1:', [round(x, 2) for x in normalized_df.iloc[1, :]])\n",
    "print('Movie 2:', [round(x, 2) for x in normalized_df.iloc[2, :]])\n",
    "print('Movie 3:', [round(x, 2) for x in normalized_df.iloc[3, :]])\n",
    "print('Movie 4:', [round(x, 2) for x in normalized_df.iloc[4, :]])\n",
    "print('Movie 5:', [round(x, 2) for x in normalized_df.iloc[5, :]])\n",
    "print('\\nCosine similarities:\\n' + str(sim_0.round(2)))"
   ]
  },
  {
   "cell_type": "markdown",
   "metadata": {},
   "source": [
    "**Question #10:** What is the cosine similarity between movie `0` and movie `1`? Limit to 2 decimal places.\n",
    "- -0.11"
   ]
  },
  {
   "cell_type": "markdown",
   "metadata": {},
   "source": [
    "**Question #11:** What is the cosine similarity between movie `0` and movie `3`? Limit to 2 decimal places.\n",
    "- -0.35"
   ]
  },
  {
   "cell_type": "markdown",
   "metadata": {},
   "source": [
    "**Question #12:** What is the cosine similarity between movie `0` and movie `5`? Limit to 2 decimal places.\n",
    "- 0.42"
   ]
  },
  {
   "cell_type": "markdown",
   "metadata": {},
   "source": [
    "Open `collaborative_filtering.py` file and complete the `get_k_similar()` function. This function returns two values - the indices of the top `k` similar items to the vector from the dataset, and a `Series` representing their similarity values to the vector. This function has 2 parameters - `data` and `vector`. We find the top `k` items from the `DataFrame` `data` which are highly similar to the `Series` `vector`. Since we are talking about vectors, we will measure similarity using the cosine similarity, which we have implemented in the `get_cosine_similarity()` function."
   ]
  },
  {
   "cell_type": "markdown",
   "metadata": {},
   "source": [
    "Implement the `get_k_similar()` function. Inline comments should help you in completing the contents of the function. Upon implementing the function, execute the code below then answer the questions."
   ]
  },
  {
   "cell_type": "markdown",
   "metadata": {},
   "source": [
    "Suppose we want to get the `k` similar movies to movie `0`. Let's call the `get_k_similar()` function, with `k=2` which we have set during instantiation. "
   ]
  },
  {
   "cell_type": "code",
   "execution_count": 12,
   "metadata": {},
   "outputs": [
    {
     "output_type": "stream",
     "name": "stdout",
     "text": [
      "Movie 5    0.42\nMovie 2    0.33\ndtype: float64\n"
     ]
    }
   ],
   "source": [
    "movie0 = syn_df.iloc[0, :]\n",
    "other_movies = syn_df.iloc[1:, :]\n",
    "similar_movies = cfilter.get_k_similar(other_movies, movie0)\n",
    "print(similar_movies[1].round(2))"
   ]
  },
  {
   "cell_type": "markdown",
   "metadata": {},
   "source": [
    "**Question #13:** Give the top 2 movies that are most similar to movie `0`.\n",
    "- Movie 5 & Movie 2"
   ]
  },
  {
   "cell_type": "markdown",
   "metadata": {},
   "source": [
    "Open `collaborative_filtering.py` file and complete the `get_rating()` function. This function computes and returns an extrapolated value for a missing rating. This function has 3 parameters - `data`, `index`, and `column`. The parameter `data` is the dataset represent as a `DataFrame`. The parameters `index` and `column` represent the row and column in the dataset, respectively, of the missing rating that we want to extrapolate.\n",
    "\n",
    "This function gets the top `k` similar items to the item in row `index`, the infer the missing rating for the user in column `column`.\n",
    "\n",
    "The rating of user `x` to item `i`, represented as $r_{xi}$, given the set of similar items `N`, is computed as:\n",
    "\n",
    "$$r_{xi}=\\dfrac{\\sum_{y \\in N}^{}s_{xy}r_{yi}}{\\sum_{y \\in N}^{}s_{xy}}$$"
   ]
  },
  {
   "cell_type": "markdown",
   "metadata": {},
   "source": [
    "Implement the `get_rating()` function. Inline comments should help you in completing the contents of the function. Upon implementing the function, execute the code below then answer the questions."
   ]
  },
  {
   "cell_type": "markdown",
   "metadata": {},
   "source": [
    "In the synthetic dataset, user `3` has not yet rated movie `0`. Let's use the `get_rating()` function to infer the rating of user `3` to movie `0` using similar movies."
   ]
  },
  {
   "cell_type": "code",
   "execution_count": 13,
   "metadata": {},
   "outputs": [
    {
     "output_type": "stream",
     "name": "stdout",
     "text": [
      "1.88\n"
     ]
    }
   ],
   "source": [
    "rating_0_3 = cfilter.get_rating(syn_df, 0, 3)\n",
    "print(round(rating_0_3, 2))"
   ]
  },
  {
   "cell_type": "markdown",
   "metadata": {},
   "source": [
    "**Question #14:** What is the predicted rating of user `3` to movie `0`? Limit to 2 decimal places.\n",
    "- 1.88"
   ]
  },
  {
   "cell_type": "markdown",
   "metadata": {},
   "source": [
    "In the synthetic dataset, user `0` has not yet rated movie `1`. Let's use the `get_rating()` function to infer the rating of user `0` to movie `1` using similar movies."
   ]
  },
  {
   "cell_type": "code",
   "execution_count": 14,
   "metadata": {},
   "outputs": [
    {
     "output_type": "stream",
     "name": "stdout",
     "text": [
      "5.0\n"
     ]
    }
   ],
   "source": [
    "rating_1_0 = cfilter.get_rating(syn_df, 1, 0)\n",
    "print(round(rating_1_0, 2))"
   ]
  },
  {
   "cell_type": "markdown",
   "metadata": {},
   "source": [
    "**Question #15:** What is the predicted rating of user `0` to movie `1`? Limit to 2 decimal places.\n",
    "- 5.0"
   ]
  },
  {
   "cell_type": "markdown",
   "metadata": {},
   "source": [
    "## MovieLens Dataset\n",
    "For this notebook, we will work on a dataset called `MovieLens dataset`. This dataset contains 1682 movies rated by 943 users, from 1-5. There are a total of 100k ratings. We have already pre-processed the dataset to be stored as a csv file, where each row represents a movie and a column represents a user. The value in row `x` and column `y` is the rating of user `y` to movie `x`. A rating of 0 means that the user has not rated the item yet.\n",
    "\n",
    "The dataset is provided to you as a `.csv` file. `.csv` means comma-separated values. You can open the file in Notepad to see how it is exactly formatted."
   ]
  },
  {
   "cell_type": "markdown",
   "metadata": {},
   "source": [
    "Let's read the dataset."
   ]
  },
  {
   "cell_type": "code",
   "execution_count": 15,
   "metadata": {},
   "outputs": [],
   "source": [
    "ml_df = pd.read_csv('ml-100k.csv', header=None)"
   ]
  },
  {
   "cell_type": "markdown",
   "metadata": {},
   "source": [
    "Let's read the file `u.item` which contains details about the movies in the dataset. This is a tab separated\n",
    "list of:\n",
    "movie id | movie title | release date | video release date |IMDb URL | unknown | Action | Adventure | Animation | Children's | Comedy | Crime | Documentary | Drama | Fantasy | Film-Noir | Horror | Musical | Mystery | Romance | Sci-Fi | Thriller | War | Western |\n",
    "The last 19 fields are the genres, a `1` indicates the movie is of that genre, a `0` indicates it is not; movies can be in several genres at once.\n",
    "From this file, we will get the index of our `DataFrame`."
   ]
  },
  {
   "cell_type": "code",
   "execution_count": 23,
   "metadata": {},
   "outputs": [],
   "source": [
    "indices = []\n",
    "# Note: Added encoding to fix UnicodeDecodeError\n",
    "with open('u.item','r',encoding = \"ISO-8859-1\") as f:\n",
    "    line = f.readline()\n",
    "    while line != '':\n",
    "        indices.append(line.split('|')[1])\n",
    "        line = f.readline()\n",
    "ml_df.index = indices\n",
    "ml_df.columns = ['User ' + str(x) for x in range(943)]"
   ]
  },
  {
   "cell_type": "markdown",
   "metadata": {},
   "source": [
    "Since a value of `0` means that the person has not rated that movie yet, let us replace `0` with the value `NaN`. This is useful if we want to exclude that cells with value `NaN` from the computation."
   ]
  },
  {
   "cell_type": "code",
   "execution_count": 24,
   "metadata": {},
   "outputs": [
    {
     "output_type": "execute_result",
     "data": {
      "text/plain": [
       "                                           User 0  User 1  User 2  User 3  \\\n",
       "Toy Story (1995)                              5.0     4.0     NaN     NaN   \n",
       "GoldenEye (1995)                              3.0     NaN     NaN     NaN   \n",
       "Four Rooms (1995)                             4.0     NaN     NaN     NaN   \n",
       "Get Shorty (1995)                             3.0     NaN     NaN     NaN   \n",
       "Copycat (1995)                                3.0     NaN     NaN     NaN   \n",
       "...                                           ...     ...     ...     ...   \n",
       "Mat' i syn (1997)                             NaN     NaN     NaN     NaN   \n",
       "B. Monkey (1998)                              NaN     NaN     NaN     NaN   \n",
       "Sliding Doors (1998)                          NaN     NaN     NaN     NaN   \n",
       "You So Crazy (1994)                           NaN     NaN     NaN     NaN   \n",
       "Scream of Stone (Schrei aus Stein) (1991)     NaN     NaN     NaN     NaN   \n",
       "\n",
       "                                           User 4  User 5  User 6  User 7  \\\n",
       "Toy Story (1995)                              4.0     4.0     NaN     NaN   \n",
       "GoldenEye (1995)                              3.0     NaN     NaN     NaN   \n",
       "Four Rooms (1995)                             NaN     NaN     NaN     NaN   \n",
       "Get Shorty (1995)                             NaN     NaN     5.0     NaN   \n",
       "Copycat (1995)                                NaN     NaN     NaN     NaN   \n",
       "...                                           ...     ...     ...     ...   \n",
       "Mat' i syn (1997)                             NaN     NaN     NaN     NaN   \n",
       "B. Monkey (1998)                              NaN     NaN     NaN     NaN   \n",
       "Sliding Doors (1998)                          NaN     NaN     NaN     NaN   \n",
       "You So Crazy (1994)                           NaN     NaN     NaN     NaN   \n",
       "Scream of Stone (Schrei aus Stein) (1991)     NaN     NaN     NaN     NaN   \n",
       "\n",
       "                                           User 8  User 9  ...  User 933  \\\n",
       "Toy Story (1995)                              NaN     4.0  ...       2.0   \n",
       "GoldenEye (1995)                              NaN     NaN  ...       4.0   \n",
       "Four Rooms (1995)                             NaN     NaN  ...       NaN   \n",
       "Get Shorty (1995)                             NaN     4.0  ...       5.0   \n",
       "Copycat (1995)                                NaN     NaN  ...       NaN   \n",
       "...                                           ...     ...  ...       ...   \n",
       "Mat' i syn (1997)                             NaN     NaN  ...       NaN   \n",
       "B. Monkey (1998)                              NaN     NaN  ...       NaN   \n",
       "Sliding Doors (1998)                          NaN     NaN  ...       NaN   \n",
       "You So Crazy (1994)                           NaN     NaN  ...       NaN   \n",
       "Scream of Stone (Schrei aus Stein) (1991)     NaN     NaN  ...       NaN   \n",
       "\n",
       "                                           User 934  User 935  User 936  \\\n",
       "Toy Story (1995)                                3.0       4.0       NaN   \n",
       "GoldenEye (1995)                                NaN       NaN       NaN   \n",
       "Four Rooms (1995)                               NaN       4.0       NaN   \n",
       "Get Shorty (1995)                               NaN       NaN       NaN   \n",
       "Copycat (1995)                                  NaN       NaN       NaN   \n",
       "...                                             ...       ...       ...   \n",
       "Mat' i syn (1997)                               NaN       NaN       NaN   \n",
       "B. Monkey (1998)                                NaN       NaN       NaN   \n",
       "Sliding Doors (1998)                            NaN       NaN       NaN   \n",
       "You So Crazy (1994)                             NaN       NaN       NaN   \n",
       "Scream of Stone (Schrei aus Stein) (1991)       NaN       NaN       NaN   \n",
       "\n",
       "                                           User 937  User 938  User 939  \\\n",
       "Toy Story (1995)                                4.0       NaN       NaN   \n",
       "GoldenEye (1995)                                NaN       NaN       NaN   \n",
       "Four Rooms (1995)                               NaN       NaN       NaN   \n",
       "Get Shorty (1995)                               NaN       NaN       2.0   \n",
       "Copycat (1995)                                  NaN       NaN       NaN   \n",
       "...                                             ...       ...       ...   \n",
       "Mat' i syn (1997)                               NaN       NaN       NaN   \n",
       "B. Monkey (1998)                                NaN       NaN       NaN   \n",
       "Sliding Doors (1998)                            NaN       NaN       NaN   \n",
       "You So Crazy (1994)                             NaN       NaN       NaN   \n",
       "Scream of Stone (Schrei aus Stein) (1991)       NaN       NaN       NaN   \n",
       "\n",
       "                                           User 940  User 941  User 942  \n",
       "Toy Story (1995)                                5.0       NaN       NaN  \n",
       "GoldenEye (1995)                                NaN       NaN       5.0  \n",
       "Four Rooms (1995)                               NaN       NaN       NaN  \n",
       "Get Shorty (1995)                               NaN       NaN       NaN  \n",
       "Copycat (1995)                                  NaN       NaN       NaN  \n",
       "...                                             ...       ...       ...  \n",
       "Mat' i syn (1997)                               NaN       NaN       NaN  \n",
       "B. Monkey (1998)                                NaN       NaN       NaN  \n",
       "Sliding Doors (1998)                            NaN       NaN       NaN  \n",
       "You So Crazy (1994)                             NaN       NaN       NaN  \n",
       "Scream of Stone (Schrei aus Stein) (1991)       NaN       NaN       NaN  \n",
       "\n",
       "[1682 rows x 943 columns]"
      ],
      "text/html": "<div>\n<style scoped>\n    .dataframe tbody tr th:only-of-type {\n        vertical-align: middle;\n    }\n\n    .dataframe tbody tr th {\n        vertical-align: top;\n    }\n\n    .dataframe thead th {\n        text-align: right;\n    }\n</style>\n<table border=\"1\" class=\"dataframe\">\n  <thead>\n    <tr style=\"text-align: right;\">\n      <th></th>\n      <th>User 0</th>\n      <th>User 1</th>\n      <th>User 2</th>\n      <th>User 3</th>\n      <th>User 4</th>\n      <th>User 5</th>\n      <th>User 6</th>\n      <th>User 7</th>\n      <th>User 8</th>\n      <th>User 9</th>\n      <th>...</th>\n      <th>User 933</th>\n      <th>User 934</th>\n      <th>User 935</th>\n      <th>User 936</th>\n      <th>User 937</th>\n      <th>User 938</th>\n      <th>User 939</th>\n      <th>User 940</th>\n      <th>User 941</th>\n      <th>User 942</th>\n    </tr>\n  </thead>\n  <tbody>\n    <tr>\n      <th>Toy Story (1995)</th>\n      <td>5.0</td>\n      <td>4.0</td>\n      <td>NaN</td>\n      <td>NaN</td>\n      <td>4.0</td>\n      <td>4.0</td>\n      <td>NaN</td>\n      <td>NaN</td>\n      <td>NaN</td>\n      <td>4.0</td>\n      <td>...</td>\n      <td>2.0</td>\n      <td>3.0</td>\n      <td>4.0</td>\n      <td>NaN</td>\n      <td>4.0</td>\n      <td>NaN</td>\n      <td>NaN</td>\n      <td>5.0</td>\n      <td>NaN</td>\n      <td>NaN</td>\n    </tr>\n    <tr>\n      <th>GoldenEye (1995)</th>\n      <td>3.0</td>\n      <td>NaN</td>\n      <td>NaN</td>\n      <td>NaN</td>\n      <td>3.0</td>\n      <td>NaN</td>\n      <td>NaN</td>\n      <td>NaN</td>\n      <td>NaN</td>\n      <td>NaN</td>\n      <td>...</td>\n      <td>4.0</td>\n      <td>NaN</td>\n      <td>NaN</td>\n      <td>NaN</td>\n      <td>NaN</td>\n      <td>NaN</td>\n      <td>NaN</td>\n      <td>NaN</td>\n      <td>NaN</td>\n      <td>5.0</td>\n    </tr>\n    <tr>\n      <th>Four Rooms (1995)</th>\n      <td>4.0</td>\n      <td>NaN</td>\n      <td>NaN</td>\n      <td>NaN</td>\n      <td>NaN</td>\n      <td>NaN</td>\n      <td>NaN</td>\n      <td>NaN</td>\n      <td>NaN</td>\n      <td>NaN</td>\n      <td>...</td>\n      <td>NaN</td>\n      <td>NaN</td>\n      <td>4.0</td>\n      <td>NaN</td>\n      <td>NaN</td>\n      <td>NaN</td>\n      <td>NaN</td>\n      <td>NaN</td>\n      <td>NaN</td>\n      <td>NaN</td>\n    </tr>\n    <tr>\n      <th>Get Shorty (1995)</th>\n      <td>3.0</td>\n      <td>NaN</td>\n      <td>NaN</td>\n      <td>NaN</td>\n      <td>NaN</td>\n      <td>NaN</td>\n      <td>5.0</td>\n      <td>NaN</td>\n      <td>NaN</td>\n      <td>4.0</td>\n      <td>...</td>\n      <td>5.0</td>\n      <td>NaN</td>\n      <td>NaN</td>\n      <td>NaN</td>\n      <td>NaN</td>\n      <td>NaN</td>\n      <td>2.0</td>\n      <td>NaN</td>\n      <td>NaN</td>\n      <td>NaN</td>\n    </tr>\n    <tr>\n      <th>Copycat (1995)</th>\n      <td>3.0</td>\n      <td>NaN</td>\n      <td>NaN</td>\n      <td>NaN</td>\n      <td>NaN</td>\n      <td>NaN</td>\n      <td>NaN</td>\n      <td>NaN</td>\n      <td>NaN</td>\n      <td>NaN</td>\n      <td>...</td>\n      <td>NaN</td>\n      <td>NaN</td>\n      <td>NaN</td>\n      <td>NaN</td>\n      <td>NaN</td>\n      <td>NaN</td>\n      <td>NaN</td>\n      <td>NaN</td>\n      <td>NaN</td>\n      <td>NaN</td>\n    </tr>\n    <tr>\n      <th>...</th>\n      <td>...</td>\n      <td>...</td>\n      <td>...</td>\n      <td>...</td>\n      <td>...</td>\n      <td>...</td>\n      <td>...</td>\n      <td>...</td>\n      <td>...</td>\n      <td>...</td>\n      <td>...</td>\n      <td>...</td>\n      <td>...</td>\n      <td>...</td>\n      <td>...</td>\n      <td>...</td>\n      <td>...</td>\n      <td>...</td>\n      <td>...</td>\n      <td>...</td>\n      <td>...</td>\n    </tr>\n    <tr>\n      <th>Mat' i syn (1997)</th>\n      <td>NaN</td>\n      <td>NaN</td>\n      <td>NaN</td>\n      <td>NaN</td>\n      <td>NaN</td>\n      <td>NaN</td>\n      <td>NaN</td>\n      <td>NaN</td>\n      <td>NaN</td>\n      <td>NaN</td>\n      <td>...</td>\n      <td>NaN</td>\n      <td>NaN</td>\n      <td>NaN</td>\n      <td>NaN</td>\n      <td>NaN</td>\n      <td>NaN</td>\n      <td>NaN</td>\n      <td>NaN</td>\n      <td>NaN</td>\n      <td>NaN</td>\n    </tr>\n    <tr>\n      <th>B. Monkey (1998)</th>\n      <td>NaN</td>\n      <td>NaN</td>\n      <td>NaN</td>\n      <td>NaN</td>\n      <td>NaN</td>\n      <td>NaN</td>\n      <td>NaN</td>\n      <td>NaN</td>\n      <td>NaN</td>\n      <td>NaN</td>\n      <td>...</td>\n      <td>NaN</td>\n      <td>NaN</td>\n      <td>NaN</td>\n      <td>NaN</td>\n      <td>NaN</td>\n      <td>NaN</td>\n      <td>NaN</td>\n      <td>NaN</td>\n      <td>NaN</td>\n      <td>NaN</td>\n    </tr>\n    <tr>\n      <th>Sliding Doors (1998)</th>\n      <td>NaN</td>\n      <td>NaN</td>\n      <td>NaN</td>\n      <td>NaN</td>\n      <td>NaN</td>\n      <td>NaN</td>\n      <td>NaN</td>\n      <td>NaN</td>\n      <td>NaN</td>\n      <td>NaN</td>\n      <td>...</td>\n      <td>NaN</td>\n      <td>NaN</td>\n      <td>NaN</td>\n      <td>NaN</td>\n      <td>NaN</td>\n      <td>NaN</td>\n      <td>NaN</td>\n      <td>NaN</td>\n      <td>NaN</td>\n      <td>NaN</td>\n    </tr>\n    <tr>\n      <th>You So Crazy (1994)</th>\n      <td>NaN</td>\n      <td>NaN</td>\n      <td>NaN</td>\n      <td>NaN</td>\n      <td>NaN</td>\n      <td>NaN</td>\n      <td>NaN</td>\n      <td>NaN</td>\n      <td>NaN</td>\n      <td>NaN</td>\n      <td>...</td>\n      <td>NaN</td>\n      <td>NaN</td>\n      <td>NaN</td>\n      <td>NaN</td>\n      <td>NaN</td>\n      <td>NaN</td>\n      <td>NaN</td>\n      <td>NaN</td>\n      <td>NaN</td>\n      <td>NaN</td>\n    </tr>\n    <tr>\n      <th>Scream of Stone (Schrei aus Stein) (1991)</th>\n      <td>NaN</td>\n      <td>NaN</td>\n      <td>NaN</td>\n      <td>NaN</td>\n      <td>NaN</td>\n      <td>NaN</td>\n      <td>NaN</td>\n      <td>NaN</td>\n      <td>NaN</td>\n      <td>NaN</td>\n      <td>...</td>\n      <td>NaN</td>\n      <td>NaN</td>\n      <td>NaN</td>\n      <td>NaN</td>\n      <td>NaN</td>\n      <td>NaN</td>\n      <td>NaN</td>\n      <td>NaN</td>\n      <td>NaN</td>\n      <td>NaN</td>\n    </tr>\n  </tbody>\n</table>\n<p>1682 rows × 943 columns</p>\n</div>"
     },
     "metadata": {},
     "execution_count": 24
    }
   ],
   "source": [
    "ml_df = ml_df.replace(0, np.nan)\n",
    "ml_df"
   ]
  },
  {
   "cell_type": "markdown",
   "metadata": {},
   "source": [
    "Instantiate a `CollaborativeFiltering` object with `k` equal to `5`. The parameter `k` indicates the number of similar items that we need to consider in giving similar recommendations."
   ]
  },
  {
   "cell_type": "code",
   "execution_count": 25,
   "metadata": {},
   "outputs": [],
   "source": [
    "cfilter = CollaborativeFiltering(5)"
   ]
  },
  {
   "cell_type": "markdown",
   "metadata": {},
   "source": [
    "Suppose that we want to get similar movies to Toy Story (1995). Let's use the `get_k_similar()` function."
   ]
  },
  {
   "cell_type": "code",
   "execution_count": 26,
   "metadata": {},
   "outputs": [
    {
     "output_type": "stream",
     "name": "stdout",
     "text": [
      "Beauty and the Beast (1991)            0.25\nAladdin (1992)                         0.23\nCraft, The (1996)                      0.21\nTransformers: The Movie, The (1986)    0.21\nLion King, The (1994)                  0.21\ndtype: float64\n"
     ]
    }
   ],
   "source": [
    "toy_story = ml_df.iloc[0, :]\n",
    "other_movies = ml_df.iloc[1:, :]\n",
    "\n",
    "similar_movies = cfilter.get_k_similar(other_movies, toy_story)\n",
    "print(similar_movies[1].round(2))"
   ]
  },
  {
   "cell_type": "markdown",
   "metadata": {},
   "source": [
    "**Question #16:** Give the top 5 movies that are most similar to Toy Story (1995).\n",
    "- Beauty and the Beast (1991)\n",
    "- Aladdin (1992)\n",
    "- Craft, The (1996)\n",
    "- Transformers: The Movie, The (1986)\n",
    "- Lion King, The (1994) "
   ]
  },
  {
   "cell_type": "markdown",
   "metadata": {},
   "source": [
    "Suppose that we want to get similar movies to Batman Forever (1995). Let's use the `get_k_similar()` function."
   ]
  },
  {
   "cell_type": "code",
   "execution_count": 27,
   "metadata": {},
   "outputs": [
    {
     "output_type": "stream",
     "name": "stdout",
     "text": [
      "D3: The Mighty Ducks (1996)    0.33\nNet, The (1995)                0.32\nBatman & Robin (1997)          0.31\nCasper (1995)                  0.27\nFirst Kid (1996)               0.26\ndtype: float64\n"
     ]
    }
   ],
   "source": [
    "batman_forever = ml_df.iloc[28, :]\n",
    "other_movies = pd.concat([ml_df.iloc[:28, :], ml_df.iloc[29:, :]])\n",
    "\n",
    "similar_movies = cfilter.get_k_similar(other_movies, batman_forever)\n",
    "print(similar_movies[1].round(2))"
   ]
  },
  {
   "cell_type": "markdown",
   "metadata": {},
   "source": [
    "**Question #17:** Give the top 5 movies that are most similar to Batman Forever (1995).\n",
    "- D3: The Mighty Ducks (1996)\n",
    "- Net, The (1995)            \n",
    "- Batman & Robin (1997)      \n",
    "- Casper (1995)              \n",
    "- First Kid (1996)     "
   ]
  },
  {
   "cell_type": "markdown",
   "metadata": {},
   "source": [
    "Suppose that we want to get similar movies to Aladdin (1992). Let's use the `get_k_similar()` function."
   ]
  },
  {
   "cell_type": "code",
   "execution_count": 28,
   "metadata": {},
   "outputs": [
    {
     "output_type": "stream",
     "name": "stdout",
     "text": [
      "Lion King, The (1994)            0.38\nFox and the Hound, The (1981)    0.31\nBeauty and the Beast (1991)      0.29\nCinderella (1950)                0.27\nAristocats, The (1970)           0.27\ndtype: float64\n"
     ]
    }
   ],
   "source": [
    "aladdin = ml_df.iloc[94, :]\n",
    "other_movies = pd.concat([ml_df.iloc[:94, :], ml_df.iloc[95:, :]])\n",
    "\n",
    "similar_movies = cfilter.get_k_similar(other_movies, aladdin)\n",
    "print(similar_movies[1].round(2))"
   ]
  },
  {
   "cell_type": "markdown",
   "metadata": {},
   "source": [
    "**Question #18:** Give the top 5 movies that are most similar to Aladdin (1992).\n",
    "- Lion King, The (1994)           \n",
    "- Fox and the Hound, The (1981)   \n",
    "- Beauty and the Beast (1991)     \n",
    "- Cinderella (1950)               \n",
    "- Aristocats, The (1970)    "
   ]
  },
  {
   "cell_type": "code",
   "execution_count": null,
   "metadata": {},
   "outputs": [],
   "source": []
  }
 ],
 "metadata": {
  "kernelspec": {
   "display_name": "Python 3",
   "language": "python",
   "name": "python3"
  },
  "language_info": {
   "codemirror_mode": {
    "name": "ipython",
    "version": 3
   },
   "file_extension": ".py",
   "mimetype": "text/x-python",
   "name": "python",
   "nbconvert_exporter": "python",
   "pygments_lexer": "ipython3",
   "version": "3.8.5-final"
  }
 },
 "nbformat": 4,
 "nbformat_minor": 4
}