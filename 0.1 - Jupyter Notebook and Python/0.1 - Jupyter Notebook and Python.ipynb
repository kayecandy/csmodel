{
 "cells": [
  {
   "cell_type": "markdown",
   "metadata": {},
   "source": [
    "## Welcome to your first Jupyter Notebook in CSMODEL!\n",
    "Notebooks are a great way to organize computational operations on data. We will be heavily using Notebooks in our CSMODEL course. This first Notebook is split into two parts. First, it contains a quick introduction to Jupyter Notebooks. Second, it contains a concise Python 3 crash course. Python 3 is the programming language that we will be mainly using throughout CSMODEL.\n",
    "\n",
    "Our Notebooks in CSMODEL are designed to be guided learning activities. To use them, simply through the cells from top to bottom, following the directions along the way. If you find any unclear parts or mistakes in the Notebooks, email me at arren.antioquia@dlsu.edu.ph"
   ]
  },
  {
   "cell_type": "markdown",
   "metadata": {
    "colab_type": "text",
    "id": "2Y-ws5s-D0bD"
   },
   "source": [
    "## Cells\n",
    "There are two types of cells in our notebooks.\n",
    "\n",
    "The one you are looking at right now is a **markdown cell**. It contains text that you can format using a the Markdown language.\n",
    "\n",
    "The other type of cell is a **code cell**. It contains Python code that you can execute. An example of this is the cell below this one. Click on that cell and press CTRL + Enter to execute the code in that cell."
   ]
  },
  {
   "cell_type": "code",
   "execution_count": 7,
   "metadata": {
    "colab": {
     "base_uri": "https://localhost:8080/",
     "height": 35
    },
    "colab_type": "code",
    "id": "A5vlL2jfDNoE",
    "outputId": "7b0fd08a-ac20-4c02-97f0-392001a32f0d"
   },
   "outputs": [
    {
     "output_type": "execute_result",
     "data": {
      "text/plain": [
       "7"
      ]
     },
     "metadata": {},
     "execution_count": 7
    }
   ],
   "source": [
    "2 + 5"
   ]
  },
  {
   "cell_type": "markdown",
   "metadata": {
    "colab_type": "text",
    "id": "NGRsEaRjHTka"
   },
   "source": [
    "As you can see above, if the code cell contains an expression, it will display the result of evaluating that expression when you run it. You can also use Ctrl + Enter to run the cell and automatically move to the next one."
   ]
  },
  {
   "cell_type": "markdown",
   "metadata": {
    "colab_type": "text",
    "id": "J9k8lCPbHTkb"
   },
   "source": [
    "You can double click on a markup cell to see the code that generated it. Double click on this cell to see the Markdown code behind it. To return to the output, run the cell using CTRL + Enter or Shift + Enter.\n",
    "\n",
    "# This is a title\n",
    "## This is a heading\n",
    "### This is a subheading\n",
    "---\n",
    "This is a text where some part is **bold** and some part is *italic*.\n",
    "> This is a blockquote\n",
    "---\n",
    "This is a numbered list.\n",
    "1. Item 1\n",
    "2. Item 2\n",
    "3. Item 3\n",
    "---\n",
    "This is an unordered list.\n",
    "- Item 1\n",
    "- Item 2\n",
    "- Item 3\n",
    "---\n",
    "For more details and the rest of the Markdown syntax, refer to this __[link](https://www.markdownguide.org/getting-started/)__."
   ]
  },
  {
   "cell_type": "markdown",
   "metadata": {
    "colab_type": "text",
    "id": "vf8VuAWJHTkc"
   },
   "source": [
    "## Cell Navigation"
   ]
  },
  {
   "cell_type": "markdown",
   "metadata": {
    "colab_type": "text",
    "id": "Pye5lhd-HTkc"
   },
   "source": [
    "Notebooks come with lots of keyboard shortcuts and you are highly encouraged to use them for easy navigation between cells. Here are some of them:\n",
    "\n",
    "- **Up / Down Arrow Keys**: Move to the previous / next cell.\n",
    "- **CTRL + Enter**: Run the selected cell/s.\n",
    "- **Shift + Enter**: Run the selected cell and move to the next one.\n",
    "- **A**: Insert cell above.\n",
    "- **B**: Insert cell below.\n",
    "- **M**: Change cell type to *Markdown*.\n",
    "- **Y**: Change cell type to *Code*.\n",
    "- **D (twice)**: Delete selected cell/s.\n",
    "- **X**: Cut selected cell/s.\n",
    "- **C**: Copy selected cell/s.\n",
    "- **V**: Paste selected cell/s."
   ]
  },
  {
   "cell_type": "markdown",
   "metadata": {
    "colab_type": "text",
    "id": "Mr0AhkWjHTkd"
   },
   "source": [
    "## Python 3 Crash Course\n",
    "Since we will be using Python 3 in this course, the following section gives you a quick crash course on the language. Please take the time to familiarize yourself with the Python 3 syntax and its capabilities. **Make sure that you run each of the code examples below to see them in action.**"
   ]
  },
  {
   "cell_type": "markdown",
   "metadata": {
    "colab_type": "text",
    "id": "f6SWCAVDHTke"
   },
   "source": [
    "### Variables\n",
    "In Python, variables don't need to be declared before use."
   ]
  },
  {
   "cell_type": "markdown",
   "metadata": {
    "colab_type": "text",
    "id": "MO0T0egJHTke"
   },
   "source": [
    "These are **number** variables."
   ]
  },
  {
   "cell_type": "code",
   "execution_count": 8,
   "metadata": {
    "colab": {},
    "colab_type": "code",
    "id": "QAfVZV0mHTkf",
    "outputId": "66125c3b-662a-4eda-b0ac-55b6553cd133"
   },
   "outputs": [
    {
     "output_type": "stream",
     "name": "stdout",
     "text": [
      "100\n3.14\n"
     ]
    }
   ],
   "source": [
    "integerVar = 100\n",
    "floatVar = 3.14\n",
    "print(integerVar)\n",
    "print(floatVar)"
   ]
  },
  {
   "cell_type": "code",
   "execution_count": 9,
   "metadata": {
    "colab": {},
    "colab_type": "code",
    "id": "WkPdxstcHTki",
    "outputId": "03b7c129-eff1-4a6b-fbc0-4af25241d828"
   },
   "outputs": [
    {
     "output_type": "execute_result",
     "data": {
      "text/plain": [
       "int"
      ]
     },
     "metadata": {},
     "execution_count": 9
    }
   ],
   "source": [
    "type(integerVar)"
   ]
  },
  {
   "cell_type": "code",
   "execution_count": 10,
   "metadata": {
    "colab": {},
    "colab_type": "code",
    "id": "C8GAOHuYHTkl",
    "outputId": "7796319a-82db-444d-fd5f-d9c292c84865"
   },
   "outputs": [
    {
     "output_type": "execute_result",
     "data": {
      "text/plain": [
       "float"
      ]
     },
     "metadata": {},
     "execution_count": 10
    }
   ],
   "source": [
    "type(floatVar)"
   ]
  },
  {
   "cell_type": "markdown",
   "metadata": {
    "colab_type": "text",
    "id": "Xs5yt7-NHTko"
   },
   "source": [
    "These are **string** variables."
   ]
  },
  {
   "cell_type": "code",
   "execution_count": 11,
   "metadata": {
    "colab": {},
    "colab_type": "code",
    "id": "sp5qgU8KHTko",
    "outputId": "2adf5721-b199-42f0-d9fd-af08c24b4c6d"
   },
   "outputs": [
    {
     "output_type": "stream",
     "name": "stdout",
     "text": [
      "Hello World\n"
     ]
    }
   ],
   "source": [
    "stringVar = \"Hello World\" # Strings may also be enclosed with single quotes (')\n",
    "print(stringVar)"
   ]
  },
  {
   "cell_type": "code",
   "execution_count": 12,
   "metadata": {
    "colab": {},
    "colab_type": "code",
    "id": "uyDiKQeLHTkr",
    "outputId": "f7b56696-35e2-4dc2-f501-04876e136ac5",
    "scrolled": true
   },
   "outputs": [
    {
     "output_type": "execute_result",
     "data": {
      "text/plain": [
       "str"
      ]
     },
     "metadata": {},
     "execution_count": 12
    }
   ],
   "source": [
    "type(stringVar)"
   ]
  },
  {
   "cell_type": "markdown",
   "metadata": {
    "colab_type": "text",
    "id": "dOT4bhxmHTkt"
   },
   "source": [
    "**bool** (boolean) values in Python are either `True` or `False`. Note that the first letter should be **capitalized**."
   ]
  },
  {
   "cell_type": "code",
   "execution_count": 13,
   "metadata": {
    "colab": {},
    "colab_type": "code",
    "id": "oy_069ueHTku",
    "outputId": "c0cdafeb-dbf5-45fe-a51a-a603088048b5",
    "scrolled": true
   },
   "outputs": [
    {
     "output_type": "stream",
     "name": "stdout",
     "text": [
      "True\nFalse\n"
     ]
    }
   ],
   "source": [
    "trueVar = True\n",
    "falseVar = False\n",
    "print(trueVar)\n",
    "print(falseVar)"
   ]
  },
  {
   "cell_type": "code",
   "execution_count": 14,
   "metadata": {
    "colab": {},
    "colab_type": "code",
    "id": "O1qcsHE4HTkw",
    "outputId": "425c1a46-e0a1-473f-a419-f2985e1f3552"
   },
   "outputs": [
    {
     "output_type": "execute_result",
     "data": {
      "text/plain": [
       "bool"
      ]
     },
     "metadata": {},
     "execution_count": 14
    }
   ],
   "source": [
    "type(trueVar)"
   ]
  },
  {
   "cell_type": "code",
   "execution_count": 15,
   "metadata": {
    "colab": {},
    "colab_type": "code",
    "id": "9o9mYKKGHTkz",
    "outputId": "4d7ef3ee-0ed6-4657-d971-9737eb5b3cc6"
   },
   "outputs": [
    {
     "output_type": "execute_result",
     "data": {
      "text/plain": [
       "bool"
      ]
     },
     "metadata": {},
     "execution_count": 15
    }
   ],
   "source": [
    "type(falseVar)"
   ]
  },
  {
   "cell_type": "markdown",
   "metadata": {
    "colab_type": "text",
    "id": "k6fjOGzbHTk1"
   },
   "source": [
    "### Arithmetic Operations\n",
    "Arithmetic operations are similar with most other programming languages.\n",
    "One unique arithmetic operator in Python is the exponentiation operator (`**`)."
   ]
  },
  {
   "cell_type": "code",
   "execution_count": 16,
   "metadata": {
    "colab": {},
    "colab_type": "code",
    "id": "ljuA0X5eHTk2"
   },
   "outputs": [],
   "source": [
    "# this cell has no output, but be sure to execute it because the next cells use the variables created here\n",
    "op1 = 10\n",
    "op2 = 4"
   ]
  },
  {
   "cell_type": "code",
   "execution_count": 17,
   "metadata": {
    "colab": {},
    "colab_type": "code",
    "id": "24IQ4dpTHTk5",
    "outputId": "4950e127-83d2-4c9b-dc46-d78201bd8d6e"
   },
   "outputs": [
    {
     "output_type": "execute_result",
     "data": {
      "text/plain": [
       "14"
      ]
     },
     "metadata": {},
     "execution_count": 17
    }
   ],
   "source": [
    "# addition\n",
    "op1 + op2"
   ]
  },
  {
   "cell_type": "code",
   "execution_count": 18,
   "metadata": {
    "colab": {},
    "colab_type": "code",
    "id": "RdDGaT9GHTk7",
    "outputId": "e9feb02f-481f-49ee-a49e-019decb7b7f4",
    "scrolled": true
   },
   "outputs": [
    {
     "output_type": "execute_result",
     "data": {
      "text/plain": [
       "6"
      ]
     },
     "metadata": {},
     "execution_count": 18
    }
   ],
   "source": [
    "# subtraction\n",
    "op1 - op2"
   ]
  },
  {
   "cell_type": "code",
   "execution_count": 19,
   "metadata": {
    "colab": {},
    "colab_type": "code",
    "id": "ACk3tnChHTk-",
    "outputId": "5b6750f2-da62-49a4-a73c-f52170f39e77",
    "scrolled": true
   },
   "outputs": [
    {
     "output_type": "execute_result",
     "data": {
      "text/plain": [
       "40"
      ]
     },
     "metadata": {},
     "execution_count": 19
    }
   ],
   "source": [
    "# multiplication\n",
    "op1 * op2"
   ]
  },
  {
   "cell_type": "code",
   "execution_count": 20,
   "metadata": {
    "colab": {},
    "colab_type": "code",
    "id": "ZVSncN_sHTlB",
    "outputId": "82636c96-5f2f-4726-c0d6-75b7c7a679d9"
   },
   "outputs": [
    {
     "output_type": "execute_result",
     "data": {
      "text/plain": [
       "2.5"
      ]
     },
     "metadata": {},
     "execution_count": 20
    }
   ],
   "source": [
    "# real division\n",
    "op1 / op2"
   ]
  },
  {
   "cell_type": "code",
   "execution_count": 21,
   "metadata": {
    "colab": {},
    "colab_type": "code",
    "id": "lXe_FpJaHTlD",
    "outputId": "e1d15ced-5553-45e4-82b5-7785b12354b4"
   },
   "outputs": [
    {
     "output_type": "execute_result",
     "data": {
      "text/plain": [
       "2"
      ]
     },
     "metadata": {},
     "execution_count": 21
    }
   ],
   "source": [
    "# integer division\n",
    "op1 // op2"
   ]
  },
  {
   "cell_type": "code",
   "execution_count": 22,
   "metadata": {
    "colab": {},
    "colab_type": "code",
    "id": "cTDSznccHTlG",
    "outputId": "35167838-4631-4471-8fe9-23ccf1385226"
   },
   "outputs": [
    {
     "output_type": "execute_result",
     "data": {
      "text/plain": [
       "2"
      ]
     },
     "metadata": {},
     "execution_count": 22
    }
   ],
   "source": [
    "# modulo\n",
    "op1 % op2"
   ]
  },
  {
   "cell_type": "code",
   "execution_count": 23,
   "metadata": {
    "colab": {},
    "colab_type": "code",
    "id": "ag3_9Vd4HTlI",
    "outputId": "630b8645-d59b-4cd6-ff7f-de4ce81d83d9"
   },
   "outputs": [
    {
     "output_type": "execute_result",
     "data": {
      "text/plain": [
       "10000"
      ]
     },
     "metadata": {},
     "execution_count": 23
    }
   ],
   "source": [
    "# exponentiation\n",
    "op1 ** op2"
   ]
  },
  {
   "cell_type": "markdown",
   "metadata": {
    "colab_type": "text",
    "id": "jX5YMgzwHTlK"
   },
   "source": [
    "Complex expressions follow the usual operator precedence in most other languages."
   ]
  },
  {
   "cell_type": "code",
   "execution_count": 24,
   "metadata": {
    "colab": {},
    "colab_type": "code",
    "id": "bufhN8bjHTlK",
    "outputId": "b50abe26-7b80-4da8-ea0e-b8ef1cf35a1e",
    "scrolled": false
   },
   "outputs": [
    {
     "output_type": "execute_result",
     "data": {
      "text/plain": [
       "25.0"
      ]
     },
     "metadata": {},
     "execution_count": 24
    }
   ],
   "source": [
    "10 * (3 + 4 / 2) - 25"
   ]
  },
  {
   "cell_type": "markdown",
   "metadata": {
    "colab_type": "text",
    "id": "py-HKDgUHTlM"
   },
   "source": [
    "**Practice!** Determine the result of the following expression before running it."
   ]
  },
  {
   "cell_type": "code",
   "execution_count": 25,
   "metadata": {
    "colab": {},
    "colab_type": "code",
    "id": "iHnj91K2HTlN"
   },
   "outputs": [
    {
     "output_type": "execute_result",
     "data": {
      "text/plain": [
       "14.5"
      ]
     },
     "metadata": {},
     "execution_count": 25
    }
   ],
   "source": [
    "# Put your prediction here\n",
    "14.5"
   ]
  },
  {
   "cell_type": "code",
   "execution_count": 26,
   "metadata": {
    "colab": {},
    "colab_type": "code",
    "id": "7HIoA_yXHTlP",
    "outputId": "da0a7097-8f61-4c17-a5c8-2594672640bb"
   },
   "outputs": [
    {
     "output_type": "execute_result",
     "data": {
      "text/plain": [
       "14.5"
      ]
     },
     "metadata": {},
     "execution_count": 26
    }
   ],
   "source": [
    "20 + 5 / 2 - (2 ** 3)"
   ]
  },
  {
   "cell_type": "markdown",
   "metadata": {
    "colab_type": "text",
    "id": "mhHDx3WCHTlR"
   },
   "source": [
    "### String Operations\n",
    "Here are some basic operations you can perform on strings. You can play around some of these code to gain a better understanding of how they work. "
   ]
  },
  {
   "cell_type": "code",
   "execution_count": 27,
   "metadata": {
    "colab": {},
    "colab_type": "code",
    "id": "3MvPwZIlHTlR",
    "outputId": "0931be6c-e56a-4686-8d3d-f4c101084284"
   },
   "outputs": [
    {
     "output_type": "execute_result",
     "data": {
      "text/plain": [
       "'leftright'"
      ]
     },
     "metadata": {},
     "execution_count": 27
    }
   ],
   "source": [
    "# concatenation (connect strings together)\n",
    "\"left\" + \"right\""
   ]
  },
  {
   "cell_type": "code",
   "execution_count": 28,
   "metadata": {
    "colab": {},
    "colab_type": "code",
    "id": "kmVnGHA1HTlU",
    "outputId": "afe04014-af31-4438-d0ff-2e0888805112",
    "scrolled": true
   },
   "outputs": [
    {
     "output_type": "execute_result",
     "data": {
      "text/plain": [
       "8"
      ]
     },
     "metadata": {},
     "execution_count": 28
    }
   ],
   "source": [
    "# length (get the number of characters in a string)\n",
    "text = \"sometext\"\n",
    "len(text)"
   ]
  },
  {
   "cell_type": "code",
   "execution_count": 29,
   "metadata": {
    "colab": {},
    "colab_type": "code",
    "id": "EGJuFgBOHTlW",
    "outputId": "3d469367-d8af-43be-e877-6b41f9cd0dcd",
    "scrolled": false
   },
   "outputs": [
    {
     "output_type": "execute_result",
     "data": {
      "text/plain": [
       "'more'"
      ]
     },
     "metadata": {},
     "execution_count": 29
    }
   ],
   "source": [
    "# substring (get a part of the string)\n",
    "text = \"somemoretext\"\n",
    "text[4:8] # change the numbers to explore how slicing works"
   ]
  },
  {
   "cell_type": "markdown",
   "metadata": {
    "colab_type": "text",
    "id": "fCD2Nzx5HTlY"
   },
   "source": [
    "**Practice!** Write a single expression at the end of the following code cell to produce the string `\"monarch\"` using concatenation and substring operations on `text1` and `text2` only."
   ]
  },
  {
   "cell_type": "code",
   "execution_count": 30,
   "metadata": {
    "colab": {},
    "colab_type": "code",
    "id": "W_r2NaUMHTlY"
   },
   "outputs": [
    {
     "output_type": "execute_result",
     "data": {
      "text/plain": [
       "'monarch'"
      ]
     },
     "metadata": {},
     "execution_count": 30
    }
   ],
   "source": [
    "text1 = \"greenarchers\"\n",
    "text2 = \"animolasalle\"\n",
    "# Write your expression here\n",
    "text2[3:5] + text1[4:9]"
   ]
  },
  {
   "cell_type": "markdown",
   "metadata": {
    "colab_type": "text",
    "id": "QO1RxXOtHTla"
   },
   "source": [
    "### Lists\n",
    "Lists are Python's version of arrays. Unlike languages like Java, elements of a list do not need to be the same datatype. Python lists are zero-indexed, meaning the first element is at index 0."
   ]
  },
  {
   "cell_type": "code",
   "execution_count": 31,
   "metadata": {
    "colab": {},
    "colab_type": "code",
    "id": "UWo03cpJHTlb",
    "outputId": "763a38b7-5c3e-49d7-98ff-42c3fda6bbc1",
    "scrolled": true
   },
   "outputs": [
    {
     "output_type": "execute_result",
     "data": {
      "text/plain": [
       "[4, 7, 3.14, 'text']"
      ]
     },
     "metadata": {},
     "execution_count": 31
    }
   ],
   "source": [
    "# creating a list\n",
    "items = [4, 7, 3.14, \"text\"]\n",
    "items"
   ]
  },
  {
   "cell_type": "code",
   "execution_count": 32,
   "metadata": {
    "colab": {},
    "colab_type": "code",
    "id": "EvfRxvOPHTld",
    "outputId": "650fc887-f703-43f1-e4b7-b41ba5ace833"
   },
   "outputs": [
    {
     "output_type": "execute_result",
     "data": {
      "text/plain": [
       "4"
      ]
     },
     "metadata": {},
     "execution_count": 32
    }
   ],
   "source": [
    "# length (number of elements in the list)\n",
    "len(items)"
   ]
  },
  {
   "cell_type": "code",
   "execution_count": 33,
   "metadata": {
    "colab": {},
    "colab_type": "code",
    "id": "C6KY_K9dHTlg",
    "outputId": "513ae151-0b90-4743-b113-283941ef28f8"
   },
   "outputs": [
    {
     "output_type": "execute_result",
     "data": {
      "text/plain": [
       "7"
      ]
     },
     "metadata": {},
     "execution_count": 33
    }
   ],
   "source": [
    "# indexing\n",
    "items[1]"
   ]
  },
  {
   "cell_type": "code",
   "execution_count": 34,
   "metadata": {
    "colab": {},
    "colab_type": "code",
    "id": "t299UdHqHTlj",
    "outputId": "a2affd60-abeb-40c3-9484-32118fb24960"
   },
   "outputs": [
    {
     "output_type": "execute_result",
     "data": {
      "text/plain": [
       "True"
      ]
     },
     "metadata": {},
     "execution_count": 34
    }
   ],
   "source": [
    "# check membership\n",
    "3.14 in items"
   ]
  },
  {
   "cell_type": "code",
   "execution_count": 35,
   "metadata": {
    "colab": {},
    "colab_type": "code",
    "id": "9jML_GDBHTll",
    "outputId": "bd439e81-e2f6-458e-c4e1-cf1acb48d6a0"
   },
   "outputs": [
    {
     "output_type": "execute_result",
     "data": {
      "text/plain": [
       "[4, 7, 3.14, 'text', 'a', 'bc']"
      ]
     },
     "metadata": {},
     "execution_count": 35
    }
   ],
   "source": [
    "# concatenate\n",
    "items + [\"a\", \"b\" + \"c\"]"
   ]
  },
  {
   "cell_type": "code",
   "execution_count": 36,
   "metadata": {
    "colab": {},
    "colab_type": "code",
    "id": "WC3JD0ijHTlq",
    "outputId": "103ae859-ffef-4f1a-c45b-f66a9797a784"
   },
   "outputs": [
    {
     "output_type": "execute_result",
     "data": {
      "text/plain": [
       "[1, 2, 3, 4, 5, 100]"
      ]
     },
     "metadata": {},
     "execution_count": 36
    }
   ],
   "source": [
    "# append to the end of the list\n",
    "numbers = [1, 2, 3, 4, 5]\n",
    "numbers.append(100)\n",
    "numbers"
   ]
  },
  {
   "cell_type": "code",
   "execution_count": 37,
   "metadata": {
    "colab": {},
    "colab_type": "code",
    "id": "t2iKK2K1HTls",
    "outputId": "1273e959-b3ca-43a2-8b0e-6db72e50d8ea"
   },
   "outputs": [
    {
     "output_type": "execute_result",
     "data": {
      "text/plain": [
       "[1, 2, 4, 5]"
      ]
     },
     "metadata": {},
     "execution_count": 37
    }
   ],
   "source": [
    "# remove the element at the given index\n",
    "numbers = [1, 2, 3, 4, 5]\n",
    "numbers.pop(2)\n",
    "numbers"
   ]
  },
  {
   "cell_type": "code",
   "execution_count": null,
   "metadata": {
    "colab": {},
    "colab_type": "code",
    "id": "pTG1HX3MHTlu",
    "outputId": "fd5e7953-4a92-476e-dd3a-6592f354afad"
   },
   "outputs": [],
   "source": [
    "# clear all elements\n",
    "numbers = [1, 2, 3, 4, 5]\n",
    "numbers.clear()\n",
    "numbers"
   ]
  },
  {
   "cell_type": "markdown",
   "metadata": {
    "colab_type": "text",
    "id": "sQ7p9rPxHTlx"
   },
   "source": [
    "**Practice!**: Determine the output of the code cell below before running it."
   ]
  },
  {
   "cell_type": "code",
   "execution_count": 38,
   "metadata": {
    "colab": {},
    "colab_type": "code",
    "id": "OpjPK2jqHTlx",
    "outputId": "abc5b715-2206-47fb-df36-544933f211ba"
   },
   "outputs": [
    {
     "output_type": "execute_result",
     "data": {
      "text/plain": [
       "6"
      ]
     },
     "metadata": {},
     "execution_count": 38
    }
   ],
   "source": [
    "numbers = [1, 2, 3, 4, 5]\n",
    "numbers.append(6)\n",
    "numbers.pop(3)\n",
    "numbers[4]"
   ]
  },
  {
   "cell_type": "code",
   "execution_count": 39,
   "metadata": {
    "colab": {},
    "colab_type": "code",
    "id": "JTvVakY8HTlz"
   },
   "outputs": [
    {
     "output_type": "execute_result",
     "data": {
      "text/plain": [
       "6"
      ]
     },
     "metadata": {},
     "execution_count": 39
    }
   ],
   "source": [
    "# Put your prediction here\n",
    "6"
   ]
  },
  {
   "cell_type": "markdown",
   "metadata": {
    "colab_type": "text",
    "id": "126LsIwTHTl2"
   },
   "source": [
    "### Dictionaries \n",
    "Dictionaries are a collection of key-value pairs. Unlike lists, they are **unordered**. Instead of indexing them, you can access the values by specifiying the key."
   ]
  },
  {
   "cell_type": "code",
   "execution_count": null,
   "metadata": {
    "colab": {},
    "colab_type": "code",
    "id": "p1uQTogkHTl2",
    "outputId": "5504fe77-4eff-41a2-95c6-3b5505149245"
   },
   "outputs": [],
   "source": [
    "student = {\n",
    "    \"name\": \"Buboy\",\n",
    "    \"age\": 10,\n",
    "    \"sex\": \"M\"\n",
    "}\n",
    "student"
   ]
  },
  {
   "cell_type": "code",
   "execution_count": null,
   "metadata": {
    "colab": {},
    "colab_type": "code",
    "id": "hGWafa3CHTl4",
    "outputId": "37a89165-58ad-47a6-ed6a-48192f98c968",
    "scrolled": true
   },
   "outputs": [],
   "source": [
    "# access value\n",
    "student[\"name\"]"
   ]
  },
  {
   "cell_type": "markdown",
   "metadata": {
    "colab_type": "text",
    "id": "NLKmUkhIHTl6"
   },
   "source": [
    "Note that the values of dictionaries could be lists, or even dictionaries."
   ]
  },
  {
   "cell_type": "code",
   "execution_count": 40,
   "metadata": {
    "colab": {},
    "colab_type": "code",
    "id": "N7gOKw3yHTl7",
    "outputId": "e75bdd42-3d78-4a1b-b2f4-465d7d49cde3"
   },
   "outputs": [
    {
     "output_type": "execute_result",
     "data": {
      "text/plain": [
       "{'name': 'Nena',\n",
       " 'age': 12,\n",
       " 'interests': ['math', 'science', 'cooking'],\n",
       " 'favorites': {'food': 'adobo', 'color': 'pink'}}"
      ]
     },
     "metadata": {},
     "execution_count": 40
    }
   ],
   "source": [
    "student = {\n",
    "    \"name\": \"Nena\",\n",
    "    \"age\": 12,\n",
    "    \"interests\": [\"math\", \"science\", \"cooking\"],\n",
    "    \"favorites\": {\n",
    "        \"food\": \"adobo\",\n",
    "        \"color\": \"pink\"\n",
    "    }\n",
    "}\n",
    "student"
   ]
  },
  {
   "cell_type": "code",
   "execution_count": null,
   "metadata": {
    "colab": {},
    "colab_type": "code",
    "id": "K2XF0ur8HTl9",
    "outputId": "d2fd1e88-84c5-4f4f-f526-98eb7617c285"
   },
   "outputs": [],
   "source": [
    "# access value\n",
    "student[\"interests\"][1]"
   ]
  },
  {
   "cell_type": "markdown",
   "metadata": {
    "colab_type": "text",
    "id": "UW0uSuXvHTmA"
   },
   "source": [
    "**Practice!** Write an expression to access Nena's favorite color."
   ]
  },
  {
   "cell_type": "code",
   "execution_count": 41,
   "metadata": {
    "colab": {},
    "colab_type": "code",
    "id": "vR3wizD9HTmB"
   },
   "outputs": [
    {
     "output_type": "execute_result",
     "data": {
      "text/plain": [
       "'pink'"
      ]
     },
     "metadata": {},
     "execution_count": 41
    }
   ],
   "source": [
    "# Write your expression here.\n",
    "student['favorites']['color']"
   ]
  },
  {
   "cell_type": "markdown",
   "metadata": {
    "colab_type": "text",
    "id": "4bsLmO_rHTmF"
   },
   "source": [
    "### If, Else If, Else\n",
    "Like in other languages, you can create branching programs with if else control structures. Here we introduce the syntax of those strutures in Python through some examples.\n",
    "\n",
    "Note that in Python, blocks are not grouped using curly braces { } but are instead grouped by the level of indention."
   ]
  },
  {
   "cell_type": "code",
   "execution_count": null,
   "metadata": {
    "colab": {},
    "colab_type": "code",
    "id": "DoYPI-j4HTmF",
    "outputId": "bc411ebc-348f-46fe-a50d-88f11329ec05"
   },
   "outputs": [],
   "source": [
    "# if and else\n",
    "x = 7 # change the value to get different results\n",
    "if x in [3, 5, 7, 11, 13, 17, 19]:\n",
    "    print(\"x is a prime number less than 20\")\n",
    "else:\n",
    "    print(\"x is not a prime number less than 20\")"
   ]
  },
  {
   "cell_type": "code",
   "execution_count": null,
   "metadata": {
    "colab": {},
    "colab_type": "code",
    "id": "GPn5djKKHTmH",
    "outputId": "58f60bf8-6025-4e7e-c20a-af0a25c903ae"
   },
   "outputs": [],
   "source": [
    "# elif (else if)\n",
    "grade = 5 # change the value to get different results\n",
    "if grade > 50:\n",
    "    print(\"grade is greater than 50\")\n",
    "elif grade > 10:\n",
    "    print(\"grade is greater than 10 but not greater than 50\")\n",
    "else:\n",
    "    print(\"grade is less than or equal to 10\")"
   ]
  },
  {
   "cell_type": "code",
   "execution_count": null,
   "metadata": {
    "colab": {},
    "colab_type": "code",
    "id": "p7JFj7VjHTmK",
    "outputId": "610df561-3399-47cc-b8cb-7e8b9a240993"
   },
   "outputs": [],
   "source": [
    "# nested blocks\n",
    "x = 50 # change the value to get different results\n",
    "if x >= 20:\n",
    "    if x <= 60:\n",
    "        print(\"x is between 20 and 60, inclusive\")\n",
    "    else:\n",
    "        print(\"x is greater than 60\")\n",
    "else:\n",
    "    print(\"x is less than 20\")"
   ]
  },
  {
   "cell_type": "code",
   "execution_count": null,
   "metadata": {
    "colab": {},
    "colab_type": "code",
    "id": "JOyT0yqjHTmM",
    "outputId": "3e108590-e14e-4302-9ed6-511914e5bae5",
    "scrolled": true
   },
   "outputs": [],
   "source": [
    "# logical operator\n",
    "x = 50 # change the value to get different results\n",
    "if x >= 20 and x <= 60:\n",
    "    print(\"x is between 20 and 60, inclusive\")\n",
    "elif x < 20 or x > 60:\n",
    "    print(\"x is less than 20 or greater than 60\")"
   ]
  },
  {
   "cell_type": "markdown",
   "metadata": {
    "colab_type": "text",
    "id": "fDxw2USWHTmN"
   },
   "source": [
    "### `while` Loop\n",
    "You can also use loops in Python. For now, we will look at the `while` loop only as the `for` loop works slightly differently in Python than in most other languages. The `for` loop will be covered later on in this Notebook."
   ]
  },
  {
   "cell_type": "code",
   "execution_count": null,
   "metadata": {
    "colab": {},
    "colab_type": "code",
    "id": "T_rG0OArHTmO",
    "outputId": "0561ed6f-275d-4fa0-fb64-a6616827a0d4"
   },
   "outputs": [],
   "source": [
    "n = 2048\n",
    "while n > 0:\n",
    "    print(n)\n",
    "    n = n // 2"
   ]
  },
  {
   "cell_type": "code",
   "execution_count": null,
   "metadata": {
    "colab": {},
    "colab_type": "code",
    "id": "W9m4JeWaHTmP",
    "outputId": "1dcb041b-8f90-479a-f139-c9112a5b8328",
    "scrolled": true
   },
   "outputs": [],
   "source": [
    "list = [\"i\", \"am\", \"a\", \"good\", \"boy\"]\n",
    "while len(list) > 0:\n",
    "    print(list[0])\n",
    "    list.pop(0)"
   ]
  },
  {
   "cell_type": "markdown",
   "metadata": {
    "colab_type": "text",
    "id": "Crf2YmfkHTmR"
   },
   "source": [
    "### Functions\n",
    "Functions in Python use the following notation:\n",
    "```\n",
    "def <function name>(<arguments>):\n",
    "    <statements>\n",
    "```"
   ]
  },
  {
   "cell_type": "code",
   "execution_count": null,
   "metadata": {
    "colab": {},
    "colab_type": "code",
    "id": "TYxbLsjTHTmS"
   },
   "outputs": [],
   "source": [
    "# example function\n",
    "def remainder(n, m):\n",
    "    while True:\n",
    "        if n - m < 0:\n",
    "            return n\n",
    "        else:\n",
    "            n = n - m"
   ]
  },
  {
   "cell_type": "code",
   "execution_count": null,
   "metadata": {
    "colab": {},
    "colab_type": "code",
    "id": "2Y2HqobbHTmU",
    "outputId": "37604071-70e1-4d51-8816-e039e143d236"
   },
   "outputs": [],
   "source": [
    "# function call\n",
    "remainder(10, 4)"
   ]
  },
  {
   "cell_type": "markdown",
   "metadata": {
    "colab_type": "text",
    "id": "w75esIpZHTmW"
   },
   "source": [
    "**Practice**: Use conditional and iterative statements to define a function `is_prime` that returns `True` if a number `n` is prime and `False` otherwise. Assume we will handle only numbers less than 100 so there is no need to use an efficient algorithm (just check if each number below `n` is a factor)."
   ]
  },
  {
   "cell_type": "code",
   "execution_count": 57,
   "metadata": {
    "colab": {},
    "colab_type": "code",
    "id": "dePqFjDvHTmX"
   },
   "outputs": [],
   "source": [
    "def is_prime(n):\n",
    "    # In Python, empty functions will have an error if you don't put pass in them.\n",
    "    # When you write your function, remember to remove this line.\n",
    "    for i in range(2, n):\n",
    "        if(n % i == 0):\n",
    "            return False\n",
    "\n",
    "    return True\n",
    "    \n",
    "    \n",
    "    \n",
    "    "
   ]
  },
  {
   "cell_type": "code",
   "execution_count": 58,
   "metadata": {
    "colab": {},
    "colab_type": "code",
    "id": "KpEMutgHHTmZ",
    "outputId": "d663b189-b1e2-401b-f1ab-f37403ca5d8d"
   },
   "outputs": [
    {
     "output_type": "stream",
     "name": "stdout",
     "text": [
      "True\nFalse\nFalse\nTrue\nFalse\nTrue\n"
     ]
    }
   ],
   "source": [
    "print(is_prime(7))\n",
    "print(is_prime(9))\n",
    "print(is_prime(33))\n",
    "print(is_prime(47))\n",
    "print(is_prime(80))\n",
    "print(is_prime(1))"
   ]
  },
  {
   "cell_type": "markdown",
   "metadata": {
    "colab_type": "text",
    "id": "cIinldxpHTmd"
   },
   "source": [
    "## The New Stuff \n",
    "So far, we have covered Python features that are more or less probably familiar to you already from your experiences in your previous programming classes. Now we will look at a few capabilities of Python that may be new to you. You are **required** to be familiar with these features as we move forward in CSMODEL to please take the time to get yourself comfortable with these."
   ]
  },
  {
   "cell_type": "markdown",
   "metadata": {
    "colab_type": "text",
    "id": "6lmIg5zxHTmd"
   },
   "source": [
    "### Tuples\n",
    "You can think of tuples as lists but have fixed values that cannot be changed. You also cannot add or remove elements from it."
   ]
  },
  {
   "cell_type": "code",
   "execution_count": null,
   "metadata": {
    "colab": {},
    "colab_type": "code",
    "id": "wY6CqmW9HTme",
    "outputId": "d67dac1a-9860-41c2-e96b-823ed4b88fba"
   },
   "outputs": [],
   "source": [
    "# creating tuples\n",
    "t1 = (1, 3)\n",
    "t2 = (6, 4, 7)\n",
    "print(t1)\n",
    "print(t2)"
   ]
  },
  {
   "cell_type": "code",
   "execution_count": null,
   "metadata": {
    "colab": {},
    "colab_type": "code",
    "id": "Laz1JcvbHTmi",
    "outputId": "df07edb6-b290-4662-a59e-b2b9e036cb24",
    "scrolled": true
   },
   "outputs": [],
   "source": [
    "# length\n",
    "print(len(t1))\n",
    "print(len(t2))"
   ]
  },
  {
   "cell_type": "code",
   "execution_count": null,
   "metadata": {
    "colab": {},
    "colab_type": "code",
    "id": "MqPeAdzoHTml",
    "outputId": "854da7e5-07bb-4f42-f5b3-81c754fcec24",
    "scrolled": false
   },
   "outputs": [],
   "source": [
    "# indexing\n",
    "print(t1[0])\n",
    "print(t2[1])"
   ]
  },
  {
   "cell_type": "code",
   "execution_count": null,
   "metadata": {
    "colab": {},
    "colab_type": "code",
    "id": "yaCooxsvHTmn",
    "outputId": "f7e81b86-23da-4d26-ae52-5355b34077da",
    "scrolled": false
   },
   "outputs": [],
   "source": [
    "t1[0] = 1 # This will cause an error since tuples are immutable."
   ]
  },
  {
   "cell_type": "markdown",
   "metadata": {
    "colab_type": "text",
    "id": "kwaX599XHTmp"
   },
   "source": [
    "### List Slicing\n",
    "In Python it is easy to select parts of an list using slice notations."
   ]
  },
  {
   "cell_type": "code",
   "execution_count": null,
   "metadata": {
    "colab": {},
    "colab_type": "code",
    "id": "mpbQOQkLHTmp"
   },
   "outputs": [],
   "source": [
    "# this cell has no output, but be sure to execute it because the next cells use the variable created here\n",
    "multiples = [5, 10, 15, 20, 25, 30, 35, 40, 45, 50]"
   ]
  },
  {
   "cell_type": "code",
   "execution_count": null,
   "metadata": {
    "colab": {},
    "colab_type": "code",
    "id": "8whCu9egHTms",
    "outputId": "544c6732-0fae-485d-f456-b2f87cbe0cf8"
   },
   "outputs": [],
   "source": [
    "# get every element in index range [3, 8)\n",
    "multiples[3:8] # change the numbers here to explore how slicing works"
   ]
  },
  {
   "cell_type": "code",
   "execution_count": null,
   "metadata": {
    "colab": {},
    "colab_type": "code",
    "id": "obW5-BErHTmv",
    "outputId": "1a6c0084-12cd-4460-95b0-c4d47399a1b3"
   },
   "outputs": [],
   "source": [
    "# since no end index is specified, get everything from index 4 to the end\n",
    "multiples[4:] # change the number here to explore how slicing works"
   ]
  },
  {
   "cell_type": "code",
   "execution_count": null,
   "metadata": {
    "colab": {},
    "colab_type": "code",
    "id": "rY60LzNMHTmx",
    "outputId": "c95421af-5756-4f59-a860-e80d2a0729d4",
    "scrolled": true
   },
   "outputs": [],
   "source": [
    "# since no start index is specified, get everything from the beginning to index 4, exclusive\n",
    "multiples[:4] # change the number here to explore how slicing works"
   ]
  },
  {
   "cell_type": "markdown",
   "metadata": {
    "colab_type": "text",
    "id": "dqUtafMeHTmz"
   },
   "source": [
    "If you use negative integers for the start or end indices, it means that you are counting **from the end of the list**."
   ]
  },
  {
   "cell_type": "code",
   "execution_count": null,
   "metadata": {
    "colab": {},
    "colab_type": "code",
    "id": "PyPBk8YXHTmz",
    "outputId": "358c3e13-587d-4ad8-dd53-043857f22e37"
   },
   "outputs": [],
   "source": [
    "# start at index 8 (2 from the end) and get everything to the end\n",
    "multiples[-2:] # change the number here to explore how slicing works"
   ]
  },
  {
   "cell_type": "code",
   "execution_count": null,
   "metadata": {
    "colab": {},
    "colab_type": "code",
    "id": "lPv_z0RdHTm1",
    "outputId": "1ab97d25-1474-4810-9330-9775515b2286"
   },
   "outputs": [],
   "source": [
    "# get everything from the beginning up to index 8 (2 from the end), exclusive\n",
    "multiples[:-2] # change the number here to explore how slicing works"
   ]
  },
  {
   "cell_type": "markdown",
   "metadata": {
    "colab_type": "text",
    "id": "wP1jtvR4HTm3"
   },
   "source": [
    "**Practice!**: Write a single expression that creates a new list containing the first 3 and last 3 elements of the original list.\n",
    "\n",
    "`arr`: `[1, 2, 3, 4, 5, 6, 7, 8, 9, 10]`\n",
    "\n",
    "Expected: `[1, 2, 3, 8, 9, 10]`\n",
    "\n",
    "**Note:** It should work even if you change the number of elements of `arr`. You may assume `arr` always has at least 6 elements.\n"
   ]
  },
  {
   "cell_type": "code",
   "execution_count": 60,
   "metadata": {
    "colab": {},
    "colab_type": "code",
    "id": "q-7e0HQcHTm3"
   },
   "outputs": [
    {
     "output_type": "execute_result",
     "data": {
      "text/plain": [
       "[1, 2, 3, 8, 9, 10]"
      ]
     },
     "metadata": {},
     "execution_count": 60
    }
   ],
   "source": [
    "arr = [1, 2, 3, 4, 5, 6, 7, 8, 9, 10]\n",
    "# Write your expression here\n",
    "arr[:3] + arr[-3:]"
   ]
  },
  {
   "cell_type": "markdown",
   "metadata": {
    "colab_type": "text",
    "id": "IuxBrm4sHTm4"
   },
   "source": [
    "### Generator Functions\n",
    "A generator function is a function that produces a sequence of values. The values are produced using the `yield` keyword. Every time `yield` is called, a value is produced. For example, this is a function that produces the numbers from 1 to `n` using a `while` loop."
   ]
  },
  {
   "cell_type": "code",
   "execution_count": 62,
   "metadata": {
    "colab": {},
    "colab_type": "code",
    "id": "0nDD5M8bHTm5"
   },
   "outputs": [],
   "source": [
    "def gen_num_up_to(n):\n",
    "    num = 1\n",
    "    while num <= n:\n",
    "        yield num\n",
    "        num += 1"
   ]
  },
  {
   "cell_type": "markdown",
   "metadata": {
    "colab_type": "text",
    "id": "uVzc_25pHTm6"
   },
   "source": [
    "Here is a generator function that produces the first 15 terms of the __[fibonacci sequence](https://www.mathsisfun.com/numbers/fibonacci-sequence.html)__."
   ]
  },
  {
   "cell_type": "code",
   "execution_count": 66,
   "metadata": {
    "colab": {},
    "colab_type": "code",
    "id": "VCZDNSaxHTm7"
   },
   "outputs": [],
   "source": [
    "def gen_fib():\n",
    "    a = 0\n",
    "    b = 1\n",
    "    yield a\n",
    "    yield b\n",
    "    ctr = 2\n",
    "    while ctr < 15:\n",
    "        c = a + b\n",
    "        yield c\n",
    "        a = b\n",
    "        b = c\n",
    "        ctr += 1"
   ]
  },
  {
   "cell_type": "markdown",
   "metadata": {
    "colab_type": "text",
    "id": "tpV1Vn6XHTm8"
   },
   "source": [
    "You can use generator functions to initialize the elements of a list like the following examples."
   ]
  },
  {
   "cell_type": "code",
   "execution_count": 63,
   "metadata": {
    "colab": {},
    "colab_type": "code",
    "id": "fRLTRoheHTm8",
    "outputId": "45f8cc48-b3ea-4a5d-e1f1-3785ba1f918d"
   },
   "outputs": [
    {
     "output_type": "execute_result",
     "data": {
      "text/plain": [
       "[1, 2, 3, 4, 5, 6, 7, 8, 9, 10]"
      ]
     },
     "metadata": {},
     "execution_count": 63
    }
   ],
   "source": [
    "[v for v in gen_num_up_to(10)]"
   ]
  },
  {
   "cell_type": "code",
   "execution_count": 64,
   "metadata": {
    "colab": {},
    "colab_type": "code",
    "id": "mEOf1mgdHTm9",
    "outputId": "1c310e53-9ddb-49d8-d23a-f3857e888146"
   },
   "outputs": [
    {
     "output_type": "execute_result",
     "data": {
      "text/plain": [
       "[1, 2, 3, 4, 5, 6, 7, 8, 9, 10, 11, 12, 13, 14, 15, 16, 17, 18, 19, 20]"
      ]
     },
     "metadata": {},
     "execution_count": 64
    }
   ],
   "source": [
    "[v for v in gen_num_up_to(20)]"
   ]
  },
  {
   "cell_type": "code",
   "execution_count": 67,
   "metadata": {
    "colab": {},
    "colab_type": "code",
    "id": "akfj12q5HTnB",
    "outputId": "00ac704e-6af2-4cce-94a2-95056e668f8f"
   },
   "outputs": [
    {
     "output_type": "execute_result",
     "data": {
      "text/plain": [
       "[0, 1, 1, 2, 3, 5, 8, 13, 21, 34, 55, 89, 144, 233, 377]"
      ]
     },
     "metadata": {},
     "execution_count": 67
    }
   ],
   "source": [
    "[v for v in gen_fib()]"
   ]
  },
  {
   "cell_type": "markdown",
   "metadata": {
    "colab_type": "text",
    "id": "IlmlMSgoHTnD"
   },
   "source": [
    "**Practice!**: Write a generator function called `gen_five()` that generates multiples of 5 between 1 and 100 inclusive."
   ]
  },
  {
   "cell_type": "code",
   "execution_count": 68,
   "metadata": {
    "colab": {},
    "colab_type": "code",
    "id": "RlWog5Y3HTnD"
   },
   "outputs": [],
   "source": [
    "# Write your generator function here.\n",
    "def gen_five():\n",
    "    i = 5\n",
    "    while i <= 100:\n",
    "        yield i\n",
    "        i+=5\n",
    "\n",
    "\n",
    "\n",
    "\n"
   ]
  },
  {
   "cell_type": "code",
   "execution_count": 69,
   "metadata": {
    "colab": {},
    "colab_type": "code",
    "id": "m5peIkG5HTnF",
    "outputId": "9c43251e-e76c-4d37-9200-3c57b23713d1",
    "scrolled": true
   },
   "outputs": [
    {
     "output_type": "execute_result",
     "data": {
      "text/plain": [
       "[5,\n",
       " 10,\n",
       " 15,\n",
       " 20,\n",
       " 25,\n",
       " 30,\n",
       " 35,\n",
       " 40,\n",
       " 45,\n",
       " 50,\n",
       " 55,\n",
       " 60,\n",
       " 65,\n",
       " 70,\n",
       " 75,\n",
       " 80,\n",
       " 85,\n",
       " 90,\n",
       " 95,\n",
       " 100]"
      ]
     },
     "metadata": {},
     "execution_count": 69
    }
   ],
   "source": [
    "[v for v in gen_five()]"
   ]
  },
  {
   "cell_type": "markdown",
   "metadata": {
    "colab_type": "text",
    "id": "Y_n1OQrUHTnG"
   },
   "source": [
    "### `range` Function\n",
    "The `range` function is a built-in function that can also be used to initialize arrays. The `range` function is **not** a generator function (it is a function that returns an immutable sequence type), but for now you can think of it as having a similar purpose."
   ]
  },
  {
   "cell_type": "code",
   "execution_count": 70,
   "metadata": {
    "colab": {},
    "colab_type": "code",
    "id": "DYbJ2mXpHTnH",
    "outputId": "4feb89d3-df8e-4a71-eabf-006f8652d694"
   },
   "outputs": [
    {
     "output_type": "execute_result",
     "data": {
      "text/plain": [
       "[0, 1, 2, 3, 4, 5, 6, 7, 8, 9]"
      ]
     },
     "metadata": {},
     "execution_count": 70
    }
   ],
   "source": [
    "# one argument: from 0 to the given number with a step of 1\n",
    "[v for v in range(10)]"
   ]
  },
  {
   "cell_type": "code",
   "execution_count": 71,
   "metadata": {
    "colab": {},
    "colab_type": "code",
    "id": "g-pCVkGRHTnI",
    "outputId": "987a6b53-1162-4f4e-d517-7b9ac49b0089"
   },
   "outputs": [
    {
     "output_type": "execute_result",
     "data": {
      "text/plain": [
       "[10, 11, 12, 13, 14, 15, 16, 17, 18, 19]"
      ]
     },
     "metadata": {},
     "execution_count": 71
    }
   ],
   "source": [
    "# two arguments: in the given range with a step of 1\n",
    "[v for v in range(10, 20)]"
   ]
  },
  {
   "cell_type": "code",
   "execution_count": 72,
   "metadata": {
    "colab": {},
    "colab_type": "code",
    "id": "-zoNhybEHTnK",
    "outputId": "c72ed9f7-1c10-4967-d9f4-8ceb7d5c4cd4"
   },
   "outputs": [
    {
     "output_type": "execute_result",
     "data": {
      "text/plain": [
       "[1, 4, 7, 10, 13, 16, 19, 22, 25, 28, 31, 34, 37, 40, 43, 46, 49]"
      ]
     },
     "metadata": {},
     "execution_count": 72
    }
   ],
   "source": [
    "# three arguments: in the given range with the given step\n",
    "[v for v in range(1, 50, 3)]"
   ]
  },
  {
   "cell_type": "markdown",
   "metadata": {
    "colab_type": "text",
    "id": "AndqVxK0HTnL"
   },
   "source": [
    "### `for` Loops\n",
    "In Python, a `for` loop is a versatile way to write loops that iterate over sequences or elements of a list. Here are some examples on how you can use a `for` loop in Python."
   ]
  },
  {
   "cell_type": "code",
   "execution_count": null,
   "metadata": {
    "colab": {},
    "colab_type": "code",
    "id": "E4NZr1flHTnM",
    "outputId": "2a1d5b2e-68b2-4939-cfdc-f204f77666a6",
    "scrolled": true
   },
   "outputs": [],
   "source": [
    "# iterate over a list\n",
    "fruits = [\"apple\", \"banana\", \"orange\", \"grapes\", \"pineapple\"]\n",
    "for x in fruits:\n",
    "    print(x)"
   ]
  },
  {
   "cell_type": "code",
   "execution_count": 73,
   "metadata": {
    "colab": {},
    "colab_type": "code",
    "id": "d-t4INVZHTnO",
    "outputId": "bcf207ff-6bc0-4a05-f3cc-30b6bdfaa96b",
    "scrolled": true
   },
   "outputs": [
    {
     "output_type": "stream",
     "name": "stdout",
     "text": [
      "1\n3\n7\n15\n31\n63\n"
     ]
    }
   ],
   "source": [
    "# iterate over a sequence of elements from a generator function\n",
    "def gen_numbers():\n",
    "    n = 1\n",
    "    while n < 100:\n",
    "        yield n\n",
    "        n = 2 * n + 1\n",
    "        \n",
    "for x in gen_numbers():\n",
    "    print(x)"
   ]
  },
  {
   "cell_type": "code",
   "execution_count": null,
   "metadata": {
    "colab": {},
    "colab_type": "code",
    "id": "s4U5MCdMHTnP",
    "outputId": "b768af16-9a98-4e48-a9a7-991b286a00a1",
    "scrolled": true
   },
   "outputs": [],
   "source": [
    "# iterate over a sequence of numbers from a range function call\n",
    "for x in range(10):\n",
    "    print(x)"
   ]
  },
  {
   "cell_type": "code",
   "execution_count": null,
   "metadata": {
    "colab": {},
    "colab_type": "code",
    "id": "fk3_VwFoHTnR",
    "outputId": "6ee5facb-c419-44e7-ae69-06faab8e9fb6"
   },
   "outputs": [],
   "source": [
    "# iterate over a string's characters\n",
    "for x in \"Hello\":\n",
    "    print(x)"
   ]
  },
  {
   "cell_type": "code",
   "execution_count": null,
   "metadata": {
    "colab": {},
    "colab_type": "code",
    "id": "pvYszFjcHTnT",
    "outputId": "b510e393-6a55-4ce8-922e-b56e5fbc93f6",
    "scrolled": true
   },
   "outputs": [],
   "source": [
    "# nested for loop\n",
    "for x in range(6):\n",
    "    line = \"\"\n",
    "    for y in range(x):\n",
    "        line += \"*\"\n",
    "    print(line)"
   ]
  },
  {
   "cell_type": "markdown",
   "metadata": {
    "colab_type": "text",
    "id": "rd3u2CXoHTnV"
   },
   "source": [
    "**Practice**: Write a `for` loop that prints all multiples of 7 from 1 to 100."
   ]
  },
  {
   "cell_type": "code",
   "execution_count": 75,
   "metadata": {
    "colab": {},
    "colab_type": "code",
    "id": "ebrzI1PjHTnX"
   },
   "outputs": [
    {
     "output_type": "stream",
     "name": "stdout",
     "text": [
      "7\n14\n21\n28\n35\n42\n49\n56\n63\n70\n77\n84\n91\n98\n"
     ]
    }
   ],
   "source": [
    "# Write your for loop here.\n",
    "for i in range(7,100, 7):\n",
    "    print(i)\n",
    "\n",
    "\n",
    "\n",
    "\n"
   ]
  },
  {
   "cell_type": "markdown",
   "metadata": {},
   "source": [
    "### Lambda Functions\n",
    "You can think of lambda functions as short, anonymous (no name) functions. Lambda functions return a value, but can only have a **single** expression inside."
   ]
  },
  {
   "cell_type": "code",
   "execution_count": null,
   "metadata": {},
   "outputs": [],
   "source": [
    "# Lambda function for doubling a number\n",
    "doubler = lambda x : x * 2"
   ]
  },
  {
   "cell_type": "markdown",
   "metadata": {},
   "source": [
    "In this case, `x` is the parameter of the function, and the function returns `x * 2`. The lambda function is then assigned to a variable called `doubler`. We can call this function like a normal function."
   ]
  },
  {
   "cell_type": "code",
   "execution_count": null,
   "metadata": {},
   "outputs": [],
   "source": [
    "doubler(10)"
   ]
  },
  {
   "cell_type": "code",
   "execution_count": null,
   "metadata": {},
   "outputs": [],
   "source": [
    "doubler(100)"
   ]
  },
  {
   "cell_type": "markdown",
   "metadata": {},
   "source": [
    "Here is a normal function that accepts a lambda function as a parameter for `operation`. The function performs the operation on the value and displays the result."
   ]
  },
  {
   "cell_type": "code",
   "execution_count": 76,
   "metadata": {},
   "outputs": [],
   "source": [
    "def operate_and_print(value, operation):\n",
    "    result = operation(value)\n",
    "    print(\"Result: \" + str(result))"
   ]
  },
  {
   "cell_type": "markdown",
   "metadata": {},
   "source": [
    "Now, we can call the function like so:"
   ]
  },
  {
   "cell_type": "code",
   "execution_count": null,
   "metadata": {
    "scrolled": true
   },
   "outputs": [],
   "source": [
    "# Pass a lambda function that returns the value after adding 100.\n",
    "operate_and_print(100, lambda x : x + 100)"
   ]
  },
  {
   "cell_type": "code",
   "execution_count": null,
   "metadata": {},
   "outputs": [],
   "source": [
    "# Pass a lambda function that returns the square root of the value\n",
    "import math\n",
    "operate_and_print(100, lambda x : math.sqrt(x))"
   ]
  },
  {
   "cell_type": "code",
   "execution_count": null,
   "metadata": {},
   "outputs": [],
   "source": [
    "# Pass a lambda function that returns 0 regardless of the value\n",
    "operate_and_print(100, lambda x : 0)"
   ]
  },
  {
   "cell_type": "markdown",
   "metadata": {},
   "source": [
    "Although lambda functions look like a more limited form of a function, it will come particularly useful later on, so it's a good idea to familiarize yourself with it."
   ]
  },
  {
   "cell_type": "markdown",
   "metadata": {},
   "source": [
    "**Practice!** Call `operate_and_print`, passing in 100 as the `value`, and a lambda function that returns the given the value squared."
   ]
  },
  {
   "cell_type": "code",
   "execution_count": 77,
   "metadata": {},
   "outputs": [
    {
     "output_type": "stream",
     "name": "stdout",
     "text": [
      "Result: 10000\n"
     ]
    }
   ],
   "source": [
    "# Write your expression here\n",
    "operate_and_print(100, lambda x: x*x)"
   ]
  }
 ],
 "metadata": {
  "colab": {
   "name": "1 - Jupyter Notebook and Python.ipynb",
   "provenance": []
  },
  "kernelspec": {
   "display_name": "Python 3",
   "language": "python",
   "name": "python3"
  },
  "language_info": {
   "codemirror_mode": {
    "name": "ipython",
    "version": 3
   },
   "file_extension": ".py",
   "mimetype": "text/x-python",
   "name": "python",
   "nbconvert_exporter": "python",
   "pygments_lexer": "ipython3",
   "version": "3.8.5-final"
  }
 },
 "nbformat": 4,
 "nbformat_minor": 1
}