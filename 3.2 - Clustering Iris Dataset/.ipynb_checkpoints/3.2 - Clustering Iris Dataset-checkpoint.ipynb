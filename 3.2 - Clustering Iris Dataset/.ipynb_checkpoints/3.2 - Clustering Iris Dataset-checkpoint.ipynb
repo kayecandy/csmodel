{
 "cells": [
  {
   "cell_type": "markdown",
   "metadata": {},
   "source": [
    "## Clustering Iris Dataset\n",
    "\n",
    "In this Notebook, we will be implementing the k-means algorithm to group our datasets into clusters. We will test our algorithm with a small synthetic (artificial) dataset, before we use the algorithm to find association rules from a larger dataset - the [iris dataset](https://www.kaggle.com/uciml/iris).\n",
    "\n",
    "Our Notebooks in CSMODEL are designed to be guided learning activities. To use them, simply through the cells from top to bottom, following the directions along the way. If you find any unclear parts or mistakes in the Notebooks, email me at thomas.tiam-lee@dlsu.edu.ph."
   ]
  },
  {
   "cell_type": "markdown",
   "metadata": {},
   "source": [
    "## Import\n",
    "Import **pandas** and **matplotlib**."
   ]
  },
  {
   "cell_type": "code",
   "execution_count": null,
   "metadata": {},
   "outputs": [],
   "source": [
    "import numpy as np\n",
    "import pandas as pd\n",
    "import matplotlib.pyplot as plt"
   ]
  },
  {
   "cell_type": "markdown",
   "metadata": {},
   "source": [
    "## Synthetic Dataset\n",
    "Before we use a more complicated dataset, we will first demonstrate the k-means clustering using a synthetic (artificial) data drawn from a normal distribution. The synthetic dataset is composed of 2 variables - `x` and `y`, for easy visualization in a plot. The dataset contains 3 clusters of data points. Each cluster contains 100 observations."
   ]
  },
  {
   "cell_type": "code",
   "execution_count": null,
   "metadata": {},
   "outputs": [],
   "source": [
    "cluster1 = (50, 60)\n",
    "cluster2 = (80, 20)\n",
    "cluster3 = (100, 70)\n",
    "distance = 10\n",
    "np.random.seed(1)\n",
    "\n",
    "x1 = np.random.normal(cluster1[0], distance, size=(100,))\n",
    "y1 = np.random.normal(cluster1[1], distance, size=(100,)) \n",
    "\n",
    "x2 = np.random.normal(cluster2[0], distance, size=(100,))\n",
    "y2 = np.random.normal(cluster2[1], distance, size=(100,)) \n",
    "\n",
    "x3 = np.random.normal(cluster3[0], distance, size=(100,))\n",
    "y3 = np.random.normal(cluster3[1], distance, size=(100,)) "
   ]
  },
  {
   "cell_type": "markdown",
   "metadata": {},
   "source": [
    "Let's visualize the synthetic dataset in a graph. Each cluster is represented in different colors."
   ]
  },
  {
   "cell_type": "code",
   "execution_count": null,
   "metadata": {},
   "outputs": [],
   "source": [
    "plt.plot(x1, y1, 'r+')\n",
    "plt.plot(x2, y2, 'g+')\n",
    "plt.plot(x3, y3, 'b+')\n",
    "plt.grid()\n",
    "plt.show()"
   ]
  },
  {
   "cell_type": "markdown",
   "metadata": {},
   "source": [
    "Convert the data type of the dataset from `numpy` arrays to `pandas` `DataFrame`."
   ]
  },
  {
   "cell_type": "code",
   "execution_count": null,
   "metadata": {},
   "outputs": [],
   "source": [
    "class1 = np.full((100,), 0, dtype=int)\n",
    "class2 = np.full((100,), 1, dtype=int)\n",
    "class3 = np.full((100,), 2, dtype=int)\n",
    "\n",
    "x = pd.Series(np.hstack((x1, x2, x3)))\n",
    "y = pd.Series(np.hstack((y1, y2, y3)))\n",
    "c = pd.Series(np.hstack((class1, class2, class3)))\n",
    "\n",
    "syn_df = pd.DataFrame({'x': x, 'y': y, 'class': c})"
   ]
  },
  {
   "cell_type": "markdown",
   "metadata": {},
   "source": [
    "Show the contents of the `DataFrame` which contains the set of 300 randomly generated points."
   ]
  },
  {
   "cell_type": "code",
   "execution_count": null,
   "metadata": {},
   "outputs": [],
   "source": [
    "print(syn_df)"
   ]
  },
  {
   "cell_type": "markdown",
   "metadata": {},
   "source": [
    "Display dataset info using the `info` function."
   ]
  },
  {
   "cell_type": "code",
   "execution_count": null,
   "metadata": {},
   "outputs": [],
   "source": [
    "syn_df.info()"
   ]
  },
  {
   "cell_type": "markdown",
   "metadata": {},
   "source": [
    "## Creating Clusters in the Synthetic Dataset using k-Means Algorithm\n",
    "Open `kmeans.py` file. Some of the functions in the `KMeans` class are not yet implemented. We will implement the missing parts of this class."
   ]
  },
  {
   "cell_type": "markdown",
   "metadata": {},
   "source": [
    "Import the `KMeans` class."
   ]
  },
  {
   "cell_type": "code",
   "execution_count": null,
   "metadata": {},
   "outputs": [],
   "source": [
    "from kmeans import KMeans"
   ]
  },
  {
   "cell_type": "markdown",
   "metadata": {},
   "source": [
    "Instantiate a `KMeans` object with `k` equal to `3`, `start_var` equal to `0`, `end_var` equal to `2`, `num_observations` equal to `300`, and `data` equal to the `DataFrame` object which represents our synthetic dataset. The parameter `k` indicates the number of clusters that we want to create from the data. The parameters `start_var` and the `end_var` indicate the starting index and the ending index, respectively, of variables (columns) that we need to use as we create clusters from the dataset. This is useful if you want to exclude some columns of the `DataFrame` from the calculation when creating clusters. The parameter `num_observations` represents the total number of observations (rows) in the dataset. The parameter `data` is the `DataFrame` representation of the dataset that we want to cluster."
   ]
  },
  {
   "cell_type": "code",
   "execution_count": null,
   "metadata": {},
   "outputs": [],
   "source": [
    "kmeans = KMeans(3, 0, 2, 300, syn_df)"
   ]
  },
  {
   "cell_type": "markdown",
   "metadata": {},
   "source": [
    "Open `kmeans.py` file and complete the `get_euclidean_distance()` function. This function returns the Euclidean distance between 2 data points `p` and `q`. \n",
    "\n",
    "$$D(p, q)=\\sqrt{\\sum_{i=0}^{n} (q_i - p_i)^2}$$\n",
    "\n",
    "This function has 2 parameters - `point1` and `point2`. You may pass these combinations of data types in this function:\n",
    "- a `Series` and a `Series` - the function returns a single distance based on these two datapoints. The data type of the result is `np.float64`.\n",
    "- a `DataFrame` and a `Series` - the returns a `Series` of distances of a single data point (represented as a `Series`) and a set of data points (represented as a `DataFrame`). If the shape of the `DataFrame` is (3, 2), the shape of the `Series` should be (2,) to enable broadcasting. This operation will result to a `Series` of shape (3,)."
   ]
  },
  {
   "cell_type": "markdown",
   "metadata": {},
   "source": [
    "Implement the `get_euclidean_distance()` function. Inline comments should help you in completing the contents of the function. Upon implementing the function, execute the code below then answer the questions."
   ]
  },
  {
   "cell_type": "markdown",
   "metadata": {},
   "source": [
    "Suppose we create two data points with 2 variables generated from random values. Let's call the `get_euclidean_distance()` function and compute its Euclidean distance."
   ]
  },
  {
   "cell_type": "code",
   "execution_count": null,
   "metadata": {},
   "outputs": [],
   "source": [
    "np.random.seed(1)\n",
    "point1 = np.random.randint(1, 10, size=(2,))\n",
    "point2 = np.random.randint(1, 10, size=(2,))\n",
    "\n",
    "s_point1 = pd.Series(point1)\n",
    "s_point2 = pd.Series(point2)\n",
    "distance = kmeans.get_euclidean_distance(s_point1, s_point2)\n",
    "\n",
    "print('Point1:\\n' + str(point1))\n",
    "print('Point2:\\n' + str(point2))\n",
    "print('Distance:\\n' + str(distance))"
   ]
  },
  {
   "cell_type": "markdown",
   "metadata": {},
   "source": [
    "**Question:** What is the distance between the two data points [6, 9] and [6, 1]? \n",
    "- *Write your answer here.*"
   ]
  },
  {
   "cell_type": "markdown",
   "metadata": {},
   "source": [
    "Suppose we create a set of data points and a single data point. Let's call the `get_euclidean_distance()` function and compute their Euclidean distance."
   ]
  },
  {
   "cell_type": "code",
   "execution_count": null,
   "metadata": {},
   "outputs": [],
   "source": [
    "np.random.seed(1)\n",
    "point1 = np.random.randint(1, 10, size=(3,2))\n",
    "point2 = np.random.randint(1, 10, size=(2,))\n",
    "\n",
    "df_point1 = pd.DataFrame(point1)\n",
    "s_point2 = pd.Series(point2)\n",
    "distance = kmeans.get_euclidean_distance(df_point1, s_point2)\n",
    "\n",
    "print('Point1:\\n' + str(point1))\n",
    "print('Point2:\\n' + str(point2))\n",
    "print('Distances:\\n' + str(distance))"
   ]
  },
  {
   "cell_type": "markdown",
   "metadata": {},
   "source": [
    "**Question:** What is the distance between the two data points [6, 9] and [8, 7]? \n",
    "- *Write your answer here.*"
   ]
  },
  {
   "cell_type": "markdown",
   "metadata": {},
   "source": [
    "**Question:** What is the distance between the two data points [6, 1] and [8, 7]? \n",
    "- *Write your answer here.*"
   ]
  },
  {
   "cell_type": "markdown",
   "metadata": {},
   "source": [
    "**Question:** What is the distance between the two data points [1, 2] and [8, 7]? \n",
    "- *Write your answer here.*"
   ]
  },
  {
   "cell_type": "markdown",
   "metadata": {},
   "source": [
    "Open `kmeans.py` file and complete the `initialize_centroids`() function. This function initializes `k` centroids. This function picks a random point from the dataset as the first centroid, then iteratively picks points that are farthest from the current set of centroids."
   ]
  },
  {
   "cell_type": "markdown",
   "metadata": {},
   "source": [
    "Implement the `initialize_centroids()` function. Inline comments should help you in completing the contents of the function. Upon implementing the function, execute the code below then answer the questions."
   ]
  },
  {
   "cell_type": "code",
   "execution_count": null,
   "metadata": {},
   "outputs": [],
   "source": [
    "centroids = kmeans.initialize_centroids(syn_df)\n",
    "print(centroids)"
   ]
  },
  {
   "cell_type": "markdown",
   "metadata": {},
   "source": [
    "**Question:** What are the coordinates of the the first centroid? \n",
    "- *Write your answer here.*"
   ]
  },
  {
   "cell_type": "markdown",
   "metadata": {},
   "source": [
    "**Question:** What are the coordinates of the the second centroid? \n",
    "- *Write your answer here.*"
   ]
  },
  {
   "cell_type": "markdown",
   "metadata": {},
   "source": [
    "**Question:** What are the coordinates of the the third centroid? \n",
    "- *Write your answer here.*"
   ]
  },
  {
   "cell_type": "markdown",
   "metadata": {},
   "source": [
    "Let's visualize the initial location of our centroids."
   ]
  },
  {
   "cell_type": "code",
   "execution_count": null,
   "metadata": {},
   "outputs": [],
   "source": [
    "plt.plot(syn_df.loc[syn_df['class'] == 0, 'x'], syn_df.loc[syn_df['class'] == 0, 'y'], 'r+')\n",
    "plt.plot(syn_df.loc[syn_df['class'] == 1, 'x'], syn_df.loc[syn_df['class'] == 1, 'y'], 'g+')\n",
    "plt.plot(syn_df.loc[syn_df['class'] == 2, 'x'], syn_df.loc[syn_df['class'] == 2, 'y'], 'b+')\n",
    "\n",
    "for i in range(len(kmeans.centroids)):\n",
    "    plt.plot(kmeans.centroids.iloc[i]['x'], kmeans.centroids.iloc[i]['y'], 'k*', ms=12)\n",
    "\n",
    "plt.grid()"
   ]
  },
  {
   "cell_type": "markdown",
   "metadata": {},
   "source": [
    "**Sanity Check:** The initial location of your centroids should look like this:\n",
    "<img src=\"img/initial_centroids.PNG\" alt=\"Initial Centroid Locations\" style=\"width: 350px;\"/>"
   ]
  },
  {
   "cell_type": "markdown",
   "metadata": {},
   "source": [
    "Open `kmeans.py` file and complete the `group_observations()` function. This function returns the clusters of each data point in the dataset given the current set of centroids."
   ]
  },
  {
   "cell_type": "markdown",
   "metadata": {},
   "source": [
    "Implement the `group_observations()` function. Inline comments should help you in completing the contents of the function. Upon implementing the function, execute the code below then answer the questions."
   ]
  },
  {
   "cell_type": "code",
   "execution_count": null,
   "metadata": {},
   "outputs": [],
   "source": [
    "clusters = kmeans.group_observations(syn_df)\n",
    "print('Number of data points in each cluster:')\n",
    "print('Cluster 0: ', clusters.loc[clusters == 0].shape[0])\n",
    "print('Cluster 1: ', clusters.loc[clusters == 1].shape[0])\n",
    "print('Cluster 2: ', clusters.loc[clusters == 2].shape[0])"
   ]
  },
  {
   "cell_type": "markdown",
   "metadata": {},
   "source": [
    "**Question:** After clustering the data points using the initial values of the centroids, how many data points are included in cluster 0?\n",
    "- *Write your answer here.*"
   ]
  },
  {
   "cell_type": "markdown",
   "metadata": {},
   "source": [
    "**Question:** After clustering the data points using the initial values of the centroids, how many data points are included in cluster 1?\n",
    "- *Write your answer here.*"
   ]
  },
  {
   "cell_type": "markdown",
   "metadata": {},
   "source": [
    "**Question:** After clustering the data points using the initial values of the centroids, how many data points are included in cluster 2?\n",
    "- *Write your answer here.*"
   ]
  },
  {
   "cell_type": "markdown",
   "metadata": {},
   "source": [
    "Open `kmeans.py` file and complete the `adjust_centroids()` function. This function adjusts the location of centroids based on the average of the values of the data points in their corresponding clusters."
   ]
  },
  {
   "cell_type": "markdown",
   "metadata": {},
   "source": [
    "Implement the `adjust_centroids()` function. Inline comments should help you in completing the contents of the function. Upon implementing the function, execute the code below then answer the questions."
   ]
  },
  {
   "cell_type": "code",
   "execution_count": null,
   "metadata": {},
   "outputs": [],
   "source": [
    "new_centroids = kmeans.adjust_centroids(syn_df, clusters)\n",
    "print(new_centroids)"
   ]
  },
  {
   "cell_type": "markdown",
   "metadata": {},
   "source": [
    "**Question:** After clustering the dataset in one iteration, what are the updated coordinates of the the first centroid? \n",
    "- *Write your answer here.*"
   ]
  },
  {
   "cell_type": "markdown",
   "metadata": {},
   "source": [
    "**Question:** After clustering the dataset in one iteration, what are the updated coordinates of the the second centroid? \n",
    "- *Write your answer here.*"
   ]
  },
  {
   "cell_type": "markdown",
   "metadata": {},
   "source": [
    "**Question:** After clustering the dataset in one iteration, what are the updated coordinates of the the third centroid? \n",
    "- *Write your answer here.*"
   ]
  },
  {
   "cell_type": "markdown",
   "metadata": {},
   "source": [
    "After the first iteration of the k-means algorithm, let's visualize the updated location of our centroids."
   ]
  },
  {
   "cell_type": "code",
   "execution_count": null,
   "metadata": {},
   "outputs": [],
   "source": [
    "plt.plot(syn_df.loc[clusters == 0, 'x'], syn_df.loc[clusters == 0, 'y'], 'r+')\n",
    "plt.plot(syn_df.loc[clusters == 1, 'x'], syn_df.loc[clusters == 1, 'y'], 'g+')\n",
    "plt.plot(syn_df.loc[clusters == 2, 'x'], syn_df.loc[clusters == 2, 'y'], 'b+')\n",
    "\n",
    "for i in range(len(kmeans.centroids)):\n",
    "    plt.plot(new_centroids.iloc[i]['x'], new_centroids.iloc[i]['y'], 'k*', ms=12)\n",
    "\n",
    "plt.grid()"
   ]
  },
  {
   "cell_type": "markdown",
   "metadata": {},
   "source": [
    "**Sanity Check:** After the first iteration of the k-means algorithm, the updated location of your centroids should look like this:\n",
    "<img src=\"img/centroids_iter1.PNG\" alt=\"Centroid Location after Iteration 1\" style=\"width: 350px;\"/>"
   ]
  },
  {
   "cell_type": "markdown",
   "metadata": {},
   "source": [
    "Open `kmeans.py` file and complete the `train()` function. This function returns a `Series` which represents the final clusters of each data point in the dataset. This function stops clustering if one of the following is met:\n",
    "- The values of the centroids do not change.\n",
    "- The clusters of each data point do not change.\n",
    "- The maximum number of iterations is met."
   ]
  },
  {
   "cell_type": "markdown",
   "metadata": {},
   "source": [
    "Implement the `train()` function. Inline comments should help you in completing the contents of the function. Upon implementing the function, execute the code below then answer the questions."
   ]
  },
  {
   "cell_type": "code",
   "execution_count": null,
   "metadata": {},
   "outputs": [],
   "source": [
    "groups = kmeans.train(syn_df, 300)"
   ]
  },
  {
   "cell_type": "code",
   "execution_count": null,
   "metadata": {},
   "outputs": [],
   "source": [
    "print('Number of data points in each cluster:')\n",
    "print('Cluster 0: ', groups.loc[groups == 0].shape[0])\n",
    "print('Cluster 1: ', groups.loc[groups == 1].shape[0])\n",
    "print('Cluster 2: ', groups.loc[groups == 2].shape[0])"
   ]
  },
  {
   "cell_type": "markdown",
   "metadata": {},
   "source": [
    "**Question:** After clustering, how many data points are included in cluster 0?\n",
    "- *Write your answer here.*"
   ]
  },
  {
   "cell_type": "markdown",
   "metadata": {},
   "source": [
    "**Question:** After clustering, how many data points are included in cluster 1?\n",
    "- *Write your answer here.*"
   ]
  },
  {
   "cell_type": "markdown",
   "metadata": {},
   "source": [
    "**Question:** After clustering, how many data points are included in cluster 2?\n",
    "- *Write your answer here.*"
   ]
  },
  {
   "cell_type": "markdown",
   "metadata": {},
   "source": [
    "After executing the k-means algorithm, let's visualize our final clusters compared to our data."
   ]
  },
  {
   "cell_type": "code",
   "execution_count": null,
   "metadata": {},
   "outputs": [],
   "source": [
    "syn_new_df = pd.concat([syn_df.iloc[:, 0:2], groups.rename('group')], axis=1)\n",
    "\n",
    "fig, axs = plt.subplots(1, 2, figsize=(10,5))\n",
    "\n",
    "axs[0].plot(syn_df.loc[syn_df['class'] == 0, 'x'], syn_df.loc[syn_df['class'] == 0, 'y'], 'r+')\n",
    "axs[0].plot(syn_df.loc[syn_df['class'] == 1, 'x'], syn_df.loc[syn_df['class'] == 1, 'y'], 'g+')\n",
    "axs[0].plot(syn_df.loc[syn_df['class'] == 2, 'x'], syn_df.loc[syn_df['class'] == 2, 'y'], 'b+')\n",
    "\n",
    "axs[1].plot(syn_new_df.loc[syn_new_df['group'] == 0, 'x'], syn_new_df.loc[syn_new_df['group'] == 0, 'y'], 'b+')\n",
    "axs[1].plot(syn_new_df.loc[syn_new_df['group'] == 1, 'x'], syn_new_df.loc[syn_new_df['group'] == 1, 'y'], 'g+')\n",
    "axs[1].plot(syn_new_df.loc[syn_new_df['group'] == 2, 'x'], syn_new_df.loc[syn_new_df['group'] == 2, 'y'], 'r+')\n",
    "\n",
    "for i in range(len(kmeans.centroids)):\n",
    "    axs[1].plot(kmeans.centroids.iloc[i]['x'], kmeans.centroids.iloc[i]['y'], 'k*', ms=12)\n",
    "\n",
    "axs[0].grid()\n",
    "axs[1].grid()"
   ]
  },
  {
   "cell_type": "markdown",
   "metadata": {},
   "source": [
    "## Iris Dataset\n",
    "For this notebook, we will work on a dataset called `iris dataset`. This dataset includes three iris species with 50 samples each as well as some properties about each plant. One plant species is linearly separable from the other two, but the other two are not linearly separable from each other.\n",
    "\n",
    "The dataset is provided to you as a `.csv` file. `.csv` means comma-separated values. You can open the file in Notepad to see how it is exactly formatted."
   ]
  },
  {
   "cell_type": "markdown",
   "metadata": {},
   "source": [
    "If you view the `.csv` file in Excel, you can see that our dataset contains 150 **observations** (rows) across 6 **variables** (columns). The following are the descriptions of each variable in the dataset.\n",
    "\n",
    "- **`Id`**: Identifier.\n",
    "- **`SepalLengthCm`**: Sepal length in centimeters\n",
    "- **`SepalWidthCm`**: Sepal width in centimeters\n",
    "- **`PetalLengthCm`**: Petal length in centimeters\n",
    "- **`PetalWidthCm`**: Petal width in centimeters\n",
    "- **`Species`**: Species of iris - `Iris-setosa`; `Iris-versicolor`; `Iris-virginica`"
   ]
  },
  {
   "cell_type": "markdown",
   "metadata": {},
   "source": [
    "Let's read the dataset."
   ]
  },
  {
   "cell_type": "code",
   "execution_count": null,
   "metadata": {},
   "outputs": [],
   "source": [
    "iris_df = pd.read_csv('iris.csv')"
   ]
  },
  {
   "cell_type": "markdown",
   "metadata": {},
   "source": [
    "Whenever we load a new dataset, it is generally a good idea to call the [`info`](https://pandas.pydata.org/pandas-docs/stable/reference/api/pandas.DataFrame.info.html) function, which displays general information about the dataset."
   ]
  },
  {
   "cell_type": "code",
   "execution_count": null,
   "metadata": {},
   "outputs": [],
   "source": [
    "iris_df.info()"
   ]
  },
  {
   "cell_type": "markdown",
   "metadata": {},
   "source": [
    "Instantiate a `KMeans` object with `k` equal to `3`, `start_var` equal to `1`, `end_var` equal to `5`, `num_observations` equal to `150`, and `data` equal to the `DataFrame` object which represents the iris dataset. "
   ]
  },
  {
   "cell_type": "code",
   "execution_count": null,
   "metadata": {},
   "outputs": [],
   "source": [
    "kmeans = KMeans(3, 1, 5, 150, iris_df)"
   ]
  },
  {
   "cell_type": "markdown",
   "metadata": {},
   "source": [
    "Initialize the centroids."
   ]
  },
  {
   "cell_type": "code",
   "execution_count": null,
   "metadata": {},
   "outputs": [],
   "source": [
    "kmeans.initialize_centroids(iris_df)"
   ]
  },
  {
   "cell_type": "markdown",
   "metadata": {},
   "source": [
    "Cluster the dataset."
   ]
  },
  {
   "cell_type": "code",
   "execution_count": null,
   "metadata": {},
   "outputs": [],
   "source": [
    "groups = kmeans.train(iris_df, 300)"
   ]
  },
  {
   "cell_type": "markdown",
   "metadata": {},
   "source": [
    "Check the number of  per class in each cluster. Answer the questions below."
   ]
  },
  {
   "cell_type": "code",
   "execution_count": null,
   "metadata": {},
   "outputs": [],
   "source": [
    "cluster_0 = iris_df.loc[groups == 0]\n",
    "cluster_1 = iris_df.loc[groups == 1]\n",
    "cluster_2 = iris_df.loc[groups == 2]\n",
    "\n",
    "print('Number of data points in each cluster:')\n",
    "print('Cluster 0:')\n",
    "print('Class Iris-setosa:\\t', cluster_0.loc[cluster_0['Species'] == 'Iris-setosa'].shape[0])\n",
    "print('Class Iris-versicolor:\\t', cluster_0.loc[cluster_0['Species'] == 'Iris-versicolor'].shape[0])\n",
    "print('Class Iris-virginica:\\t', cluster_0.loc[cluster_0['Species'] == 'Iris-virginica'].shape[0])\n",
    "print('Cluster 1:')\n",
    "print('Class Iris-setosa:\\t', cluster_1.loc[cluster_1['Species'] == 'Iris-setosa'].shape[0])\n",
    "print('Class Iris-versicolor:\\t', cluster_1.loc[cluster_1['Species'] == 'Iris-versicolor'].shape[0])\n",
    "print('Class Iris-virginica:\\t', cluster_1.loc[cluster_1['Species'] == 'Iris-virginica'].shape[0])\n",
    "print('Cluster 2:')\n",
    "print('Class Iris-setosa:\\t', cluster_2.loc[cluster_2['Species'] == 'Iris-setosa'].shape[0])\n",
    "print('Class Iris-versicolor:\\t', cluster_2.loc[cluster_2['Species'] == 'Iris-versicolor'].shape[0])\n",
    "print('Class Iris-virginica:\\t', cluster_2.loc[cluster_2['Species'] == 'Iris-virginica'].shape[0])"
   ]
  },
  {
   "cell_type": "markdown",
   "metadata": {},
   "source": [
    "**Question:** After clustering, what class of plant is prominent in cluster 0?\n",
    "- *Write your answer here.*"
   ]
  },
  {
   "cell_type": "markdown",
   "metadata": {},
   "source": [
    "**Question:** After clustering, what class of plant is prominent in cluster 1?\n",
    "- *Write your answer here.*"
   ]
  },
  {
   "cell_type": "markdown",
   "metadata": {},
   "source": [
    "**Question:** After clustering, what class of plant is prominent in cluster 2?\n",
    "- *Write your answer here.*"
   ]
  },
  {
   "cell_type": "code",
   "execution_count": null,
   "metadata": {},
   "outputs": [],
   "source": []
  }
 ],
 "metadata": {
  "kernelspec": {
   "display_name": "Python 3",
   "language": "python",
   "name": "python3"
  },
  "language_info": {
   "codemirror_mode": {
    "name": "ipython",
    "version": 3
   },
   "file_extension": ".py",
   "mimetype": "text/x-python",
   "name": "python",
   "nbconvert_exporter": "python",
   "pygments_lexer": "ipython3",
   "version": "3.7.6"
  }
 },
 "nbformat": 4,
 "nbformat_minor": 4
}
