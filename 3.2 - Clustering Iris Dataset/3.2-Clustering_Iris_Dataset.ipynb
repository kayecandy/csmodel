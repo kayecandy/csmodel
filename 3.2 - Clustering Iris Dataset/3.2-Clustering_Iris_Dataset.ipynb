{
  "nbformat": 4,
  "nbformat_minor": 0,
  "metadata": {
    "kernelspec": {
      "display_name": "Python 3",
      "language": "python",
      "name": "python3"
    },
    "language_info": {
      "codemirror_mode": {
        "name": "ipython",
        "version": 3
      },
      "file_extension": ".py",
      "mimetype": "text/x-python",
      "name": "python",
      "nbconvert_exporter": "python",
      "pygments_lexer": "ipython3",
      "version": "3.7.6"
    },
    "colab": {
      "name": "3.2 - Clustering Iris Dataset.ipynb",
      "provenance": [],
      "collapsed_sections": [
        "OVQy1AVyxxLZ"
      ],
      "include_colab_link": true
    }
  },
  "cells": [
    {
      "cell_type": "markdown",
      "metadata": {
        "id": "view-in-github",
        "colab_type": "text"
      },
      "source": [
        "<a href=\"https://colab.research.google.com/github/kayecandy/csmodel/blob/master/3.2-Clustering_Iris_Dataset/3.2-Clustering_Iris_Dataset.ipynb\" target=\"_parent\"><img src=\"https://colab.research.google.com/assets/colab-badge.svg\" alt=\"Open In Colab\"/></a>"
      ]
    },
    {
      "cell_type": "markdown",
      "metadata": {
        "id": "6u0epBacxxKl",
        "colab_type": "text"
      },
      "source": [
        "## Clustering Iris Dataset\n",
        "\n",
        "In this Notebook, we will be implementing the k-means algorithm to group our datasets into clusters. We will test our algorithm with a small synthetic (artificial) dataset, before we use the algorithm to find association rules from a larger dataset - the [iris dataset](https://www.kaggle.com/uciml/iris).\n",
        "\n",
        "Our Notebooks in CSMODEL are designed to be guided learning activities. To use them, simply through the cells from top to bottom, following the directions along the way. If you find any unclear parts or mistakes in the Notebooks, email me at thomas.tiam-lee@dlsu.edu.ph."
      ]
    },
    {
      "cell_type": "markdown",
      "metadata": {
        "id": "UUfhVw9BxxKm",
        "colab_type": "text"
      },
      "source": [
        "## Import\n",
        "Import **pandas** and **matplotlib**."
      ]
    },
    {
      "cell_type": "code",
      "metadata": {
        "id": "U-8FD9V4xxKn",
        "colab_type": "code",
        "colab": {}
      },
      "source": [
        "import numpy as np\n",
        "import pandas as pd\n",
        "import matplotlib.pyplot as plt"
      ],
      "execution_count": 1,
      "outputs": []
    },
    {
      "cell_type": "markdown",
      "metadata": {
        "id": "eu5r7iWwxxKq",
        "colab_type": "text"
      },
      "source": [
        "## Synthetic Dataset\n",
        "Before we use a more complicated dataset, we will first demonstrate the k-means clustering using a synthetic (artificial) data drawn from a normal distribution. The synthetic dataset is composed of 2 variables - `x` and `y`, for easy visualization in a plot. The dataset contains 3 clusters of data points. Each cluster contains 100 observations."
      ]
    },
    {
      "cell_type": "code",
      "metadata": {
        "id": "Trp-r77VxxKq",
        "colab_type": "code",
        "colab": {}
      },
      "source": [
        "cluster1 = (50, 60)\n",
        "cluster2 = (80, 20)\n",
        "cluster3 = (100, 70)\n",
        "distance = 10\n",
        "\n",
        "np.random.seed(1)\n",
        "\n",
        "x1 = np.random.normal(cluster1[0], distance, size=(100,))\n",
        "y1 = np.random.normal(cluster1[1], distance, size=(100,)) \n",
        "\n",
        "x2 = np.random.normal(cluster2[0], distance, size=(100,))\n",
        "y2 = np.random.normal(cluster2[1], distance, size=(100,)) \n",
        "\n",
        "x3 = np.random.normal(cluster3[0], distance, size=(100,))\n",
        "y3 = np.random.normal(cluster3[1], distance, size=(100,)) "
      ],
      "execution_count": 2,
      "outputs": []
    },
    {
      "cell_type": "markdown",
      "metadata": {
        "id": "WFQJwyOyxxKt",
        "colab_type": "text"
      },
      "source": [
        "Let's visualize the synthetic dataset in a graph. Each cluster is represented in different colors."
      ]
    },
    {
      "cell_type": "code",
      "metadata": {
        "id": "4Iwri0zlxxKt",
        "colab_type": "code",
        "colab": {
          "base_uri": "https://localhost:8080/",
          "height": 265
        },
        "outputId": "ae876787-4521-4020-9335-ceff038fcce5"
      },
      "source": [
        "plt.plot(x1, y1, 'r+')\n",
        "plt.plot(x2, y2, 'g+')\n",
        "plt.plot(x3, y3, 'b+')\n",
        "plt.grid()\n",
        "plt.show()"
      ],
      "execution_count": 3,
      "outputs": [
        {
          "output_type": "display_data",
          "data": {
            "image/png": "[encoded data removed]",
            "text/plain": [
              "<Figure size 432x288 with 1 Axes>"
            ]
          },
          "metadata": {
            "tags": [],
            "needs_background": "light"
          }
        }
      ]
    },
    {
      "cell_type": "markdown",
      "metadata": {
        "id": "7-izyqVgxxKv",
        "colab_type": "text"
      },
      "source": [
        "Convert the data type of the dataset from `numpy` arrays to `pandas` `DataFrame`."
      ]
    },
    {
      "cell_type": "code",
      "metadata": {
        "id": "n5r7KqmUxxKw",
        "colab_type": "code",
        "colab": {}
      },
      "source": [
        "class1 = np.full((100,), 0, dtype=int)\n",
        "class2 = np.full((100,), 1, dtype=int)\n",
        "class3 = np.full((100,), 2, dtype=int)\n",
        "\n",
        "x = pd.Series(np.hstack((x1, x2, x3)))\n",
        "y = pd.Series(np.hstack((y1, y2, y3)))\n",
        "c = pd.Series(np.hstack((class1, class2, class3)))\n",
        "\n",
        "syn_df = pd.DataFrame({'x': x, 'y': y, 'class': c})"
      ],
      "execution_count": 4,
      "outputs": []
    },
    {
      "cell_type": "markdown",
      "metadata": {
        "id": "IysLmxyBxxKy",
        "colab_type": "text"
      },
      "source": [
        "Show the contents of the `DataFrame` which contains the set of 300 randomly generated points."
      ]
    },
    {
      "cell_type": "code",
      "metadata": {
        "id": "4dbtM2YjxxKy",
        "colab_type": "code",
        "colab": {
          "base_uri": "https://localhost:8080/",
          "height": 263
        },
        "outputId": "d9fc05dc-fd99-4720-eb40-990eff9903f8"
      },
      "source": [
        "print(syn_df)"
      ],
      "execution_count": 5,
      "outputs": [
        {
          "output_type": "stream",
          "text": [
            "              x          y  class\n",
            "0     66.243454  55.528714      0\n",
            "1     43.882436  72.245077      0\n",
            "2     44.718282  64.034916      0\n",
            "3     39.270314  65.935785      0\n",
            "4     58.654076  49.050882      0\n",
            "..          ...        ...    ...\n",
            "295   91.713720  84.539176      2\n",
            "296  105.288797  76.616811      2\n",
            "297   77.629135  79.863522      2\n",
            "298   88.922875  65.338451      2\n",
            "299   99.822817  83.849913      2\n",
            "\n",
            "[300 rows x 3 columns]\n"
          ],
          "name": "stdout"
        }
      ]
    },
    {
      "cell_type": "markdown",
      "metadata": {
        "id": "bcIPYNJExxK0",
        "colab_type": "text"
      },
      "source": [
        "Display dataset info using the `info` function."
      ]
    },
    {
      "cell_type": "code",
      "metadata": {
        "id": "c1qub9fNxxK0",
        "colab_type": "code",
        "colab": {
          "base_uri": "https://localhost:8080/",
          "height": 193
        },
        "outputId": "d1cdd3ec-64fb-44f2-829b-28a301d04fac"
      },
      "source": [
        "syn_df.info()"
      ],
      "execution_count": 6,
      "outputs": [
        {
          "output_type": "stream",
          "text": [
            "<class 'pandas.core.frame.DataFrame'>\n",
            "RangeIndex: 300 entries, 0 to 299\n",
            "Data columns (total 3 columns):\n",
            " #   Column  Non-Null Count  Dtype  \n",
            "---  ------  --------------  -----  \n",
            " 0   x       300 non-null    float64\n",
            " 1   y       300 non-null    float64\n",
            " 2   class   300 non-null    int64  \n",
            "dtypes: float64(2), int64(1)\n",
            "memory usage: 7.2 KB\n"
          ],
          "name": "stdout"
        }
      ]
    },
    {
      "cell_type": "markdown",
      "metadata": {
        "id": "qErSUOpaxxK3",
        "colab_type": "text"
      },
      "source": [
        "## Creating Clusters in the Synthetic Dataset using k-Means Algorithm\n",
        "Open `kmeans.py` file. Some of the functions in the `KMeans` class are not yet implemented. We will implement the missing parts of this class."
      ]
    },
    {
      "cell_type": "markdown",
      "metadata": {
        "id": "GNBbuDv3xxK3",
        "colab_type": "text"
      },
      "source": [
        "Import the `KMeans` class."
      ]
    },
    {
      "cell_type": "code",
      "metadata": {
        "id": "p4HT5wa0wkzT",
        "colab_type": "code",
        "colab": {
          "base_uri": "https://localhost:8080/",
          "height": 34
        },
        "outputId": "05fb1de1-4b42-4d5e-8204-ae8f26efb332"
      },
      "source": [
        "# NEW WAY OF IMPORTING NOTEBOOK EXTERNALS THROUGH GIT\n",
        "!git clone https://github.com/kayecandy/csmodel.git\n",
        "\n",
        "import sys\n",
        "sys.path.append('/content/csmodel/3.2-Clustering_Iris_Dataset')\n"
      ],
      "execution_count": 7,
      "outputs": [
        {
          "output_type": "stream",
          "text": [
            "fatal: destination path 'csmodel' already exists and is not an empty directory.\n"
          ],
          "name": "stdout"
        }
      ]
    },
    {
      "cell_type": "code",
      "metadata": {
        "id": "Hdr7oCGHv9xx",
        "colab_type": "code",
        "colab": {
          "base_uri": "https://localhost:8080/",
          "height": 228
        },
        "outputId": "eef88fc4-a047-4bb6-d878-a11a62bb9bbd"
      },
      "source": [
        "# Update code\n",
        "!git -C /content/csmodel/ pull origin master\n"
      ],
      "execution_count": 8,
      "outputs": [
        {
          "output_type": "stream",
          "text": [
            "remote: Enumerating objects: 7, done.\u001b[K\n",
            "remote: Counting objects:  14% (1/7)\u001b[K\rremote: Counting objects:  28% (2/7)\u001b[K\rremote: Counting objects:  42% (3/7)\u001b[K\rremote: Counting objects:  57% (4/7)\u001b[K\rremote: Counting objects:  71% (5/7)\u001b[K\rremote: Counting objects:  85% (6/7)\u001b[K\rremote: Counting objects: 100% (7/7)\u001b[K\rremote: Counting objects: 100% (7/7), done.\u001b[K\n",
            "remote: Compressing objects:  50% (1/2)\u001b[K\rremote: Compressing objects: 100% (2/2)\u001b[K\rremote: Compressing objects: 100% (2/2), done.\u001b[K\n",
            "remote: Total 4 (delta 2), reused 4 (delta 2), pack-reused 0\u001b[K\n",
            "Unpacking objects:  25% (1/4)   \rUnpacking objects:  50% (2/4)   \rUnpacking objects:  75% (3/4)   \rUnpacking objects: 100% (4/4)   \rUnpacking objects: 100% (4/4), done.\n",
            "From https://github.com/kayecandy/csmodel\n",
            " * branch            master     -> FETCH_HEAD\n",
            "   9a66e5b..604480c  master     -> origin/master\n",
            "Updating 9a66e5b..604480c\n",
            "Fast-forward\n",
            " 3.2-Clustering_Iris_Dataset/kmeans.py | 4 \u001b[32m++++\u001b[m\n",
            " 1 file changed, 4 insertions(+)\n"
          ],
          "name": "stdout"
        }
      ]
    },
    {
      "cell_type": "code",
      "metadata": {
        "id": "B6zYvVF2xxK4",
        "colab_type": "code",
        "colab": {}
      },
      "source": [
        "from kmeans import KMeans"
      ],
      "execution_count": 9,
      "outputs": []
    },
    {
      "cell_type": "markdown",
      "metadata": {
        "id": "n2VR0DjmxxK5",
        "colab_type": "text"
      },
      "source": [
        "Instantiate a `KMeans` object with `k` equal to `3`, `start_var` equal to `0`, `end_var` equal to `2`, `num_observations` equal to `300`, and `data` equal to the `DataFrame` object which represents our synthetic dataset. The parameter `k` indicates the number of clusters that we want to create from the data. The parameters `start_var` and the `end_var` indicate the starting index and the ending index, respectively, of variables (columns) that we need to use as we create clusters from the dataset. This is useful if you want to exclude some columns of the `DataFrame` from the calculation when creating clusters. The parameter `num_observations` represents the total number of observations (rows) in the dataset. The parameter `data` is the `DataFrame` representation of the dataset that we want to cluster."
      ]
    },
    {
      "cell_type": "code",
      "metadata": {
        "id": "dEOt6pMTxxK6",
        "colab_type": "code",
        "colab": {}
      },
      "source": [
        "kmeans = KMeans(3, 0, 2, 300, syn_df)"
      ],
      "execution_count": 10,
      "outputs": []
    },
    {
      "cell_type": "markdown",
      "metadata": {
        "id": "097_OHKGxxK8",
        "colab_type": "text"
      },
      "source": [
        "Open `kmeans.py` file and complete the `get_euclidean_distance()` function. This function returns the Euclidean distance between 2 data points `p` and `q`. \n",
        "\n",
        "$$D(p, q)=\\sqrt{\\sum_{i=0}^{n} (q_i - p_i)^2}$$\n",
        "\n",
        "This function has 2 parameters - `point1` and `point2`. You may pass these combinations of data types in this function:\n",
        "- a `Series` and a `Series` - the function returns a single distance based on these two datapoints. The data type of the result is `np.float64`.\n",
        "- a `DataFrame` and a `Series` - the returns a `Series` of distances of a single data point (represented as a `Series`) and a set of data points (represented as a `DataFrame`). If the shape of the `DataFrame` is (3, 2), the shape of the `Series` should be (2,) to enable broadcasting. This operation will result to a `Series` of shape (3,)."
      ]
    },
    {
      "cell_type": "markdown",
      "metadata": {
        "id": "-OjywwVMxxK8",
        "colab_type": "text"
      },
      "source": [
        "Implement the `get_euclidean_distance()` function. Inline comments should help you in completing the contents of the function. Upon implementing the function, execute the code below then answer the questions."
      ]
    },
    {
      "cell_type": "markdown",
      "metadata": {
        "id": "VFYo9qhoxxK8",
        "colab_type": "text"
      },
      "source": [
        "Suppose we create two data points with 2 variables generated from random values. Let's call the `get_euclidean_distance()` function and compute its Euclidean distance."
      ]
    },
    {
      "cell_type": "code",
      "metadata": {
        "id": "kl3xGmVcxxK9",
        "colab_type": "code",
        "colab": {
          "base_uri": "https://localhost:8080/",
          "height": 122
        },
        "outputId": "3b3838a2-992f-49ec-c16c-1e9138b1b7eb"
      },
      "source": [
        "np.random.seed(1)\n",
        "point1 = np.random.randint(1, 10, size=(2,))\n",
        "point2 = np.random.randint(1, 10, size=(2,))\n",
        "\n",
        "s_point1 = pd.Series(point1)\n",
        "s_point2 = pd.Series(point2)\n",
        "\n",
        "\n",
        "# get_euclidean_distance(s_point1, s_point2)\n",
        "distance = kmeans.get_euclidean_distance(s_point1, s_point2)\n",
        "\n",
        "print('Point1:\\n' + str(point1))\n",
        "print('Point2:\\n' + str(point2))\n",
        "print('Distance:\\n' + str(distance))"
      ],
      "execution_count": 11,
      "outputs": [
        {
          "output_type": "stream",
          "text": [
            "Point1:\n",
            "[6 9]\n",
            "Point2:\n",
            "[6 1]\n",
            "Distance:\n",
            "8.0\n"
          ],
          "name": "stdout"
        }
      ]
    },
    {
      "cell_type": "markdown",
      "metadata": {
        "id": "pyY1qiOJxxK_",
        "colab_type": "text"
      },
      "source": [
        "**Question:** What is the distance between the two data points [6, 9] and [6, 1]? \n",
        "- 8"
      ]
    },
    {
      "cell_type": "markdown",
      "metadata": {
        "id": "WtuuLwqnxxK_",
        "colab_type": "text"
      },
      "source": [
        "Suppose we create a set of data points and a single data point. Let's call the `get_euclidean_distance()` function and compute their Euclidean distance."
      ]
    },
    {
      "cell_type": "code",
      "metadata": {
        "id": "h2QSoguwxxLA",
        "colab_type": "code",
        "colab": {
          "base_uri": "https://localhost:8080/",
          "height": 210
        },
        "outputId": "c49dd984-cbdf-47cf-9c08-0140fceb8041"
      },
      "source": [
        "np.random.seed(1)\n",
        "point1 = np.random.randint(1, 10, size=(3,2))\n",
        "point2 = np.random.randint(1, 10, size=(2,))\n",
        "\n",
        "df_point1 = pd.DataFrame(point1)\n",
        "s_point2 = pd.Series(point2)\n",
        "\n",
        "distance = kmeans.get_euclidean_distance(df_point1, s_point2)\n",
        "\n",
        "print('Point1:\\n' + str(point1))\n",
        "print('Point2:\\n' + str(point2))\n",
        "print('Distances:\\n' + str(distance))"
      ],
      "execution_count": 12,
      "outputs": [
        {
          "output_type": "stream",
          "text": [
            "Point1:\n",
            "[[6 9]\n",
            " [6 1]\n",
            " [1 2]]\n",
            "Point2:\n",
            "[8 7]\n",
            "Distances:\n",
            "0    2.828427\n",
            "1    6.324555\n",
            "2    8.602325\n",
            "dtype: float64\n"
          ],
          "name": "stdout"
        }
      ]
    },
    {
      "cell_type": "markdown",
      "metadata": {
        "id": "jW839-TuxxLC",
        "colab_type": "text"
      },
      "source": [
        "**Question:** What is the distance between the two data points [6, 9] and [8, 7]? \n",
        "- 2.828427"
      ]
    },
    {
      "cell_type": "markdown",
      "metadata": {
        "id": "gcfuuD6PxxLC",
        "colab_type": "text"
      },
      "source": [
        "**Question:** What is the distance between the two data points [6, 1] and [8, 7]? \n",
        "- 6.324555"
      ]
    },
    {
      "cell_type": "markdown",
      "metadata": {
        "id": "hBOr2g46xxLC",
        "colab_type": "text"
      },
      "source": [
        "**Question:** What is the distance between the two data points [1, 2] and [8, 7]? \n",
        "- 8.602325"
      ]
    },
    {
      "cell_type": "markdown",
      "metadata": {
        "id": "S_4LbzTLxxLD",
        "colab_type": "text"
      },
      "source": [
        "Open `kmeans.py` file and complete the `initialize_centroids`() function. This function initializes `k` centroids. This function picks a random point from the dataset as the first centroid, then iteratively picks points that are farthest from the current set of centroids."
      ]
    },
    {
      "cell_type": "markdown",
      "metadata": {
        "id": "Us6BgrBLxxLD",
        "colab_type": "text"
      },
      "source": [
        "Implement the `initialize_centroids()` function. Inline comments should help you in completing the contents of the function. Upon implementing the function, execute the code below then answer the questions."
      ]
    },
    {
      "cell_type": "code",
      "metadata": {
        "id": "AcvfV6sJxxLD",
        "colab_type": "code",
        "colab": {
          "base_uri": "https://localhost:8080/",
          "height": 87
        },
        "outputId": "fe7e4027-36e0-4d13-89af-db7e3b8d9d22"
      },
      "source": [
        "centroids = kmeans.initialize_centroids(syn_df)\n",
        "print(centroids)"
      ],
      "execution_count": 13,
      "outputs": [
        {
          "output_type": "stream",
          "text": [
            "           x          y\n",
            "0  88.851289  63.705584\n",
            "1  63.258042  -5.064407\n",
            "2  26.984613  61.693824\n"
          ],
          "name": "stdout"
        }
      ]
    },
    {
      "cell_type": "markdown",
      "metadata": {
        "id": "EwMIRynoxxLF",
        "colab_type": "text"
      },
      "source": [
        "**Question:** What are the coordinates of the the first centroid? \n",
        "- (110.336869, 66.465900)"
      ]
    },
    {
      "cell_type": "markdown",
      "metadata": {
        "id": "4BIMooLWxxLG",
        "colab_type": "text"
      },
      "source": [
        "**Question:** What are the coordinates of the the second centroid? \n",
        "- (63.258042, -5.064407)"
      ]
    },
    {
      "cell_type": "markdown",
      "metadata": {
        "id": "eeyTpmScxxLG",
        "colab_type": "text"
      },
      "source": [
        "**Question:** What are the coordinates of the the third centroid? \n",
        "- (29.398593, 63.151594)"
      ]
    },
    {
      "cell_type": "markdown",
      "metadata": {
        "id": "MBTSI8LAxxLG",
        "colab_type": "text"
      },
      "source": [
        "Let's visualize the initial location of our centroids."
      ]
    },
    {
      "cell_type": "code",
      "metadata": {
        "id": "Z9BBry8XxxLH",
        "colab_type": "code",
        "colab": {
          "base_uri": "https://localhost:8080/",
          "height": 265
        },
        "outputId": "c882376d-ce06-4c4a-e42a-22b1c6c6a077"
      },
      "source": [
        "plt.plot(syn_df.loc[syn_df['class'] == 0, 'x'], syn_df.loc[syn_df['class'] == 0, 'y'], 'r+')\n",
        "plt.plot(syn_df.loc[syn_df['class'] == 1, 'x'], syn_df.loc[syn_df['class'] == 1, 'y'], 'g+')\n",
        "plt.plot(syn_df.loc[syn_df['class'] == 2, 'x'], syn_df.loc[syn_df['class'] == 2, 'y'], 'b+')\n",
        "\n",
        "for i in range(len(kmeans.centroids)):\n",
        "    plt.plot(kmeans.centroids.iloc[i]['x'], kmeans.centroids.iloc[i]['y'], 'k*', ms=12)\n",
        "\n",
        "plt.grid()"
      ],
      "execution_count": 14,
      "outputs": [
        {
          "output_type": "display_data",
          "data": {
            "image/png": "[encoded data removed]",
            "text/plain": [
              "<Figure size 432x288 with 1 Axes>"
            ]
          },
          "metadata": {
            "tags": [],
            "needs_background": "light"
          }
        }
      ]
    },
    {
      "cell_type": "markdown",
      "metadata": {
        "id": "G2ooXhx6xxLI",
        "colab_type": "text"
      },
      "source": [
        "**Sanity Check:** The initial location of your centroids should look like this:\n",
        "\n",
        "\n",
        "<img src=\"https://github.com/kayecandy/csmodel/blob/master/3.2-Clustering_Iris_Dataset/img/initial_centroids.PNG?raw=true\" alt=\"Initial Centroid Locations\" style=\"width: 350px;\"/>"
      ]
    },
    {
      "cell_type": "markdown",
      "metadata": {
        "id": "fi704E_ExxLJ",
        "colab_type": "text"
      },
      "source": [
        "Open `kmeans.py` file and complete the `group_observations()` function. This function returns the clusters of each data point in the dataset given the current set of centroids."
      ]
    },
    {
      "cell_type": "markdown",
      "metadata": {
        "id": "vWKhpFM1xxLJ",
        "colab_type": "text"
      },
      "source": [
        "Implement the `group_observations()` function. Inline comments should help you in completing the contents of the function. Upon implementing the function, execute the code below then answer the questions."
      ]
    },
    {
      "cell_type": "code",
      "metadata": {
        "id": "Eqz2SCtpxxLK",
        "colab_type": "code",
        "colab": {
          "base_uri": "https://localhost:8080/",
          "height": 87
        },
        "outputId": "8b7b1b6e-8452-4826-97e9-51952e730509"
      },
      "source": [
        "clusters = kmeans.group_observations(syn_df)\n",
        "print('Number of data points in each cluster:')\n",
        "print('Cluster 0: ', clusters.loc[clusters == 0].shape[0])\n",
        "print('Cluster 1: ', clusters.loc[clusters == 1].shape[0])\n",
        "print('Cluster 2: ', clusters.loc[clusters == 2].shape[0])"
      ],
      "execution_count": 15,
      "outputs": [
        {
          "output_type": "stream",
          "text": [
            "Number of data points in each cluster:\n",
            "Cluster 0:  149\n",
            "Cluster 1:  73\n",
            "Cluster 2:  78\n"
          ],
          "name": "stdout"
        }
      ]
    },
    {
      "cell_type": "code",
      "metadata": {
        "id": "Su_BPYJMSvIt",
        "colab_type": "code",
        "colab": {
          "base_uri": "https://localhost:8080/",
          "height": 265
        },
        "outputId": "5cc4d015-8ae4-44fe-8e90-40eb7fdf5c2a"
      },
      "source": [
        "# Also just wanted to see the clusters so I added this\n",
        "\n",
        "plt.plot(syn_df.loc[clusters == 0, 'x'], syn_df.loc[clusters == 0, 'y'], 'r+')\n",
        "plt.plot(syn_df.loc[clusters == 1, 'x'], syn_df.loc[clusters == 1, 'y'], 'g+')\n",
        "plt.plot(syn_df.loc[clusters == 2, 'x'], syn_df.loc[clusters == 2, 'y'], 'b+')\n",
        "\n",
        "for i in range(len(kmeans.centroids)):\n",
        "    plt.plot(kmeans.centroids.iloc[i]['x'], kmeans.centroids.iloc[i]['y'], 'k*', ms=12)\n",
        "\n",
        "plt.grid()"
      ],
      "execution_count": 16,
      "outputs": [
        {
          "output_type": "display_data",
          "data": {
            "image/png": "[encoded data removed]",
            "text/plain": [
              "<Figure size 432x288 with 1 Axes>"
            ]
          },
          "metadata": {
            "tags": [],
            "needs_background": "light"
          }
        }
      ]
    },
    {
      "cell_type": "markdown",
      "metadata": {
        "id": "WUhyR_zaxxLM",
        "colab_type": "text"
      },
      "source": [
        "**Question:** After clustering the data points using the initial values of the centroids, how many data points are included in cluster 0?\n",
        "- 149"
      ]
    },
    {
      "cell_type": "markdown",
      "metadata": {
        "id": "jXZFUgphxxLM",
        "colab_type": "text"
      },
      "source": [
        "**Question:** After clustering the data points using the initial values of the centroids, how many data points are included in cluster 1?\n",
        "- 73"
      ]
    },
    {
      "cell_type": "markdown",
      "metadata": {
        "id": "dRxDGoCYxxLM",
        "colab_type": "text"
      },
      "source": [
        "**Question:** After clustering the data points using the initial values of the centroids, how many data points are included in cluster 2?\n",
        "- 78"
      ]
    },
    {
      "cell_type": "markdown",
      "metadata": {
        "id": "hTLLJy5ExxLN",
        "colab_type": "text"
      },
      "source": [
        "Open `kmeans.py` file and complete the `adjust_centroids()` function. This function adjusts the location of centroids based on the average of the values of the data points in their corresponding clusters."
      ]
    },
    {
      "cell_type": "markdown",
      "metadata": {
        "id": "dL_MvV1ZxxLN",
        "colab_type": "text"
      },
      "source": [
        "Implement the `adjust_centroids()` function. Inline comments should help you in completing the contents of the function. Upon implementing the function, execute the code below then answer the questions."
      ]
    },
    {
      "cell_type": "code",
      "metadata": {
        "id": "Woy-nLRZxxLN",
        "colab_type": "code",
        "colab": {
          "base_uri": "https://localhost:8080/",
          "height": 105
        },
        "outputId": "e909135e-3071-4483-a480-e768d41309c1"
      },
      "source": [
        "new_centroids = kmeans.adjust_centroids(syn_df, clusters)\n",
        "print(new_centroids)"
      ],
      "execution_count": 17,
      "outputs": [
        {
          "output_type": "stream",
          "text": [
            "               x          y\n",
            "group                      \n",
            "0      91.965593  62.529126\n",
            "1      78.785944  15.259353\n",
            "2      47.185961  61.887815\n"
          ],
          "name": "stdout"
        }
      ]
    },
    {
      "cell_type": "markdown",
      "metadata": {
        "id": "OtqHurF8xxLP",
        "colab_type": "text"
      },
      "source": [
        "**Question:** After clustering the dataset in one iteration, what are the updated coordinates of the the first centroid? \n",
        "- (91.965593, 62.529126)"
      ]
    },
    {
      "cell_type": "markdown",
      "metadata": {
        "id": "pnvDzYdLxxLP",
        "colab_type": "text"
      },
      "source": [
        "**Question:** After clustering the dataset in one iteration, what are the updated coordinates of the the second centroid? \n",
        "- (78.785944, 15.259353)"
      ]
    },
    {
      "cell_type": "markdown",
      "metadata": {
        "id": "-SIs6lMUxxLQ",
        "colab_type": "text"
      },
      "source": [
        "**Question:** After clustering the dataset in one iteration, what are the updated coordinates of the the third centroid? \n",
        "- (47.185961, 61.887815)"
      ]
    },
    {
      "cell_type": "markdown",
      "metadata": {
        "id": "GgRCJMB4xxLQ",
        "colab_type": "text"
      },
      "source": [
        "After the first iteration of the k-means algorithm, let's visualize the updated location of our centroids."
      ]
    },
    {
      "cell_type": "code",
      "metadata": {
        "id": "MnGD83vCxxLQ",
        "colab_type": "code",
        "colab": {
          "base_uri": "https://localhost:8080/",
          "height": 265
        },
        "outputId": "a15b1fe1-23d0-4d00-a357-1f71e5dd81e0"
      },
      "source": [
        "plt.plot(syn_df.loc[clusters == 0, 'x'], syn_df.loc[clusters == 0, 'y'], 'r+')\n",
        "plt.plot(syn_df.loc[clusters == 1, 'x'], syn_df.loc[clusters == 1, 'y'], 'g+')\n",
        "plt.plot(syn_df.loc[clusters == 2, 'x'], syn_df.loc[clusters == 2, 'y'], 'b+')\n",
        "\n",
        "for i in range(len(kmeans.centroids)):\n",
        "    plt.plot(new_centroids.iloc[i]['x'], new_centroids.iloc[i]['y'], 'k*', ms=12)\n",
        "\n",
        "plt.grid()"
      ],
      "execution_count": 18,
      "outputs": [
        {
          "output_type": "display_data",
          "data": {
            "image/png": "[encoded data removed]",
            "text/plain": [
              "<Figure size 432x288 with 1 Axes>"
            ]
          },
          "metadata": {
            "tags": [],
            "needs_background": "light"
          }
        }
      ]
    },
    {
      "cell_type": "markdown",
      "metadata": {
        "id": "Nt6QVSgOxxLS",
        "colab_type": "text"
      },
      "source": [
        "**Sanity Check:** After the first iteration of the k-means algorithm, the updated location of your centroids should look like this:\n",
        "<img src=\"https://github.com/kayecandy/csmodel/blob/master/3.2-Clustering_Iris_Dataset/img/centroids_iter1.PNG?raw=true\" alt=\"Centroid Location after Iteration 1\" style=\"width: 350px;\"/>"
      ]
    },
    {
      "cell_type": "markdown",
      "metadata": {
        "id": "QteugYa4xxLS",
        "colab_type": "text"
      },
      "source": [
        "Open `kmeans.py` file and complete the `train()` function. This function returns a `Series` which represents the final clusters of each data point in the dataset. This function stops clustering if one of the following is met:\n",
        "- The values of the centroids do not change.\n",
        "- The clusters of each data point do not change.\n",
        "- The maximum number of iterations is met."
      ]
    },
    {
      "cell_type": "markdown",
      "metadata": {
        "id": "2co199rZxxLS",
        "colab_type": "text"
      },
      "source": [
        "Implement the `train()` function. Inline comments should help you in completing the contents of the function. Upon implementing the function, execute the code below then answer the questions."
      ]
    },
    {
      "cell_type": "code",
      "metadata": {
        "id": "yyJjX-7qxxLT",
        "colab_type": "code",
        "colab": {
          "base_uri": "https://localhost:8080/",
          "height": 122
        },
        "outputId": "e414dd06-5695-41f4-f5a5-61a77d8ec443"
      },
      "source": [
        "groups = kmeans.train(syn_df, 300)"
      ],
      "execution_count": 19,
      "outputs": [
        {
          "output_type": "stream",
          "text": [
            "Iteration 1\n",
            "Iteration 2\n",
            "Iteration 3\n",
            "Iteration 4\n",
            "Iteration 5\n",
            "Done clustering!\n"
          ],
          "name": "stdout"
        }
      ]
    },
    {
      "cell_type": "code",
      "metadata": {
        "id": "-qe6FSWmxxLU",
        "colab_type": "code",
        "colab": {
          "base_uri": "https://localhost:8080/",
          "height": 87
        },
        "outputId": "5c90665c-f9da-4b16-e7b6-ab34698cf3bd"
      },
      "source": [
        "print('Number of data points in each cluster:')\n",
        "print('Cluster 0: ', groups.loc[groups == 0].shape[0])\n",
        "print('Cluster 1: ', groups.loc[groups == 1].shape[0])\n",
        "print('Cluster 2: ', groups.loc[groups == 2].shape[0])"
      ],
      "execution_count": 20,
      "outputs": [
        {
          "output_type": "stream",
          "text": [
            "Number of data points in each cluster:\n",
            "Cluster 0:  99\n",
            "Cluster 1:  99\n",
            "Cluster 2:  102\n"
          ],
          "name": "stdout"
        }
      ]
    },
    {
      "cell_type": "markdown",
      "metadata": {
        "id": "eMJVcHKcxxLW",
        "colab_type": "text"
      },
      "source": [
        "**Question:** After clustering, how many data points are included in cluster 0?\n",
        "- 99"
      ]
    },
    {
      "cell_type": "markdown",
      "metadata": {
        "id": "IkhE0yrkxxLX",
        "colab_type": "text"
      },
      "source": [
        "**Question:** After clustering, how many data points are included in cluster 1?\n",
        "- 99"
      ]
    },
    {
      "cell_type": "markdown",
      "metadata": {
        "id": "agCqN_rgxxLX",
        "colab_type": "text"
      },
      "source": [
        "**Question:** After clustering, how many data points are included in cluster 2?\n",
        "- 102"
      ]
    },
    {
      "cell_type": "markdown",
      "metadata": {
        "id": "a735vrJXxxLX",
        "colab_type": "text"
      },
      "source": [
        "After executing the k-means algorithm, let's visualize our final clusters compared to our data."
      ]
    },
    {
      "cell_type": "code",
      "metadata": {
        "id": "fR_O6ApKxxLY",
        "colab_type": "code",
        "colab": {
          "base_uri": "https://localhost:8080/",
          "height": 320
        },
        "outputId": "53e346be-5382-4b08-e45f-7d3118a857d8"
      },
      "source": [
        "syn_new_df = pd.concat([syn_df.iloc[:, 0:2], groups.rename('group')], axis=1)\n",
        "\n",
        "fig, axs = plt.subplots(1, 2, figsize=(10,5))\n",
        "\n",
        "axs[0].plot(syn_df.loc[syn_df['class'] == 0, 'x'], syn_df.loc[syn_df['class'] == 0, 'y'], 'r+')\n",
        "axs[0].plot(syn_df.loc[syn_df['class'] == 1, 'x'], syn_df.loc[syn_df['class'] == 1, 'y'], 'g+')\n",
        "axs[0].plot(syn_df.loc[syn_df['class'] == 2, 'x'], syn_df.loc[syn_df['class'] == 2, 'y'], 'b+')\n",
        "\n",
        "axs[1].plot(syn_new_df.loc[syn_new_df['group'] == 0, 'x'], syn_new_df.loc[syn_new_df['group'] == 0, 'y'], 'b+')\n",
        "axs[1].plot(syn_new_df.loc[syn_new_df['group'] == 1, 'x'], syn_new_df.loc[syn_new_df['group'] == 1, 'y'], 'g+')\n",
        "axs[1].plot(syn_new_df.loc[syn_new_df['group'] == 2, 'x'], syn_new_df.loc[syn_new_df['group'] == 2, 'y'], 'r+')\n",
        "\n",
        "for i in range(len(kmeans.centroids)):\n",
        "    axs[1].plot(kmeans.centroids.iloc[i]['x'], kmeans.centroids.iloc[i]['y'], 'k*', ms=12)\n",
        "\n",
        "axs[0].grid()\n",
        "axs[1].grid()"
      ],
      "execution_count": 21,
      "outputs": [
        {
          "output_type": "display_data",
          "data": {
            "image/png": "[encoded data removed]",
            "text/plain": [
              "<Figure size 720x360 with 2 Axes>"
            ]
          },
          "metadata": {
            "tags": [],
            "needs_background": "light"
          }
        }
      ]
    },
    {
      "cell_type": "markdown",
      "metadata": {
        "id": "OVQy1AVyxxLZ",
        "colab_type": "text"
      },
      "source": [
        "## Iris Dataset\n",
        "For this notebook, we will work on a dataset called `iris dataset`. This dataset includes three iris species with 50 samples each as well as some properties about each plant. One plant species is linearly separable from the other two, but the other two are not linearly separable from each other.\n",
        "\n",
        "The dataset is provided to you as a `.csv` file. `.csv` means comma-separated values. You can open the file in Notepad to see how it is exactly formatted."
      ]
    },
    {
      "cell_type": "markdown",
      "metadata": {
        "id": "NJEDRIYaxxLZ",
        "colab_type": "text"
      },
      "source": [
        "If you view the `.csv` file in Excel, you can see that our dataset contains 150 **observations** (rows) across 6 **variables** (columns). The following are the descriptions of each variable in the dataset.\n",
        "\n",
        "- **`Id`**: Identifier.\n",
        "- **`SepalLengthCm`**: Sepal length in centimeters\n",
        "- **`SepalWidthCm`**: Sepal width in centimeters\n",
        "- **`PetalLengthCm`**: Petal length in centimeters\n",
        "- **`PetalWidthCm`**: Petal width in centimeters\n",
        "- **`Species`**: Species of iris - `Iris-setosa`; `Iris-versicolor`; `Iris-virginica`"
      ]
    },
    {
      "cell_type": "markdown",
      "metadata": {
        "id": "4hoGAYTmxxLa",
        "colab_type": "text"
      },
      "source": [
        "Let's read the dataset."
      ]
    },
    {
      "cell_type": "code",
      "metadata": {
        "id": "QiG0mxT5xxLa",
        "colab_type": "code",
        "colab": {}
      },
      "source": [
        "iris_df = pd.read_csv('/content/csmodel/3.2-Clustering_Iris_Dataset/iris.csv')"
      ],
      "execution_count": 26,
      "outputs": []
    },
    {
      "cell_type": "markdown",
      "metadata": {
        "id": "cnb5LvMMxxLe",
        "colab_type": "text"
      },
      "source": [
        "Whenever we load a new dataset, it is generally a good idea to call the [`info`](https://pandas.pydata.org/pandas-docs/stable/reference/api/pandas.DataFrame.info.html) function, which displays general information about the dataset."
      ]
    },
    {
      "cell_type": "code",
      "metadata": {
        "id": "4iGegKlExxLe",
        "colab_type": "code",
        "colab": {
          "base_uri": "https://localhost:8080/",
          "height": 630
        },
        "outputId": "52457382-99d8-4257-884c-af98f1da156c"
      },
      "source": [
        "iris_df.info()\n",
        "\n",
        "iris_df"
      ],
      "execution_count": 28,
      "outputs": [
        {
          "output_type": "stream",
          "text": [
            "<class 'pandas.core.frame.DataFrame'>\n",
            "RangeIndex: 150 entries, 0 to 149\n",
            "Data columns (total 6 columns):\n",
            " #   Column         Non-Null Count  Dtype  \n",
            "---  ------         --------------  -----  \n",
            " 0   Id             150 non-null    int64  \n",
            " 1   SepalLengthCm  150 non-null    float64\n",
            " 2   SepalWidthCm   150 non-null    float64\n",
            " 3   PetalLengthCm  150 non-null    float64\n",
            " 4   PetalWidthCm   150 non-null    float64\n",
            " 5   Species        150 non-null    object \n",
            "dtypes: float64(4), int64(1), object(1)\n",
            "memory usage: 7.2+ KB\n"
          ],
          "name": "stdout"
        },
        {
          "output_type": "execute_result",
          "data": {
            "text/html": [
              "<div>\n",
              "<style scoped>\n",
              "    .dataframe tbody tr th:only-of-type {\n",
              "        vertical-align: middle;\n",
              "    }\n",
              "\n",
              "    .dataframe tbody tr th {\n",
              "        vertical-align: top;\n",
              "    }\n",
              "\n",
              "    .dataframe thead th {\n",
              "        text-align: right;\n",
              "    }\n",
              "</style>\n",
              "<table border=\"1\" class=\"dataframe\">\n",
              "  <thead>\n",
              "    <tr style=\"text-align: right;\">\n",
              "      <th></th>\n",
              "      <th>Id</th>\n",
              "      <th>SepalLengthCm</th>\n",
              "      <th>SepalWidthCm</th>\n",
              "      <th>PetalLengthCm</th>\n",
              "      <th>PetalWidthCm</th>\n",
              "      <th>Species</th>\n",
              "    </tr>\n",
              "  </thead>\n",
              "  <tbody>\n",
              "    <tr>\n",
              "      <th>0</th>\n",
              "      <td>1</td>\n",
              "      <td>5.1</td>\n",
              "      <td>3.5</td>\n",
              "      <td>1.4</td>\n",
              "      <td>0.2</td>\n",
              "      <td>Iris-setosa</td>\n",
              "    </tr>\n",
              "    <tr>\n",
              "      <th>1</th>\n",
              "      <td>2</td>\n",
              "      <td>4.9</td>\n",
              "      <td>3.0</td>\n",
              "      <td>1.4</td>\n",
              "      <td>0.2</td>\n",
              "      <td>Iris-setosa</td>\n",
              "    </tr>\n",
              "    <tr>\n",
              "      <th>2</th>\n",
              "      <td>3</td>\n",
              "      <td>4.7</td>\n",
              "      <td>3.2</td>\n",
              "      <td>1.3</td>\n",
              "      <td>0.2</td>\n",
              "      <td>Iris-setosa</td>\n",
              "    </tr>\n",
              "    <tr>\n",
              "      <th>3</th>\n",
              "      <td>4</td>\n",
              "      <td>4.6</td>\n",
              "      <td>3.1</td>\n",
              "      <td>1.5</td>\n",
              "      <td>0.2</td>\n",
              "      <td>Iris-setosa</td>\n",
              "    </tr>\n",
              "    <tr>\n",
              "      <th>4</th>\n",
              "      <td>5</td>\n",
              "      <td>5.0</td>\n",
              "      <td>3.6</td>\n",
              "      <td>1.4</td>\n",
              "      <td>0.2</td>\n",
              "      <td>Iris-setosa</td>\n",
              "    </tr>\n",
              "    <tr>\n",
              "      <th>...</th>\n",
              "      <td>...</td>\n",
              "      <td>...</td>\n",
              "      <td>...</td>\n",
              "      <td>...</td>\n",
              "      <td>...</td>\n",
              "      <td>...</td>\n",
              "    </tr>\n",
              "    <tr>\n",
              "      <th>145</th>\n",
              "      <td>146</td>\n",
              "      <td>6.7</td>\n",
              "      <td>3.0</td>\n",
              "      <td>5.2</td>\n",
              "      <td>2.3</td>\n",
              "      <td>Iris-virginica</td>\n",
              "    </tr>\n",
              "    <tr>\n",
              "      <th>146</th>\n",
              "      <td>147</td>\n",
              "      <td>6.3</td>\n",
              "      <td>2.5</td>\n",
              "      <td>5.0</td>\n",
              "      <td>1.9</td>\n",
              "      <td>Iris-virginica</td>\n",
              "    </tr>\n",
              "    <tr>\n",
              "      <th>147</th>\n",
              "      <td>148</td>\n",
              "      <td>6.5</td>\n",
              "      <td>3.0</td>\n",
              "      <td>5.2</td>\n",
              "      <td>2.0</td>\n",
              "      <td>Iris-virginica</td>\n",
              "    </tr>\n",
              "    <tr>\n",
              "      <th>148</th>\n",
              "      <td>149</td>\n",
              "      <td>6.2</td>\n",
              "      <td>3.4</td>\n",
              "      <td>5.4</td>\n",
              "      <td>2.3</td>\n",
              "      <td>Iris-virginica</td>\n",
              "    </tr>\n",
              "    <tr>\n",
              "      <th>149</th>\n",
              "      <td>150</td>\n",
              "      <td>5.9</td>\n",
              "      <td>3.0</td>\n",
              "      <td>5.1</td>\n",
              "      <td>1.8</td>\n",
              "      <td>Iris-virginica</td>\n",
              "    </tr>\n",
              "  </tbody>\n",
              "</table>\n",
              "<p>150 rows × 6 columns</p>\n",
              "</div>"
            ],
            "text/plain": [
              "      Id  SepalLengthCm  ...  PetalWidthCm         Species\n",
              "0      1            5.1  ...           0.2     Iris-setosa\n",
              "1      2            4.9  ...           0.2     Iris-setosa\n",
              "2      3            4.7  ...           0.2     Iris-setosa\n",
              "3      4            4.6  ...           0.2     Iris-setosa\n",
              "4      5            5.0  ...           0.2     Iris-setosa\n",
              "..   ...            ...  ...           ...             ...\n",
              "145  146            6.7  ...           2.3  Iris-virginica\n",
              "146  147            6.3  ...           1.9  Iris-virginica\n",
              "147  148            6.5  ...           2.0  Iris-virginica\n",
              "148  149            6.2  ...           2.3  Iris-virginica\n",
              "149  150            5.9  ...           1.8  Iris-virginica\n",
              "\n",
              "[150 rows x 6 columns]"
            ]
          },
          "metadata": {
            "tags": []
          },
          "execution_count": 28
        }
      ]
    },
    {
      "cell_type": "markdown",
      "metadata": {
        "id": "CTkDbAIDxxLg",
        "colab_type": "text"
      },
      "source": [
        "Instantiate a `KMeans` object with `k` equal to `3`, `start_var` equal to `1`, `end_var` equal to `5`, `num_observations` equal to `150`, and `data` equal to the `DataFrame` object which represents the iris dataset. "
      ]
    },
    {
      "cell_type": "code",
      "metadata": {
        "id": "VVjWYokMxxLg",
        "colab_type": "code",
        "colab": {}
      },
      "source": [
        "kmeans = KMeans(3, 1, 5, 150, iris_df)"
      ],
      "execution_count": 27,
      "outputs": []
    },
    {
      "cell_type": "markdown",
      "metadata": {
        "id": "xPESKZ8ixxLi",
        "colab_type": "text"
      },
      "source": [
        "Initialize the centroids."
      ]
    },
    {
      "cell_type": "code",
      "metadata": {
        "id": "_1uIxMFZxxLj",
        "colab_type": "code",
        "colab": {
          "base_uri": "https://localhost:8080/",
          "height": 136
        },
        "outputId": "023d93c4-d505-4091-adfd-0947056cd807"
      },
      "source": [
        "kmeans.initialize_centroids(iris_df)"
      ],
      "execution_count": 29,
      "outputs": [
        {
          "output_type": "execute_result",
          "data": {
            "text/html": [
              "<div>\n",
              "<style scoped>\n",
              "    .dataframe tbody tr th:only-of-type {\n",
              "        vertical-align: middle;\n",
              "    }\n",
              "\n",
              "    .dataframe tbody tr th {\n",
              "        vertical-align: top;\n",
              "    }\n",
              "\n",
              "    .dataframe thead th {\n",
              "        text-align: right;\n",
              "    }\n",
              "</style>\n",
              "<table border=\"1\" class=\"dataframe\">\n",
              "  <thead>\n",
              "    <tr style=\"text-align: right;\">\n",
              "      <th></th>\n",
              "      <th>SepalLengthCm</th>\n",
              "      <th>SepalWidthCm</th>\n",
              "      <th>PetalLengthCm</th>\n",
              "      <th>PetalWidthCm</th>\n",
              "    </tr>\n",
              "  </thead>\n",
              "  <tbody>\n",
              "    <tr>\n",
              "      <th>0</th>\n",
              "      <td>4.9</td>\n",
              "      <td>3.1</td>\n",
              "      <td>1.5</td>\n",
              "      <td>0.1</td>\n",
              "    </tr>\n",
              "    <tr>\n",
              "      <th>1</th>\n",
              "      <td>7.7</td>\n",
              "      <td>2.6</td>\n",
              "      <td>6.9</td>\n",
              "      <td>2.3</td>\n",
              "    </tr>\n",
              "    <tr>\n",
              "      <th>2</th>\n",
              "      <td>4.9</td>\n",
              "      <td>2.5</td>\n",
              "      <td>4.5</td>\n",
              "      <td>1.7</td>\n",
              "    </tr>\n",
              "  </tbody>\n",
              "</table>\n",
              "</div>"
            ],
            "text/plain": [
              "   SepalLengthCm  SepalWidthCm  PetalLengthCm  PetalWidthCm\n",
              "0            4.9           3.1            1.5           0.1\n",
              "1            7.7           2.6            6.9           2.3\n",
              "2            4.9           2.5            4.5           1.7"
            ]
          },
          "metadata": {
            "tags": []
          },
          "execution_count": 29
        }
      ]
    },
    {
      "cell_type": "markdown",
      "metadata": {
        "id": "Baw-STMpxxLl",
        "colab_type": "text"
      },
      "source": [
        "Cluster the dataset."
      ]
    },
    {
      "cell_type": "code",
      "metadata": {
        "id": "adQlzu4QxxLl",
        "colab_type": "code",
        "colab": {
          "base_uri": "https://localhost:8080/",
          "height": 105
        },
        "outputId": "fd2d02f4-2495-4b1b-cac2-958d0f2611d3"
      },
      "source": [
        "groups = kmeans.train(iris_df, 300)"
      ],
      "execution_count": 30,
      "outputs": [
        {
          "output_type": "stream",
          "text": [
            "Iteration 1\n",
            "Iteration 2\n",
            "Iteration 3\n",
            "Iteration 4\n",
            "Done clustering!\n"
          ],
          "name": "stdout"
        }
      ]
    },
    {
      "cell_type": "markdown",
      "metadata": {
        "id": "zu5wHzjixxLn",
        "colab_type": "text"
      },
      "source": [
        "Check the number of  per class in each cluster. Answer the questions below."
      ]
    },
    {
      "cell_type": "code",
      "metadata": {
        "id": "CK5lMN4FxxLn",
        "colab_type": "code",
        "colab": {
          "base_uri": "https://localhost:8080/",
          "height": 246
        },
        "outputId": "aaca8993-1568-442e-ac71-f5aa491d797e"
      },
      "source": [
        "cluster_0 = iris_df.loc[groups == 0]\n",
        "cluster_1 = iris_df.loc[groups == 1]\n",
        "cluster_2 = iris_df.loc[groups == 2]\n",
        "\n",
        "print('Number of data points in each cluster:')\n",
        "print('Cluster 0:')\n",
        "print('Class Iris-setosa:\\t', cluster_0.loc[cluster_0['Species'] == 'Iris-setosa'].shape[0])\n",
        "print('Class Iris-versicolor:\\t', cluster_0.loc[cluster_0['Species'] == 'Iris-versicolor'].shape[0])\n",
        "print('Class Iris-virginica:\\t', cluster_0.loc[cluster_0['Species'] == 'Iris-virginica'].shape[0])\n",
        "print('Cluster 1:')\n",
        "print('Class Iris-setosa:\\t', cluster_1.loc[cluster_1['Species'] == 'Iris-setosa'].shape[0])\n",
        "print('Class Iris-versicolor:\\t', cluster_1.loc[cluster_1['Species'] == 'Iris-versicolor'].shape[0])\n",
        "print('Class Iris-virginica:\\t', cluster_1.loc[cluster_1['Species'] == 'Iris-virginica'].shape[0])\n",
        "print('Cluster 2:')\n",
        "print('Class Iris-setosa:\\t', cluster_2.loc[cluster_2['Species'] == 'Iris-setosa'].shape[0])\n",
        "print('Class Iris-versicolor:\\t', cluster_2.loc[cluster_2['Species'] == 'Iris-versicolor'].shape[0])\n",
        "print('Class Iris-virginica:\\t', cluster_2.loc[cluster_2['Species'] == 'Iris-virginica'].shape[0])"
      ],
      "execution_count": 31,
      "outputs": [
        {
          "output_type": "stream",
          "text": [
            "Number of data points in each cluster:\n",
            "Cluster 0:\n",
            "Class Iris-setosa:\t 50\n",
            "Class Iris-versicolor:\t 0\n",
            "Class Iris-virginica:\t 0\n",
            "Cluster 1:\n",
            "Class Iris-setosa:\t 0\n",
            "Class Iris-versicolor:\t 2\n",
            "Class Iris-virginica:\t 36\n",
            "Cluster 2:\n",
            "Class Iris-setosa:\t 0\n",
            "Class Iris-versicolor:\t 48\n",
            "Class Iris-virginica:\t 14\n"
          ],
          "name": "stdout"
        }
      ]
    },
    {
      "cell_type": "markdown",
      "metadata": {
        "id": "2dQtMgDkxxLo",
        "colab_type": "text"
      },
      "source": [
        "**Question:** After clustering, what class of plant is prominent in cluster 0?\n",
        "- Iris-setosa"
      ]
    },
    {
      "cell_type": "markdown",
      "metadata": {
        "id": "D2kEzJVIxxLp",
        "colab_type": "text"
      },
      "source": [
        "**Question:** After clustering, what class of plant is prominent in cluster 1?\n",
        "- Iris-virginica"
      ]
    },
    {
      "cell_type": "markdown",
      "metadata": {
        "id": "-FYyVe_PxxLp",
        "colab_type": "text"
      },
      "source": [
        "**Question:** After clustering, what class of plant is prominent in cluster 2?\n",
        "- Iris-versicolor"
      ]
    },
    {
      "cell_type": "code",
      "metadata": {
        "id": "CmBd3l49xxLp",
        "colab_type": "code",
        "colab": {}
      },
      "source": [
        ""
      ],
      "execution_count": null,
      "outputs": []
    }
  ]
}