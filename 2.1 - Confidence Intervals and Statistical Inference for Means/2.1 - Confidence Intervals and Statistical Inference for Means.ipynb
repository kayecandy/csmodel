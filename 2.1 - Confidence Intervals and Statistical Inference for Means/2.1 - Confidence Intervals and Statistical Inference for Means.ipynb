{
 "cells": [
  {
   "cell_type": "markdown",
   "metadata": {},
   "source": [
    "## Confidence Intervals and Statistical Inference for Means\n",
    "In this Notebook, we will work on confidence intervals and statistical inference for means. This particular Notebook is mostly adopted from the [Inferential Statistics](https://www.coursera.org/learn/inferential-statistics-intro/home/welcome) course of Duke University, converted from R to Python and tweaked to match the needs of our CSMODEL course.\n",
    "\n",
    "Our Notebooks in CSMODEL are designed to be guided learning activities. To use them, simply through the cells from top to bottom, following the directions along the way. If you find any unclear parts or mistakes in the Notebooks, email me at arren.antioquia@dlsu.edu.ph"
   ]
  },
  {
   "cell_type": "markdown",
   "metadata": {},
   "source": [
    "## Import Libraries"
   ]
  },
  {
   "cell_type": "code",
   "execution_count": 8,
   "metadata": {},
   "outputs": [],
   "source": [
    "import numpy as np\n",
    "import pandas as pd\n",
    "import matplotlib.pyplot as plt\n",
    "from scipy.stats import norm\n",
    "from scipy.stats import ttest_ind"
   ]
  },
  {
   "cell_type": "markdown",
   "metadata": {},
   "source": [
    "## Real Estate Data"
   ]
  },
  {
   "cell_type": "markdown",
   "metadata": {},
   "source": [
    "We consider real estate data from the city of Ames, Iowa. The details of \n",
    "every real estate transaction in Ames is recorded by the City Assessor's \n",
    "office. Our particular focus for this lab will be all residential home sales \n",
    "in Ames between 2006 and 2010.  This collection represents our **population** of interest. In this lab we would like to learn about these home sales by taking smaller samples from the full population. Let's load the data."
   ]
  },
  {
   "cell_type": "code",
   "execution_count": 9,
   "metadata": {},
   "outputs": [
    {
     "output_type": "execute_result",
     "data": {
      "text/plain": [
       "             PID  MS.SubClass MS.Zoning  Lot.Frontage  Lot.Area Street Alley  \\\n",
       "Order                                                                          \n",
       "1      526301100           20        RL         141.0     31770   Pave   NaN   \n",
       "2      526350040           20        RH          80.0     11622   Pave   NaN   \n",
       "3      526351010           20        RL          81.0     14267   Pave   NaN   \n",
       "4      526353030           20        RL          93.0     11160   Pave   NaN   \n",
       "5      527105010           60        RL          74.0     13830   Pave   NaN   \n",
       "\n",
       "      Lot.Shape Land.Contour Utilities  ... Pool.Area Pool.QC  Fence  \\\n",
       "Order                                   ...                            \n",
       "1           IR1          Lvl    AllPub  ...         0     NaN    NaN   \n",
       "2           Reg          Lvl    AllPub  ...         0     NaN  MnPrv   \n",
       "3           IR1          Lvl    AllPub  ...         0     NaN    NaN   \n",
       "4           Reg          Lvl    AllPub  ...         0     NaN    NaN   \n",
       "5           IR1          Lvl    AllPub  ...         0     NaN  MnPrv   \n",
       "\n",
       "      Misc.Feature Misc.Val Mo.Sold Yr.Sold  Sale.Type  Sale.Condition  \\\n",
       "Order                                                                    \n",
       "1              NaN        0       5    2010        WD           Normal   \n",
       "2              NaN        0       6    2010        WD           Normal   \n",
       "3             Gar2    12500       6    2010        WD           Normal   \n",
       "4              NaN        0       4    2010        WD           Normal   \n",
       "5              NaN        0       3    2010        WD           Normal   \n",
       "\n",
       "       SalePrice  \n",
       "Order             \n",
       "1         215000  \n",
       "2         105000  \n",
       "3         172000  \n",
       "4         244000  \n",
       "5         189900  \n",
       "\n",
       "[5 rows x 81 columns]"
      ],
      "text/html": "<div>\n<style scoped>\n    .dataframe tbody tr th:only-of-type {\n        vertical-align: middle;\n    }\n\n    .dataframe tbody tr th {\n        vertical-align: top;\n    }\n\n    .dataframe thead th {\n        text-align: right;\n    }\n</style>\n<table border=\"1\" class=\"dataframe\">\n  <thead>\n    <tr style=\"text-align: right;\">\n      <th></th>\n      <th>PID</th>\n      <th>MS.SubClass</th>\n      <th>MS.Zoning</th>\n      <th>Lot.Frontage</th>\n      <th>Lot.Area</th>\n      <th>Street</th>\n      <th>Alley</th>\n      <th>Lot.Shape</th>\n      <th>Land.Contour</th>\n      <th>Utilities</th>\n      <th>...</th>\n      <th>Pool.Area</th>\n      <th>Pool.QC</th>\n      <th>Fence</th>\n      <th>Misc.Feature</th>\n      <th>Misc.Val</th>\n      <th>Mo.Sold</th>\n      <th>Yr.Sold</th>\n      <th>Sale.Type</th>\n      <th>Sale.Condition</th>\n      <th>SalePrice</th>\n    </tr>\n    <tr>\n      <th>Order</th>\n      <th></th>\n      <th></th>\n      <th></th>\n      <th></th>\n      <th></th>\n      <th></th>\n      <th></th>\n      <th></th>\n      <th></th>\n      <th></th>\n      <th></th>\n      <th></th>\n      <th></th>\n      <th></th>\n      <th></th>\n      <th></th>\n      <th></th>\n      <th></th>\n      <th></th>\n      <th></th>\n      <th></th>\n    </tr>\n  </thead>\n  <tbody>\n    <tr>\n      <th>1</th>\n      <td>526301100</td>\n      <td>20</td>\n      <td>RL</td>\n      <td>141.0</td>\n      <td>31770</td>\n      <td>Pave</td>\n      <td>NaN</td>\n      <td>IR1</td>\n      <td>Lvl</td>\n      <td>AllPub</td>\n      <td>...</td>\n      <td>0</td>\n      <td>NaN</td>\n      <td>NaN</td>\n      <td>NaN</td>\n      <td>0</td>\n      <td>5</td>\n      <td>2010</td>\n      <td>WD</td>\n      <td>Normal</td>\n      <td>215000</td>\n    </tr>\n    <tr>\n      <th>2</th>\n      <td>526350040</td>\n      <td>20</td>\n      <td>RH</td>\n      <td>80.0</td>\n      <td>11622</td>\n      <td>Pave</td>\n      <td>NaN</td>\n      <td>Reg</td>\n      <td>Lvl</td>\n      <td>AllPub</td>\n      <td>...</td>\n      <td>0</td>\n      <td>NaN</td>\n      <td>MnPrv</td>\n      <td>NaN</td>\n      <td>0</td>\n      <td>6</td>\n      <td>2010</td>\n      <td>WD</td>\n      <td>Normal</td>\n      <td>105000</td>\n    </tr>\n    <tr>\n      <th>3</th>\n      <td>526351010</td>\n      <td>20</td>\n      <td>RL</td>\n      <td>81.0</td>\n      <td>14267</td>\n      <td>Pave</td>\n      <td>NaN</td>\n      <td>IR1</td>\n      <td>Lvl</td>\n      <td>AllPub</td>\n      <td>...</td>\n      <td>0</td>\n      <td>NaN</td>\n      <td>NaN</td>\n      <td>Gar2</td>\n      <td>12500</td>\n      <td>6</td>\n      <td>2010</td>\n      <td>WD</td>\n      <td>Normal</td>\n      <td>172000</td>\n    </tr>\n    <tr>\n      <th>4</th>\n      <td>526353030</td>\n      <td>20</td>\n      <td>RL</td>\n      <td>93.0</td>\n      <td>11160</td>\n      <td>Pave</td>\n      <td>NaN</td>\n      <td>Reg</td>\n      <td>Lvl</td>\n      <td>AllPub</td>\n      <td>...</td>\n      <td>0</td>\n      <td>NaN</td>\n      <td>NaN</td>\n      <td>NaN</td>\n      <td>0</td>\n      <td>4</td>\n      <td>2010</td>\n      <td>WD</td>\n      <td>Normal</td>\n      <td>244000</td>\n    </tr>\n    <tr>\n      <th>5</th>\n      <td>527105010</td>\n      <td>60</td>\n      <td>RL</td>\n      <td>74.0</td>\n      <td>13830</td>\n      <td>Pave</td>\n      <td>NaN</td>\n      <td>IR1</td>\n      <td>Lvl</td>\n      <td>AllPub</td>\n      <td>...</td>\n      <td>0</td>\n      <td>NaN</td>\n      <td>MnPrv</td>\n      <td>NaN</td>\n      <td>0</td>\n      <td>3</td>\n      <td>2010</td>\n      <td>WD</td>\n      <td>Normal</td>\n      <td>189900</td>\n    </tr>\n  </tbody>\n</table>\n<p>5 rows × 81 columns</p>\n</div>"
     },
     "metadata": {},
     "execution_count": 9
    }
   ],
   "source": [
    "ames_df = pd.read_csv(\"ames.csv\", index_col=\"Order\")\n",
    "ames_df.head()"
   ]
  },
  {
   "cell_type": "markdown",
   "metadata": {},
   "source": [
    "### Get a Sample"
   ]
  },
  {
   "cell_type": "markdown",
   "metadata": {},
   "source": [
    "Here, we have access to the population data. But in most cases, we do not. Instead, we have to work with a **sample**. Here, let's try to take a sample from our population."
   ]
  },
  {
   "cell_type": "code",
   "execution_count": 10,
   "metadata": {},
   "outputs": [
    {
     "output_type": "execute_result",
     "data": {
      "text/plain": [
       "             PID  MS.SubClass MS.Zoning  Lot.Frontage  Lot.Area Street Alley  \\\n",
       "Order                                                                          \n",
       "2127   907135180           20        RL          60.0      8070   Pave   NaN   \n",
       "193    903206120           75        RL           NaN      7793   Pave   NaN   \n",
       "2407   528181040          120        RL          40.0      6792   Pave   NaN   \n",
       "46     528175010          120        RL          44.0      6371   Pave   NaN   \n",
       "2478   531379030           60        RL          70.0      8304   Pave   NaN   \n",
       "\n",
       "      Lot.Shape Land.Contour Utilities  ... Pool.Area Pool.QC  Fence  \\\n",
       "Order                                   ...                            \n",
       "2127        Reg          Lvl    AllPub  ...         0     NaN    NaN   \n",
       "193         IR1          Bnk    AllPub  ...         0     NaN    NaN   \n",
       "2407        IR1          Lvl    AllPub  ...         0     NaN    NaN   \n",
       "46          IR1          Lvl    AllPub  ...         0     NaN    NaN   \n",
       "2478        IR1          Lvl    AllPub  ...         0     NaN  GdPrv   \n",
       "\n",
       "      Misc.Feature Misc.Val Mo.Sold Yr.Sold  Sale.Type  Sale.Condition  \\\n",
       "Order                                                                    \n",
       "2127           NaN        0       8    2007        WD           Normal   \n",
       "193            NaN        0       5    2010        WD           Normal   \n",
       "2407           NaN        0       3    2006        New         Partial   \n",
       "46             NaN        0       6    2010        New         Partial   \n",
       "2478           NaN        0       7    2006        WD           Normal   \n",
       "\n",
       "       SalePrice  \n",
       "Order             \n",
       "2127      123600  \n",
       "193       209500  \n",
       "2407      202665  \n",
       "46        224000  \n",
       "2478      187000  \n",
       "\n",
       "[5 rows x 81 columns]"
      ],
      "text/html": "<div>\n<style scoped>\n    .dataframe tbody tr th:only-of-type {\n        vertical-align: middle;\n    }\n\n    .dataframe tbody tr th {\n        vertical-align: top;\n    }\n\n    .dataframe thead th {\n        text-align: right;\n    }\n</style>\n<table border=\"1\" class=\"dataframe\">\n  <thead>\n    <tr style=\"text-align: right;\">\n      <th></th>\n      <th>PID</th>\n      <th>MS.SubClass</th>\n      <th>MS.Zoning</th>\n      <th>Lot.Frontage</th>\n      <th>Lot.Area</th>\n      <th>Street</th>\n      <th>Alley</th>\n      <th>Lot.Shape</th>\n      <th>Land.Contour</th>\n      <th>Utilities</th>\n      <th>...</th>\n      <th>Pool.Area</th>\n      <th>Pool.QC</th>\n      <th>Fence</th>\n      <th>Misc.Feature</th>\n      <th>Misc.Val</th>\n      <th>Mo.Sold</th>\n      <th>Yr.Sold</th>\n      <th>Sale.Type</th>\n      <th>Sale.Condition</th>\n      <th>SalePrice</th>\n    </tr>\n    <tr>\n      <th>Order</th>\n      <th></th>\n      <th></th>\n      <th></th>\n      <th></th>\n      <th></th>\n      <th></th>\n      <th></th>\n      <th></th>\n      <th></th>\n      <th></th>\n      <th></th>\n      <th></th>\n      <th></th>\n      <th></th>\n      <th></th>\n      <th></th>\n      <th></th>\n      <th></th>\n      <th></th>\n      <th></th>\n      <th></th>\n    </tr>\n  </thead>\n  <tbody>\n    <tr>\n      <th>2127</th>\n      <td>907135180</td>\n      <td>20</td>\n      <td>RL</td>\n      <td>60.0</td>\n      <td>8070</td>\n      <td>Pave</td>\n      <td>NaN</td>\n      <td>Reg</td>\n      <td>Lvl</td>\n      <td>AllPub</td>\n      <td>...</td>\n      <td>0</td>\n      <td>NaN</td>\n      <td>NaN</td>\n      <td>NaN</td>\n      <td>0</td>\n      <td>8</td>\n      <td>2007</td>\n      <td>WD</td>\n      <td>Normal</td>\n      <td>123600</td>\n    </tr>\n    <tr>\n      <th>193</th>\n      <td>903206120</td>\n      <td>75</td>\n      <td>RL</td>\n      <td>NaN</td>\n      <td>7793</td>\n      <td>Pave</td>\n      <td>NaN</td>\n      <td>IR1</td>\n      <td>Bnk</td>\n      <td>AllPub</td>\n      <td>...</td>\n      <td>0</td>\n      <td>NaN</td>\n      <td>NaN</td>\n      <td>NaN</td>\n      <td>0</td>\n      <td>5</td>\n      <td>2010</td>\n      <td>WD</td>\n      <td>Normal</td>\n      <td>209500</td>\n    </tr>\n    <tr>\n      <th>2407</th>\n      <td>528181040</td>\n      <td>120</td>\n      <td>RL</td>\n      <td>40.0</td>\n      <td>6792</td>\n      <td>Pave</td>\n      <td>NaN</td>\n      <td>IR1</td>\n      <td>Lvl</td>\n      <td>AllPub</td>\n      <td>...</td>\n      <td>0</td>\n      <td>NaN</td>\n      <td>NaN</td>\n      <td>NaN</td>\n      <td>0</td>\n      <td>3</td>\n      <td>2006</td>\n      <td>New</td>\n      <td>Partial</td>\n      <td>202665</td>\n    </tr>\n    <tr>\n      <th>46</th>\n      <td>528175010</td>\n      <td>120</td>\n      <td>RL</td>\n      <td>44.0</td>\n      <td>6371</td>\n      <td>Pave</td>\n      <td>NaN</td>\n      <td>IR1</td>\n      <td>Lvl</td>\n      <td>AllPub</td>\n      <td>...</td>\n      <td>0</td>\n      <td>NaN</td>\n      <td>NaN</td>\n      <td>NaN</td>\n      <td>0</td>\n      <td>6</td>\n      <td>2010</td>\n      <td>New</td>\n      <td>Partial</td>\n      <td>224000</td>\n    </tr>\n    <tr>\n      <th>2478</th>\n      <td>531379030</td>\n      <td>60</td>\n      <td>RL</td>\n      <td>70.0</td>\n      <td>8304</td>\n      <td>Pave</td>\n      <td>NaN</td>\n      <td>IR1</td>\n      <td>Lvl</td>\n      <td>AllPub</td>\n      <td>...</td>\n      <td>0</td>\n      <td>NaN</td>\n      <td>GdPrv</td>\n      <td>NaN</td>\n      <td>0</td>\n      <td>7</td>\n      <td>2006</td>\n      <td>WD</td>\n      <td>Normal</td>\n      <td>187000</td>\n    </tr>\n  </tbody>\n</table>\n<p>5 rows × 81 columns</p>\n</div>"
     },
     "metadata": {},
     "execution_count": 10
    }
   ],
   "source": [
    "n = 60 # sample size\n",
    "ames_sample_df = ames_df.sample(n, random_state=1)\n",
    "ames_sample_df.head()"
   ]
  },
  {
   "cell_type": "markdown",
   "metadata": {},
   "source": [
    "For now, we will only focus on the `Lot.Area` variable. Let us compute the summary statistics for this variable."
   ]
  },
  {
   "cell_type": "code",
   "execution_count": 11,
   "metadata": {},
   "outputs": [
    {
     "output_type": "stream",
     "name": "stdout",
     "text": [
      "10846.62\n8815.00\n9262.26\n"
     ]
    }
   ],
   "source": [
    "agg = ames_sample_df.agg({\"Lot.Area\": [\"mean\", \"median\", \"std\"]})\n",
    "\n",
    "sample_mean = agg.loc[\"mean\"][0]\n",
    "sample_median = agg.loc[\"median\"][0]\n",
    "sample_std = agg.loc[\"std\"][0]\n",
    "\n",
    "print('{:.2f}'.format(sample_mean))\n",
    "print('{:.2f}'.format(sample_median))\n",
    "print('{:.2f}'.format(sample_std))"
   ]
  },
  {
   "cell_type": "markdown",
   "metadata": {},
   "source": [
    "**Question #1:** What is the mean of your sample?\n",
    "- 10846.62"
   ]
  },
  {
   "cell_type": "markdown",
   "metadata": {},
   "source": [
    "### Confidence Interval"
   ]
  },
  {
   "cell_type": "markdown",
   "metadata": {},
   "source": [
    "Return for a moment to the question that first motivated this lab: based on this sample, what can we infer about the population? Based only on this single sample, the best estimate of the average living area of houses sold in Ames would be the sample mean, usually denoted as $\\bar{x}$. That serves as a good point estimate but it would be useful to also communicate how uncertain we are of that estimate. This uncertainty can be quantified using a confidence interval.\n",
    "\n",
    "A confidence interval for a population mean is of the following form:\n",
    "\n",
    "$$\\bar{x} \\pm z^* \\frac{s}{\\sqrt{n}}$$\n",
    "\n",
    "Where $z^*$, also known as the **critical value**, is the z-score that corresponds to the middle 95% of the data.\n",
    "\n",
    "We can use the `norm.ppf` function for this task, which will give the critical value associated with a given percentile under the normal distribution. Remember that confidence levels and percentiles are not equivalent. For example, a 95% confidence level refers to the middle 95% of the distribution, and the critical value associated with this area will correspond to the 97.5th percentile."
   ]
  },
  {
   "cell_type": "markdown",
   "metadata": {},
   "source": [
    "We can find the critical value for a 95% confidence interal using:"
   ]
  },
  {
   "cell_type": "code",
   "execution_count": 12,
   "metadata": {
    "scrolled": true
   },
   "outputs": [
    {
     "output_type": "stream",
     "name": "stdout",
     "text": [
      "1.96\n"
     ]
    }
   ],
   "source": [
    "z_star_95 = norm.ppf(0.975)\n",
    "print('{:.2f}'.format(z_star_95))"
   ]
  },
  {
   "cell_type": "markdown",
   "metadata": {},
   "source": [
    "We can compute $z^* \\frac{s}{\\sqrt{n}}$ by plugging in the sample standard deviation. This is known as the **margin of error**."
   ]
  },
  {
   "cell_type": "code",
   "execution_count": 13,
   "metadata": {},
   "outputs": [
    {
     "output_type": "stream",
     "name": "stdout",
     "text": [
      "2343.63\n"
     ]
    }
   ],
   "source": [
    "margin_of_error = z_star_95 * (sample_std / np.sqrt(n))\n",
    "print('{:.2f}'.format(margin_of_error))"
   ]
  },
  {
   "cell_type": "markdown",
   "metadata": {},
   "source": [
    "**Question #2:** Given a 95% confidence level, what is the margin of error?\n",
    "- 2343.63"
   ]
  },
  {
   "cell_type": "markdown",
   "metadata": {},
   "source": [
    "Therefore, the 95% confidence interval is the sample mean $\\pm$ the margin of error."
   ]
  },
  {
   "cell_type": "code",
   "execution_count": 14,
   "metadata": {},
   "outputs": [
    {
     "output_type": "stream",
     "name": "stdout",
     "text": [
      "8502.98 13190.25\n"
     ]
    }
   ],
   "source": [
    "minimum_value = sample_mean - margin_of_error\n",
    "maximum_value = sample_mean + margin_of_error\n",
    "print('{:.2f}'.format(minimum_value), '{:.2f}'.format(maximum_value))"
   ]
  },
  {
   "cell_type": "markdown",
   "metadata": {},
   "source": [
    "**Question #3:** Specify the confidence interval (minimum value, maximum value) as a range.\n",
    "- 10846.62 ± 2343.63\n",
    "- \\[8502.98, 13190.25\\]"
   ]
  },
  {
   "cell_type": "markdown",
   "metadata": {},
   "source": [
    "To recap: even though we don’t know what the full population looks like, we’re 95% confident that the true average size of houses in Ames lies between the values lower and upper. There are a few conditions that must be met for this interval to be valid."
   ]
  },
  {
   "cell_type": "markdown",
   "metadata": {},
   "source": [
    "**Question #4:** What are the conditions that need to be met for the central limit theorem for means and consequently, our confidence interval to be valid?\n",
    "\n",
    "- Samples must be independent; and \n",
    "- Sample size of at least 30 (or population is normally distributed)\n"
   ]
  },
  {
   "cell_type": "markdown",
   "metadata": {},
   "source": [
    "**Question #5:** Is our confidence interval valid, based on the above conditions?\n",
    "- Yes, because our sample size is 60 and are independent."
   ]
  },
  {
   "cell_type": "markdown",
   "metadata": {},
   "source": [
    "### Verify if Our Range Covers the True Mean"
   ]
  },
  {
   "cell_type": "markdown",
   "metadata": {},
   "source": [
    "In this case we have the rare luxury of knowing the true population mean since we have data on the entire population. Let’s calculate this value so that we can determine if our confidence intervals actually capture it.\n",
    "\n",
    "Let us get the mean from the population (not the sample)."
   ]
  },
  {
   "cell_type": "code",
   "execution_count": 15,
   "metadata": {
    "scrolled": true
   },
   "outputs": [
    {
     "output_type": "stream",
     "name": "stdout",
     "text": [
      "10147.92\n"
     ]
    }
   ],
   "source": [
    "population_mean = ames_df.agg({\"Lot.Area\": \"mean\"})[0]\n",
    "print('{:.2f}'.format(population_mean))"
   ]
  },
  {
   "cell_type": "markdown",
   "metadata": {},
   "source": [
    "**Question #6:** What is the true population mean? (Limit to 2 decimal places)\n",
    "- 10147.92"
   ]
  },
  {
   "cell_type": "markdown",
   "metadata": {},
   "source": [
    "**Question #7:** Is the true population mean within your confidence interval range?\n",
    "- Yes"
   ]
  },
  {
   "cell_type": "markdown",
   "metadata": {},
   "source": [
    "### Increase the Confidence Level to 99%"
   ]
  },
  {
   "cell_type": "markdown",
   "metadata": {},
   "source": [
    "Let's get another sample from the population, where `n` is 60."
   ]
  },
  {
   "cell_type": "code",
   "execution_count": 16,
   "metadata": {},
   "outputs": [
    {
     "output_type": "execute_result",
     "data": {
      "text/plain": [
       "             PID  MS.SubClass MS.Zoning  Lot.Frontage  Lot.Area Street Alley  \\\n",
       "Order                                                                          \n",
       "1573   916325080           20        RL           NaN     15498   Pave   NaN   \n",
       "2730   905300080           20        RL         100.0     13350   Pave   NaN   \n",
       "1700   528114050           20        RL         110.0     14977   Pave   NaN   \n",
       "1070   528180110          120        RL          58.0     10110   Pave   NaN   \n",
       "1437   907181120           60        RL          68.0      8998   Pave   NaN   \n",
       "\n",
       "      Lot.Shape Land.Contour Utilities  ... Pool.Area Pool.QC  Fence  \\\n",
       "Order                                   ...                            \n",
       "1573        IR1          Lvl    AllPub  ...         0     NaN    NaN   \n",
       "2730        IR1          Lvl    AllPub  ...         0     NaN  MnPrv   \n",
       "1700        IR1          Lvl    AllPub  ...         0     NaN    NaN   \n",
       "1070        IR1          Lvl    AllPub  ...         0     NaN    NaN   \n",
       "1437        IR1          Lvl    AllPub  ...         0     NaN    NaN   \n",
       "\n",
       "      Misc.Feature Misc.Val Mo.Sold Yr.Sold  Sale.Type  Sale.Condition  \\\n",
       "Order                                                                    \n",
       "1573           NaN        0       5    2008        COD         Abnorml   \n",
       "2730           NaN        0       6    2006        WD           Normal   \n",
       "1700           NaN        0       7    2007        New         Partial   \n",
       "1070           NaN        0      11    2008        New         Partial   \n",
       "1437           NaN        0       6    2008        WD           Normal   \n",
       "\n",
       "       SalePrice  \n",
       "Order             \n",
       "1573      287000  \n",
       "2730      142500  \n",
       "1700      440000  \n",
       "1070      336860  \n",
       "1437      207500  \n",
       "\n",
       "[5 rows x 81 columns]"
      ],
      "text/html": "<div>\n<style scoped>\n    .dataframe tbody tr th:only-of-type {\n        vertical-align: middle;\n    }\n\n    .dataframe tbody tr th {\n        vertical-align: top;\n    }\n\n    .dataframe thead th {\n        text-align: right;\n    }\n</style>\n<table border=\"1\" class=\"dataframe\">\n  <thead>\n    <tr style=\"text-align: right;\">\n      <th></th>\n      <th>PID</th>\n      <th>MS.SubClass</th>\n      <th>MS.Zoning</th>\n      <th>Lot.Frontage</th>\n      <th>Lot.Area</th>\n      <th>Street</th>\n      <th>Alley</th>\n      <th>Lot.Shape</th>\n      <th>Land.Contour</th>\n      <th>Utilities</th>\n      <th>...</th>\n      <th>Pool.Area</th>\n      <th>Pool.QC</th>\n      <th>Fence</th>\n      <th>Misc.Feature</th>\n      <th>Misc.Val</th>\n      <th>Mo.Sold</th>\n      <th>Yr.Sold</th>\n      <th>Sale.Type</th>\n      <th>Sale.Condition</th>\n      <th>SalePrice</th>\n    </tr>\n    <tr>\n      <th>Order</th>\n      <th></th>\n      <th></th>\n      <th></th>\n      <th></th>\n      <th></th>\n      <th></th>\n      <th></th>\n      <th></th>\n      <th></th>\n      <th></th>\n      <th></th>\n      <th></th>\n      <th></th>\n      <th></th>\n      <th></th>\n      <th></th>\n      <th></th>\n      <th></th>\n      <th></th>\n      <th></th>\n      <th></th>\n    </tr>\n  </thead>\n  <tbody>\n    <tr>\n      <th>1573</th>\n      <td>916325080</td>\n      <td>20</td>\n      <td>RL</td>\n      <td>NaN</td>\n      <td>15498</td>\n      <td>Pave</td>\n      <td>NaN</td>\n      <td>IR1</td>\n      <td>Lvl</td>\n      <td>AllPub</td>\n      <td>...</td>\n      <td>0</td>\n      <td>NaN</td>\n      <td>NaN</td>\n      <td>NaN</td>\n      <td>0</td>\n      <td>5</td>\n      <td>2008</td>\n      <td>COD</td>\n      <td>Abnorml</td>\n      <td>287000</td>\n    </tr>\n    <tr>\n      <th>2730</th>\n      <td>905300080</td>\n      <td>20</td>\n      <td>RL</td>\n      <td>100.0</td>\n      <td>13350</td>\n      <td>Pave</td>\n      <td>NaN</td>\n      <td>IR1</td>\n      <td>Lvl</td>\n      <td>AllPub</td>\n      <td>...</td>\n      <td>0</td>\n      <td>NaN</td>\n      <td>MnPrv</td>\n      <td>NaN</td>\n      <td>0</td>\n      <td>6</td>\n      <td>2006</td>\n      <td>WD</td>\n      <td>Normal</td>\n      <td>142500</td>\n    </tr>\n    <tr>\n      <th>1700</th>\n      <td>528114050</td>\n      <td>20</td>\n      <td>RL</td>\n      <td>110.0</td>\n      <td>14977</td>\n      <td>Pave</td>\n      <td>NaN</td>\n      <td>IR1</td>\n      <td>Lvl</td>\n      <td>AllPub</td>\n      <td>...</td>\n      <td>0</td>\n      <td>NaN</td>\n      <td>NaN</td>\n      <td>NaN</td>\n      <td>0</td>\n      <td>7</td>\n      <td>2007</td>\n      <td>New</td>\n      <td>Partial</td>\n      <td>440000</td>\n    </tr>\n    <tr>\n      <th>1070</th>\n      <td>528180110</td>\n      <td>120</td>\n      <td>RL</td>\n      <td>58.0</td>\n      <td>10110</td>\n      <td>Pave</td>\n      <td>NaN</td>\n      <td>IR1</td>\n      <td>Lvl</td>\n      <td>AllPub</td>\n      <td>...</td>\n      <td>0</td>\n      <td>NaN</td>\n      <td>NaN</td>\n      <td>NaN</td>\n      <td>0</td>\n      <td>11</td>\n      <td>2008</td>\n      <td>New</td>\n      <td>Partial</td>\n      <td>336860</td>\n    </tr>\n    <tr>\n      <th>1437</th>\n      <td>907181120</td>\n      <td>60</td>\n      <td>RL</td>\n      <td>68.0</td>\n      <td>8998</td>\n      <td>Pave</td>\n      <td>NaN</td>\n      <td>IR1</td>\n      <td>Lvl</td>\n      <td>AllPub</td>\n      <td>...</td>\n      <td>0</td>\n      <td>NaN</td>\n      <td>NaN</td>\n      <td>NaN</td>\n      <td>0</td>\n      <td>6</td>\n      <td>2008</td>\n      <td>WD</td>\n      <td>Normal</td>\n      <td>207500</td>\n    </tr>\n  </tbody>\n</table>\n<p>5 rows × 81 columns</p>\n</div>"
     },
     "metadata": {},
     "execution_count": 16
    }
   ],
   "source": [
    "n = 60 # sample size\n",
    "ames_sample_df = ames_df.sample(n, random_state=2)\n",
    "ames_sample_df.head()"
   ]
  },
  {
   "cell_type": "markdown",
   "metadata": {},
   "source": [
    "Let's focus on the `Lot.Area` variable again. Compute the summary statistics - mean, median, and standard deviation for this variable."
   ]
  },
  {
   "cell_type": "code",
   "execution_count": 19,
   "metadata": {},
   "outputs": [
    {
     "output_type": "execute_result",
     "data": {
      "text/plain": [
       "            Lot.Area\n",
       "mean    10867.116667\n",
       "median   9613.500000\n",
       "std      6866.103299"
      ],
      "text/html": "<div>\n<style scoped>\n    .dataframe tbody tr th:only-of-type {\n        vertical-align: middle;\n    }\n\n    .dataframe tbody tr th {\n        vertical-align: top;\n    }\n\n    .dataframe thead th {\n        text-align: right;\n    }\n</style>\n<table border=\"1\" class=\"dataframe\">\n  <thead>\n    <tr style=\"text-align: right;\">\n      <th></th>\n      <th>Lot.Area</th>\n    </tr>\n  </thead>\n  <tbody>\n    <tr>\n      <th>mean</th>\n      <td>10867.116667</td>\n    </tr>\n    <tr>\n      <th>median</th>\n      <td>9613.500000</td>\n    </tr>\n    <tr>\n      <th>std</th>\n      <td>6866.103299</td>\n    </tr>\n  </tbody>\n</table>\n</div>"
     },
     "metadata": {},
     "execution_count": 19
    }
   ],
   "source": [
    "# Write your code here\n",
    "agg = ames_sample_df.agg({\"Lot.Area\": [\"mean\", \"median\", \"std\"]})\n",
    "sample_mean = agg.loc[\"mean\"][0]\n",
    "sample_median = agg.loc[\"median\"][0]\n",
    "sample_std = agg.loc[\"std\"][0]\n",
    "\n",
    "agg"
   ]
  },
  {
   "cell_type": "markdown",
   "metadata": {},
   "source": [
    "**Question #8:** What is the mean of your new sample? Limit to 2 decimal places only.\n",
    "- 10867.12"
   ]
  },
  {
   "cell_type": "markdown",
   "metadata": {},
   "source": [
    "Now, let's increase the confidence level from 95% to 99%. Get the **critical value**, $z^*$, or the z-score that corresponds to the middle 99% of the data."
   ]
  },
  {
   "cell_type": "code",
   "execution_count": 18,
   "metadata": {},
   "outputs": [
    {
     "output_type": "stream",
     "name": "stdout",
     "text": [
      "2.58\n"
     ]
    }
   ],
   "source": [
    "# Write your code here\n",
    "z_star_99 = norm.ppf(0.995)\n",
    "print('{:.2f}'.format(z_star_99))"
   ]
  },
  {
   "cell_type": "markdown",
   "metadata": {},
   "source": [
    "Compute the margin of error."
   ]
  },
  {
   "cell_type": "code",
   "execution_count": 20,
   "metadata": {},
   "outputs": [
    {
     "output_type": "stream",
     "name": "stdout",
     "text": [
      "2283.24\n"
     ]
    }
   ],
   "source": [
    "# Write your code here\n",
    "margin_of_error = z_star_99 * (sample_std / np.sqrt(n))\n",
    "print('{:.2f}'.format(margin_of_error))"
   ]
  },
  {
   "cell_type": "markdown",
   "metadata": {},
   "source": [
    "**Question #9:** Given a 99% confidence level, what is the margin of error? Limit to 2 decimal places only.\n",
    "- 2283.24"
   ]
  },
  {
   "cell_type": "markdown",
   "metadata": {},
   "source": [
    "Get the confidence interval (minimum value, maximum value)."
   ]
  },
  {
   "cell_type": "code",
   "execution_count": 21,
   "metadata": {},
   "outputs": [
    {
     "output_type": "stream",
     "name": "stdout",
     "text": [
      "8583.88 13150.36\n"
     ]
    }
   ],
   "source": [
    "# Write your code here\n",
    "minimum_value = sample_mean - margin_of_error\n",
    "maximum_value = sample_mean + margin_of_error\n",
    "print('{:.2f}'.format(minimum_value), '{:.2f}'.format(maximum_value))"
   ]
  },
  {
   "cell_type": "markdown",
   "metadata": {},
   "source": [
    "**Question #10:** Specify the confidence interval (minimum value, maximum value) as a range. Limit to 2 decimal places only.\n",
    "- \\[8583.88, 13150.36\\]"
   ]
  },
  {
   "cell_type": "markdown",
   "metadata": {},
   "source": [
    "**Question #11:** Is the true population mean within your confidence interval range?\n",
    "- Yes"
   ]
  },
  {
   "cell_type": "markdown",
   "metadata": {},
   "source": [
    "From here, we have seen that even though we do not have access to the population, we can use a sample to estimate the the true population mean with the use of confidence intervals."
   ]
  },
  {
   "cell_type": "markdown",
   "metadata": {},
   "source": [
    "## Birth Records Data"
   ]
  },
  {
   "cell_type": "markdown",
   "metadata": {},
   "source": [
    "In 2004, the state of North Carolina released a large data set containing information on births recorded in this state. This data set is useful to researchers studying the relation between habits and practices of expectant mothers and the birth of their children. We will work with a random sample of observations from this data set.\n",
    "\n",
    "Load the `nc` data set into our workspace."
   ]
  },
  {
   "cell_type": "code",
   "execution_count": 22,
   "metadata": {
    "scrolled": true
   },
   "outputs": [
    {
     "output_type": "execute_result",
     "data": {
      "text/plain": [
       "   fage  mage       mature  weeks     premie  visits  marital  gained  weight  \\\n",
       "0   NaN    13  younger mom   39.0  full term    10.0  married    38.0    7.63   \n",
       "1   NaN    14  younger mom   42.0  full term    15.0  married    20.0    7.88   \n",
       "2  19.0    15  younger mom   37.0  full term    11.0  married    38.0    6.63   \n",
       "3  21.0    15  younger mom   41.0  full term     6.0  married    34.0    8.00   \n",
       "4   NaN    15  younger mom   39.0  full term     9.0  married    27.0    6.38   \n",
       "\n",
       "  lowbirthweight  gender      habit   whitemom  \n",
       "0        not low    male  nonsmoker  not white  \n",
       "1        not low    male  nonsmoker  not white  \n",
       "2        not low  female  nonsmoker      white  \n",
       "3        not low    male  nonsmoker      white  \n",
       "4        not low  female  nonsmoker  not white  "
      ],
      "text/html": "<div>\n<style scoped>\n    .dataframe tbody tr th:only-of-type {\n        vertical-align: middle;\n    }\n\n    .dataframe tbody tr th {\n        vertical-align: top;\n    }\n\n    .dataframe thead th {\n        text-align: right;\n    }\n</style>\n<table border=\"1\" class=\"dataframe\">\n  <thead>\n    <tr style=\"text-align: right;\">\n      <th></th>\n      <th>fage</th>\n      <th>mage</th>\n      <th>mature</th>\n      <th>weeks</th>\n      <th>premie</th>\n      <th>visits</th>\n      <th>marital</th>\n      <th>gained</th>\n      <th>weight</th>\n      <th>lowbirthweight</th>\n      <th>gender</th>\n      <th>habit</th>\n      <th>whitemom</th>\n    </tr>\n  </thead>\n  <tbody>\n    <tr>\n      <th>0</th>\n      <td>NaN</td>\n      <td>13</td>\n      <td>younger mom</td>\n      <td>39.0</td>\n      <td>full term</td>\n      <td>10.0</td>\n      <td>married</td>\n      <td>38.0</td>\n      <td>7.63</td>\n      <td>not low</td>\n      <td>male</td>\n      <td>nonsmoker</td>\n      <td>not white</td>\n    </tr>\n    <tr>\n      <th>1</th>\n      <td>NaN</td>\n      <td>14</td>\n      <td>younger mom</td>\n      <td>42.0</td>\n      <td>full term</td>\n      <td>15.0</td>\n      <td>married</td>\n      <td>20.0</td>\n      <td>7.88</td>\n      <td>not low</td>\n      <td>male</td>\n      <td>nonsmoker</td>\n      <td>not white</td>\n    </tr>\n    <tr>\n      <th>2</th>\n      <td>19.0</td>\n      <td>15</td>\n      <td>younger mom</td>\n      <td>37.0</td>\n      <td>full term</td>\n      <td>11.0</td>\n      <td>married</td>\n      <td>38.0</td>\n      <td>6.63</td>\n      <td>not low</td>\n      <td>female</td>\n      <td>nonsmoker</td>\n      <td>white</td>\n    </tr>\n    <tr>\n      <th>3</th>\n      <td>21.0</td>\n      <td>15</td>\n      <td>younger mom</td>\n      <td>41.0</td>\n      <td>full term</td>\n      <td>6.0</td>\n      <td>married</td>\n      <td>34.0</td>\n      <td>8.00</td>\n      <td>not low</td>\n      <td>male</td>\n      <td>nonsmoker</td>\n      <td>white</td>\n    </tr>\n    <tr>\n      <th>4</th>\n      <td>NaN</td>\n      <td>15</td>\n      <td>younger mom</td>\n      <td>39.0</td>\n      <td>full term</td>\n      <td>9.0</td>\n      <td>married</td>\n      <td>27.0</td>\n      <td>6.38</td>\n      <td>not low</td>\n      <td>female</td>\n      <td>nonsmoker</td>\n      <td>not white</td>\n    </tr>\n  </tbody>\n</table>\n</div>"
     },
     "metadata": {},
     "execution_count": 22
    }
   ],
   "source": [
    "nc_df = pd.read_csv(\"nc.csv\")\n",
    "nc_df.head()"
   ]
  },
  {
   "cell_type": "markdown",
   "metadata": {},
   "source": [
    "We have observations on 13 different variables, some categorical and some numerical. The meaning of each variable is as follows.\n",
    "\n",
    "- **`fage`**: father’s age in years.\n",
    "- **`mage`**:\tmother’s age in years.\n",
    "- **`mature`**: maturity status of mother.\n",
    "- **`weeks`**: length of pregnancy in weeks.\n",
    "- **`premie`**: whether the birth was classified as premature (premie) or full-term.\n",
    "- **`visits`**: number of hospital visits during pregnancy.\n",
    "- **`marital`**: whether mother is married or not married at birth.\n",
    "- **`gained`**: weight gained by mother during pregnancy in pounds.\n",
    "- **`weight`**: weight of the baby at birth in pounds.\n",
    "- **`lowbirthweight`**: whether baby was classified as low birthweight (low) or not (not low).\n",
    "- **`gender`**: gender of the baby, female or male.\n",
    "- **`habit`**: status of the mother as a nonsmoker or a smoker.\n",
    "- **`whitemom`**:\twhether mom is white or not white."
   ]
  },
  {
   "cell_type": "markdown",
   "metadata": {},
   "source": [
    "**Question #12:** What does each observation in this dataset represent?\n",
    "- It represents a record of the birth state of the infant (eg: weight, premie/full-term, etc) as well as some factors that might affect the birth state such as smoking habits, race, age of parents"
   ]
  },
  {
   "cell_type": "markdown",
   "metadata": {},
   "source": [
    "We will consider the possible relationship between a mother’s smoking habit (`habit`) and the weight (`weight`) of her baby. Plotting the data is a useful first step because it helps us quickly visualize trends, identify strong associations, and develop research questions.\n",
    "\n",
    "Let's use a boxplot to compare the two groups:"
   ]
  },
  {
   "cell_type": "code",
   "execution_count": 23,
   "metadata": {},
   "outputs": [
    {
     "output_type": "display_data",
     "data": {
      "text/plain": "<Figure size 432x288 with 2 Axes>",
      "image/svg+xml": "<?xml version=\"1.0\" encoding=\"utf-8\" standalone=\"no\"?>\n<!DOCTYPE svg PUBLIC \"-//W3C//DTD SVG 1.1//EN\"\n  \"http://www.w3.org/Graphics/SVG/1.1/DTD/svg11.dtd\">\n<!-- Created with matplotlib (https://matplotlib.org/) -->\n<svg height=\"262.19625pt\" version=\"1.1\" viewBox=\"0 0 379.725 262.19625\" width=\"379.725pt\" xmlns=\"http://www.w3.org/2000/svg\" xmlns:xlink=\"http://www.w3.org/1999/xlink\">\n <metadata>\n  <rdf:RDF xmlns:cc=\"http://creativecommons.org/ns#\" xmlns:dc=\"http://purl.org/dc/elements/1.1/\" xmlns:rdf=\"http://www.w3.org/1999/02/22-rdf-syntax-ns#\">\n   <cc:Work>\n    <dc:type rdf:resource=\"http://purl.org/dc/dcmitype/StillImage\"/>\n    <dc:date>2020-12-09T21:51:19.518773</dc:date>\n    <dc:format>image/svg+xml</dc:format>\n    <dc:creator>\n     <cc:Agent>\n      <dc:title>Matplotlib v3.3.2, https://matplotlib.org/</dc:title>\n     </cc:Agent>\n    </dc:creator>\n   </cc:Work>\n  </rdf:RDF>\n </metadata>\n <defs>\n  <style type=\"text/css\">*{stroke-linecap:butt;stroke-linejoin:round;}</style>\n </defs>\n <g id=\"figure_1\">\n  <g id=\"patch_1\">\n   <path d=\"M 0 262.19625 \nL 379.725 262.19625 \nL 379.725 0 \nL 0 0 \nz\n\" style=\"fill:none;\"/>\n  </g>\n  <g id=\"axes_1\">\n   <g id=\"patch_2\">\n    <path d=\"M 26.925 238.318125 \nL 184.015909 238.318125 \nL 184.015909 22.318125 \nL 26.925 22.318125 \nz\n\" style=\"fill:#ffffff;\"/>\n   </g>\n   <g id=\"matplotlib.axis_1\">\n    <g id=\"xtick_1\">\n     <g id=\"line2d_1\">\n      <path clip-path=\"url(#p5ade93ba04)\" d=\"M 105.470455 238.318125 \nL 105.470455 22.318125 \n\" style=\"fill:none;stroke:#b0b0b0;stroke-linecap:square;stroke-width:0.8;\"/>\n     </g>\n     <g id=\"line2d_2\">\n      <defs>\n       <path d=\"M 0 0 \nL 0 3.5 \n\" id=\"mccb927e180\" style=\"stroke:#000000;stroke-width:0.8;\"/>\n      </defs>\n      <g>\n       <use style=\"stroke:#000000;stroke-width:0.8;\" x=\"105.470455\" xlink:href=\"#mccb927e180\" y=\"238.318125\"/>\n      </g>\n     </g>\n     <g id=\"text_1\">\n      <!-- weight -->\n      <g transform=\"translate(88.612642 252.916563)scale(0.1 -0.1)\">\n       <defs>\n        <path d=\"M 4.203125 54.6875 \nL 13.1875 54.6875 \nL 24.421875 12.015625 \nL 35.59375 54.6875 \nL 46.1875 54.6875 \nL 57.421875 12.015625 \nL 68.609375 54.6875 \nL 77.59375 54.6875 \nL 63.28125 0 \nL 52.6875 0 \nL 40.921875 44.828125 \nL 29.109375 0 \nL 18.5 0 \nz\n\" id=\"DejaVuSans-119\"/>\n        <path d=\"M 56.203125 29.59375 \nL 56.203125 25.203125 \nL 14.890625 25.203125 \nQ 15.484375 15.921875 20.484375 11.0625 \nQ 25.484375 6.203125 34.421875 6.203125 \nQ 39.59375 6.203125 44.453125 7.46875 \nQ 49.3125 8.734375 54.109375 11.28125 \nL 54.109375 2.78125 \nQ 49.265625 0.734375 44.1875 -0.34375 \nQ 39.109375 -1.421875 33.890625 -1.421875 \nQ 20.796875 -1.421875 13.15625 6.1875 \nQ 5.515625 13.8125 5.515625 26.8125 \nQ 5.515625 40.234375 12.765625 48.109375 \nQ 20.015625 56 32.328125 56 \nQ 43.359375 56 49.78125 48.890625 \nQ 56.203125 41.796875 56.203125 29.59375 \nz\nM 47.21875 32.234375 \nQ 47.125 39.59375 43.09375 43.984375 \nQ 39.0625 48.390625 32.421875 48.390625 \nQ 24.90625 48.390625 20.390625 44.140625 \nQ 15.875 39.890625 15.1875 32.171875 \nz\n\" id=\"DejaVuSans-101\"/>\n        <path d=\"M 9.421875 54.6875 \nL 18.40625 54.6875 \nL 18.40625 0 \nL 9.421875 0 \nz\nM 9.421875 75.984375 \nL 18.40625 75.984375 \nL 18.40625 64.59375 \nL 9.421875 64.59375 \nz\n\" id=\"DejaVuSans-105\"/>\n        <path d=\"M 45.40625 27.984375 \nQ 45.40625 37.75 41.375 43.109375 \nQ 37.359375 48.484375 30.078125 48.484375 \nQ 22.859375 48.484375 18.828125 43.109375 \nQ 14.796875 37.75 14.796875 27.984375 \nQ 14.796875 18.265625 18.828125 12.890625 \nQ 22.859375 7.515625 30.078125 7.515625 \nQ 37.359375 7.515625 41.375 12.890625 \nQ 45.40625 18.265625 45.40625 27.984375 \nz\nM 54.390625 6.78125 \nQ 54.390625 -7.171875 48.1875 -13.984375 \nQ 42 -20.796875 29.203125 -20.796875 \nQ 24.46875 -20.796875 20.265625 -20.09375 \nQ 16.0625 -19.390625 12.109375 -17.921875 \nL 12.109375 -9.1875 \nQ 16.0625 -11.328125 19.921875 -12.34375 \nQ 23.78125 -13.375 27.78125 -13.375 \nQ 36.625 -13.375 41.015625 -8.765625 \nQ 45.40625 -4.15625 45.40625 5.171875 \nL 45.40625 9.625 \nQ 42.625 4.78125 38.28125 2.390625 \nQ 33.9375 0 27.875 0 \nQ 17.828125 0 11.671875 7.65625 \nQ 5.515625 15.328125 5.515625 27.984375 \nQ 5.515625 40.671875 11.671875 48.328125 \nQ 17.828125 56 27.875 56 \nQ 33.9375 56 38.28125 53.609375 \nQ 42.625 51.21875 45.40625 46.390625 \nL 45.40625 54.6875 \nL 54.390625 54.6875 \nz\n\" id=\"DejaVuSans-103\"/>\n        <path d=\"M 54.890625 33.015625 \nL 54.890625 0 \nL 45.90625 0 \nL 45.90625 32.71875 \nQ 45.90625 40.484375 42.875 44.328125 \nQ 39.84375 48.1875 33.796875 48.1875 \nQ 26.515625 48.1875 22.3125 43.546875 \nQ 18.109375 38.921875 18.109375 30.90625 \nL 18.109375 0 \nL 9.078125 0 \nL 9.078125 75.984375 \nL 18.109375 75.984375 \nL 18.109375 46.1875 \nQ 21.34375 51.125 25.703125 53.5625 \nQ 30.078125 56 35.796875 56 \nQ 45.21875 56 50.046875 50.171875 \nQ 54.890625 44.34375 54.890625 33.015625 \nz\n\" id=\"DejaVuSans-104\"/>\n        <path d=\"M 18.3125 70.21875 \nL 18.3125 54.6875 \nL 36.8125 54.6875 \nL 36.8125 47.703125 \nL 18.3125 47.703125 \nL 18.3125 18.015625 \nQ 18.3125 11.328125 20.140625 9.421875 \nQ 21.96875 7.515625 27.59375 7.515625 \nL 36.8125 7.515625 \nL 36.8125 0 \nL 27.59375 0 \nQ 17.1875 0 13.234375 3.875 \nQ 9.28125 7.765625 9.28125 18.015625 \nL 9.28125 47.703125 \nL 2.6875 47.703125 \nL 2.6875 54.6875 \nL 9.28125 54.6875 \nL 9.28125 70.21875 \nz\n\" id=\"DejaVuSans-116\"/>\n       </defs>\n       <use xlink:href=\"#DejaVuSans-119\"/>\n       <use x=\"81.787109\" xlink:href=\"#DejaVuSans-101\"/>\n       <use x=\"143.310547\" xlink:href=\"#DejaVuSans-105\"/>\n       <use x=\"171.09375\" xlink:href=\"#DejaVuSans-103\"/>\n       <use x=\"234.570312\" xlink:href=\"#DejaVuSans-104\"/>\n       <use x=\"297.949219\" xlink:href=\"#DejaVuSans-116\"/>\n      </g>\n     </g>\n    </g>\n   </g>\n   <g id=\"matplotlib.axis_2\">\n    <g id=\"ytick_1\">\n     <g id=\"line2d_3\">\n      <path clip-path=\"url(#p5ade93ba04)\" d=\"M 26.925 210.233558 \nL 184.015909 210.233558 \n\" style=\"fill:none;stroke:#b0b0b0;stroke-linecap:square;stroke-width:0.8;\"/>\n     </g>\n     <g id=\"line2d_4\">\n      <defs>\n       <path d=\"M 0 0 \nL -3.5 0 \n\" id=\"m88af447a43\" style=\"stroke:#000000;stroke-width:0.8;\"/>\n      </defs>\n      <g>\n       <use style=\"stroke:#000000;stroke-width:0.8;\" x=\"26.925\" xlink:href=\"#m88af447a43\" y=\"210.233558\"/>\n      </g>\n     </g>\n     <g id=\"text_2\">\n      <!-- 2 -->\n      <g transform=\"translate(13.5625 214.032777)scale(0.1 -0.1)\">\n       <defs>\n        <path d=\"M 19.1875 8.296875 \nL 53.609375 8.296875 \nL 53.609375 0 \nL 7.328125 0 \nL 7.328125 8.296875 \nQ 12.9375 14.109375 22.625 23.890625 \nQ 32.328125 33.6875 34.8125 36.53125 \nQ 39.546875 41.84375 41.421875 45.53125 \nQ 43.3125 49.21875 43.3125 52.78125 \nQ 43.3125 58.59375 39.234375 62.25 \nQ 35.15625 65.921875 28.609375 65.921875 \nQ 23.96875 65.921875 18.8125 64.3125 \nQ 13.671875 62.703125 7.8125 59.421875 \nL 7.8125 69.390625 \nQ 13.765625 71.78125 18.9375 73 \nQ 24.125 74.21875 28.421875 74.21875 \nQ 39.75 74.21875 46.484375 68.546875 \nQ 53.21875 62.890625 53.21875 53.421875 \nQ 53.21875 48.921875 51.53125 44.890625 \nQ 49.859375 40.875 45.40625 35.40625 \nQ 44.1875 33.984375 37.640625 27.21875 \nQ 31.109375 20.453125 19.1875 8.296875 \nz\n\" id=\"DejaVuSans-50\"/>\n       </defs>\n       <use xlink:href=\"#DejaVuSans-50\"/>\n      </g>\n     </g>\n    </g>\n    <g id=\"ytick_2\">\n     <g id=\"line2d_5\">\n      <path clip-path=\"url(#p5ade93ba04)\" d=\"M 26.925 173.700789 \nL 184.015909 173.700789 \n\" style=\"fill:none;stroke:#b0b0b0;stroke-linecap:square;stroke-width:0.8;\"/>\n     </g>\n     <g id=\"line2d_6\">\n      <g>\n       <use style=\"stroke:#000000;stroke-width:0.8;\" x=\"26.925\" xlink:href=\"#m88af447a43\" y=\"173.700789\"/>\n      </g>\n     </g>\n     <g id=\"text_3\">\n      <!-- 4 -->\n      <g transform=\"translate(13.5625 177.500008)scale(0.1 -0.1)\">\n       <defs>\n        <path d=\"M 37.796875 64.3125 \nL 12.890625 25.390625 \nL 37.796875 25.390625 \nz\nM 35.203125 72.90625 \nL 47.609375 72.90625 \nL 47.609375 25.390625 \nL 58.015625 25.390625 \nL 58.015625 17.1875 \nL 47.609375 17.1875 \nL 47.609375 0 \nL 37.796875 0 \nL 37.796875 17.1875 \nL 4.890625 17.1875 \nL 4.890625 26.703125 \nz\n\" id=\"DejaVuSans-52\"/>\n       </defs>\n       <use xlink:href=\"#DejaVuSans-52\"/>\n      </g>\n     </g>\n    </g>\n    <g id=\"ytick_3\">\n     <g id=\"line2d_7\">\n      <path clip-path=\"url(#p5ade93ba04)\" d=\"M 26.925 137.168019 \nL 184.015909 137.168019 \n\" style=\"fill:none;stroke:#b0b0b0;stroke-linecap:square;stroke-width:0.8;\"/>\n     </g>\n     <g id=\"line2d_8\">\n      <g>\n       <use style=\"stroke:#000000;stroke-width:0.8;\" x=\"26.925\" xlink:href=\"#m88af447a43\" y=\"137.168019\"/>\n      </g>\n     </g>\n     <g id=\"text_4\">\n      <!-- 6 -->\n      <g transform=\"translate(13.5625 140.967238)scale(0.1 -0.1)\">\n       <defs>\n        <path d=\"M 33.015625 40.375 \nQ 26.375 40.375 22.484375 35.828125 \nQ 18.609375 31.296875 18.609375 23.390625 \nQ 18.609375 15.53125 22.484375 10.953125 \nQ 26.375 6.390625 33.015625 6.390625 \nQ 39.65625 6.390625 43.53125 10.953125 \nQ 47.40625 15.53125 47.40625 23.390625 \nQ 47.40625 31.296875 43.53125 35.828125 \nQ 39.65625 40.375 33.015625 40.375 \nz\nM 52.59375 71.296875 \nL 52.59375 62.3125 \nQ 48.875 64.0625 45.09375 64.984375 \nQ 41.3125 65.921875 37.59375 65.921875 \nQ 27.828125 65.921875 22.671875 59.328125 \nQ 17.53125 52.734375 16.796875 39.40625 \nQ 19.671875 43.65625 24.015625 45.921875 \nQ 28.375 48.1875 33.59375 48.1875 \nQ 44.578125 48.1875 50.953125 41.515625 \nQ 57.328125 34.859375 57.328125 23.390625 \nQ 57.328125 12.15625 50.6875 5.359375 \nQ 44.046875 -1.421875 33.015625 -1.421875 \nQ 20.359375 -1.421875 13.671875 8.265625 \nQ 6.984375 17.96875 6.984375 36.375 \nQ 6.984375 53.65625 15.1875 63.9375 \nQ 23.390625 74.21875 37.203125 74.21875 \nQ 40.921875 74.21875 44.703125 73.484375 \nQ 48.484375 72.75 52.59375 71.296875 \nz\n\" id=\"DejaVuSans-54\"/>\n       </defs>\n       <use xlink:href=\"#DejaVuSans-54\"/>\n      </g>\n     </g>\n    </g>\n    <g id=\"ytick_4\">\n     <g id=\"line2d_9\">\n      <path clip-path=\"url(#p5ade93ba04)\" d=\"M 26.925 100.63525 \nL 184.015909 100.63525 \n\" style=\"fill:none;stroke:#b0b0b0;stroke-linecap:square;stroke-width:0.8;\"/>\n     </g>\n     <g id=\"line2d_10\">\n      <g>\n       <use style=\"stroke:#000000;stroke-width:0.8;\" x=\"26.925\" xlink:href=\"#m88af447a43\" y=\"100.63525\"/>\n      </g>\n     </g>\n     <g id=\"text_5\">\n      <!-- 8 -->\n      <g transform=\"translate(13.5625 104.434468)scale(0.1 -0.1)\">\n       <defs>\n        <path d=\"M 31.78125 34.625 \nQ 24.75 34.625 20.71875 30.859375 \nQ 16.703125 27.09375 16.703125 20.515625 \nQ 16.703125 13.921875 20.71875 10.15625 \nQ 24.75 6.390625 31.78125 6.390625 \nQ 38.8125 6.390625 42.859375 10.171875 \nQ 46.921875 13.96875 46.921875 20.515625 \nQ 46.921875 27.09375 42.890625 30.859375 \nQ 38.875 34.625 31.78125 34.625 \nz\nM 21.921875 38.8125 \nQ 15.578125 40.375 12.03125 44.71875 \nQ 8.5 49.078125 8.5 55.328125 \nQ 8.5 64.0625 14.71875 69.140625 \nQ 20.953125 74.21875 31.78125 74.21875 \nQ 42.671875 74.21875 48.875 69.140625 \nQ 55.078125 64.0625 55.078125 55.328125 \nQ 55.078125 49.078125 51.53125 44.71875 \nQ 48 40.375 41.703125 38.8125 \nQ 48.828125 37.15625 52.796875 32.3125 \nQ 56.78125 27.484375 56.78125 20.515625 \nQ 56.78125 9.90625 50.3125 4.234375 \nQ 43.84375 -1.421875 31.78125 -1.421875 \nQ 19.734375 -1.421875 13.25 4.234375 \nQ 6.78125 9.90625 6.78125 20.515625 \nQ 6.78125 27.484375 10.78125 32.3125 \nQ 14.796875 37.15625 21.921875 38.8125 \nz\nM 18.3125 54.390625 \nQ 18.3125 48.734375 21.84375 45.5625 \nQ 25.390625 42.390625 31.78125 42.390625 \nQ 38.140625 42.390625 41.71875 45.5625 \nQ 45.3125 48.734375 45.3125 54.390625 \nQ 45.3125 60.0625 41.71875 63.234375 \nQ 38.140625 66.40625 31.78125 66.40625 \nQ 25.390625 66.40625 21.84375 63.234375 \nQ 18.3125 60.0625 18.3125 54.390625 \nz\n\" id=\"DejaVuSans-56\"/>\n       </defs>\n       <use xlink:href=\"#DejaVuSans-56\"/>\n      </g>\n     </g>\n    </g>\n    <g id=\"ytick_5\">\n     <g id=\"line2d_11\">\n      <path clip-path=\"url(#p5ade93ba04)\" d=\"M 26.925 64.10248 \nL 184.015909 64.10248 \n\" style=\"fill:none;stroke:#b0b0b0;stroke-linecap:square;stroke-width:0.8;\"/>\n     </g>\n     <g id=\"line2d_12\">\n      <g>\n       <use style=\"stroke:#000000;stroke-width:0.8;\" x=\"26.925\" xlink:href=\"#m88af447a43\" y=\"64.10248\"/>\n      </g>\n     </g>\n     <g id=\"text_6\">\n      <!-- 10 -->\n      <g transform=\"translate(7.2 67.901699)scale(0.1 -0.1)\">\n       <defs>\n        <path d=\"M 12.40625 8.296875 \nL 28.515625 8.296875 \nL 28.515625 63.921875 \nL 10.984375 60.40625 \nL 10.984375 69.390625 \nL 28.421875 72.90625 \nL 38.28125 72.90625 \nL 38.28125 8.296875 \nL 54.390625 8.296875 \nL 54.390625 0 \nL 12.40625 0 \nz\n\" id=\"DejaVuSans-49\"/>\n        <path d=\"M 31.78125 66.40625 \nQ 24.171875 66.40625 20.328125 58.90625 \nQ 16.5 51.421875 16.5 36.375 \nQ 16.5 21.390625 20.328125 13.890625 \nQ 24.171875 6.390625 31.78125 6.390625 \nQ 39.453125 6.390625 43.28125 13.890625 \nQ 47.125 21.390625 47.125 36.375 \nQ 47.125 51.421875 43.28125 58.90625 \nQ 39.453125 66.40625 31.78125 66.40625 \nz\nM 31.78125 74.21875 \nQ 44.046875 74.21875 50.515625 64.515625 \nQ 56.984375 54.828125 56.984375 36.375 \nQ 56.984375 17.96875 50.515625 8.265625 \nQ 44.046875 -1.421875 31.78125 -1.421875 \nQ 19.53125 -1.421875 13.0625 8.265625 \nQ 6.59375 17.96875 6.59375 36.375 \nQ 6.59375 54.828125 13.0625 64.515625 \nQ 19.53125 74.21875 31.78125 74.21875 \nz\n\" id=\"DejaVuSans-48\"/>\n       </defs>\n       <use xlink:href=\"#DejaVuSans-49\"/>\n       <use x=\"63.623047\" xlink:href=\"#DejaVuSans-48\"/>\n      </g>\n     </g>\n    </g>\n    <g id=\"ytick_6\">\n     <g id=\"line2d_13\">\n      <path clip-path=\"url(#p5ade93ba04)\" d=\"M 26.925 27.569711 \nL 184.015909 27.569711 \n\" style=\"fill:none;stroke:#b0b0b0;stroke-linecap:square;stroke-width:0.8;\"/>\n     </g>\n     <g id=\"line2d_14\">\n      <g>\n       <use style=\"stroke:#000000;stroke-width:0.8;\" x=\"26.925\" xlink:href=\"#m88af447a43\" y=\"27.569711\"/>\n      </g>\n     </g>\n     <g id=\"text_7\">\n      <!-- 12 -->\n      <g transform=\"translate(7.2 31.368929)scale(0.1 -0.1)\">\n       <use xlink:href=\"#DejaVuSans-49\"/>\n       <use x=\"63.623047\" xlink:href=\"#DejaVuSans-50\"/>\n      </g>\n     </g>\n    </g>\n   </g>\n   <g id=\"line2d_15\">\n    <path clip-path=\"url(#p5ade93ba04)\" d=\"M 93.688636 129.13081 \nL 117.252273 129.13081 \nL 117.252273 99.539267 \nL 93.688636 99.539267 \nL 93.688636 129.13081 \n\" style=\"fill:none;stroke:#1f77b4;stroke-linecap:square;\"/>\n   </g>\n   <g id=\"line2d_16\">\n    <path clip-path=\"url(#p5ade93ba04)\" d=\"M 105.470455 129.13081 \nL 105.470455 172.604806 \n\" style=\"fill:none;stroke:#1f77b4;stroke-linecap:square;\"/>\n   </g>\n   <g id=\"line2d_17\">\n    <path clip-path=\"url(#p5ade93ba04)\" d=\"M 105.470455 99.539267 \nL 105.470455 57.161254 \n\" style=\"fill:none;stroke:#1f77b4;stroke-linecap:square;\"/>\n   </g>\n   <g id=\"line2d_18\">\n    <path clip-path=\"url(#p5ade93ba04)\" d=\"M 99.579545 172.604806 \nL 111.361364 172.604806 \n\" style=\"fill:none;stroke:#000000;stroke-linecap:square;\"/>\n   </g>\n   <g id=\"line2d_19\">\n    <path clip-path=\"url(#p5ade93ba04)\" d=\"M 99.579545 57.161254 \nL 111.361364 57.161254 \n\" style=\"fill:none;stroke:#000000;stroke-linecap:square;\"/>\n   </g>\n   <g id=\"line2d_20\">\n    <defs>\n     <path d=\"M 0 3 \nC 0.795609 3 1.55874 2.683901 2.12132 2.12132 \nC 2.683901 1.55874 3 0.795609 3 0 \nC 3 -0.795609 2.683901 -1.55874 2.12132 -2.12132 \nC 1.55874 -2.683901 0.795609 -3 0 -3 \nC -0.795609 -3 -1.55874 -2.683901 -2.12132 -2.12132 \nC -2.683901 -1.55874 -3 -0.795609 -3 0 \nC -3 0.795609 -2.683901 1.55874 -2.12132 2.12132 \nC -1.55874 2.683901 -0.795609 3 0 3 \nz\n\" id=\"m7acd625cf2\" style=\"stroke:#000000;\"/>\n    </defs>\n    <g clip-path=\"url(#p5ade93ba04)\">\n     <use style=\"fill-opacity:0;stroke:#000000;\" x=\"105.470455\" xlink:href=\"#m7acd625cf2\" y=\"219.366751\"/>\n     <use style=\"fill-opacity:0;stroke:#000000;\" x=\"105.470455\" xlink:href=\"#m7acd625cf2\" y=\"198.725736\"/>\n     <use style=\"fill-opacity:0;stroke:#000000;\" x=\"105.470455\" xlink:href=\"#m7acd625cf2\" y=\"218.270768\"/>\n     <use style=\"fill-opacity:0;stroke:#000000;\" x=\"105.470455\" xlink:href=\"#m7acd625cf2\" y=\"194.15914\"/>\n     <use style=\"fill-opacity:0;stroke:#000000;\" x=\"105.470455\" xlink:href=\"#m7acd625cf2\" y=\"221.558717\"/>\n     <use style=\"fill-opacity:0;stroke:#000000;\" x=\"105.470455\" xlink:href=\"#m7acd625cf2\" y=\"201.100366\"/>\n     <use style=\"fill-opacity:0;stroke:#000000;\" x=\"105.470455\" xlink:href=\"#m7acd625cf2\" y=\"178.267385\"/>\n     <use style=\"fill-opacity:0;stroke:#000000;\" x=\"105.470455\" xlink:href=\"#m7acd625cf2\" y=\"197.629753\"/>\n     <use style=\"fill-opacity:0;stroke:#000000;\" x=\"105.470455\" xlink:href=\"#m7acd625cf2\" y=\"228.499943\"/>\n     <use style=\"fill-opacity:0;stroke:#000000;\" x=\"105.470455\" xlink:href=\"#m7acd625cf2\" y=\"225.02933\"/>\n     <use style=\"fill-opacity:0;stroke:#000000;\" x=\"105.470455\" xlink:href=\"#m7acd625cf2\" y=\"220.462734\"/>\n     <use style=\"fill-opacity:0;stroke:#000000;\" x=\"105.470455\" xlink:href=\"#m7acd625cf2\" y=\"178.267385\"/>\n     <use style=\"fill-opacity:0;stroke:#000000;\" x=\"105.470455\" xlink:href=\"#m7acd625cf2\" y=\"174.796772\"/>\n     <use style=\"fill-opacity:0;stroke:#000000;\" x=\"105.470455\" xlink:href=\"#m7acd625cf2\" y=\"215.896138\"/>\n     <use style=\"fill-opacity:0;stroke:#000000;\" x=\"105.470455\" xlink:href=\"#m7acd625cf2\" y=\"205.666962\"/>\n     <use style=\"fill-opacity:0;stroke:#000000;\" x=\"105.470455\" xlink:href=\"#m7acd625cf2\" y=\"183.929964\"/>\n     <use style=\"fill-opacity:0;stroke:#000000;\" x=\"105.470455\" xlink:href=\"#m7acd625cf2\" y=\"173.700789\"/>\n     <use style=\"fill-opacity:0;stroke:#000000;\" x=\"105.470455\" xlink:href=\"#m7acd625cf2\" y=\"221.558717\"/>\n     <use style=\"fill-opacity:0;stroke:#000000;\" x=\"105.470455\" xlink:href=\"#m7acd625cf2\" y=\"212.425525\"/>\n     <use style=\"fill-opacity:0;stroke:#000000;\" x=\"105.470455\" xlink:href=\"#m7acd625cf2\" y=\"181.737998\"/>\n     <use style=\"fill-opacity:0;stroke:#000000;\" x=\"105.470455\" xlink:href=\"#m7acd625cf2\" y=\"188.496561\"/>\n     <use style=\"fill-opacity:0;stroke:#000000;\" x=\"105.470455\" xlink:href=\"#m7acd625cf2\" y=\"228.499943\"/>\n     <use style=\"fill-opacity:0;stroke:#000000;\" x=\"105.470455\" xlink:href=\"#m7acd625cf2\" y=\"193.063157\"/>\n     <use style=\"fill-opacity:0;stroke:#000000;\" x=\"105.470455\" xlink:href=\"#m7acd625cf2\" y=\"222.837364\"/>\n     <use style=\"fill-opacity:0;stroke:#000000;\" x=\"105.470455\" xlink:href=\"#m7acd625cf2\" y=\"194.15914\"/>\n     <use style=\"fill-opacity:0;stroke:#000000;\" x=\"105.470455\" xlink:href=\"#m7acd625cf2\" y=\"191.967174\"/>\n     <use style=\"fill-opacity:0;stroke:#000000;\" x=\"105.470455\" xlink:href=\"#m7acd625cf2\" y=\"220.462734\"/>\n     <use style=\"fill-opacity:0;stroke:#000000;\" x=\"105.470455\" xlink:href=\"#m7acd625cf2\" y=\"219.366751\"/>\n     <use style=\"fill-opacity:0;stroke:#000000;\" x=\"105.470455\" xlink:href=\"#m7acd625cf2\" y=\"174.796772\"/>\n     <use style=\"fill-opacity:0;stroke:#000000;\" x=\"105.470455\" xlink:href=\"#m7acd625cf2\" y=\"177.171402\"/>\n     <use style=\"fill-opacity:0;stroke:#000000;\" x=\"105.470455\" xlink:href=\"#m7acd625cf2\" y=\"194.15914\"/>\n     <use style=\"fill-opacity:0;stroke:#000000;\" x=\"105.470455\" xlink:href=\"#m7acd625cf2\" y=\"205.666962\"/>\n     <use style=\"fill-opacity:0;stroke:#000000;\" x=\"105.470455\" xlink:href=\"#m7acd625cf2\" y=\"216.992121\"/>\n     <use style=\"fill-opacity:0;stroke:#000000;\" x=\"105.470455\" xlink:href=\"#m7acd625cf2\" y=\"187.400577\"/>\n     <use style=\"fill-opacity:0;stroke:#000000;\" x=\"105.470455\" xlink:href=\"#m7acd625cf2\" y=\"173.700789\"/>\n     <use style=\"fill-opacity:0;stroke:#000000;\" x=\"105.470455\" xlink:href=\"#m7acd625cf2\" y=\"180.459351\"/>\n     <use style=\"fill-opacity:0;stroke:#000000;\" x=\"105.470455\" xlink:href=\"#m7acd625cf2\" y=\"221.558717\"/>\n     <use style=\"fill-opacity:0;stroke:#000000;\" x=\"105.470455\" xlink:href=\"#m7acd625cf2\" y=\"32.136307\"/>\n     <use style=\"fill-opacity:0;stroke:#000000;\" x=\"105.470455\" xlink:href=\"#m7acd625cf2\" y=\"34.328273\"/>\n    </g>\n   </g>\n   <g id=\"line2d_21\">\n    <path clip-path=\"url(#p5ade93ba04)\" d=\"M 93.688636 113.239055 \nL 117.252273 113.239055 \n\" style=\"fill:none;stroke:#2ca02c;stroke-linecap:square;\"/>\n   </g>\n   <g id=\"patch_3\">\n    <path d=\"M 26.925 238.318125 \nL 26.925 22.318125 \n\" style=\"fill:none;stroke:#000000;stroke-linecap:square;stroke-linejoin:miter;stroke-width:0.8;\"/>\n   </g>\n   <g id=\"patch_4\">\n    <path d=\"M 184.015909 238.318125 \nL 184.015909 22.318125 \n\" style=\"fill:none;stroke:#000000;stroke-linecap:square;stroke-linejoin:miter;stroke-width:0.8;\"/>\n   </g>\n   <g id=\"patch_5\">\n    <path d=\"M 26.925 238.318125 \nL 184.015909 238.318125 \n\" style=\"fill:none;stroke:#000000;stroke-linecap:square;stroke-linejoin:miter;stroke-width:0.8;\"/>\n   </g>\n   <g id=\"patch_6\">\n    <path d=\"M 26.925 22.318125 \nL 184.015909 22.318125 \n\" style=\"fill:none;stroke:#000000;stroke-linecap:square;stroke-linejoin:miter;stroke-width:0.8;\"/>\n   </g>\n   <g id=\"text_8\">\n    <!-- nonsmoker -->\n    <g transform=\"translate(72.137642 16.318125)scale(0.12 -0.12)\">\n     <defs>\n      <path d=\"M 54.890625 33.015625 \nL 54.890625 0 \nL 45.90625 0 \nL 45.90625 32.71875 \nQ 45.90625 40.484375 42.875 44.328125 \nQ 39.84375 48.1875 33.796875 48.1875 \nQ 26.515625 48.1875 22.3125 43.546875 \nQ 18.109375 38.921875 18.109375 30.90625 \nL 18.109375 0 \nL 9.078125 0 \nL 9.078125 54.6875 \nL 18.109375 54.6875 \nL 18.109375 46.1875 \nQ 21.34375 51.125 25.703125 53.5625 \nQ 30.078125 56 35.796875 56 \nQ 45.21875 56 50.046875 50.171875 \nQ 54.890625 44.34375 54.890625 33.015625 \nz\n\" id=\"DejaVuSans-110\"/>\n      <path d=\"M 30.609375 48.390625 \nQ 23.390625 48.390625 19.1875 42.75 \nQ 14.984375 37.109375 14.984375 27.296875 \nQ 14.984375 17.484375 19.15625 11.84375 \nQ 23.34375 6.203125 30.609375 6.203125 \nQ 37.796875 6.203125 41.984375 11.859375 \nQ 46.1875 17.53125 46.1875 27.296875 \nQ 46.1875 37.015625 41.984375 42.703125 \nQ 37.796875 48.390625 30.609375 48.390625 \nz\nM 30.609375 56 \nQ 42.328125 56 49.015625 48.375 \nQ 55.71875 40.765625 55.71875 27.296875 \nQ 55.71875 13.875 49.015625 6.21875 \nQ 42.328125 -1.421875 30.609375 -1.421875 \nQ 18.84375 -1.421875 12.171875 6.21875 \nQ 5.515625 13.875 5.515625 27.296875 \nQ 5.515625 40.765625 12.171875 48.375 \nQ 18.84375 56 30.609375 56 \nz\n\" id=\"DejaVuSans-111\"/>\n      <path d=\"M 44.28125 53.078125 \nL 44.28125 44.578125 \nQ 40.484375 46.53125 36.375 47.5 \nQ 32.28125 48.484375 27.875 48.484375 \nQ 21.1875 48.484375 17.84375 46.4375 \nQ 14.5 44.390625 14.5 40.28125 \nQ 14.5 37.15625 16.890625 35.375 \nQ 19.28125 33.59375 26.515625 31.984375 \nL 29.59375 31.296875 \nQ 39.15625 29.25 43.1875 25.515625 \nQ 47.21875 21.78125 47.21875 15.09375 \nQ 47.21875 7.46875 41.1875 3.015625 \nQ 35.15625 -1.421875 24.609375 -1.421875 \nQ 20.21875 -1.421875 15.453125 -0.5625 \nQ 10.6875 0.296875 5.421875 2 \nL 5.421875 11.28125 \nQ 10.40625 8.6875 15.234375 7.390625 \nQ 20.0625 6.109375 24.8125 6.109375 \nQ 31.15625 6.109375 34.5625 8.28125 \nQ 37.984375 10.453125 37.984375 14.40625 \nQ 37.984375 18.0625 35.515625 20.015625 \nQ 33.0625 21.96875 24.703125 23.78125 \nL 21.578125 24.515625 \nQ 13.234375 26.265625 9.515625 29.90625 \nQ 5.8125 33.546875 5.8125 39.890625 \nQ 5.8125 47.609375 11.28125 51.796875 \nQ 16.75 56 26.8125 56 \nQ 31.78125 56 36.171875 55.265625 \nQ 40.578125 54.546875 44.28125 53.078125 \nz\n\" id=\"DejaVuSans-115\"/>\n      <path d=\"M 52 44.1875 \nQ 55.375 50.25 60.0625 53.125 \nQ 64.75 56 71.09375 56 \nQ 79.640625 56 84.28125 50.015625 \nQ 88.921875 44.046875 88.921875 33.015625 \nL 88.921875 0 \nL 79.890625 0 \nL 79.890625 32.71875 \nQ 79.890625 40.578125 77.09375 44.375 \nQ 74.3125 48.1875 68.609375 48.1875 \nQ 61.625 48.1875 57.5625 43.546875 \nQ 53.515625 38.921875 53.515625 30.90625 \nL 53.515625 0 \nL 44.484375 0 \nL 44.484375 32.71875 \nQ 44.484375 40.625 41.703125 44.40625 \nQ 38.921875 48.1875 33.109375 48.1875 \nQ 26.21875 48.1875 22.15625 43.53125 \nQ 18.109375 38.875 18.109375 30.90625 \nL 18.109375 0 \nL 9.078125 0 \nL 9.078125 54.6875 \nL 18.109375 54.6875 \nL 18.109375 46.1875 \nQ 21.1875 51.21875 25.484375 53.609375 \nQ 29.78125 56 35.6875 56 \nQ 41.65625 56 45.828125 52.96875 \nQ 50 49.953125 52 44.1875 \nz\n\" id=\"DejaVuSans-109\"/>\n      <path d=\"M 9.078125 75.984375 \nL 18.109375 75.984375 \nL 18.109375 31.109375 \nL 44.921875 54.6875 \nL 56.390625 54.6875 \nL 27.390625 29.109375 \nL 57.625 0 \nL 45.90625 0 \nL 18.109375 26.703125 \nL 18.109375 0 \nL 9.078125 0 \nz\n\" id=\"DejaVuSans-107\"/>\n      <path d=\"M 41.109375 46.296875 \nQ 39.59375 47.171875 37.8125 47.578125 \nQ 36.03125 48 33.890625 48 \nQ 26.265625 48 22.1875 43.046875 \nQ 18.109375 38.09375 18.109375 28.8125 \nL 18.109375 0 \nL 9.078125 0 \nL 9.078125 54.6875 \nL 18.109375 54.6875 \nL 18.109375 46.1875 \nQ 20.953125 51.171875 25.484375 53.578125 \nQ 30.03125 56 36.53125 56 \nQ 37.453125 56 38.578125 55.875 \nQ 39.703125 55.765625 41.0625 55.515625 \nz\n\" id=\"DejaVuSans-114\"/>\n     </defs>\n     <use xlink:href=\"#DejaVuSans-110\"/>\n     <use x=\"63.378906\" xlink:href=\"#DejaVuSans-111\"/>\n     <use x=\"124.560547\" xlink:href=\"#DejaVuSans-110\"/>\n     <use x=\"187.939453\" xlink:href=\"#DejaVuSans-115\"/>\n     <use x=\"240.039062\" xlink:href=\"#DejaVuSans-109\"/>\n     <use x=\"337.451172\" xlink:href=\"#DejaVuSans-111\"/>\n     <use x=\"398.632812\" xlink:href=\"#DejaVuSans-107\"/>\n     <use x=\"452.917969\" xlink:href=\"#DejaVuSans-101\"/>\n     <use x=\"514.441406\" xlink:href=\"#DejaVuSans-114\"/>\n    </g>\n   </g>\n  </g>\n  <g id=\"axes_2\">\n   <g id=\"patch_7\">\n    <path d=\"M 215.434091 238.318125 \nL 372.525 238.318125 \nL 372.525 22.318125 \nL 215.434091 22.318125 \nz\n\" style=\"fill:#ffffff;\"/>\n   </g>\n   <g id=\"matplotlib.axis_3\">\n    <g id=\"xtick_2\">\n     <g id=\"line2d_22\">\n      <path clip-path=\"url(#p5ab5c89ec6)\" d=\"M 293.979545 238.318125 \nL 293.979545 22.318125 \n\" style=\"fill:none;stroke:#b0b0b0;stroke-linecap:square;stroke-width:0.8;\"/>\n     </g>\n     <g id=\"line2d_23\">\n      <g>\n       <use style=\"stroke:#000000;stroke-width:0.8;\" x=\"293.979545\" xlink:href=\"#mccb927e180\" y=\"238.318125\"/>\n      </g>\n     </g>\n     <g id=\"text_9\">\n      <!-- weight -->\n      <g transform=\"translate(277.121733 252.916563)scale(0.1 -0.1)\">\n       <use xlink:href=\"#DejaVuSans-119\"/>\n       <use x=\"81.787109\" xlink:href=\"#DejaVuSans-101\"/>\n       <use x=\"143.310547\" xlink:href=\"#DejaVuSans-105\"/>\n       <use x=\"171.09375\" xlink:href=\"#DejaVuSans-103\"/>\n       <use x=\"234.570312\" xlink:href=\"#DejaVuSans-104\"/>\n       <use x=\"297.949219\" xlink:href=\"#DejaVuSans-116\"/>\n      </g>\n     </g>\n    </g>\n   </g>\n   <g id=\"matplotlib.axis_4\">\n    <g id=\"ytick_7\">\n     <g id=\"line2d_24\">\n      <path clip-path=\"url(#p5ab5c89ec6)\" d=\"M 215.434091 210.233558 \nL 372.525 210.233558 \n\" style=\"fill:none;stroke:#b0b0b0;stroke-linecap:square;stroke-width:0.8;\"/>\n     </g>\n     <g id=\"line2d_25\">\n      <g>\n       <use style=\"stroke:#000000;stroke-width:0.8;\" x=\"215.434091\" xlink:href=\"#m88af447a43\" y=\"210.233558\"/>\n      </g>\n     </g>\n    </g>\n    <g id=\"ytick_8\">\n     <g id=\"line2d_26\">\n      <path clip-path=\"url(#p5ab5c89ec6)\" d=\"M 215.434091 173.700789 \nL 372.525 173.700789 \n\" style=\"fill:none;stroke:#b0b0b0;stroke-linecap:square;stroke-width:0.8;\"/>\n     </g>\n     <g id=\"line2d_27\">\n      <g>\n       <use style=\"stroke:#000000;stroke-width:0.8;\" x=\"215.434091\" xlink:href=\"#m88af447a43\" y=\"173.700789\"/>\n      </g>\n     </g>\n    </g>\n    <g id=\"ytick_9\">\n     <g id=\"line2d_28\">\n      <path clip-path=\"url(#p5ab5c89ec6)\" d=\"M 215.434091 137.168019 \nL 372.525 137.168019 \n\" style=\"fill:none;stroke:#b0b0b0;stroke-linecap:square;stroke-width:0.8;\"/>\n     </g>\n     <g id=\"line2d_29\">\n      <g>\n       <use style=\"stroke:#000000;stroke-width:0.8;\" x=\"215.434091\" xlink:href=\"#m88af447a43\" y=\"137.168019\"/>\n      </g>\n     </g>\n    </g>\n    <g id=\"ytick_10\">\n     <g id=\"line2d_30\">\n      <path clip-path=\"url(#p5ab5c89ec6)\" d=\"M 215.434091 100.63525 \nL 372.525 100.63525 \n\" style=\"fill:none;stroke:#b0b0b0;stroke-linecap:square;stroke-width:0.8;\"/>\n     </g>\n     <g id=\"line2d_31\">\n      <g>\n       <use style=\"stroke:#000000;stroke-width:0.8;\" x=\"215.434091\" xlink:href=\"#m88af447a43\" y=\"100.63525\"/>\n      </g>\n     </g>\n    </g>\n    <g id=\"ytick_11\">\n     <g id=\"line2d_32\">\n      <path clip-path=\"url(#p5ab5c89ec6)\" d=\"M 215.434091 64.10248 \nL 372.525 64.10248 \n\" style=\"fill:none;stroke:#b0b0b0;stroke-linecap:square;stroke-width:0.8;\"/>\n     </g>\n     <g id=\"line2d_33\">\n      <g>\n       <use style=\"stroke:#000000;stroke-width:0.8;\" x=\"215.434091\" xlink:href=\"#m88af447a43\" y=\"64.10248\"/>\n      </g>\n     </g>\n    </g>\n    <g id=\"ytick_12\">\n     <g id=\"line2d_34\">\n      <path clip-path=\"url(#p5ab5c89ec6)\" d=\"M 215.434091 27.569711 \nL 372.525 27.569711 \n\" style=\"fill:none;stroke:#b0b0b0;stroke-linecap:square;stroke-width:0.8;\"/>\n     </g>\n     <g id=\"line2d_35\">\n      <g>\n       <use style=\"stroke:#000000;stroke-width:0.8;\" x=\"215.434091\" xlink:href=\"#m88af447a43\" y=\"27.569711\"/>\n      </g>\n     </g>\n    </g>\n   </g>\n   <g id=\"line2d_36\">\n    <path clip-path=\"url(#p5ab5c89ec6)\" d=\"M 282.197727 135.752374 \nL 305.761364 135.752374 \nL 305.761364 105.475842 \nL 282.197727 105.475842 \nL 282.197727 135.752374 \n\" style=\"fill:none;stroke:#1f77b4;stroke-linecap:square;\"/>\n   </g>\n   <g id=\"line2d_37\">\n    <path clip-path=\"url(#p5ab5c89ec6)\" d=\"M 293.979545 135.752374 \nL 293.979545 172.604806 \n\" style=\"fill:none;stroke:#1f77b4;stroke-linecap:square;\"/>\n   </g>\n   <g id=\"line2d_38\">\n    <path clip-path=\"url(#p5ab5c89ec6)\" d=\"M 293.979545 105.475842 \nL 293.979545 78.898252 \n\" style=\"fill:none;stroke:#1f77b4;stroke-linecap:square;\"/>\n   </g>\n   <g id=\"line2d_39\">\n    <path clip-path=\"url(#p5ab5c89ec6)\" d=\"M 288.088636 172.604806 \nL 299.870455 172.604806 \n\" style=\"fill:none;stroke:#000000;stroke-linecap:square;\"/>\n   </g>\n   <g id=\"line2d_40\">\n    <path clip-path=\"url(#p5ab5c89ec6)\" d=\"M 288.088636 78.898252 \nL 299.870455 78.898252 \n\" style=\"fill:none;stroke:#000000;stroke-linecap:square;\"/>\n   </g>\n   <g id=\"line2d_41\">\n    <g clip-path=\"url(#p5ab5c89ec6)\">\n     <use style=\"fill-opacity:0;stroke:#000000;\" x=\"293.979545\" xlink:href=\"#m7acd625cf2\" y=\"215.896138\"/>\n     <use style=\"fill-opacity:0;stroke:#000000;\" x=\"293.979545\" xlink:href=\"#m7acd625cf2\" y=\"197.629753\"/>\n     <use style=\"fill-opacity:0;stroke:#000000;\" x=\"293.979545\" xlink:href=\"#m7acd625cf2\" y=\"186.304594\"/>\n     <use style=\"fill-opacity:0;stroke:#000000;\" x=\"293.979545\" xlink:href=\"#m7acd625cf2\" y=\"206.762945\"/>\n    </g>\n   </g>\n   <g id=\"line2d_42\">\n    <path clip-path=\"url(#p5ab5c89ec6)\" d=\"M 282.197727 117.805651 \nL 305.761364 117.805651 \n\" style=\"fill:none;stroke:#2ca02c;stroke-linecap:square;\"/>\n   </g>\n   <g id=\"patch_8\">\n    <path d=\"M 215.434091 238.318125 \nL 215.434091 22.318125 \n\" style=\"fill:none;stroke:#000000;stroke-linecap:square;stroke-linejoin:miter;stroke-width:0.8;\"/>\n   </g>\n   <g id=\"patch_9\">\n    <path d=\"M 372.525 238.318125 \nL 372.525 22.318125 \n\" style=\"fill:none;stroke:#000000;stroke-linecap:square;stroke-linejoin:miter;stroke-width:0.8;\"/>\n   </g>\n   <g id=\"patch_10\">\n    <path d=\"M 215.434091 238.318125 \nL 372.525 238.318125 \n\" style=\"fill:none;stroke:#000000;stroke-linecap:square;stroke-linejoin:miter;stroke-width:0.8;\"/>\n   </g>\n   <g id=\"patch_11\">\n    <path d=\"M 215.434091 22.318125 \nL 372.525 22.318125 \n\" style=\"fill:none;stroke:#000000;stroke-linecap:square;stroke-linejoin:miter;stroke-width:0.8;\"/>\n   </g>\n   <g id=\"text_10\">\n    <!-- smoker -->\n    <g transform=\"translate(271.922983 16.318125)scale(0.12 -0.12)\">\n     <use xlink:href=\"#DejaVuSans-115\"/>\n     <use x=\"52.099609\" xlink:href=\"#DejaVuSans-109\"/>\n     <use x=\"149.511719\" xlink:href=\"#DejaVuSans-111\"/>\n     <use x=\"210.693359\" xlink:href=\"#DejaVuSans-107\"/>\n     <use x=\"264.978516\" xlink:href=\"#DejaVuSans-101\"/>\n     <use x=\"326.501953\" xlink:href=\"#DejaVuSans-114\"/>\n    </g>\n   </g>\n  </g>\n </g>\n <defs>\n  <clipPath id=\"p5ade93ba04\">\n   <rect height=\"216\" width=\"157.090909\" x=\"26.925\" y=\"22.318125\"/>\n  </clipPath>\n  <clipPath id=\"p5ab5c89ec6\">\n   <rect height=\"216\" width=\"157.090909\" x=\"215.434091\" y=\"22.318125\"/>\n  </clipPath>\n </defs>\n</svg>\n",
      "image/png": "[encoded data removed]"
     },
     "metadata": {
      "needs_background": "light"
     }
    }
   ],
   "source": [
    "nc_df.groupby(\"habit\").boxplot(column=\"weight\")\n",
    "plt.show()"
   ]
  },
  {
   "cell_type": "markdown",
   "metadata": {},
   "source": [
    "Now let's look at the summary statistics across the two groups."
   ]
  },
  {
   "cell_type": "code",
   "execution_count": 25,
   "metadata": {},
   "outputs": [
    {
     "output_type": "execute_result",
     "data": {
      "text/plain": [
       "             weight                        \n",
       "               mean median       std    len\n",
       "habit                                      \n",
       "nonsmoker  7.144273   7.31  1.518681  873.0\n",
       "smoker     6.828730   7.06  1.386180  126.0"
      ],
      "text/html": "<div>\n<style scoped>\n    .dataframe tbody tr th:only-of-type {\n        vertical-align: middle;\n    }\n\n    .dataframe tbody tr th {\n        vertical-align: top;\n    }\n\n    .dataframe thead tr th {\n        text-align: left;\n    }\n\n    .dataframe thead tr:last-of-type th {\n        text-align: right;\n    }\n</style>\n<table border=\"1\" class=\"dataframe\">\n  <thead>\n    <tr>\n      <th></th>\n      <th colspan=\"4\" halign=\"left\">weight</th>\n    </tr>\n    <tr>\n      <th></th>\n      <th>mean</th>\n      <th>median</th>\n      <th>std</th>\n      <th>len</th>\n    </tr>\n    <tr>\n      <th>habit</th>\n      <th></th>\n      <th></th>\n      <th></th>\n      <th></th>\n    </tr>\n  </thead>\n  <tbody>\n    <tr>\n      <th>nonsmoker</th>\n      <td>7.144273</td>\n      <td>7.31</td>\n      <td>1.518681</td>\n      <td>873.0</td>\n    </tr>\n    <tr>\n      <th>smoker</th>\n      <td>6.828730</td>\n      <td>7.06</td>\n      <td>1.386180</td>\n      <td>126.0</td>\n    </tr>\n  </tbody>\n</table>\n</div>"
     },
     "metadata": {},
     "execution_count": 25
    }
   ],
   "source": [
    "summary_stat = nc_df.groupby(\"habit\").agg({\"weight\": [\"mean\", \"median\", \"std\", len]})\n",
    "summary_stat"
   ]
  },
  {
   "cell_type": "markdown",
   "metadata": {},
   "source": [
    "It appears that babies of smokers tend to have less weight, but is this difference statistically significant? In order to answer this question we will conduct a hypothesis test."
   ]
  },
  {
   "cell_type": "markdown",
   "metadata": {},
   "source": [
    "### Hypothesis Test"
   ]
  },
  {
   "cell_type": "markdown",
   "metadata": {},
   "source": [
    "Based on the our sample, the difference in the means of the baby weights for smokers and non-smokers is:"
   ]
  },
  {
   "cell_type": "code",
   "execution_count": 26,
   "metadata": {},
   "outputs": [
    {
     "output_type": "stream",
     "name": "stdout",
     "text": [
      "0.32\n"
     ]
    }
   ],
   "source": [
    "non_smoker_mean = summary_stat.loc[\"nonsmoker\"].loc[\"weight\"].loc[\"mean\"]\n",
    "smoker_mean = summary_stat.loc[\"smoker\"].loc[\"weight\"].loc[\"mean\"]\n",
    "\n",
    "diff = non_smoker_mean - smoker_mean\n",
    "print('{:.2f}'.format(diff))"
   ]
  },
  {
   "cell_type": "markdown",
   "metadata": {},
   "source": [
    "We set up our hypotheses as follows:\n",
    "\n",
    "$H_0$ (null hypothesis): The true difference is 0.\n",
    "\n",
    "$H_A$ (alternative hypothesis): The true difference is not 0."
   ]
  },
  {
   "cell_type": "markdown",
   "metadata": {},
   "source": [
    "Now, we can use a $t$-test to compare the two means from the unpaired groups. This function assumes that the null hypothesis is that the difference between the two means is 0, while the alternative hypothesis is that the diference between them is not 0. We set the `equal_var` parameter to `False` because we don't want to assume that the population has equal variances."
   ]
  },
  {
   "cell_type": "code",
   "execution_count": 27,
   "metadata": {
    "scrolled": false
   },
   "outputs": [
    {
     "output_type": "execute_result",
     "data": {
      "text/plain": [
       "Ttest_indResult(statistic=-2.3590109449335013, pvalue=0.01945055644373227)"
      ]
     },
     "metadata": {},
     "execution_count": 27
    }
   ],
   "source": [
    "ttest_ind(nc_df[nc_df[\"habit\"] == \"smoker\"][\"weight\"],\n",
    "          nc_df[nc_df[\"habit\"] == \"nonsmoker\"][\"weight\"],\n",
    "          equal_var = False)"
   ]
  },
  {
   "cell_type": "markdown",
   "metadata": {},
   "source": [
    "Note that you the function above is to perform a $t$-test for **independent means** (unpaired). We would need to use other functions if we need to perform tests for other groups. We leave this for you to find out."
   ]
  },
  {
   "cell_type": "markdown",
   "metadata": {},
   "source": [
    "**Question #13:** What can you conclude based on the $p$-value under a 5% significance level?\n",
    "- We can reject the null hypothesis - the true difference is 0 - because there is significant difference between the two datasets ($p$-value < 5% significance level)"
   ]
  },
  {
   "cell_type": "markdown",
   "metadata": {},
   "source": [
    "**Question #14:** Can we say that smoking among mothers causes their babies to be lighter? Why or why not?\n",
    "- No because this is an observational study, so we can only conclude correlation (ie. not causation)."
   ]
  },
  {
   "cell_type": "markdown",
   "metadata": {},
   "source": [
    "## Try It Yourself"
   ]
  },
  {
   "cell_type": "markdown",
   "metadata": {},
   "source": [
    "Compute the **90%** confidence interval for the average baby weights using the `nc` dataset."
   ]
  },
  {
   "cell_type": "markdown",
   "metadata": {},
   "source": [
    "Get the sample mean."
   ]
  },
  {
   "cell_type": "code",
   "execution_count": 28,
   "metadata": {},
   "outputs": [
    {
     "output_type": "execute_result",
     "data": {
      "text/plain": [
       "         weight\n",
       "mean    7.10100\n",
       "median  7.31000\n",
       "std     1.50886"
      ],
      "text/html": "<div>\n<style scoped>\n    .dataframe tbody tr th:only-of-type {\n        vertical-align: middle;\n    }\n\n    .dataframe tbody tr th {\n        vertical-align: top;\n    }\n\n    .dataframe thead th {\n        text-align: right;\n    }\n</style>\n<table border=\"1\" class=\"dataframe\">\n  <thead>\n    <tr style=\"text-align: right;\">\n      <th></th>\n      <th>weight</th>\n    </tr>\n  </thead>\n  <tbody>\n    <tr>\n      <th>mean</th>\n      <td>7.10100</td>\n    </tr>\n    <tr>\n      <th>median</th>\n      <td>7.31000</td>\n    </tr>\n    <tr>\n      <th>std</th>\n      <td>1.50886</td>\n    </tr>\n  </tbody>\n</table>\n</div>"
     },
     "metadata": {},
     "execution_count": 28
    }
   ],
   "source": [
    "# Write your code here\n",
    "nc_agg = nc_df.agg({\"weight\": [\"mean\", \"median\", \"std\"]})\n",
    "\n",
    "nc_n = len(nc_df.index)\n",
    "nc_mean = nc_agg.loc[\"mean\"][0]\n",
    "nc_median = nc_agg.loc[\"median\"][0]\n",
    "nc_std = nc_agg.loc[\"std\"][0]\n",
    "\n",
    "\n",
    "nc_agg"
   ]
  },
  {
   "cell_type": "markdown",
   "metadata": {},
   "source": [
    "**Question #15:** What is the sample mean? Limit to 2 decimal places only.\n",
    "- 7.10"
   ]
  },
  {
   "cell_type": "markdown",
   "metadata": {},
   "source": [
    "Get the confidence interval (minimum value, maximum value)."
   ]
  },
  {
   "cell_type": "code",
   "execution_count": 29,
   "metadata": {},
   "outputs": [
    {
     "output_type": "stream",
     "name": "stdout",
     "text": [
      "[7.022516877253166, 7.179483122746834]\n"
     ]
    }
   ],
   "source": [
    "# Write your code here\n",
    "nc_margin_of_error = norm.ppf(0.95) * (nc_std / np.sqrt(nc_n))\n",
    "\n",
    "print([nc_mean - nc_margin_of_error, nc_mean + nc_margin_of_error])"
   ]
  },
  {
   "cell_type": "markdown",
   "metadata": {},
   "source": [
    "**Question #16:** Specify the confidence interval (minimum value, maximum value) as a range. Limit to 2 decimal places only.\n",
    "- \\[7.02, 7.18\\]"
   ]
  },
  {
   "cell_type": "code",
   "execution_count": null,
   "metadata": {},
   "outputs": [],
   "source": []
  }
 ],
 "metadata": {
  "kernelspec": {
   "display_name": "Python 3",
   "language": "python",
   "name": "python3"
  },
  "language_info": {
   "codemirror_mode": {
    "name": "ipython",
    "version": 3
   },
   "file_extension": ".py",
   "mimetype": "text/x-python",
   "name": "python",
   "nbconvert_exporter": "python",
   "pygments_lexer": "ipython3",
   "version": "3.8.5-final"
  }
 },
 "nbformat": 4,
 "nbformat_minor": 4
}